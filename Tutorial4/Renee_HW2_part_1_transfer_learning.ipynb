{
 "cells": [
  {
   "cell_type": "markdown",
   "metadata": {},
   "source": [
    "PAPERSPACE VERSION"
   ]
  },
  {
   "cell_type": "code",
   "execution_count": 1,
   "metadata": {},
   "outputs": [],
   "source": [
    "#! pip install comet-ml"
   ]
  },
  {
   "cell_type": "code",
   "execution_count": 2,
   "metadata": {},
   "outputs": [],
   "source": [
    "# should be from pytorch_lightning.loggers import CometLogger\n",
    "from pytorch_lightning.loggers.comet import CometLogger"
   ]
  },
  {
   "cell_type": "code",
   "execution_count": 3,
   "metadata": {},
   "outputs": [],
   "source": [
    "import glob\n",
    "from PIL import Image\n",
    "from torchvision import datasets, transforms\n",
    "import numpy as np\n",
    "import torch\n",
    "from torch.utils.data import Dataset, DataLoader\n",
    "import matplotlib.pyplot as plt\n",
    "import torch.nn as nn\n",
    "import torch.nn.functional as F\n",
    "import torchvision.models as models"
   ]
  },
  {
   "cell_type": "code",
   "execution_count": 4,
   "metadata": {},
   "outputs": [],
   "source": [
    "from torch.optim.lr_scheduler import StepLR"
   ]
  },
  {
   "cell_type": "code",
   "execution_count": 5,
   "metadata": {},
   "outputs": [],
   "source": [
    "import pytorch_lightning as pl"
   ]
  },
  {
   "cell_type": "code",
   "execution_count": 6,
   "metadata": {},
   "outputs": [],
   "source": [
    "%load_ext tensorboard"
   ]
  },
  {
   "cell_type": "code",
   "execution_count": 7,
   "metadata": {},
   "outputs": [],
   "source": [
    "from pytorch_lightning.core.lightning import LightningModule"
   ]
  },
  {
   "cell_type": "code",
   "execution_count": 8,
   "metadata": {},
   "outputs": [],
   "source": [
    "# import zipfile"
   ]
  },
  {
   "cell_type": "code",
   "execution_count": 9,
   "metadata": {},
   "outputs": [],
   "source": [
    "# with zipfile.ZipFile('./storage/GalaxyDataset.zip', 'r') as zip_ref:\n",
    "#     zip_ref.extractall('./storage')"
   ]
  },
  {
   "cell_type": "markdown",
   "metadata": {},
   "source": [
    "# Homework 2, part 1\n",
    "\n",
    "## transfer learning\n",
    "1. below you will find the dataset object for the galaxy dataset from homework 1, except that now it outputs a 69x69 image (no flattening), and the single grayscale channel is repeated 3 times to give a 3x69x69 image\n",
    "\n",
    "2. load a pre-trained network from pytorchs selection https://pytorch.org/docs/stable/torchvision/models.html\n",
    "\n",
    "3. create a network to classify the galaxy image dataset with some parts from the pretrained network\n",
    "\n",
    "4. train the new network\n",
    "\n",
    "5. when you reach over 75% accuracy on the validation dataset, submit your trained model (state_dict and source code)\n",
    "\n",
    "6. double check that if you train the same model without the pre-trained weights, it will perform worse (no need to submit this model) "
   ]
  },
  {
   "cell_type": "code",
   "execution_count": 10,
   "metadata": {},
   "outputs": [],
   "source": [
    "path_to_training_data = './storage/GalaxyDataset/train/'\n",
    "path_to_validation_data = './storage/GalaxyDataset/validation/'"
   ]
  },
  {
   "cell_type": "code",
   "execution_count": 11,
   "metadata": {},
   "outputs": [],
   "source": [
    "import glob\n",
    "from PIL import Image\n",
    "from PIL import ImageFilter\n",
    "from torchvision import datasets, transforms\n",
    "import numpy as np\n",
    "import torch\n",
    "from torch.utils.data import Dataset, DataLoader\n",
    "import torch.nn as nn\n",
    "\n",
    "\n",
    "class CustomDataset(Dataset):\n",
    "    def __init__(self, path,mean=0.092,std=0.127,n_classes=10,transform=False):\n",
    "        \n",
    "        self.mean = mean\n",
    "        self.std = std\n",
    "        \n",
    "        self.do_transform = transform\n",
    "        self.transform = transforms.RandomRotation(180)\n",
    "        \n",
    "        self.filelist = glob.glob(path+'/*.png')\n",
    "        \n",
    "        self.labels = np.zeros(len(self.filelist))\n",
    "        \n",
    "        for class_i in range(n_classes):\n",
    "            self.labels[ np.array(['class'+str(class_i) in x for x in self.filelist]) ] = class_i\n",
    "        self.labels = torch.LongTensor(self.labels)\n",
    "        \n",
    "        \n",
    "    def __len__(self):\n",
    "       \n",
    "        return len(self.filelist)\n",
    "\n",
    "    def __getitem__(self, idx):\n",
    "        \n",
    "        img = Image.open(self.filelist[idx])\n",
    "    \n",
    "        if self.do_transform:\n",
    "            \n",
    "            img = self.transform(img)\n",
    "        \n",
    "        \n",
    "        x = transforms.ToTensor()(img)\n",
    "        \n",
    "        x = (x-self.mean)/self.std\n",
    "        # vgg16 inp RGB (3 channels). natively in grayscale, repeat channel 3x\n",
    "        x = x.repeat(3,1,1)\n",
    "        \n",
    "        \n",
    "        class_label = self.labels[idx]\n",
    "        \n",
    "        return x, class_label"
   ]
  },
  {
   "cell_type": "code",
   "execution_count": 12,
   "metadata": {},
   "outputs": [],
   "source": [
    "train_ds = CustomDataset(path_to_training_data,transform=False)\n",
    "valid_ds = CustomDataset(path_to_validation_data,transform=False)"
   ]
  },
  {
   "cell_type": "code",
   "execution_count": 13,
   "metadata": {},
   "outputs": [
    {
     "data": {
      "text/plain": [
       "10000"
      ]
     },
     "execution_count": 13,
     "metadata": {},
     "output_type": "execute_result"
    }
   ],
   "source": [
    "len(train_ds.labels)"
   ]
  },
  {
   "cell_type": "code",
   "execution_count": 14,
   "metadata": {},
   "outputs": [
    {
     "data": {
      "text/plain": [
       "5000"
      ]
     },
     "execution_count": 14,
     "metadata": {},
     "output_type": "execute_result"
    }
   ],
   "source": [
    "len(valid_ds.labels)"
   ]
  },
  {
   "cell_type": "code",
   "execution_count": 15,
   "metadata": {},
   "outputs": [],
   "source": [
    "x,y = train_ds[553]"
   ]
  },
  {
   "cell_type": "code",
   "execution_count": 16,
   "metadata": {},
   "outputs": [
    {
     "data": {
      "text/plain": [
       "torch.Size([3, 69, 69])"
      ]
     },
     "execution_count": 16,
     "metadata": {},
     "output_type": "execute_result"
    }
   ],
   "source": [
    "x.shape"
   ]
  },
  {
   "cell_type": "code",
   "execution_count": 17,
   "metadata": {},
   "outputs": [
    {
     "data": {
      "image/png": "[encoded data removed]",
      "text/plain": [
       "<Figure size 900x300 with 3 Axes>"
      ]
     },
     "metadata": {
      "needs_background": "light"
     },
     "output_type": "display_data"
    }
   ],
   "source": [
    "fig,ax = plt.subplots(1,3,figsize=(6,2),dpi=150)\n",
    "\n",
    "for i in range(3):\n",
    "    ax[i].imshow(x[i])"
   ]
  },
  {
   "cell_type": "code",
   "execution_count": 81,
   "metadata": {},
   "outputs": [],
   "source": [
    "NUM_CLASSES = 10\n",
    "BATCH_SIZE = 32\n",
    "FEAT_EXTRACT = True\n",
    "LOSS_FUNC = F.cross_entropy"
   ]
  },
  {
   "cell_type": "code",
   "execution_count": 21,
   "metadata": {},
   "outputs": [],
   "source": [
    "vgg19 = models.vgg19(pretrained=True)"
   ]
  },
  {
   "cell_type": "code",
   "execution_count": 79,
   "metadata": {},
   "outputs": [],
   "source": [
    "# toggle\n",
    "for param in vgg19.features.parameters():\n",
    "    param.require_grad = False"
   ]
  },
  {
   "cell_type": "code",
   "execution_count": 80,
   "metadata": {},
   "outputs": [],
   "source": [
    "class VGG(pl.LightningModule):\n",
    "\n",
    "    def __init__(self, num_classes=NUM_CLASSES):\n",
    "#         super(VGG, self).__init__()\n",
    "        super().__init__()\n",
    "        \n",
    "        \n",
    "        self.features = vgg19.features\n",
    "        self.avgpool = nn.AdaptiveAvgPool2d((7, 7))\n",
    "        self.classifier = nn.Sequential(\n",
    "            nn.Linear(512 * 7 * 7, 4096),\n",
    "            nn.ReLU(True),\n",
    "            nn.Dropout(),\n",
    "            nn.Linear(4096, 4096),\n",
    "            nn.ReLU(True),\n",
    "            nn.Dropout(),\n",
    "            nn.Linear(4096, num_classes),\n",
    "        )\n",
    "\n",
    "            \n",
    "    def forward(self, x):\n",
    "        out = self.features(x)\n",
    "        # what does this accomplish \n",
    "        out = self.avgpool(out)\n",
    "        out = torch.flatten(out,1)\n",
    "        out = self.classifier(out)\n",
    "                \n",
    "        return out\n",
    "    \n",
    "    def train_dataloader(self):\n",
    "        dataset_train = CustomDataset(path_to_training_data)\n",
    "# seemingly CustomDataset handles transformations, tensor...collate_fn=_collate unnecessary                \n",
    "        return DataLoader(dataset_train,batch_size=BATCH_SIZE,shuffle=True)\n",
    "\n",
    "    def val_dataloader(self):\n",
    "        dataset_val = CustomDataset(path_to_validation_data)\n",
    "        return DataLoader(dataset_val,batch_size=BATCH_SIZE,shuffle=False)\n",
    "    \n",
    "    def configure_optimizers(self):\n",
    "    \n",
    "        return torch.optim.Adam(self.parameters(),lr=0.0001)\n",
    "\n",
    "        \n",
    "    \n",
    "    def training_step(self,batch,batch_idx):\n",
    "        minib,target = batch\n",
    "        out = self.forward(minib)\n",
    "        loss = LOSS_FUNC(out,target)\n",
    "        # add logging\n",
    "        logs = {'loss': loss}\n",
    "        return {'loss': loss, 'log': logs}\n",
    "#         return loss\n",
    "    \n",
    "    def validation_step(self,batch,batch_idx):\n",
    "        minib, target = batch\n",
    "        out = self.forward(minib)\n",
    "        loss = LOSS_FUNC(out,target)\n",
    "        \n",
    "        pred = out.argmax(dim=1, keepdim=True) #get ix of max log-proba\n",
    "        correct = pred.eq(target.view_as(pred)).sum().item()\n",
    "        \n",
    "        return {'val_loss': loss, 'correct': correct}\n",
    "        \n",
    "    \n",
    "    def validation_epoch_end(self,outputs):\n",
    "        avg_loss = torch.stack([x['val_loss'] for x in outputs]).mean()\n",
    "        tensorboard_logs = {'val_loss':avg_loss}\n",
    "        return {'avg_val_loss':avg_loss, 'log':tensorboard_logs}\n",
    "        "
   ]
  },
  {
   "cell_type": "markdown",
   "metadata": {},
   "source": [
    "--test pl lightning--"
   ]
  },
  {
   "cell_type": "code",
   "execution_count": 82,
   "metadata": {},
   "outputs": [],
   "source": [
    "experiment = 'vgg19lrtune_fzn'"
   ]
  },
  {
   "cell_type": "code",
   "execution_count": 83,
   "metadata": {},
   "outputs": [
    {
     "name": "stderr",
     "output_type": "stream",
     "text": [
      "CometLogger will be initialized in online mode\n",
      "COMET INFO: Experiment is live on comet.ml https://www.comet.ml/ren-e1011/dl1010-a2-1/e51a6e14430b4515803f2ed13156a1da\n",
      "\n"
     ]
    }
   ],
   "source": [
    "# import os\n",
    "# details in local .comet.config\n",
    "comet_logger = CometLogger(\n",
    "    api_key='n0QCcEJ7YYeDUkff49kqLEdeJ',\n",
    "    workspace=\"ren-e1011\",\n",
    "    project_name=\"dl1010-a2-1\", \n",
    "    experiment_name=experiment  \n",
    ")"
   ]
  },
  {
   "cell_type": "code",
   "execution_count": 84,
   "metadata": {},
   "outputs": [],
   "source": [
    "net = VGG()"
   ]
  },
  {
   "cell_type": "code",
   "execution_count": 85,
   "metadata": {},
   "outputs": [],
   "source": [
    "# net = LitImgClassifier()"
   ]
  },
  {
   "cell_type": "code",
   "execution_count": 86,
   "metadata": {},
   "outputs": [],
   "source": [
    "# net = torch.load('vgg16layer31data~.4fzn0-23.pt')"
   ]
  },
  {
   "cell_type": "code",
   "execution_count": 87,
   "metadata": {},
   "outputs": [
    {
     "name": "stderr",
     "output_type": "stream",
     "text": [
      "GPU available: True, used: True\n",
      "No environment variable for node rank defined. Set as 0.\n",
      "CUDA_VISIBLE_DEVICES: [0]\n"
     ]
    }
   ],
   "source": [
    "trainer = pl.Trainer(max_epochs=10, logger=comet_logger,gpus=1)"
   ]
  },
  {
   "cell_type": "code",
   "execution_count": null,
   "metadata": {
    "scrolled": true
   },
   "outputs": [
    {
     "name": "stderr",
     "output_type": "stream",
     "text": [
      "\n",
      "   | Name         | Type              | Params\n",
      "-----------------------------------------------\n",
      "0  | features     | Sequential        | 20 M  \n",
      "1  | features.0   | Conv2d            | 1 K   \n",
      "2  | features.1   | ReLU              | 0     \n",
      "3  | features.2   | Conv2d            | 36 K  \n",
      "4  | features.3   | ReLU              | 0     \n",
      "5  | features.4   | MaxPool2d         | 0     \n",
      "6  | features.5   | Conv2d            | 73 K  \n",
      "7  | features.6   | ReLU              | 0     \n",
      "8  | features.7   | Conv2d            | 147 K \n",
      "9  | features.8   | ReLU              | 0     \n",
      "10 | features.9   | MaxPool2d         | 0     \n",
      "11 | features.10  | Conv2d            | 295 K \n",
      "12 | features.11  | ReLU              | 0     \n",
      "13 | features.12  | Conv2d            | 590 K \n",
      "14 | features.13  | ReLU              | 0     \n",
      "15 | features.14  | Conv2d            | 590 K \n",
      "16 | features.15  | ReLU              | 0     \n",
      "17 | features.16  | Conv2d            | 590 K \n",
      "18 | features.17  | ReLU              | 0     \n",
      "19 | features.18  | MaxPool2d         | 0     \n",
      "20 | features.19  | Conv2d            | 1 M   \n",
      "21 | features.20  | ReLU              | 0     \n",
      "22 | features.21  | Conv2d            | 2 M   \n",
      "23 | features.22  | ReLU              | 0     \n",
      "24 | features.23  | Conv2d            | 2 M   \n",
      "25 | features.24  | ReLU              | 0     \n",
      "26 | features.25  | Conv2d            | 2 M   \n",
      "27 | features.26  | ReLU              | 0     \n",
      "28 | features.27  | MaxPool2d         | 0     \n",
      "29 | features.28  | Conv2d            | 2 M   \n",
      "30 | features.29  | ReLU              | 0     \n",
      "31 | features.30  | Conv2d            | 2 M   \n",
      "32 | features.31  | ReLU              | 0     \n",
      "33 | features.32  | Conv2d            | 2 M   \n",
      "34 | features.33  | ReLU              | 0     \n",
      "35 | features.34  | Conv2d            | 2 M   \n",
      "36 | features.35  | ReLU              | 0     \n",
      "37 | features.36  | MaxPool2d         | 0     \n",
      "38 | avgpool      | AdaptiveAvgPool2d | 0     \n",
      "39 | classifier   | Sequential        | 119 M \n",
      "40 | classifier.0 | Linear            | 102 M \n",
      "41 | classifier.1 | ReLU              | 0     \n",
      "42 | classifier.2 | Dropout           | 0     \n",
      "43 | classifier.3 | Linear            | 16 M  \n",
      "44 | classifier.4 | ReLU              | 0     \n",
      "45 | classifier.5 | Dropout           | 0     \n",
      "46 | classifier.6 | Linear            | 40 K  \n"
     ]
    },
    {
     "data": {
      "application/vnd.jupyter.widget-view+json": {
       "model_id": "9d3bbee5ec8b4dd3b7fcb08ffe12b3a9",
       "version_major": 2,
       "version_minor": 0
      },
      "text/plain": [
       "HBox(children=(FloatProgress(value=1.0, bar_style='info', description='Validation sanity check', layout=Layout…"
      ]
     },
     "metadata": {},
     "output_type": "display_data"
    },
    {
     "data": {
      "application/vnd.jupyter.widget-view+json": {
       "model_id": "fa650d4939344fc1afbca6ea069659e7",
       "version_major": 2,
       "version_minor": 0
      },
      "text/plain": [
       "HBox(children=(FloatProgress(value=1.0, bar_style='info', description='Training', layout=Layout(flex='2'), max…"
      ]
     },
     "metadata": {},
     "output_type": "display_data"
    },
    {
     "data": {
      "application/vnd.jupyter.widget-view+json": {
       "model_id": "0e8ff586256c457e9a0d4df344b61ff9",
       "version_major": 2,
       "version_minor": 0
      },
      "text/plain": [
       "HBox(children=(FloatProgress(value=1.0, bar_style='info', description='Validating', layout=Layout(flex='2'), m…"
      ]
     },
     "metadata": {},
     "output_type": "display_data"
    },
    {
     "data": {
      "application/vnd.jupyter.widget-view+json": {
       "model_id": "b9240582f4c345aa967185f75fc02279",
       "version_major": 2,
       "version_minor": 0
      },
      "text/plain": [
       "HBox(children=(FloatProgress(value=1.0, bar_style='info', description='Validating', layout=Layout(flex='2'), m…"
      ]
     },
     "metadata": {},
     "output_type": "display_data"
    },
    {
     "data": {
      "application/vnd.jupyter.widget-view+json": {
       "model_id": "c5a6aca2495244a0ad5c71a2bc3c2bb9",
       "version_major": 2,
       "version_minor": 0
      },
      "text/plain": [
       "HBox(children=(FloatProgress(value=1.0, bar_style='info', description='Validating', layout=Layout(flex='2'), m…"
      ]
     },
     "metadata": {},
     "output_type": "display_data"
    }
   ],
   "source": [
    "trainer.fit(net)"
   ]
  },
  {
   "cell_type": "code",
   "execution_count": 59,
   "metadata": {
    "collapsed": true,
    "jupyter": {
     "outputs_hidden": true
    }
   },
   "outputs": [
    {
     "name": "stderr",
     "output_type": "stream",
     "text": [
      "\n",
      "   | Name         | Type              | Params\n",
      "-----------------------------------------------\n",
      "0  | features     | Sequential        | 20 M  \n",
      "1  | features.0   | Conv2d            | 1 K   \n",
      "2  | features.1   | ReLU              | 0     \n",
      "3  | features.2   | Conv2d            | 36 K  \n",
      "4  | features.3   | ReLU              | 0     \n",
      "5  | features.4   | MaxPool2d         | 0     \n",
      "6  | features.5   | Conv2d            | 73 K  \n",
      "7  | features.6   | ReLU              | 0     \n",
      "8  | features.7   | Conv2d            | 147 K \n",
      "9  | features.8   | ReLU              | 0     \n",
      "10 | features.9   | MaxPool2d         | 0     \n",
      "11 | features.10  | Conv2d            | 295 K \n",
      "12 | features.11  | ReLU              | 0     \n",
      "13 | features.12  | Conv2d            | 590 K \n",
      "14 | features.13  | ReLU              | 0     \n",
      "15 | features.14  | Conv2d            | 590 K \n",
      "16 | features.15  | ReLU              | 0     \n",
      "17 | features.16  | Conv2d            | 590 K \n",
      "18 | features.17  | ReLU              | 0     \n",
      "19 | features.18  | MaxPool2d         | 0     \n",
      "20 | features.19  | Conv2d            | 1 M   \n",
      "21 | features.20  | ReLU              | 0     \n",
      "22 | features.21  | Conv2d            | 2 M   \n",
      "23 | features.22  | ReLU              | 0     \n",
      "24 | features.23  | Conv2d            | 2 M   \n",
      "25 | features.24  | ReLU              | 0     \n",
      "26 | features.25  | Conv2d            | 2 M   \n",
      "27 | features.26  | ReLU              | 0     \n",
      "28 | features.27  | MaxPool2d         | 0     \n",
      "29 | features.28  | Conv2d            | 2 M   \n",
      "30 | features.29  | ReLU              | 0     \n",
      "31 | features.30  | Conv2d            | 2 M   \n",
      "32 | features.31  | ReLU              | 0     \n",
      "33 | features.32  | Conv2d            | 2 M   \n",
      "34 | features.33  | ReLU              | 0     \n",
      "35 | features.34  | Conv2d            | 2 M   \n",
      "36 | features.35  | ReLU              | 0     \n",
      "37 | features.36  | MaxPool2d         | 0     \n",
      "38 | avgpool      | AdaptiveAvgPool2d | 0     \n",
      "39 | classifier   | Sequential        | 119 M \n",
      "40 | classifier.0 | Linear            | 102 M \n",
      "41 | classifier.1 | ReLU              | 0     \n",
      "42 | classifier.2 | Dropout           | 0     \n",
      "43 | classifier.3 | Linear            | 16 M  \n",
      "44 | classifier.4 | ReLU              | 0     \n",
      "45 | classifier.5 | Dropout           | 0     \n",
      "46 | classifier.6 | Linear            | 40 K  \n"
     ]
    },
    {
     "data": {
      "application/vnd.jupyter.widget-view+json": {
       "model_id": "dd1d4b2e4c354cdaa9eac03d8a470443",
       "version_major": 2,
       "version_minor": 0
      },
      "text/plain": [
       "HBox(children=(FloatProgress(value=0.0, description='Finding best initial lr', style=ProgressStyle(description…"
      ]
     },
     "metadata": {},
     "output_type": "display_data"
    },
    {
     "name": "stderr",
     "output_type": "stream",
     "text": [
      "LR finder stopped early due to diverging loss.\n"
     ]
    },
    {
     "name": "stdout",
     "output_type": "stream",
     "text": [
      "\n",
      "0.0001\n"
     ]
    },
    {
     "data": {
      "image/png": "[encoded data removed]",
      "text/plain": [
       "<Figure size 432x288 with 1 Axes>"
      ]
     },
     "metadata": {
      "needs_background": "light"
     },
     "output_type": "display_data"
    }
   ],
   "source": [
    "# lr_finder = trainer.lr_find(net)\n",
    "# fig = lr_finder.plot(suggest=True)\n",
    "\n",
    "# plt.ylim(1.8,3)\n",
    "\n",
    "# print(lr_finder.suggestion())"
   ]
  },
  {
   "cell_type": "code",
   "execution_count": 71,
   "metadata": {},
   "outputs": [],
   "source": [
    "torch.save(net.state_dict(),experiment+'.pt')"
   ]
  },
  {
   "cell_type": "code",
   "execution_count": 42,
   "metadata": {},
   "outputs": [],
   "source": [
    "def dataset_accuracy(tensor_dataset,targets,net):\n",
    "    \n",
    "    net.eval()\n",
    "    \n",
    "    net.cpu()\n",
    "    \n",
    "    output = net(tensor_dataset)\n",
    "    \n",
    "    loss = nn.CrossEntropyLoss()(output,torch.LongTensor(targets)) \n",
    "\n",
    "    output = output.data.numpy()\n",
    "    prediction = np.argmax(output,axis=1)\n",
    "\n",
    "    n_correct = len(np.where(targets==prediction)[0])\n",
    "    n_total = len(targets)\n",
    "    \n",
    "    if torch.cuda.is_available():\n",
    "        net.cuda()\n",
    "    return n_correct/n_total, loss.item()"
   ]
  },
  {
   "cell_type": "code",
   "execution_count": 36,
   "metadata": {},
   "outputs": [],
   "source": [
    "validation_tensor = torch.stack([valid_ds[i][0] for i in range(len(valid_ds)) ])\n",
    "validation_label = valid_ds.labels.data.numpy()"
   ]
  },
  {
   "cell_type": "code",
   "execution_count": null,
   "metadata": {},
   "outputs": [],
   "source": [
    "dataset_accuracy(validation_tensor,validation_label, net)"
   ]
  },
  {
   "cell_type": "code",
   "execution_count": null,
   "metadata": {},
   "outputs": [],
   "source": []
  }
 ],
 "metadata": {
  "kernelspec": {
   "display_name": "Python 3",
   "language": "python",
   "name": "python3"
  },
  "language_info": {
   "codemirror_mode": {
    "name": "ipython",
    "version": 3
   },
   "file_extension": ".py",
   "mimetype": "text/x-python",
   "name": "python",
   "nbconvert_exporter": "python",
   "pygments_lexer": "ipython3",
   "version": "3.6.8"
  }
 },
 "nbformat": 4,
 "nbformat_minor": 4
}
