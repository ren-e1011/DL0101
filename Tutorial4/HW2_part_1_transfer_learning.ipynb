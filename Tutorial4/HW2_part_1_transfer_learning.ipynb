{
 "cells": [
  {
   "cell_type": "code",
<<<<<<< HEAD
   "execution_count": 1,
   "metadata": {},
   "outputs": [],
   "source": [
    "# should be from pytorch_lightning.loggers import CometLogger\n",
    "from pytorch_lightning.loggers.comet import CometLogger"
   ]
  },
  {
   "cell_type": "code",
   "execution_count": 2,
=======
   "execution_count": 7,
>>>>>>> 85e9bfba44b0b93e4b3e9fb58d60c78620ddbb2f
   "metadata": {},
   "outputs": [],
   "source": [
    "import glob\n",
    "from PIL import Image\n",
    "from torchvision import datasets, transforms\n",
    "import numpy as np\n",
    "import torch\n",
    "from torch.utils.data import Dataset, DataLoader\n",
    "import matplotlib.pyplot as plt\n",
    "import torch.nn as nn\n",
    "import torch.nn.functional as F\n",
    "import torchvision.models as models"
   ]
  },
  {
<<<<<<< HEAD
   "cell_type": "code",
   "execution_count": 3,
   "metadata": {},
   "outputs": [],
   "source": [
    "from torch.optim.lr_scheduler import StepLR"
   ]
  },
  {
   "cell_type": "code",
   "execution_count": 4,
   "metadata": {},
   "outputs": [],
   "source": [
    "import pytorch_lightning as pl"
   ]
  },
  {
   "cell_type": "code",
   "execution_count": 5,
   "metadata": {},
   "outputs": [],
   "source": [
    "%load_ext tensorboard"
   ]
  },
  {
   "cell_type": "code",
   "execution_count": 6,
   "metadata": {},
   "outputs": [],
   "source": [
    "from pytorch_lightning.core.lightning import LightningModule"
   ]
  },
  {
=======
>>>>>>> 85e9bfba44b0b93e4b3e9fb58d60c78620ddbb2f
   "cell_type": "markdown",
   "metadata": {},
   "source": [
    "# Homework 2, part 1\n",
    "\n",
    "## transfer learning\n",
    "1. below you will find the dataset object for the galaxy dataset from homework 1, except that now it outputs a 69x69 image (no flattening), and the single grayscale channel is repeated 3 times to give a 3x69x69 image\n",
    "\n",
    "2. load a pre-trained network from pytorchs selection https://pytorch.org/docs/stable/torchvision/models.html\n",
    "\n",
    "3. create a network to classify the galaxy image dataset with some parts from the pretrained network\n",
    "\n",
    "4. train the new network\n",
    "\n",
    "5. when you reach over 75% accuracy on the validation dataset, submit your trained model (state_dict and source code)\n",
    "\n",
    "6. double check that if you train the same model without the pre-trained weights, it will perform worse (no need to submit this model) "
   ]
  },
  {
   "cell_type": "code",
<<<<<<< HEAD
   "execution_count": 7,
   "metadata": {},
   "outputs": [],
   "source": [
    "path_to_training_data = '../GalaxyDataset/train/'\n",
    "path_to_validation_data = '../GalaxyDataset/validation/'"
=======
   "execution_count": 1,
   "metadata": {},
   "outputs": [],
   "source": [
    "path_to_training_data = '../Dataset/train/'\n",
    "path_to_validation_data = '../Dataset/validation/'"
>>>>>>> 85e9bfba44b0b93e4b3e9fb58d60c78620ddbb2f
   ]
  },
  {
   "cell_type": "code",
<<<<<<< HEAD
   "execution_count": 8,
=======
   "execution_count": null,
   "metadata": {},
   "outputs": [],
   "source": []
  },
  {
   "cell_type": "code",
   "execution_count": 2,
>>>>>>> 85e9bfba44b0b93e4b3e9fb58d60c78620ddbb2f
   "metadata": {},
   "outputs": [],
   "source": [
    "import glob\n",
    "from PIL import Image\n",
    "from PIL import ImageFilter\n",
    "from torchvision import datasets, transforms\n",
    "import numpy as np\n",
    "import torch\n",
    "from torch.utils.data import Dataset, DataLoader\n",
    "import torch.nn as nn\n",
    "\n",
    "\n",
    "class CustomDataset(Dataset):\n",
    "    def __init__(self, path,mean=0.092,std=0.127,n_classes=10,transform=False):\n",
    "        \n",
    "        self.mean = mean\n",
    "        self.std = std\n",
    "        \n",
    "        self.do_transform = transform\n",
    "        self.transform = transforms.RandomRotation(180)\n",
    "        \n",
    "        self.filelist = glob.glob(path+'/*.png')\n",
    "        \n",
    "        self.labels = np.zeros(len(self.filelist))\n",
    "        \n",
    "        for class_i in range(n_classes):\n",
    "            self.labels[ np.array(['class'+str(class_i) in x for x in self.filelist]) ] = class_i\n",
    "        self.labels = torch.LongTensor(self.labels)\n",
    "        \n",
    "        \n",
    "    def __len__(self):\n",
    "       \n",
    "        return len(self.filelist)\n",
    "\n",
    "    def __getitem__(self, idx):\n",
    "        \n",
    "        img = Image.open(self.filelist[idx])\n",
    "    \n",
    "        if self.do_transform:\n",
    "            \n",
    "            img = self.transform(img)\n",
    "        \n",
    "        \n",
    "        x = transforms.ToTensor()(img)\n",
    "        \n",
    "        x = (x-self.mean)/self.std\n",
<<<<<<< HEAD
    "        # vgg16 inp RGB (3 channels). natively in grayscale, repeat channel 3x\n",
=======
    "        \n",
>>>>>>> 85e9bfba44b0b93e4b3e9fb58d60c78620ddbb2f
    "        x = x.repeat(3,1,1)\n",
    "        \n",
    "        \n",
    "        class_label = self.labels[idx]\n",
    "        \n",
    "        return x, class_label"
   ]
  },
  {
   "cell_type": "code",
<<<<<<< HEAD
   "execution_count": 9,
=======
   "execution_count": 3,
>>>>>>> 85e9bfba44b0b93e4b3e9fb58d60c78620ddbb2f
   "metadata": {},
   "outputs": [],
   "source": [
    "train_ds = CustomDataset(path_to_training_data,transform=False)\n",
    "valid_ds = CustomDataset(path_to_validation_data,transform=False)"
   ]
  },
  {
   "cell_type": "code",
<<<<<<< HEAD
   "execution_count": 10,
   "metadata": {},
   "outputs": [
    {
     "data": {
      "text/plain": [
       "10000"
      ]
     },
     "execution_count": 10,
     "metadata": {},
     "output_type": "execute_result"
    }
   ],
   "source": [
    "len(train_ds.labels)"
   ]
  },
  {
   "cell_type": "code",
   "execution_count": 11,
   "metadata": {},
   "outputs": [
    {
     "data": {
      "text/plain": [
       "5000"
      ]
     },
     "execution_count": 11,
     "metadata": {},
     "output_type": "execute_result"
    }
   ],
   "source": [
    "len(valid_ds.labels)"
   ]
  },
  {
   "cell_type": "code",
   "execution_count": 12,
=======
   "execution_count": 4,
>>>>>>> 85e9bfba44b0b93e4b3e9fb58d60c78620ddbb2f
   "metadata": {},
   "outputs": [],
   "source": [
    "x,y = train_ds[553]"
   ]
  },
  {
   "cell_type": "code",
<<<<<<< HEAD
   "execution_count": 13,
=======
   "execution_count": 5,
>>>>>>> 85e9bfba44b0b93e4b3e9fb58d60c78620ddbb2f
   "metadata": {},
   "outputs": [
    {
     "data": {
      "text/plain": [
       "torch.Size([3, 69, 69])"
      ]
     },
<<<<<<< HEAD
     "execution_count": 13,
=======
     "execution_count": 5,
>>>>>>> 85e9bfba44b0b93e4b3e9fb58d60c78620ddbb2f
     "metadata": {},
     "output_type": "execute_result"
    }
   ],
   "source": [
    "x.shape"
   ]
  },
  {
   "cell_type": "code",
<<<<<<< HEAD
   "execution_count": 14,
=======
   "execution_count": 8,
>>>>>>> 85e9bfba44b0b93e4b3e9fb58d60c78620ddbb2f
   "metadata": {},
   "outputs": [
    {
     "data": {
<<<<<<< HEAD
      "image/png": "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\n",
=======
      "image/png": "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\n",
>>>>>>> 85e9bfba44b0b93e4b3e9fb58d60c78620ddbb2f
      "text/plain": [
       "<Figure size 900x300 with 3 Axes>"
      ]
     },
     "metadata": {
      "needs_background": "light"
     },
     "output_type": "display_data"
    }
   ],
   "source": [
    "fig,ax = plt.subplots(1,3,figsize=(6,2),dpi=150)\n",
    "\n",
    "for i in range(3):\n",
    "    ax[i].imshow(x[i])"
   ]
  },
  {
   "cell_type": "code",
<<<<<<< HEAD
   "execution_count": 15,
   "metadata": {},
   "outputs": [],
   "source": [
    "NUM_CLASSES = 10\n",
    "BATCH_SIZE = 8\n",
    "NUM_EPOCHS = 2\n",
    "FEAT_EXTRACT = True"
   ]
  },
  {
   "cell_type": "code",
   "execution_count": 16,
=======
   "execution_count": 11,
>>>>>>> 85e9bfba44b0b93e4b3e9fb58d60c78620ddbb2f
   "metadata": {},
   "outputs": [],
   "source": [
    "import torchvision.models as models\n",
    "\n",
    "\n",
<<<<<<< HEAD
    "vgg16 = models.vgg16(pretrained=True)\n",
    "#vgg16 = models.vgg16(pretrained=False)"
=======
    "vgg11 = models.vgg16(pretrained=True)\n",
    "#vgg11 = models.vgg11(pretrained=False)"
>>>>>>> 85e9bfba44b0b93e4b3e9fb58d60c78620ddbb2f
   ]
  },
  {
   "cell_type": "code",
<<<<<<< HEAD
   "execution_count": 17,
   "metadata": {},
   "outputs": [],
   "source": [
    "\n",
    "# necessary?\n",
    "# Freeze training for all layers --except layers introduced (last fc)\n",
    "for param in vgg16.features.parameters():\n",
    "    param.require_grad = False\n",
    "\n",
    "# Newly created modules have require_grad=True by default"
   ]
  },
  {
   "cell_type": "code",
   "execution_count": 18,
   "metadata": {
    "scrolled": true
   },
   "outputs": [],
   "source": [
    "??vgg16"
   ]
  },
  {
   "cell_type": "code",
   "execution_count": 19,
   "metadata": {
    "scrolled": true
   },
=======
   "execution_count": 12,
   "metadata": {},
>>>>>>> 85e9bfba44b0b93e4b3e9fb58d60c78620ddbb2f
   "outputs": [
    {
     "data": {
      "text/plain": [
<<<<<<< HEAD
       "Sequential(\n",
       "  (0): Conv2d(3, 64, kernel_size=(3, 3), stride=(1, 1), padding=(1, 1))\n",
       "  (1): ReLU(inplace=True)\n",
       "  (2): Conv2d(64, 64, kernel_size=(3, 3), stride=(1, 1), padding=(1, 1))\n",
       "  (3): ReLU(inplace=True)\n",
       "  (4): MaxPool2d(kernel_size=2, stride=2, padding=0, dilation=1, ceil_mode=False)\n",
       "  (5): Conv2d(64, 128, kernel_size=(3, 3), stride=(1, 1), padding=(1, 1))\n",
       "  (6): ReLU(inplace=True)\n",
       "  (7): Conv2d(128, 128, kernel_size=(3, 3), stride=(1, 1), padding=(1, 1))\n",
       "  (8): ReLU(inplace=True)\n",
       "  (9): MaxPool2d(kernel_size=2, stride=2, padding=0, dilation=1, ceil_mode=False)\n",
       "  (10): Conv2d(128, 256, kernel_size=(3, 3), stride=(1, 1), padding=(1, 1))\n",
       "  (11): ReLU(inplace=True)\n",
       "  (12): Conv2d(256, 256, kernel_size=(3, 3), stride=(1, 1), padding=(1, 1))\n",
       "  (13): ReLU(inplace=True)\n",
       "  (14): Conv2d(256, 256, kernel_size=(3, 3), stride=(1, 1), padding=(1, 1))\n",
       "  (15): ReLU(inplace=True)\n",
       "  (16): MaxPool2d(kernel_size=2, stride=2, padding=0, dilation=1, ceil_mode=False)\n",
       "  (17): Conv2d(256, 512, kernel_size=(3, 3), stride=(1, 1), padding=(1, 1))\n",
       "  (18): ReLU(inplace=True)\n",
       "  (19): Conv2d(512, 512, kernel_size=(3, 3), stride=(1, 1), padding=(1, 1))\n",
       "  (20): ReLU(inplace=True)\n",
       "  (21): Conv2d(512, 512, kernel_size=(3, 3), stride=(1, 1), padding=(1, 1))\n",
       "  (22): ReLU(inplace=True)\n",
       "  (23): MaxPool2d(kernel_size=2, stride=2, padding=0, dilation=1, ceil_mode=False)\n",
       "  (24): Conv2d(512, 512, kernel_size=(3, 3), stride=(1, 1), padding=(1, 1))\n",
       "  (25): ReLU(inplace=True)\n",
       "  (26): Conv2d(512, 512, kernel_size=(3, 3), stride=(1, 1), padding=(1, 1))\n",
       "  (27): ReLU(inplace=True)\n",
       "  (28): Conv2d(512, 512, kernel_size=(3, 3), stride=(1, 1), padding=(1, 1))\n",
       "  (29): ReLU(inplace=True)\n",
       "  (30): MaxPool2d(kernel_size=2, stride=2, padding=0, dilation=1, ceil_mode=False)\n",
       ")"
      ]
     },
     "execution_count": 19,
=======
       "VGG(\n",
       "  (features): Sequential(\n",
       "    (0): Conv2d(3, 64, kernel_size=(3, 3), stride=(1, 1), padding=(1, 1))\n",
       "    (1): ReLU(inplace=True)\n",
       "    (2): Conv2d(64, 64, kernel_size=(3, 3), stride=(1, 1), padding=(1, 1))\n",
       "    (3): ReLU(inplace=True)\n",
       "    (4): MaxPool2d(kernel_size=2, stride=2, padding=0, dilation=1, ceil_mode=False)\n",
       "    (5): Conv2d(64, 128, kernel_size=(3, 3), stride=(1, 1), padding=(1, 1))\n",
       "    (6): ReLU(inplace=True)\n",
       "    (7): Conv2d(128, 128, kernel_size=(3, 3), stride=(1, 1), padding=(1, 1))\n",
       "    (8): ReLU(inplace=True)\n",
       "    (9): MaxPool2d(kernel_size=2, stride=2, padding=0, dilation=1, ceil_mode=False)\n",
       "    (10): Conv2d(128, 256, kernel_size=(3, 3), stride=(1, 1), padding=(1, 1))\n",
       "    (11): ReLU(inplace=True)\n",
       "    (12): Conv2d(256, 256, kernel_size=(3, 3), stride=(1, 1), padding=(1, 1))\n",
       "    (13): ReLU(inplace=True)\n",
       "    (14): Conv2d(256, 256, kernel_size=(3, 3), stride=(1, 1), padding=(1, 1))\n",
       "    (15): ReLU(inplace=True)\n",
       "    (16): MaxPool2d(kernel_size=2, stride=2, padding=0, dilation=1, ceil_mode=False)\n",
       "    (17): Conv2d(256, 512, kernel_size=(3, 3), stride=(1, 1), padding=(1, 1))\n",
       "    (18): ReLU(inplace=True)\n",
       "    (19): Conv2d(512, 512, kernel_size=(3, 3), stride=(1, 1), padding=(1, 1))\n",
       "    (20): ReLU(inplace=True)\n",
       "    (21): Conv2d(512, 512, kernel_size=(3, 3), stride=(1, 1), padding=(1, 1))\n",
       "    (22): ReLU(inplace=True)\n",
       "    (23): MaxPool2d(kernel_size=2, stride=2, padding=0, dilation=1, ceil_mode=False)\n",
       "    (24): Conv2d(512, 512, kernel_size=(3, 3), stride=(1, 1), padding=(1, 1))\n",
       "    (25): ReLU(inplace=True)\n",
       "    (26): Conv2d(512, 512, kernel_size=(3, 3), stride=(1, 1), padding=(1, 1))\n",
       "    (27): ReLU(inplace=True)\n",
       "    (28): Conv2d(512, 512, kernel_size=(3, 3), stride=(1, 1), padding=(1, 1))\n",
       "    (29): ReLU(inplace=True)\n",
       "    (30): MaxPool2d(kernel_size=2, stride=2, padding=0, dilation=1, ceil_mode=False)\n",
       "  )\n",
       "  (avgpool): AdaptiveAvgPool2d(output_size=(7, 7))\n",
       "  (classifier): Sequential(\n",
       "    (0): Linear(in_features=25088, out_features=4096, bias=True)\n",
       "    (1): ReLU(inplace=True)\n",
       "    (2): Dropout(p=0.5, inplace=False)\n",
       "    (3): Linear(in_features=4096, out_features=4096, bias=True)\n",
       "    (4): ReLU(inplace=True)\n",
       "    (5): Dropout(p=0.5, inplace=False)\n",
       "    (6): Linear(in_features=4096, out_features=1000, bias=True)\n",
       "  )\n",
       ")"
      ]
     },
     "execution_count": 12,
>>>>>>> 85e9bfba44b0b93e4b3e9fb58d60c78620ddbb2f
     "metadata": {},
     "output_type": "execute_result"
    }
   ],
   "source": [
<<<<<<< HEAD
    "vgg16.features"
=======
    "vgg11"
>>>>>>> 85e9bfba44b0b93e4b3e9fb58d60c78620ddbb2f
   ]
  },
  {
   "cell_type": "code",
<<<<<<< HEAD
   "execution_count": 20,
   "metadata": {},
   "outputs": [],
   "source": [
    "LOSS_FUNC = F.cross_entropy"
=======
   "execution_count": 13,
   "metadata": {},
   "outputs": [],
   "source": [
    "??vgg11"
>>>>>>> 85e9bfba44b0b93e4b3e9fb58d60c78620ddbb2f
   ]
  },
  {
   "cell_type": "code",
<<<<<<< HEAD
   "execution_count": 21,
   "metadata": {},
   "outputs": [],
   "source": [
    "# class ImageClassifier(nn.Module):\n",
    "class LitImgClassifier(pl.LightningModule):\n",
    "    def __init__(self):\n",
    "#         super(LitImgClassifier, self).__init__()\n",
    "        \n",
    "        super().__init__()\n",
    "        \n",
    "        #you can take all of the conv layers before the max pooling, --does this also grab max pool?\n",
    "#         self.features = vgg16.features\n",
    "        \n",
    "#         #or you can take a subset of them\n",
    "#         self.conv1 = vgg11.features[0]\n",
    "#         self.conv2 = vgg11.features[3]\n",
    "#         self.conv3 = vgg11.features[6]\n",
    "        \n",
    "#         #if you want to use subsets of a sequential model:\n",
    "# pool at layers 4, 9, 16, 23, 30 \n",
    "        self.features = nn.Sequential(*[vgg16.features[i] for i in range(10)])\n",
    "        # mod by feats\n",
    "        self.avgpool = nn.AdaptiveAvgPool2d((17,17))\n",
    "        # mod by feats\n",
    "        self.classifier = nn.Sequential(\n",
    "        \n",
    "            # mod by feat\n",
    "            nn.Linear(17*17*128,4096),\n",
    "            \n",
    "            nn.ReLU(True),\n",
    "            nn.Dropout(),\n",
    "            nn.Linear(4096, 4096),\n",
    "            nn.ReLU(True),\n",
    "            nn.Dropout(),\n",
    "            #num_classes = 10\n",
    "            nn.Linear(4096, NUM_CLASSES),\n",
    "        )\n",
    "        \n",
    "    def forward(self, x):\n",
    "        out = self.features(x)\n",
    "        # what does this accomplish \n",
    "        out = self.avgpool(out)\n",
    "        out = torch.flatten(out,1)\n",
    "        out = self.classifier(out)\n",
    "        \n",
    "        ##### pass through the rest of your model\n",
    "        \n",
    "        return out\n",
    "    \n",
    "    def train_dataloader(self):\n",
    "        dataset_train = CustomDataset(path_to_training_data)\n",
    "# seemingly CustomDataset handles transformations, tensor...collate_fn=_collate unnecessary                \n",
    "        return DataLoader(dataset_train,batch_size=BATCH_SIZE,shuffle=True)\n",
    "\n",
    "    def val_dataloader(self):\n",
    "        dataset_val = CustomDataset(path_to_validation_data)\n",
    "        return DataLoader(dataset_val,batch_size=BATCH_SIZE,shuffle=False)\n",
    "    \n",
    "    def configure_optimizers(self):\n",
    "        optimizer1 = torch.optim.Adam(self.parameters(), lr=1e-3)\n",
    "        # does pl handle step_size?\n",
    "        scheduler1 = StepLR(optimizer1, step_size=1)\n",
    "        return [optimizer1], [scheduler1]\n",
    "        \n",
    "    \n",
    "    def training_step(self,batch,batch_idx):\n",
    "        minib,target = batch\n",
    "        out = self.forward(minib)\n",
    "        loss = LOSS_FUNC(out,target)\n",
    "        # add logging\n",
    "        logs = {'loss': loss}\n",
    "        return {'loss': loss, 'log': logs}\n",
    "#         return loss\n",
    "    \n",
    "    def validation_step(self,batch,batch_idx):\n",
    "        minib, target = batch\n",
    "        out = self.forward(minib)\n",
    "        loss = LOSS_FUNC(out,target)\n",
    "        \n",
    "        pred = out.argmax(dim=1, keepdim=True) #get ix of max log-proba\n",
    "        correct = pred.eq(target.view_as(pred)).sum().item()\n",
    "        \n",
    "        return {'val_loss': loss, 'correct': correct}\n",
    "        \n",
    "    \n",
    "    def validation_epoch_end(self,outputs):\n",
    "        avg_loss = torch.stack([x['val_loss'] for x in outputs]).mean()\n",
    "        tensorboard_logs = {'val_loss':avg_loss}\n",
    "        return {'avg_val_loss':avg_loss, 'log':tensorboard_logs}\n",
    "        "
   ]
  },
  {
   "cell_type": "markdown",
   "metadata": {},
   "source": [
    "--test pl lightning--"
=======
   "execution_count": null,
   "metadata": {},
   "outputs": [],
   "source": [
    "class ImageClassifier(nn.Module):\n",
    "\n",
    "    def __init__(self):\n",
    "        super(ImageClassifier, self).__init__()\n",
    "        \n",
    "        #you can take all of the conv layers before the max pooling,\n",
    "        self.features = vgg11.features\n",
    "        \n",
    "        #or you can take a subset of them\n",
    "        self.conv1 = vgg11.features[0]\n",
    "        self.conv2 = vgg11.features[3]\n",
    "        self.conv3 = vgg11.features[6]\n",
    "        \n",
    "        #if you want to use subsets of a sequential model:\n",
    "        self.part1 = nn.Sequential(*[vgg11.features[i] for i in range(16)])\n",
    "        \n",
    "        self.classifier = #...\n",
    "        \n",
    "    def forward(self, x):\n",
    "        out = self.features(x)\n",
    "        \n",
    "        ##### pass through the rest of your model\n",
    "        \n",
    "        return out"
>>>>>>> 85e9bfba44b0b93e4b3e9fb58d60c78620ddbb2f
   ]
  },
  {
   "cell_type": "code",
<<<<<<< HEAD
   "execution_count": 22,
   "metadata": {},
   "outputs": [
    {
     "name": "stderr",
     "output_type": "stream",
     "text": [
      "CometLogger will be initialized in online mode\n",
      "COMET INFO: Experiment is live on comet.ml https://www.comet.ml/ren-e1011/general/1024915b01ea496a82ea2a21e3a327b4\n",
      "\n"
     ]
    }
   ],
   "source": [
    "import os\n",
    "# details in local .comet.config\n",
    "comet_logger = CometLogger(\n",
    "    api_key='n0QCcEJ7YYeDUkff49kqLEdeJ',\n",
    "    save_dir='.',  # Optional\n",
    "    experiment_name='vgg16layer10data.01'  # Optional\n",
    ")"
   ]
  },
  {
   "cell_type": "code",
   "execution_count": 27,
   "metadata": {},
   "outputs": [],
   "source": [
    "net = LitImgClassifier()"
=======
   "execution_count": null,
   "metadata": {},
   "outputs": [],
   "source": []
  },
  {
   "cell_type": "code",
   "execution_count": null,
   "metadata": {},
   "outputs": [],
   "source": [
    "img_class = ImageClassifier()"
>>>>>>> 85e9bfba44b0b93e4b3e9fb58d60c78620ddbb2f
   ]
  },
  {
   "cell_type": "code",
<<<<<<< HEAD
   "execution_count": 28,
   "metadata": {
    "scrolled": true
   },
   "outputs": [
    {
     "name": "stderr",
     "output_type": "stream",
     "text": [
      "GPU available: False, used: False\n",
      "No environment variable for node rank defined. Set as 0.\n"
     ]
    }
   ],
   "source": [
    "trainer = pl.Trainer(train_percent_check=0.01,max_epochs=2, logger=comet_logger)"
   ]
  },
  {
   "cell_type": "code",
   "execution_count": 29,
   "metadata": {
    "scrolled": true
   },
   "outputs": [
    {
     "name": "stderr",
     "output_type": "stream",
     "text": [
      "\n",
      "   | Name         | Type              | Params\n",
      "-----------------------------------------------\n",
      "0  | features     | Sequential        | 260 K \n",
      "1  | features.0   | Conv2d            | 1 K   \n",
      "2  | features.1   | ReLU              | 0     \n",
      "3  | features.2   | Conv2d            | 36 K  \n",
      "4  | features.3   | ReLU              | 0     \n",
      "5  | features.4   | MaxPool2d         | 0     \n",
      "6  | features.5   | Conv2d            | 73 K  \n",
      "7  | features.6   | ReLU              | 0     \n",
      "8  | features.7   | Conv2d            | 147 K \n",
      "9  | features.8   | ReLU              | 0     \n",
      "10 | features.9   | MaxPool2d         | 0     \n",
      "11 | avgpool      | AdaptiveAvgPool2d | 0     \n",
      "12 | classifier   | Sequential        | 168 M \n",
      "13 | classifier.0 | Linear            | 151 M \n",
      "14 | classifier.1 | ReLU              | 0     \n",
      "15 | classifier.2 | Dropout           | 0     \n",
      "16 | classifier.3 | Linear            | 16 M  \n",
      "17 | classifier.4 | ReLU              | 0     \n",
      "18 | classifier.5 | Dropout           | 0     \n",
      "19 | classifier.6 | Linear            | 40 K  \n"
     ]
    },
    {
     "data": {
      "application/vnd.jupyter.widget-view+json": {
       "model_id": "",
       "version_major": 2,
       "version_minor": 0
      },
      "text/plain": [
       "HBox(children=(FloatProgress(value=1.0, bar_style='info', description='Validation sanity check', layout=Layout…"
      ]
     },
     "metadata": {},
     "output_type": "display_data"
    },
    {
     "data": {
      "application/vnd.jupyter.widget-view+json": {
       "model_id": "671364215ffe471ca13d00f081fed451",
       "version_major": 2,
       "version_minor": 0
      },
      "text/plain": [
       "HBox(children=(FloatProgress(value=1.0, bar_style='info', description='Training', layout=Layout(flex='2'), max…"
      ]
     },
     "metadata": {},
     "output_type": "display_data"
    },
    {
     "data": {
      "application/vnd.jupyter.widget-view+json": {
       "model_id": "",
       "version_major": 2,
       "version_minor": 0
      },
      "text/plain": [
       "HBox(children=(FloatProgress(value=1.0, bar_style='info', description='Validating', layout=Layout(flex='2'), m…"
      ]
     },
     "metadata": {},
     "output_type": "display_data"
    },
    {
     "data": {
      "application/vnd.jupyter.widget-view+json": {
       "model_id": "",
       "version_major": 2,
       "version_minor": 0
      },
      "text/plain": [
       "HBox(children=(FloatProgress(value=1.0, bar_style='info', description='Validating', layout=Layout(flex='2'), m…"
      ]
     },
     "metadata": {},
     "output_type": "display_data"
    },
    {
     "name": "stderr",
     "output_type": "stream",
     "text": [
      "COMET INFO: ---------------------------\n",
      "COMET INFO: Comet.ml Experiment Summary\n",
      "COMET INFO: ---------------------------\n",
      "COMET INFO:   Data:\n",
      "COMET INFO:     display_summary_level : 1\n",
      "COMET INFO:     url                   : https://www.comet.ml/ren-e1011/general/1024915b01ea496a82ea2a21e3a327b4\n",
      "COMET INFO:   Metrics [count] (min, max):\n",
      "COMET INFO:     epoch [6]    : (0, 1)\n",
      "COMET INFO:     loss [4]     : (1.856835126876831, 2.664862871170044)\n",
      "COMET INFO:     val_loss [2] : (1.993978500366211, 2.063722848892212)\n",
      "COMET INFO:   Others:\n",
      "COMET INFO:     Name : vgg16layer10data.01\n",
      "COMET INFO:   Uploads:\n",
      "COMET INFO:     code                     : 1 (6 KB)\n",
      "COMET INFO:     environment details      : 1\n",
      "COMET INFO:     filename                 : 1\n",
      "COMET INFO:     git metadata             : 1\n",
      "COMET INFO:     git-patch (uncompressed) : 1 (446 KB)\n",
      "COMET INFO:     installed packages       : 1\n",
      "COMET INFO: ---------------------------\n",
      "COMET INFO: Uploading stats to Comet before program termination (may take several seconds)\n"
     ]
    },
    {
     "name": "stdout",
     "output_type": "stream",
     "text": [
      "\n"
     ]
    },
    {
     "data": {
      "text/plain": [
       "1"
      ]
     },
     "execution_count": 29,
     "metadata": {},
     "output_type": "execute_result"
    }
   ],
   "source": [
    "trainer.fit(net)"
   ]
  },
  {
   "cell_type": "code",
   "execution_count": 30,
   "metadata": {},
   "outputs": [
    {
     "name": "stderr",
     "output_type": "stream",
     "text": [
      "COMET INFO: Experiment is live on comet.ml https://www.comet.ml/ren-e1011/general/1024915b01ea496a82ea2a21e3a327b4\n",
      "\n"
     ]
    },
    {
     "data": {
      "text/html": [
       "\n",
       "        <iframe\n",
       "            width=\"100%\"\n",
       "            height=\"800px\"\n",
       "            src=\"https://www.comet.ml/ren-e1011/general/1024915b01ea496a82ea2a21e3a327b4\"\n",
       "            frameborder=\"0\"\n",
       "            allowfullscreen\n",
       "        ></iframe>\n",
       "        "
      ],
      "text/plain": [
       "<IPython.lib.display.IFrame at 0x7fb72e290950>"
      ]
     },
     "metadata": {},
     "output_type": "display_data"
    }
   ],
   "source": [
    "comet_logger.experiment.display()"
   ]
=======
   "execution_count": null,
   "metadata": {},
   "outputs": [],
   "source": []
  },
  {
   "cell_type": "code",
   "execution_count": null,
   "metadata": {},
   "outputs": [],
   "source": []
>>>>>>> 85e9bfba44b0b93e4b3e9fb58d60c78620ddbb2f
  },
  {
   "cell_type": "code",
   "execution_count": null,
   "metadata": {},
   "outputs": [],
   "source": [
<<<<<<< HEAD
    "lr_finder = trainer.lr_find(model)"
=======
    "training_ds = CustomDataset(path_to_training_data,transform=False)\n",
    "validation_ds = CustomDataset(path_to_validation_data)\n",
    "\n",
    "tranining_tensor = torch.stack([training_ds[i][0] for i in range(len(training_ds)) ])\n",
    "training_labels = training_ds.labels.data.numpy()\n",
    "\n",
    "validation_tensor = torch.stack([validation_ds[i][0] for i in range(len(validation_ds)) ])\n",
    "validation_labels = validation_ds.labels.data.numpy()"
>>>>>>> 85e9bfba44b0b93e4b3e9fb58d60c78620ddbb2f
   ]
  },
  {
   "cell_type": "code",
<<<<<<< HEAD
   "execution_count": 21,
=======
   "execution_count": null,
>>>>>>> 85e9bfba44b0b93e4b3e9fb58d60c78620ddbb2f
   "metadata": {},
   "outputs": [],
   "source": [
    "def dataset_accuracy(tensor_dataset,targets,net):\n",
    "    \n",
    "    net.eval()\n",
    "    \n",
    "    net.cpu()\n",
    "    \n",
    "    output = net(tensor_dataset)\n",
    "    \n",
    "    loss = nn.CrossEntropyLoss()(output,torch.LongTensor(targets)) \n",
    "\n",
    "    output = output.data.numpy()\n",
    "    prediction = np.argmax(output,axis=1)\n",
    "\n",
    "    n_correct = len(np.where(targets==prediction)[0])\n",
    "    n_total = len(targets)\n",
    "    \n",
    "    if torch.cuda.is_available():\n",
    "        net.cuda()\n",
    "    return n_correct/n_total, loss.item()"
   ]
  },
  {
   "cell_type": "code",
   "execution_count": null,
   "metadata": {},
   "outputs": [],
<<<<<<< HEAD
   "source": []
  },
  {
   "cell_type": "code",
   "execution_count": 34,
   "metadata": {},
   "outputs": [
    {
     "data": {
      "text/plain": [
       "(0.125, 2.27748703956604)"
      ]
     },
     "execution_count": 34,
     "metadata": {},
     "output_type": "execute_result"
    }
   ],
   "source": [
    "dataset_accuracy(training_tensor[:16],training_labels[:16],testlt)"
   ]
  },
  {
   "cell_type": "code",
   "execution_count": 35,
   "metadata": {},
   "outputs": [
    {
     "data": {
      "text/plain": [
       "torch.Size([16, 3, 69, 69])"
      ]
     },
     "execution_count": 35,
     "metadata": {},
     "output_type": "execute_result"
    }
   ],
   "source": [
    "training_tensor[:16].shape"
   ]
  },
  {
   "cell_type": "code",
   "execution_count": null,
   "metadata": {},
   "outputs": [],
   "source": []
=======
   "source": [
    "dataset_accuracy(validation_tensor,validation_labels, img_class, nn.CrossEntropyLoss())"
   ]
>>>>>>> 85e9bfba44b0b93e4b3e9fb58d60c78620ddbb2f
  }
 ],
 "metadata": {
  "kernelspec": {
<<<<<<< HEAD
   "display_name": "Python dl1010",
   "language": "python",
   "name": "dl1010"
=======
   "display_name": "Python 3",
   "language": "python",
   "name": "python3"
>>>>>>> 85e9bfba44b0b93e4b3e9fb58d60c78620ddbb2f
  },
  "language_info": {
   "codemirror_mode": {
    "name": "ipython",
    "version": 3
   },
   "file_extension": ".py",
   "mimetype": "text/x-python",
   "name": "python",
   "nbconvert_exporter": "python",
   "pygments_lexer": "ipython3",
<<<<<<< HEAD
   "version": "3.7.7"
=======
   "version": "3.7.6"
>>>>>>> 85e9bfba44b0b93e4b3e9fb58d60c78620ddbb2f
  }
 },
 "nbformat": 4,
 "nbformat_minor": 4
}
