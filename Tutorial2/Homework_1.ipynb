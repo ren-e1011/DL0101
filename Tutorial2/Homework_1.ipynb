{
 "cells": [
  {
   "cell_type": "markdown",
   "metadata": {},
   "source": [
    "# Homework #1"
   ]
  },
  {
   "cell_type": "markdown",
   "metadata": {},
   "source": [
    "1. create a dataloader to load the galaxy10 dataset\n",
    "2. build a classifier with a fully connceted neural network \n",
    "3. write a function to compute the classification accuracy of the network prediction\n",
    "3. write a training loop and train the model\n",
    "4. save the loss and accuracy for both the training dataset and the validation dataset after every epoch\n",
    "5. plot the loss and accuracy\n",
    "6. save the trained model and model source code (in a .py file)\n",
    "7. email the trained model to jonathan.shlomi@weizmann.ac.il"
   ]
  },
  {
   "cell_type": "code",
   "execution_count": 1,
   "metadata": {},
   "outputs": [],
   "source": [
    "path_to_training_data = './Dataset/train/'\n",
    "path_to_validation_data = './/Dataset/validation/'"
   ]
  },
  {
   "cell_type": "markdown",
   "metadata": {},
   "source": [
    "### The galaxy10 dataset\n",
    "\n",
    "in this homework you will build a classifier for the galaxy10 dataset (https://astronn.readthedocs.io/en/latest/galaxy10.html)\n",
    "\n",
    "but its a \"special\" version of the dataset created for this homework. The images have been converted to grayscale, and saved as png files in two directories, \"train\" and \"validation\". There is a seperate test dataset in a secret location, you will train a model, submit it, and we will evaluate it on the test dataset\n",
    "\n",
    "you can submit the model once you have over 65% accuracy on the validation dataset. \n"
   ]
  },
  {
   "cell_type": "markdown",
   "metadata": {},
   "source": [
    "### DataLoader:"
   ]
  },
  {
   "cell_type": "code",
   "execution_count": 2,
   "metadata": {},
   "outputs": [],
   "source": [
    "import glob\n",
    "import re\n",
    "import os\n",
    "from PIL import Image"
   ]
  },
  {
   "cell_type": "code",
   "execution_count": 3,
   "metadata": {},
   "outputs": [],
   "source": [
    "import sys"
   ]
  },
  {
   "cell_type": "code",
   "execution_count": 4,
   "metadata": {},
   "outputs": [],
   "source": [
    "from torchvision import datasets, transforms\n",
    "import numpy as np\n",
    "import torch"
   ]
  },
  {
   "cell_type": "code",
   "execution_count": 5,
   "metadata": {},
   "outputs": [],
   "source": [
    "from torch.utils.data import Dataset, DataLoader\n",
    "\n",
    "class CustomDataset(Dataset):\n",
    "    def __init__(self, path,mean=0.092,std=0.127,n_classes=10):\n",
    "        \n",
    "        \n",
    "        self.mean = mean\n",
    "        self.std = std\n",
    "\n",
    "        \n",
    "        self.filelist = glob.glob(path+'/*.png') \n",
    "        #....\n",
    "        self.labels =  torch.LongTensor([int(re.search('(?<=class)[0-9]',os.path.basename(file)).group(0)) for file in self.filelist])\n",
    "\n",
    "    def __len__(self):\n",
    "       \n",
    "        return len(self.filelist)\n",
    "\n",
    "\n",
    "    def __getitem__(self, idx):\n",
    "        \n",
    "        img = Image.open(self.filelist[idx])\n",
    "\n",
    "        img = transforms.ToTensor()( img ).view(-1)\n",
    "        \n",
    "        \n",
    "        x = (img-self.mean)/self.std\n",
    "        \n",
    "        y = self.labels[idx]\n",
    "    \n",
    "        return x, y"
   ]
  },
  {
   "cell_type": "markdown",
   "metadata": {},
   "source": [
    "## Load Dataset - Train, Validation"
   ]
  },
  {
   "cell_type": "code",
   "execution_count": 6,
   "metadata": {},
   "outputs": [],
   "source": [
    "batch_size = 120"
   ]
  },
  {
   "cell_type": "code",
   "execution_count": 7,
   "metadata": {},
   "outputs": [],
   "source": [
    "# training_ds = CustomDataset(path_to_training_data,transform=True)\n",
    "training_ds = CustomDataset(path_to_training_data)\n",
    "validation_ds = CustomDataset(path_to_validation_data)"
   ]
  },
  {
   "cell_type": "code",
   "execution_count": 8,
   "metadata": {},
   "outputs": [],
   "source": [
    "## lets also go ahead and create the data loaders,\n",
    "## and set the batch size\n",
    "training_dataloader = DataLoader(training_ds,batch_size=batch_size)\n",
    "valid_dataloader = DataLoader(validation_ds,batch_size=batch_size)"
   ]
  },
  {
   "cell_type": "markdown",
   "metadata": {},
   "source": [
    "\n",
    "since this is a small dataset, we don't have a memory constraint and its easy to evaluate on the whole dataset at once"
   ]
  },
  {
   "cell_type": "code",
   "execution_count": 9,
   "metadata": {},
   "outputs": [],
   "source": [
    "training_tensor = torch.stack([training_ds[i][0] for i in range(len(training_ds)) ])\n",
    "training_labels = training_ds.labels.data.numpy()\n",
    "\n",
    "validation_tensor = torch.stack([validation_ds[i][0] for i in range(len(validation_ds)) ])\n",
    "validation_labels = validation_ds.labels.data.numpy()"
   ]
  },
  {
   "cell_type": "markdown",
   "metadata": {},
   "source": [
    "## Test Data Getter, Loader "
   ]
  },
  {
   "cell_type": "code",
   "execution_count": 10,
   "metadata": {},
   "outputs": [
    {
     "data": {
      "text/plain": [
       "(tensor([-0.7244, -0.7244, -0.7244,  ..., -0.6935, -0.6627, -0.6935]),\n",
       " tensor(2))"
      ]
     },
     "execution_count": 10,
     "metadata": {},
     "output_type": "execute_result"
    }
   ],
   "source": [
    "training_ds.__getitem__(0)"
   ]
  },
  {
   "cell_type": "code",
   "execution_count": 11,
   "metadata": {},
   "outputs": [
    {
     "data": {
      "text/plain": [
       "(tensor([-0.5391, -0.4774, -0.5700,  ..., -0.5700, -0.6009, -0.6009]),\n",
       " tensor(2))"
      ]
     },
     "execution_count": 11,
     "metadata": {},
     "output_type": "execute_result"
    }
   ],
   "source": [
    "some_random_idx = 52\n",
    "training_ds[some_random_idx]"
   ]
  },
  {
   "cell_type": "code",
   "execution_count": 12,
   "metadata": {},
   "outputs": [
    {
     "data": {
      "image/png": "[encoded data removed]",
      "text/plain": [
       "<Figure size 360x720 with 50 Axes>"
      ]
     },
     "metadata": {
      "needs_background": "light"
     },
     "output_type": "display_data"
    }
   ],
   "source": [
    "import matplotlib.pyplot as plt\n",
    "\n",
    "fig,ax = plt.subplots(10,5,figsize=(5,10))\n",
    "\n",
    "\n",
    "for class_i in range(10):\n",
    "    idxs = np.where( training_ds.labels == class_i )[0]\n",
    "    idxs = np.random.permutation(idxs)\n",
    "    for plot_i in range(np.min([5,len(idxs)])):\n",
    "\n",
    "        ax[class_i][plot_i].imshow(training_ds[idxs[plot_i]][0].reshape(69,69),cmap='gray')\n",
    "        ax[class_i][plot_i].set_axis_off()\n",
    "        \n",
    "plt.tight_layout()\n",
    "plt.show()"
   ]
  },
  {
   "cell_type": "markdown",
   "metadata": {},
   "source": [
    "# Now lets build the neural network\n",
    "\n",
    "its a classifier - it takes as input 69*69 numbers, and outputs 10 numbers"
   ]
  },
  {
   "cell_type": "markdown",
   "metadata": {},
   "source": [
    "What you need to know:\n",
    "\n",
    "The input is a vector of dimension 4,761\n",
    "\n",
    "The output is a vector of dimension 10\n",
    "\n",
    "Don’t apply an activation to the last layer"
   ]
  },
  {
   "cell_type": "code",
   "execution_count": 13,
   "metadata": {},
   "outputs": [],
   "source": [
    "import torch.nn as nn\n",
    "\n",
    "dim_input = 69*69\n",
    "dim_sqrt = 69\n",
    "classes = 10"
   ]
  },
  {
   "cell_type": "code",
   "execution_count": 14,
   "metadata": {},
   "outputs": [],
   "source": [
    "import torch.nn.functional as F"
   ]
  },
  {
   "cell_type": "code",
   "execution_count": 15,
   "metadata": {},
   "outputs": [],
   "source": [
    "# https://pytorch.org/tutorials/recipes/recipes/defining_a_neural_network.html#learn-more class Net(nn.Module):\n",
    "\n",
    "class MnistConvNet(nn.Module):\n",
    "    def __init__(self):\n",
    "        super(MnistConvNet, self).__init__()\n",
    "\n",
    "        # First 2D convolutional layer, taking in 1 input channel (image),\n",
    "        # outputting 32 convolutional features, with a square kernel size of 3\n",
    "        self.conv1 = nn.Conv2d(1, 32, 3, 1)\n",
    "        # Second 2D convolutional layer, taking in the 32 input layers,\n",
    "        # outputting 64 convolutional features, with a square kernel size of 3\n",
    "        self.conv2 = nn.Conv2d(32, 64, 3, 1)\n",
    "\n",
    "        # Designed to ensure that adjacent pixels are either all 0s or all active\n",
    "        # with an input probability\n",
    "        self.dropout1 = nn.Dropout2d(0.25)\n",
    "        self.dropout2 = nn.Dropout2d(0.5)\n",
    "\n",
    "        # First fully connected layer\n",
    "        self.fc1 = nn.Linear(64*32*32, 128)\n",
    "        # Second fully connected layer that outputs our 10 labels\n",
    "        self.fc2 = nn.Linear(128, classes)\n",
    "\n",
    "        # x represents our data\n",
    "    def forward(self, x):\n",
    "#         print('raw_x',x.size())\n",
    "        # Pass data through conv1\n",
    "        x = self.conv1(x)\n",
    "#         print('nn.Conv2d (1,32,2,1) -->', x.size())\n",
    "        # Use the rectified-linear activation function over x\n",
    "        x = F.relu(x)\n",
    "#         print('F.relu -->', x.size())\n",
    "        x = self.conv2(x)\n",
    "#         print('nn.Conv2d(32,64,3,1) -->', x.size())\n",
    "        x = F.relu(x)\n",
    "#         print('F.relu -->',x.size())\n",
    "\n",
    "        # Run max pooling over x\n",
    "        x = F.max_pool2d(x, 2)\n",
    "#         print('F.max_pool2d(x,2) --> ',x.size())\n",
    "        # Pass data through dropout1\n",
    "        x = self.dropout1(x)\n",
    "#         print('nn.Dropout2d(0.25) --> ',x.size())\n",
    "        # Flatten x with start_dim=1\n",
    "        x = torch.flatten(x, 1)\n",
    "#         print('torch.flatten(x,1) -->',x.size())\n",
    "        # Pass data through fc1\n",
    "        x = self.fc1(x)\n",
    "#         print('nn.Linear(69*69,128) --> ',x.size())\n",
    "        x = F.relu(x)\n",
    "#         print('F.relu(x) -->',x.size())\n",
    "        x = self.dropout2(x)\n",
    "#         print('nn.Dropout2d(0.5) -->',x.size())\n",
    "        x = self.fc2(x)\n",
    "#         print('nn.Linear(128,classes) -->',x.size())\n",
    "\n",
    "        # Apply softmax to x\n",
    "        #       output = F.log_softmax(x, dim=1)\n",
    "        output = x\n",
    "        return output\n",
    "    \n",
    "    # helper\n",
    "    def num_flat_features(self, x):\n",
    "        size = x.size()[1:]  # all dimensions except the batch dimension\n",
    "        num_features = 1\n",
    "        for s in size:\n",
    "            num_features *= s\n",
    "        return num_features"
   ]
  },
  {
   "cell_type": "code",
   "execution_count": 16,
   "metadata": {},
   "outputs": [],
   "source": [
    "# epoch 10:: loss: 1.6232141256332397, accuracy 0.5151785714285714\n",
    "class DumbNet(nn.Module):\n",
    "    def __init__(self):\n",
    "        super(DumbNet,self).__init__()\n",
    "        \n",
    "        #...anything more interesting?? -- try cnn\n",
    "        self.layer1 = nn.Linear(dim_input, classes)\n",
    "        \n",
    "        \n",
    "    \n",
    "    def forward(self,x):\n",
    "        \n",
    "        out = self.layer1(x)\n",
    "        \n",
    "\n",
    "        return out"
   ]
  },
  {
   "cell_type": "markdown",
   "metadata": {},
   "source": [
    "## Net Instance"
   ]
  },
  {
   "cell_type": "code",
   "execution_count": 17,
   "metadata": {},
   "outputs": [],
   "source": [
    "# uncomment if run on gpu sys, colab\n",
    "# print('torch.cuda.is_available?',torch.cuda.is_available())\n",
    "# if torch.cuda.is_available():\n",
    "#     net.cuda()\n",
    "    "
   ]
  },
  {
   "cell_type": "markdown",
   "metadata": {},
   "source": [
    "## Define Loss function"
   ]
  },
  {
   "cell_type": "code",
   "execution_count": 16,
   "metadata": {},
   "outputs": [],
   "source": [
    "# Use nn.CrossEntropyLoss()\n",
    "# -\n",
    "import torch.optim as optim\n",
    "loss_func = nn.CrossEntropyLoss()\n"
   ]
  },
  {
   "cell_type": "markdown",
   "metadata": {},
   "source": [
    "accuracy is defined as the number of correctly classifier samples out of the whole dataset"
   ]
  },
  {
   "cell_type": "markdown",
   "metadata": {},
   "source": [
    "## Define Net, Optimizer, Hyperparameters"
   ]
  },
  {
   "cell_type": "code",
   "execution_count": 17,
   "metadata": {},
   "outputs": [],
   "source": [
    "## create the instance\n",
    "\n",
    "net = MnistConvNet()\n",
    "net_name = 'MnistConvNet'\n",
    "optim_name = 'SGD'\n",
    "lr_param = '0.001'\n",
    "momentum_param = '0.9'"
   ]
  },
  {
   "cell_type": "markdown",
   "metadata": {},
   "source": [
    "reload after dead kernel"
   ]
  },
  {
   "cell_type": "code",
   "execution_count": 18,
   "metadata": {},
   "outputs": [
    {
     "data": {
      "text/plain": [
       "<All keys matched successfully>"
      ]
     },
     "execution_count": 18,
     "metadata": {},
     "output_type": "execute_result"
    }
   ],
   "source": [
    "net.load_state_dict(torch.load('MnistConvNet_epoch_99_optim_SGD_lr_0.001_m_0.9.pt'))\n"
   ]
  },
  {
   "cell_type": "code",
   "execution_count": 19,
   "metadata": {},
   "outputs": [],
   "source": [
    "# Create an optimiser and set the learning rate (start with SGD and lr = 0.01 )\n",
    "# -\n",
    "# TODO trial different optimization and lr params\n",
    "# optimizer = optim.SGD(net.parameters(), lr=0.01) \n",
    "optimizer = optim.SGD(net.parameters(), lr=0.001, momentum=0.9)"
   ]
  },
  {
   "cell_type": "markdown",
   "metadata": {},
   "source": [
    "## Train, Eval Network"
   ]
  },
  {
   "cell_type": "code",
   "execution_count": 17,
   "metadata": {},
   "outputs": [],
   "source": [
    "def dataset_accuracy(net, loss_func=loss_func, tensor_dataset=validation_tensor, targets=validation_labels):\n",
    "\n",
    "    net.eval()\n",
    "# toggle for cnn\n",
    "    tensor_dataset = tensor_dataset.reshape(tensor_dataset.size()[0], 1, dim_sqrt,dim_sqrt)\n",
    "    output = net(tensor_dataset)\n",
    "    \n",
    "    loss = loss_func(output,torch.LongTensor(targets))\n",
    "\n",
    "    output = output.cpu().data.numpy()\n",
    "    prediction = np.argmax(output,axis=1)\n",
    "\n",
    "    n_correct = len(np.where(targets==prediction)[0])\n",
    "    n_total = len(targets)\n",
    "\n",
    "    return n_correct/n_total, loss.item()"
   ]
  },
  {
   "cell_type": "code",
   "execution_count": 21,
   "metadata": {},
   "outputs": [],
   "source": [
    "# needs a jupyterlab build\n",
    "# https://ipywidgets.readthedocs.io/en/stable/user_install.html#installing-the-jupyterlab-extension\n",
    "from tqdm.notebook import tqdm,trange"
   ]
  },
  {
   "cell_type": "markdown",
   "metadata": {},
   "source": [
    "https://discuss.pytorch.org/t/where-should-i-put-net-train/10236/2\n",
    "\n",
    "From what I know train() enables some modules like dropout, and eval() does the opposit.\n",
    "\n",
    "So I would say: before you start training your model call train() and then eval() when you are done. The classic workflow would be:\n",
    "\n",
    "call train()\n",
    "epoch of training on the training set\n",
    "call eval()\n",
    "evaluate your model on the validation set\n",
    "repeat\n",
    "eval() when you are done"
   ]
  },
  {
   "cell_type": "code",
   "execution_count": 22,
   "metadata": {
    "collapsed": true,
    "jupyter": {
     "outputs_hidden": true
    }
   },
   "outputs": [
    {
     "data": {
      "application/vnd.jupyter.widget-view+json": {
       "model_id": "b241a2f3bf624c87aa090393d098bf89",
       "version_major": 2,
       "version_minor": 0
      },
      "text/plain": [
       "HBox(children=(FloatProgress(value=0.0, description='Epochs', max=50.0, style=ProgressStyle(description_width=…"
      ]
     },
     "metadata": {},
     "output_type": "display_data"
    },
    {
     "name": "stdout",
     "output_type": "stream",
     "text": [
      "epoch 101:: loss: 0.8300602436065674, accuracy 0.7138\n",
      "=========================================\n",
      "epoch 102:: loss: 0.8476911187171936, accuracy 0.7168\n",
      "=========================================\n",
      "epoch 103:: loss: 0.833396852016449, accuracy 0.7236\n",
      "=========================================\n",
      "epoch 104:: loss: 0.8272844552993774, accuracy 0.7268\n",
      "=========================================\n",
      "epoch 105:: loss: 0.8551664352416992, accuracy 0.714\n",
      "=========================================\n",
      "epoch 106:: loss: 0.8376227617263794, accuracy 0.7174\n",
      "=========================================\n",
      "epoch 107:: loss: 0.8394327163696289, accuracy 0.7208\n",
      "=========================================\n",
      "epoch 108:: loss: 0.8285736441612244, accuracy 0.721\n",
      "=========================================\n",
      "epoch 109:: loss: 0.8311008810997009, accuracy 0.7184\n",
      "=========================================\n",
      "epoch 110:: loss: 0.8351615071296692, accuracy 0.7252\n",
      "=========================================\n",
      "epoch 111:: loss: 0.8322249054908752, accuracy 0.7178\n",
      "=========================================\n",
      "epoch 112:: loss: 0.8484953045845032, accuracy 0.7182\n",
      "=========================================\n",
      "epoch 113:: loss: 0.8302972912788391, accuracy 0.73\n",
      "=========================================\n",
      "epoch 114:: loss: 0.838685154914856, accuracy 0.728\n",
      "=========================================\n",
      "epoch 115:: loss: 0.8367680907249451, accuracy 0.724\n",
      "=========================================\n",
      "epoch 116:: loss: 0.851513683795929, accuracy 0.7298\n",
      "=========================================\n",
      "epoch 117:: loss: 0.8451328277587891, accuracy 0.7204\n",
      "=========================================\n",
      "epoch 118:: loss: 0.8355584144592285, accuracy 0.7236\n",
      "=========================================\n",
      "epoch 119:: loss: 0.8566115498542786, accuracy 0.7294\n",
      "=========================================\n",
      "epoch 120:: loss: 0.8492370843887329, accuracy 0.7244\n",
      "=========================================\n",
      "epoch 121:: loss: 0.8511645793914795, accuracy 0.7204\n",
      "=========================================\n",
      "epoch 122:: loss: 0.8480076193809509, accuracy 0.7264\n",
      "=========================================\n",
      "epoch 123:: loss: 0.8791881799697876, accuracy 0.722\n",
      "=========================================\n",
      "epoch 124:: loss: 0.8566893339157104, accuracy 0.7214\n",
      "=========================================\n",
      "epoch 125:: loss: 0.8515400290489197, accuracy 0.7278\n",
      "=========================================\n",
      "epoch 126:: loss: 0.8498987555503845, accuracy 0.7258\n",
      "=========================================\n",
      "epoch 127:: loss: 0.8451824188232422, accuracy 0.7336\n",
      "=========================================\n",
      "epoch 128:: loss: 0.8513818383216858, accuracy 0.7274\n",
      "=========================================\n",
      "epoch 129:: loss: 0.861722469329834, accuracy 0.7302\n",
      "=========================================\n",
      "epoch 130:: loss: 0.8645331263542175, accuracy 0.7294\n",
      "=========================================\n",
      "epoch 131:: loss: 0.8754465579986572, accuracy 0.7236\n",
      "=========================================\n",
      "epoch 132:: loss: 0.869547963142395, accuracy 0.7296\n",
      "=========================================\n",
      "epoch 133:: loss: 0.8511530160903931, accuracy 0.7324\n",
      "=========================================\n",
      "epoch 134:: loss: 0.8794214129447937, accuracy 0.726\n",
      "=========================================\n",
      "epoch 135:: loss: 0.8841872215270996, accuracy 0.7296\n",
      "=========================================\n",
      "epoch 136:: loss: 0.8684467077255249, accuracy 0.7302\n",
      "=========================================\n",
      "epoch 137:: loss: 0.8992581963539124, accuracy 0.7276\n",
      "=========================================\n",
      "epoch 138:: loss: 0.8875365257263184, accuracy 0.729\n",
      "=========================================\n",
      "epoch 139:: loss: 0.9206122756004333, accuracy 0.7238\n",
      "=========================================\n",
      "epoch 140:: loss: 0.8946369290351868, accuracy 0.7298\n",
      "=========================================\n",
      "epoch 141:: loss: 0.9127393364906311, accuracy 0.73\n",
      "=========================================\n",
      "epoch 142:: loss: 0.8910672068595886, accuracy 0.7286\n",
      "=========================================\n",
      "epoch 143:: loss: 0.9086917042732239, accuracy 0.7312\n",
      "=========================================\n",
      "epoch 144:: loss: 0.9428793787956238, accuracy 0.7306\n",
      "=========================================\n",
      "epoch 145:: loss: 0.9163033366203308, accuracy 0.722\n",
      "=========================================\n",
      "epoch 146:: loss: 0.9334425926208496, accuracy 0.728\n",
      "=========================================\n",
      "epoch 147:: loss: 0.9725708961486816, accuracy 0.728\n",
      "=========================================\n",
      "epoch 148:: loss: 0.9668398499488831, accuracy 0.7268\n",
      "=========================================\n",
      "epoch 149:: loss: 0.9611172676086426, accuracy 0.7302\n",
      "=========================================\n",
      "epoch 150:: loss: 1.0291779041290283, accuracy 0.727\n",
      "=========================================\n",
      "\n"
     ]
    }
   ],
   "source": [
    "# Write a training loop and compute the loss and accuracy at the end\n",
    "# -\n",
    "# Plot the losses and accuracies at the end\n",
    "n_epochs = 150\n",
    "\n",
    "loss_vs_epoch = []\n",
    "accuracy_vs_epoch = []\n",
    "\n",
    "for epoch in trange(100,n_epochs,desc='Epochs',file=sys.stdout):\n",
    "    \n",
    "#     accuracies = []\n",
    "\n",
    "    net.train()\n",
    "    \n",
    "    for i,(x,y) in enumerate(training_dataloader):\n",
    "#nn.Conv2d will take in a 4D Tensor of nSamples x nChannels x Height x Width.\n",
    "# first dim batch size will be variable -- for last batch\n",
    "        x = x.reshape(x.size()[0], 1, dim_sqrt,dim_sqrt)\n",
    "    \n",
    "        optimizer.zero_grad()\n",
    "\n",
    "        y_hat = net(x)\n",
    "        \n",
    "#         accuracies.append(accuracy(y_hat,y))\n",
    "\n",
    "        loss = loss_func(y_hat, y)\n",
    "        loss.backward()\n",
    "        optimizer.step()\n",
    "        \n",
    "#         print(f'batch {i} accuracy',accuracy(y_hat,y))\n",
    "\n",
    "         # print statistics\n",
    "#     def dataset_accuracy(tensor_dataset,targets,net,loss_func):\n",
    "    training_accuracy, training_loss = dataset_accuracy(net=net,tensor_dataset=training_tensor,targets=training_labels)\n",
    "    validation_accuracy, validation_loss = dataset_accuracy(net=net,tensor_dataset=validation_tensor,targets=validation_labels)\n",
    "\n",
    "#     loss = eval_loss(net=net)\n",
    "    \n",
    "    loss_vs_epoch.append([training_loss, validation_loss])\n",
    "    \n",
    "    accuracy_vs_epoch.append([training_accuracy, validation_accuracy])\n",
    "    \n",
    "    torch.save(net.state_dict(), f'{net_name}_epoch_{epoch}_optim_{optim_name}_lr_{lr_param}_m_{momentum_param}.pt')\n",
    "\n",
    "    print(f'epoch {epoch + 1}:: loss: {validation_loss}, accuracy {validation_accuracy}')\n",
    "\n",
    "    print('=========================================')"
   ]
  },
  {
   "cell_type": "code",
   "execution_count": 31,
   "metadata": {},
   "outputs": [],
   "source": [
    "loss_vs_epoch_23100 = np.array( [\n",
    "    [0.91845244, 0.96939093],\n",
    "       [0.91595501, 0.97078699],\n",
    "       [0.91768485, 0.97305059],\n",
    "       [0.91053623, 0.96632773],\n",
    "       [0.91815031, 0.97363806],\n",
    "       [0.92468089, 0.9772501 ],\n",
    "       [0.91560501, 0.97742265],\n",
    "       [0.88771445, 0.94989783],\n",
    "       [0.88424218, 0.95137745],\n",
    "       [0.88861799, 0.95265412],\n",
    "       [0.89143896, 0.96263176],\n",
    "       [0.89292872, 0.958637  ],\n",
    "       [0.88381189, 0.95499718],\n",
    "       [0.87913185, 0.95192665],\n",
    "       [0.87835783, 0.95177209],\n",
    "       [0.8728804 , 0.94846487],\n",
    "       [0.85448974, 0.93773311],\n",
    "       [0.86383665, 0.94479454],\n",
    "       [0.85282326, 0.93767166],\n",
    "       [0.84617597, 0.92902112],\n",
    "       [0.84876394, 0.9349882 ],\n",
    "       [0.85450828, 0.93623984],\n",
    "       [0.85519987, 0.94028115],\n",
    "       [0.82546377, 0.92108613],\n",
    "       [0.82435256, 0.9169209 ],\n",
    "       [0.82706249, 0.92730731],\n",
    "       [0.82132977, 0.91857761],\n",
    "       [0.84137589, 0.93614835],\n",
    " [0.8287178874015808, 0.9318084716796875],\n",
    " [0.8206186294555664, 0.9258884787559509],\n",
    " [0.8137378692626953, 0.9144444465637207],\n",
    " [0.802065908908844, 0.9139114022254944],\n",
    " [0.7911832332611084, 0.9052160978317261],\n",
    " [0.7887923121452332, 0.9048795104026794],\n",
    " [0.7688114047050476, 0.895696759223938],\n",
    " [0.7891855239868164, 0.9056985378265381],\n",
    " [0.7712908983230591, 0.8943132758140564],\n",
    " [0.7701846361160278, 0.8955076932907104],\n",
    " [0.7659554481506348, 0.8914696574211121],\n",
    " [0.746590256690979, 0.8873549103736877],\n",
    " [0.7518309354782104, 0.8830804824829102],\n",
    " [0.7417992353439331, 0.879616379737854],\n",
    " [0.7411722540855408, 0.8832830190658569],\n",
    " [0.740441083908081, 0.8795152306556702],\n",
    " [0.7294455766677856, 0.8733474612236023],\n",
    " [0.7216572761535645, 0.8713928461074829],\n",
    " [0.7335485816001892, 0.8806959986686707],\n",
    " [0.7194112539291382, 0.8719683885574341],\n",
    " [0.7041488885879517, 0.8686679601669312],\n",
    " [0.7059153318405151, 0.8663979768753052],\n",
    " [0.7035338282585144, 0.8724050521850586],\n",
    " [0.6950080990791321, 0.8648926615715027],\n",
    " [0.6917946934700012, 0.8665894269943237],\n",
    " [0.6815542578697205, 0.854809582233429],\n",
    " [0.6723793148994446, 0.8662772178649902],\n",
    " [0.6750086545944214, 0.8510459065437317],\n",
    " [0.6740860939025879, 0.8579502105712891],\n",
    " [0.6498379707336426, 0.8533034324645996],\n",
    " [0.6611703038215637, 0.8564943075180054],\n",
    " [0.6533138155937195, 0.8477094769477844],\n",
    " [0.6457318663597107, 0.8555894494056702],\n",
    " [0.6343187689781189, 0.8514971733093262],\n",
    " [0.6373302936553955, 0.8483785390853882],\n",
    " [0.6166907548904419, 0.8402599692344666],\n",
    " [0.6245812773704529, 0.8447299003601074],\n",
    " [0.6211479902267456, 0.8398595452308655],\n",
    " [0.5968434810638428, 0.8423959016799927],\n",
    " [0.6080858111381531, 0.8376405239105225],\n",
    " [0.6037970781326294, 0.8397626876831055],\n",
    " [0.5976433157920837, 0.8438169956207275],\n",
    " [0.5833432674407959, 0.8371396660804749],\n",
    " [0.5760360956192017, 0.8369717001914978],\n",
    " [0.5782952904701233, 0.8559460043907166],\n",
    " [0.5658383965492249, 0.8270723819732666],\n",
    " [0.5701594948768616, 0.8380494117736816],\n",
    " [0.5544699430465698, 0.8236590027809143],\n",
    " [0.5447847843170166, 0.8245084881782532],\n",
    " [0.5410997271537781, 0.8396283984184265]])"
   ]
  },
  {
   "cell_type": "code",
   "execution_count": 40,
   "metadata": {},
   "outputs": [
    {
     "data": {
      "text/plain": [
       "78"
      ]
     },
     "execution_count": 40,
     "metadata": {},
     "output_type": "execute_result"
    }
   ],
   "source": [
    "len(loss_vs_epoch_23100)"
   ]
  },
  {
   "cell_type": "code",
   "execution_count": 30,
   "metadata": {},
   "outputs": [],
   "source": [
    "accuracy_vs_epoch_23100 = np.array([[0.6896, 0.6734],\n",
    "       [0.6856, 0.6638],\n",
    "       [0.6765, 0.6658],\n",
    "       [0.6862, 0.6734],\n",
    "       [0.6799, 0.6628],\n",
    "       [0.6712, 0.6604],\n",
    "       [0.6986, 0.6748],\n",
    "       [0.69  , 0.6724],\n",
    "       [0.6938, 0.671 ],\n",
    "       [0.6958, 0.6762],\n",
    "       [0.6927, 0.6686],\n",
    "       [0.6892, 0.6734],\n",
    "       [0.7009, 0.6762],\n",
    "       [0.7001, 0.6794],\n",
    "       [0.6969, 0.6774],\n",
    "       [0.6986, 0.6742],\n",
    "       [0.7132, 0.6904],\n",
    "       [0.6988, 0.6802],\n",
    "       [0.7092, 0.681 ],\n",
    "       [0.7123, 0.689 ],\n",
    "       [0.7185, 0.6916],\n",
    "       [0.7069, 0.6812],\n",
    "       [0.6997, 0.6786],\n",
    "       [0.7205, 0.692 ],\n",
    "       [0.7226, 0.692 ],\n",
    "       [0.7163, 0.6832],\n",
    "       [0.7137, 0.687 ],\n",
    "       [0.7073, 0.6774],\n",
    "       [0.7093, 0.6778],\n",
    "       [0.7111, 0.678 ],\n",
    "       [0.7131, 0.6838],\n",
    "       [0.7289, 0.6948],\n",
    "       [0.7309, 0.6966],\n",
    "       [0.7206, 0.6918],\n",
    "       [0.7358, 0.6952],\n",
    "       [0.7244, 0.693 ],\n",
    "       [0.7348, 0.6944],\n",
    "       [0.7254, 0.6884],\n",
    "       [0.7363, 0.698 ],\n",
    "       [0.7377, 0.6972],\n",
    "       [0.7458, 0.7046],\n",
    "       [0.749 , 0.7042],\n",
    "       [0.738 , 0.6958],\n",
    "       [0.7449, 0.7   ],\n",
    "       [0.7473, 0.7064],\n",
    "       [0.7508, 0.707 ],\n",
    "       [0.7469, 0.7028],\n",
    "       [0.7531, 0.7004],\n",
    "       [0.7619, 0.7024],\n",
    "       [0.7583, 0.7072],\n",
    "       [0.748 , 0.7038],\n",
    "       [0.7619, 0.7068],\n",
    "       [0.7589, 0.7052],\n",
    "       [0.7689, 0.7056],\n",
    "       [0.7668, 0.7052],\n",
    "       [0.768 , 0.7104],\n",
    "       [0.7707, 0.7078],\n",
    "       [0.778 , 0.7154],\n",
    "       [0.777 , 0.7088],\n",
    "       [0.7753, 0.7092],\n",
    "       [0.7807, 0.7078],\n",
    "       [0.7821, 0.7096],\n",
    "       [0.7788, 0.7152],\n",
    "       [0.785 , 0.716 ],\n",
    "       [0.7851, 0.7108],\n",
    "       [0.7871, 0.7188],\n",
    "       [0.7927, 0.7168],\n",
    "       [0.7923, 0.7192],\n",
    "       [0.8023, 0.7198],\n",
    "       [0.7987, 0.7172],\n",
    "       [0.8012, 0.717 ],\n",
    "       [0.8066, 0.7176],\n",
    "       [0.7994, 0.7106],\n",
    "       [0.8094, 0.7158],\n",
    "       [0.8111, 0.7108],\n",
    "       [0.809 , 0.7162],\n",
    "       [0.8193, 0.7294],\n",
    "       [0.8156, 0.7174]])"
   ]
  },
  {
   "cell_type": "code",
   "execution_count": 37,
   "metadata": {},
   "outputs": [
    {
     "data": {
      "text/plain": [
       "78"
      ]
     },
     "execution_count": 37,
     "metadata": {},
     "output_type": "execute_result"
    }
   ],
   "source": [
    "len(accuracy_vs_epoch_23100)"
   ]
  },
  {
   "cell_type": "code",
   "execution_count": 41,
   "metadata": {},
   "outputs": [],
   "source": [
    "loss_vs_epoch_101150 = loss_vs_epoch"
   ]
  },
  {
   "cell_type": "code",
   "execution_count": 32,
   "metadata": {},
   "outputs": [],
   "source": [
    "loss_vs_epoch_101150 = [[0.5440894365310669, 0.8300602436065674],\n",
    " [0.5395376682281494, 0.8476911187171936],\n",
    " [0.5341209769248962, 0.833396852016449],\n",
    " [0.5185453295707703, 0.8272844552993774],\n",
    " [0.523647665977478, 0.8551664352416992],\n",
    " [0.5159616470336914, 0.8376227617263794],\n",
    " [0.5015222430229187, 0.8394327163696289],\n",
    " [0.49426963925361633, 0.8285736441612244],\n",
    " [0.49631890654563904, 0.8311008810997009],\n",
    " [0.48356661200523376, 0.8351615071296692],\n",
    " [0.4934307634830475, 0.8322249054908752],\n",
    " [0.48374244570732117, 0.8484953045845032],\n",
    " [0.4607326090335846, 0.8302972912788391],\n",
    " [0.4504411518573761, 0.838685154914856],\n",
    " [0.4641828238964081, 0.8367680907249451],\n",
    " [0.437578022480011, 0.851513683795929],\n",
    " [0.4329320192337036, 0.8451328277587891],\n",
    " [0.43943750858306885, 0.8355584144592285],\n",
    " [0.4246603548526764, 0.8566115498542786],\n",
    " [0.4202791452407837, 0.8492370843887329],\n",
    " [0.4330679178237915, 0.8511645793914795],\n",
    " [0.4185706079006195, 0.8480076193809509],\n",
    " [0.4040980339050293, 0.8791881799697876],\n",
    " [0.39735233783721924, 0.8566893339157104],\n",
    " [0.3979257047176361, 0.8515400290489197],\n",
    " [0.39003896713256836, 0.8498987555503845],\n",
    " [0.3791956901550293, 0.8451824188232422],\n",
    " [0.37740957736968994, 0.8513818383216858],\n",
    " [0.3724382817745209, 0.861722469329834],\n",
    " [0.3638273775577545, 0.8645331263542175],\n",
    " [0.36086806654930115, 0.8754465579986572],\n",
    " [0.34753262996673584, 0.869547963142395],\n",
    " [0.34980231523513794, 0.8511530160903931],\n",
    " [0.34738895297050476, 0.8794214129447937],\n",
    " [0.34238725900650024, 0.8841872215270996],\n",
    " [0.33397364616394043, 0.8684467077255249],\n",
    " [0.3393879234790802, 0.8992581963539124],\n",
    " [0.34080567955970764, 0.8875365257263184],\n",
    " [0.3295978307723999, 0.9206122756004333],\n",
    " [0.32138022780418396, 0.8946369290351868],\n",
    " [0.3197435140609741, 0.9127393364906311],\n",
    " [0.29950225353240967, 0.8910672068595886],\n",
    " [0.30784928798675537, 0.9086917042732239],\n",
    " [0.2962653934955597, 0.9428793787956238],\n",
    " [0.29619139432907104, 0.9163033366203308],\n",
    " [0.2777184844017029, 0.9334425926208496],\n",
    " [0.31999945640563965, 0.9725708961486816],\n",
    " [0.29517513513565063, 0.9668398499488831],\n",
    " [0.2809849977493286, 0.9611172676086426],\n",
    " [0.30801400542259216, 1.0291779041290283]]"
   ]
  },
  {
   "cell_type": "code",
   "execution_count": 43,
   "metadata": {},
   "outputs": [
    {
     "data": {
      "text/plain": [
       "50"
      ]
     },
     "execution_count": 43,
     "metadata": {},
     "output_type": "execute_result"
    }
   ],
   "source": [
    "len(loss_vs_epoch_101150)"
   ]
  },
  {
   "cell_type": "code",
   "execution_count": 45,
   "metadata": {},
   "outputs": [],
   "source": [
    "accuracy_vs_epoch_101150 = accuracy_vs_epoch"
   ]
  },
  {
   "cell_type": "code",
   "execution_count": 33,
   "metadata": {},
   "outputs": [],
   "source": [
    "accuracy_vs_epoch_101150 = [[0.8156, 0.7138],\n",
    " [0.8181, 0.7168],\n",
    " [0.8245, 0.7236],\n",
    " [0.8305, 0.7268],\n",
    " [0.8195, 0.714],\n",
    " [0.8339, 0.7174],\n",
    " [0.8389, 0.7208],\n",
    " [0.8407, 0.721],\n",
    " [0.8402, 0.7184],\n",
    " [0.837, 0.7252],\n",
    " [0.841, 0.7178],\n",
    " [0.8432, 0.7182],\n",
    " [0.8536, 0.73],\n",
    " [0.8561, 0.728],\n",
    " [0.8479, 0.724],\n",
    " [0.8543, 0.7298],\n",
    " [0.8596, 0.7204],\n",
    " [0.8521, 0.7236],\n",
    " [0.8634, 0.7294],\n",
    " [0.8638, 0.7244],\n",
    " [0.855, 0.7204],\n",
    " [0.8635, 0.7264],\n",
    " [0.8643, 0.722],\n",
    " [0.8744, 0.7214],\n",
    " [0.8688, 0.7278],\n",
    " [0.8803, 0.7258],\n",
    " [0.8792, 0.7336],\n",
    " [0.8875, 0.7274],\n",
    " [0.8837, 0.7302],\n",
    " [0.8807, 0.7294],\n",
    " [0.8845, 0.7236],\n",
    " [0.8967, 0.7296],\n",
    " [0.896, 0.7324],\n",
    " [0.8888, 0.726],\n",
    " [0.8865, 0.7296],\n",
    " [0.8956, 0.7302],\n",
    " [0.8899, 0.7276],\n",
    " [0.8927, 0.729],\n",
    " [0.8946, 0.7238],\n",
    " [0.8996, 0.7298],\n",
    " [0.8955, 0.73],\n",
    " [0.9093, 0.7286],\n",
    " [0.9015, 0.7312],\n",
    " [0.9048, 0.7306],\n",
    " [0.9089, 0.722],\n",
    " [0.9151, 0.728],\n",
    " [0.892, 0.728],\n",
    " [0.9046, 0.7268],\n",
    " [0.9114, 0.7302],\n",
    " [0.8947, 0.727]]"
   ]
  },
  {
   "cell_type": "code",
   "execution_count": 48,
   "metadata": {},
   "outputs": [
    {
     "data": {
      "text/plain": [
       "50"
      ]
     },
     "execution_count": 48,
     "metadata": {},
     "output_type": "execute_result"
    }
   ],
   "source": [
    "len(accuracy_vs_epoch_101150)"
   ]
  },
  {
   "cell_type": "code",
   "execution_count": 18,
   "metadata": {},
   "outputs": [],
   "source": [
    "loss_vs_epoch_1523 = []\n",
    "accuracy_vs_epoch_1523 = []"
   ]
  },
  {
   "cell_type": "code",
   "execution_count": 21,
   "metadata": {},
   "outputs": [
    {
     "name": "stdout",
     "output_type": "stream",
     "text": [
      "epoch,15\n",
      "[training_loss, validation_loss]: [0.9772083759307861, 1.013719081878662]\n",
      "[training_accuracy, validation_accuracy]: [0.6639, 0.6538]\n",
      "epoch,16\n",
      "[training_loss, validation_loss]: [0.9497109651565552, 0.9893061518669128]\n",
      "[training_accuracy, validation_accuracy]: [0.6794, 0.6688]\n",
      "epoch,17\n",
      "[training_loss, validation_loss]: [0.9500728249549866, 0.9890101552009583]\n",
      "[training_accuracy, validation_accuracy]: [0.6678, 0.6608]\n",
      "epoch,18\n",
      "[training_loss, validation_loss]: [0.9293896555900574, 0.9758225679397583]\n",
      "[training_accuracy, validation_accuracy]: [0.691, 0.6742]\n",
      "epoch,19\n",
      "[training_loss, validation_loss]: [0.9307615160942078, 0.9796611070632935]\n",
      "[training_accuracy, validation_accuracy]: [0.6924, 0.6776]\n",
      "epoch,20\n",
      "[training_loss, validation_loss]: [0.9480104446411133, 0.9960765838623047]\n",
      "[training_accuracy, validation_accuracy]: [0.6842, 0.67]\n",
      "epoch,21\n",
      "[training_loss, validation_loss]: [0.9326847791671753, 0.9836381077766418]\n",
      "[training_accuracy, validation_accuracy]: [0.6886, 0.6724]\n",
      "epoch,22\n",
      "[training_loss, validation_loss]: [0.8245646357536316, 0.9324848651885986]\n",
      "[training_accuracy, validation_accuracy]: [0.7174, 0.691]\n"
     ]
    }
   ],
   "source": [
    "for epoch in range(15,23):\n",
    "    net = MnistConvNet()\n",
    "    net.load_state_dict(torch.load(f'MnistConvNet_epoch_{epoch}_optim_SGD_lr_0.001_m_0.9.pt'))\n",
    "    \n",
    "    training_accuracy, training_loss = dataset_accuracy(net=net,tensor_dataset=training_tensor,targets=training_labels)\n",
    "    \n",
    "    validation_accuracy, validation_loss = dataset_accuracy(net=net,tensor_dataset=validation_tensor,targets=validation_labels)\n",
    "\n",
    "    loss_vs_epoch_1523.append([training_loss, validation_loss])\n",
    "\n",
    "    accuracy_vs_epoch_1523.append([training_accuracy, validation_accuracy])\n",
    "    \n",
    "    print(f'epoch,{epoch}')\n",
    "    print (f'[training_loss, validation_loss]: {[training_loss, validation_loss]}')\n",
    "    print(f'[training_accuracy, validation_accuracy]: {[training_accuracy, validation_accuracy]}')"
   ]
  },
  {
   "cell_type": "code",
   "execution_count": 28,
   "metadata": {},
   "outputs": [
    {
     "data": {
      "text/plain": [
       "[[0.9772083759307861, 1.013719081878662],\n",
       " [0.9497109651565552, 0.9893061518669128],\n",
       " [0.9500728249549866, 0.9890101552009583],\n",
       " [0.9293896555900574, 0.9758225679397583],\n",
       " [0.9307615160942078, 0.9796611070632935],\n",
       " [0.9480104446411133, 0.9960765838623047],\n",
       " [0.9326847791671753, 0.9836381077766418],\n",
       " [0.8245646357536316, 0.9324848651885986]]"
      ]
     },
     "execution_count": 28,
     "metadata": {},
     "output_type": "execute_result"
    }
   ],
   "source": [
    "loss_vs_epoch_1523"
   ]
  },
  {
   "cell_type": "code",
   "execution_count": 29,
   "metadata": {},
   "outputs": [
    {
     "data": {
      "text/plain": [
       "[[0.6639, 0.6538],\n",
       " [0.6794, 0.6688],\n",
       " [0.6678, 0.6608],\n",
       " [0.691, 0.6742],\n",
       " [0.6924, 0.6776],\n",
       " [0.6842, 0.67],\n",
       " [0.6886, 0.6724],\n",
       " [0.7174, 0.691]]"
      ]
     },
     "execution_count": 29,
     "metadata": {},
     "output_type": "execute_result"
    }
   ],
   "source": [
    "accuracy_vs_epoch_1523"
   ]
  },
  {
   "cell_type": "code",
   "execution_count": 51,
   "metadata": {},
   "outputs": [
    {
     "data": {
      "text/plain": [
       "2"
      ]
     },
     "execution_count": 51,
     "metadata": {},
     "output_type": "execute_result"
    }
   ],
   "source": [
    "epoch"
   ]
  },
  {
   "cell_type": "code",
   "execution_count": 52,
   "metadata": {},
   "outputs": [
    {
     "data": {
      "text/plain": [
       "[[1.5073142051696777, 1.5092408657073975],\n",
       " [1.395664930343628, 1.3985728025436401]]"
      ]
     },
     "execution_count": 52,
     "metadata": {},
     "output_type": "execute_result"
    }
   ],
   "source": [
    "#epochs 0,1\n",
    "loss_vs_epoch_pre23"
   ]
  },
  {
   "cell_type": "code",
   "execution_count": 53,
   "metadata": {},
   "outputs": [
    {
     "data": {
      "text/plain": [
       "[[0.3922, 0.388], [0.4471, 0.45]]"
      ]
     },
     "execution_count": 53,
     "metadata": {},
     "output_type": "execute_result"
    }
   ],
   "source": [
    "#epochs 1,2\n",
    "accuracy_vs_epoch_pre23"
   ]
  },
  {
   "cell_type": "code",
   "execution_count": 26,
   "metadata": {},
   "outputs": [],
   "source": [
    "loss_vs_epoch_115 = [[1.5073142051696777, 1.5092408657073975],\n",
    "                     [1.395664930343628, 1.3985728025436401],\n",
    "                     [1.3381761312484741, 1.3384839296340942],\n",
    "                     [1.2999829053878784, 1.307402491569519],\n",
    "                     [1.2520995140075684, 1.261271357536316],\n",
    "                     [1.1760350465774536, 1.1934148073196411],\n",
    "                     [1.1363905668258667, 1.1508642435073853],\n",
    "                     [1.0985329151153564, 1.118799090385437],\n",
    "                     [1.0855333805084229, 1.1031644344329834],\n",
    "                     [1.0681096315383911, 1.0904781818389893],\n",
    "                     [1.0244851112365723, 1.0533287525177002],\n",
    "                     [1.0074554681777954, 1.0349793434143066],\n",
    "                     [0.9818346500396729, 1.0184372663497925],\n",
    "                     [1.0001553297042847, 1.0354666709899902],\n",
    "                     [0.9689267873764038, 1.0050630569458008]]"
   ]
  },
  {
   "cell_type": "code",
   "execution_count": 27,
   "metadata": {},
   "outputs": [],
   "source": [
    "accuracy_vs_epoch_115 = [[0.3922, 0.388], \n",
    "                         [0.4471, 0.45],\n",
    "                         [0.4416, 0.453],\n",
    "                         [0.4888, 0.4946],\n",
    "                         [0.4922, 0.5028],\n",
    "                         [0.5686, 0.566],\n",
    "                         [0.5848, 0.587],\n",
    "                         [0.6014, 0.6016],\n",
    "                         [0.6146, 0.612],\n",
    "                         [0.6197, 0.6194],\n",
    "                         [0.6577, 0.6472],\n",
    "                         [0.6496, 0.6468],\n",
    "                         [0.6677, 0.6592],\n",
    "                         [0.6455, 0.6324],\n",
    "                         [0.6536, 0.6456]]"
   ]
  },
  {
   "cell_type": "code",
   "execution_count": 36,
   "metadata": {},
   "outputs": [],
   "source": [
    "loss_vs_epoch = np.concatenate((loss_vs_epoch_115,loss_vs_epoch_1523,loss_vs_epoch_23100,loss_vs_epoch_101150))"
   ]
  },
  {
   "cell_type": "code",
   "execution_count": 38,
   "metadata": {},
   "outputs": [],
   "source": [
    "accuracy_vs_epoch = np.concatenate((accuracy_vs_epoch_115,accuracy_vs_epoch_1523,accuracy_vs_epoch_23100,accuracy_vs_epoch_101150))"
   ]
  },
  {
   "cell_type": "code",
   "execution_count": 40,
   "metadata": {},
   "outputs": [],
   "source": [
    "import matplotlib.pyplot as plt"
   ]
  },
  {
   "cell_type": "code",
   "execution_count": 41,
   "metadata": {},
   "outputs": [
    {
     "data": {
      "text/plain": [
       "<matplotlib.legend.Legend at 0x13a5ae810>"
      ]
     },
     "execution_count": 41,
     "metadata": {},
     "output_type": "execute_result"
    },
    {
     "data": {
      "image/png": "[encoded data removed]",
      "text/plain": [
       "<Figure size 432x288 with 1 Axes>"
      ]
     },
     "metadata": {
      "needs_background": "light"
     },
     "output_type": "display_data"
    }
   ],
   "source": [
    "loss_vs_epoch = np.array(loss_vs_epoch)\n",
    "plt.title('Loss ~ Epoch')\n",
    "plt.plot(loss_vs_epoch[:,0][1:],label='training loss')\n",
    "plt.plot(loss_vs_epoch[:,1][1:],label='validation loss')\n",
    "\n",
    "plt.legend()"
   ]
  },
  {
   "cell_type": "code",
   "execution_count": 42,
   "metadata": {},
   "outputs": [
    {
     "data": {
      "text/plain": [
       "<matplotlib.legend.Legend at 0x13de07410>"
      ]
     },
     "execution_count": 42,
     "metadata": {},
     "output_type": "execute_result"
    },
    {
     "data": {
      "image/png": "[encoded data removed]",
      "text/plain": [
       "<Figure size 432x288 with 1 Axes>"
      ]
     },
     "metadata": {
      "needs_background": "light"
     },
     "output_type": "display_data"
    }
   ],
   "source": [
    "accuracy_vs_epoch = np.array(accuracy_vs_epoch)\n",
    "\n",
    "plt.title('Accuracy ~ Epoch')\n",
    "plt.plot(accuracy_vs_epoch[:,0][1:],label='training accuracy')\n",
    "plt.plot(accuracy_vs_epoch[:,1][1:],label='validation accuracy')\n",
    "\n",
    "plt.legend()"
   ]
  },
  {
   "cell_type": "code",
   "execution_count": 26,
   "metadata": {},
   "outputs": [],
   "source": [
    "a = [1,2,3]"
   ]
  },
  {
   "cell_type": "code",
   "execution_count": 35,
   "metadata": {},
   "outputs": [
    {
     "data": {
      "text/plain": [
       "array([[0.91845244, 0.96939093],\n",
       "       [0.91595501, 0.97078699],\n",
       "       [0.91768485, 0.97305059],\n",
       "       [0.91053623, 0.96632773],\n",
       "       [0.91815031, 0.97363806],\n",
       "       [0.92468089, 0.9772501 ],\n",
       "       [0.91560501, 0.97742265],\n",
       "       [0.88771445, 0.94989783],\n",
       "       [0.88424218, 0.95137745],\n",
       "       [0.88861799, 0.95265412],\n",
       "       [0.89143896, 0.96263176],\n",
       "       [0.89292872, 0.958637  ],\n",
       "       [0.88381189, 0.95499718],\n",
       "       [0.87913185, 0.95192665],\n",
       "       [0.87835783, 0.95177209],\n",
       "       [0.8728804 , 0.94846487],\n",
       "       [0.85448974, 0.93773311],\n",
       "       [0.86383665, 0.94479454],\n",
       "       [0.85282326, 0.93767166],\n",
       "       [0.84617597, 0.92902112],\n",
       "       [0.84876394, 0.9349882 ],\n",
       "       [0.85450828, 0.93623984],\n",
       "       [0.85519987, 0.94028115],\n",
       "       [0.82546377, 0.92108613],\n",
       "       [0.82435256, 0.9169209 ],\n",
       "       [0.82706249, 0.92730731],\n",
       "       [0.82132977, 0.91857761],\n",
       "       [0.84137589, 0.93614835]])"
      ]
     },
     "execution_count": 35,
     "metadata": {},
     "output_type": "execute_result"
    }
   ],
   "source": [
    "loss_vs_epoch_pre50"
   ]
  },
  {
   "cell_type": "markdown",
   "metadata": {},
   "source": [
    "pre50 arrays copied from earlier commit epochs 23-50"
   ]
  },
  {
   "cell_type": "code",
   "execution_count": 37,
   "metadata": {},
   "outputs": [],
   "source": [
    "loss_vs_epoch = np.concatenate((loss_vs_epoch_pre50,loss_vs_epoch))"
   ]
  },
  {
   "cell_type": "code",
   "execution_count": 42,
   "metadata": {},
   "outputs": [],
   "source": [
    "accuracy_vs_epoch =np.concatenate((accuracy_vs_epoch_pre50,accuracy_vs_epoch))"
   ]
  },
  {
   "cell_type": "code",
   "execution_count": 33,
   "metadata": {},
   "outputs": [
    {
     "data": {
      "text/plain": [
       "[[0.8287178874015808, 0.9318084716796875],\n",
       " [0.8206186294555664, 0.9258884787559509],\n",
       " [0.8137378692626953, 0.9144444465637207],\n",
       " [0.802065908908844, 0.9139114022254944],\n",
       " [0.7911832332611084, 0.9052160978317261],\n",
       " [0.7887923121452332, 0.9048795104026794],\n",
       " [0.7688114047050476, 0.895696759223938],\n",
       " [0.7891855239868164, 0.9056985378265381],\n",
       " [0.7712908983230591, 0.8943132758140564],\n",
       " [0.7701846361160278, 0.8955076932907104],\n",
       " [0.7659554481506348, 0.8914696574211121],\n",
       " [0.746590256690979, 0.8873549103736877],\n",
       " [0.7518309354782104, 0.8830804824829102],\n",
       " [0.7417992353439331, 0.879616379737854],\n",
       " [0.7411722540855408, 0.8832830190658569],\n",
       " [0.740441083908081, 0.8795152306556702],\n",
       " [0.7294455766677856, 0.8733474612236023],\n",
       " [0.7216572761535645, 0.8713928461074829],\n",
       " [0.7335485816001892, 0.8806959986686707],\n",
       " [0.7194112539291382, 0.8719683885574341],\n",
       " [0.7041488885879517, 0.8686679601669312],\n",
       " [0.7059153318405151, 0.8663979768753052],\n",
       " [0.7035338282585144, 0.8724050521850586],\n",
       " [0.6950080990791321, 0.8648926615715027],\n",
       " [0.6917946934700012, 0.8665894269943237],\n",
       " [0.6815542578697205, 0.854809582233429],\n",
       " [0.6723793148994446, 0.8662772178649902],\n",
       " [0.6750086545944214, 0.8510459065437317],\n",
       " [0.6740860939025879, 0.8579502105712891],\n",
       " [0.6498379707336426, 0.8533034324645996],\n",
       " [0.6611703038215637, 0.8564943075180054],\n",
       " [0.6533138155937195, 0.8477094769477844],\n",
       " [0.6457318663597107, 0.8555894494056702],\n",
       " [0.6343187689781189, 0.8514971733093262],\n",
       " [0.6373302936553955, 0.8483785390853882],\n",
       " [0.6166907548904419, 0.8402599692344666],\n",
       " [0.6245812773704529, 0.8447299003601074],\n",
       " [0.6211479902267456, 0.8398595452308655],\n",
       " [0.5968434810638428, 0.8423959016799927],\n",
       " [0.6080858111381531, 0.8376405239105225],\n",
       " [0.6037970781326294, 0.8397626876831055],\n",
       " [0.5976433157920837, 0.8438169956207275],\n",
       " [0.5833432674407959, 0.8371396660804749],\n",
       " [0.5760360956192017, 0.8369717001914978],\n",
       " [0.5782952904701233, 0.8559460043907166],\n",
       " [0.5658383965492249, 0.8270723819732666],\n",
       " [0.5701594948768616, 0.8380494117736816],\n",
       " [0.5544699430465698, 0.8236590027809143],\n",
       " [0.5447847843170166, 0.8245084881782532],\n",
       " [0.5410997271537781, 0.8396283984184265]]"
      ]
     },
     "execution_count": 33,
     "metadata": {},
     "output_type": "execute_result"
    }
   ],
   "source": [
    "loss_vs_epoch"
   ]
  },
  {
   "cell_type": "code",
   "execution_count": 43,
   "metadata": {},
   "outputs": [
    {
     "data": {
      "text/plain": [
       "array([[0.6896, 0.6734],\n",
       "       [0.6856, 0.6638],\n",
       "       [0.6765, 0.6658],\n",
       "       [0.6862, 0.6734],\n",
       "       [0.6799, 0.6628],\n",
       "       [0.6712, 0.6604],\n",
       "       [0.6986, 0.6748],\n",
       "       [0.69  , 0.6724],\n",
       "       [0.6938, 0.671 ],\n",
       "       [0.6958, 0.6762],\n",
       "       [0.6927, 0.6686],\n",
       "       [0.6892, 0.6734],\n",
       "       [0.7009, 0.6762],\n",
       "       [0.7001, 0.6794],\n",
       "       [0.6969, 0.6774],\n",
       "       [0.6986, 0.6742],\n",
       "       [0.7132, 0.6904],\n",
       "       [0.6988, 0.6802],\n",
       "       [0.7092, 0.681 ],\n",
       "       [0.7123, 0.689 ],\n",
       "       [0.7185, 0.6916],\n",
       "       [0.7069, 0.6812],\n",
       "       [0.6997, 0.6786],\n",
       "       [0.7205, 0.692 ],\n",
       "       [0.7226, 0.692 ],\n",
       "       [0.7163, 0.6832],\n",
       "       [0.7137, 0.687 ],\n",
       "       [0.7073, 0.6774],\n",
       "       [0.7093, 0.6778],\n",
       "       [0.7111, 0.678 ],\n",
       "       [0.7131, 0.6838],\n",
       "       [0.7289, 0.6948],\n",
       "       [0.7309, 0.6966],\n",
       "       [0.7206, 0.6918],\n",
       "       [0.7358, 0.6952],\n",
       "       [0.7244, 0.693 ],\n",
       "       [0.7348, 0.6944],\n",
       "       [0.7254, 0.6884],\n",
       "       [0.7363, 0.698 ],\n",
       "       [0.7377, 0.6972],\n",
       "       [0.7458, 0.7046],\n",
       "       [0.749 , 0.7042],\n",
       "       [0.738 , 0.6958],\n",
       "       [0.7449, 0.7   ],\n",
       "       [0.7473, 0.7064],\n",
       "       [0.7508, 0.707 ],\n",
       "       [0.7469, 0.7028],\n",
       "       [0.7531, 0.7004],\n",
       "       [0.7619, 0.7024],\n",
       "       [0.7583, 0.7072],\n",
       "       [0.748 , 0.7038],\n",
       "       [0.7619, 0.7068],\n",
       "       [0.7589, 0.7052],\n",
       "       [0.7689, 0.7056],\n",
       "       [0.7668, 0.7052],\n",
       "       [0.768 , 0.7104],\n",
       "       [0.7707, 0.7078],\n",
       "       [0.778 , 0.7154],\n",
       "       [0.777 , 0.7088],\n",
       "       [0.7753, 0.7092],\n",
       "       [0.7807, 0.7078],\n",
       "       [0.7821, 0.7096],\n",
       "       [0.7788, 0.7152],\n",
       "       [0.785 , 0.716 ],\n",
       "       [0.7851, 0.7108],\n",
       "       [0.7871, 0.7188],\n",
       "       [0.7927, 0.7168],\n",
       "       [0.7923, 0.7192],\n",
       "       [0.8023, 0.7198],\n",
       "       [0.7987, 0.7172],\n",
       "       [0.8012, 0.717 ],\n",
       "       [0.8066, 0.7176],\n",
       "       [0.7994, 0.7106],\n",
       "       [0.8094, 0.7158],\n",
       "       [0.8111, 0.7108],\n",
       "       [0.809 , 0.7162],\n",
       "       [0.8193, 0.7294],\n",
       "       [0.8156, 0.7174]])"
      ]
     },
     "execution_count": 43,
     "metadata": {},
     "output_type": "execute_result"
    }
   ],
   "source": [
    "accuracy_vs_epoch"
   ]
  },
  {
   "cell_type": "code",
   "execution_count": null,
   "metadata": {},
   "outputs": [],
   "source": []
  },
  {
   "cell_type": "markdown",
   "metadata": {},
   "source": [
    "## save your model"
   ]
  },
  {
   "cell_type": "code",
   "execution_count": 43,
   "metadata": {},
   "outputs": [],
   "source": [
    "torch.save(net.state_dict(), 'model.pt')"
   ]
  },
  {
   "cell_type": "markdown",
   "metadata": {},
   "source": [
    "## Bonus round: data augmentation\n",
    "\n",
    "implement this random rotation into your dataset object - but add an optional input argument to your dataset __init__ so that you can turn this on/off (only use data augmentation for the training dataset)"
   ]
  },
  {
   "cell_type": "code",
   "execution_count": 72,
   "metadata": {},
   "outputs": [
    {
     "data": {
      "image/png": "[encoded data removed]",
      "text/plain": [
       "<PIL.PngImagePlugin.PngImageFile image mode=L size=69x69 at 0x141119E10>"
      ]
     },
     "execution_count": 72,
     "metadata": {},
     "output_type": "execute_result"
    }
   ],
   "source": [
    "Image.open(filelist[1242])"
   ]
  },
  {
   "cell_type": "code",
   "execution_count": 73,
   "metadata": {},
   "outputs": [
    {
     "data": {
      "image/png": "[encoded data removed]",
      "text/plain": [
       "<PIL.Image.Image image mode=L size=69x69 at 0x141124160>"
      ]
     },
     "execution_count": 73,
     "metadata": {},
     "output_type": "execute_result"
    }
   ],
   "source": [
    "transforms.RandomRotation(180)( Image.open(filelist[1242]) )"
   ]
  },
  {
   "cell_type": "code",
   "execution_count": 43,
   "metadata": {},
   "outputs": [
    {
     "data": {
      "text/plain": [
       "array([[1.50731421, 1.50924087],\n",
       "       [1.39566493, 1.3985728 ],\n",
       "       [1.33817613, 1.33848393],\n",
       "       [1.29998291, 1.30740249],\n",
       "       [1.25209951, 1.26127136],\n",
       "       [1.17603505, 1.19341481],\n",
       "       [1.13639057, 1.15086424],\n",
       "       [1.09853292, 1.11879909],\n",
       "       [1.08553338, 1.10316443],\n",
       "       [1.06810963, 1.09047818],\n",
       "       [1.02448511, 1.05332875],\n",
       "       [1.00745547, 1.03497934],\n",
       "       [0.98183465, 1.01843727],\n",
       "       [1.00015533, 1.03546667],\n",
       "       [0.96892679, 1.00506306],\n",
       "       [0.97720838, 1.01371908],\n",
       "       [0.94971097, 0.98930615],\n",
       "       [0.95007282, 0.98901016],\n",
       "       [0.92938966, 0.97582257],\n",
       "       [0.93076152, 0.97966111],\n",
       "       [0.94801044, 0.99607658],\n",
       "       [0.93268478, 0.98363811],\n",
       "       [0.82456464, 0.93248487],\n",
       "       [0.91845244, 0.96939093],\n",
       "       [0.91595501, 0.97078699],\n",
       "       [0.91768485, 0.97305059],\n",
       "       [0.91053623, 0.96632773],\n",
       "       [0.91815031, 0.97363806],\n",
       "       [0.92468089, 0.9772501 ],\n",
       "       [0.91560501, 0.97742265],\n",
       "       [0.88771445, 0.94989783],\n",
       "       [0.88424218, 0.95137745],\n",
       "       [0.88861799, 0.95265412],\n",
       "       [0.89143896, 0.96263176],\n",
       "       [0.89292872, 0.958637  ],\n",
       "       [0.88381189, 0.95499718],\n",
       "       [0.87913185, 0.95192665],\n",
       "       [0.87835783, 0.95177209],\n",
       "       [0.8728804 , 0.94846487],\n",
       "       [0.85448974, 0.93773311],\n",
       "       [0.86383665, 0.94479454],\n",
       "       [0.85282326, 0.93767166],\n",
       "       [0.84617597, 0.92902112],\n",
       "       [0.84876394, 0.9349882 ],\n",
       "       [0.85450828, 0.93623984],\n",
       "       [0.85519987, 0.94028115],\n",
       "       [0.82546377, 0.92108613],\n",
       "       [0.82435256, 0.9169209 ],\n",
       "       [0.82706249, 0.92730731],\n",
       "       [0.82132977, 0.91857761],\n",
       "       [0.84137589, 0.93614835],\n",
       "       [0.82871789, 0.93180847],\n",
       "       [0.82061863, 0.92588848],\n",
       "       [0.81373787, 0.91444445],\n",
       "       [0.80206591, 0.9139114 ],\n",
       "       [0.79118323, 0.9052161 ],\n",
       "       [0.78879231, 0.90487951],\n",
       "       [0.7688114 , 0.89569676],\n",
       "       [0.78918552, 0.90569854],\n",
       "       [0.7712909 , 0.89431328],\n",
       "       [0.77018464, 0.89550769],\n",
       "       [0.76595545, 0.89146966],\n",
       "       [0.74659026, 0.88735491],\n",
       "       [0.75183094, 0.88308048],\n",
       "       [0.74179924, 0.87961638],\n",
       "       [0.74117225, 0.88328302],\n",
       "       [0.74044108, 0.87951523],\n",
       "       [0.72944558, 0.87334746],\n",
       "       [0.72165728, 0.87139285],\n",
       "       [0.73354858, 0.880696  ],\n",
       "       [0.71941125, 0.87196839],\n",
       "       [0.70414889, 0.86866796],\n",
       "       [0.70591533, 0.86639798],\n",
       "       [0.70353383, 0.87240505],\n",
       "       [0.6950081 , 0.86489266],\n",
       "       [0.69179469, 0.86658943],\n",
       "       [0.68155426, 0.85480958],\n",
       "       [0.67237931, 0.86627722],\n",
       "       [0.67500865, 0.85104591],\n",
       "       [0.67408609, 0.85795021],\n",
       "       [0.64983797, 0.85330343],\n",
       "       [0.6611703 , 0.85649431],\n",
       "       [0.65331382, 0.84770948],\n",
       "       [0.64573187, 0.85558945],\n",
       "       [0.63431877, 0.85149717],\n",
       "       [0.63733029, 0.84837854],\n",
       "       [0.61669075, 0.84025997],\n",
       "       [0.62458128, 0.8447299 ],\n",
       "       [0.62114799, 0.83985955],\n",
       "       [0.59684348, 0.8423959 ],\n",
       "       [0.60808581, 0.83764052],\n",
       "       [0.60379708, 0.83976269],\n",
       "       [0.59764332, 0.843817  ],\n",
       "       [0.58334327, 0.83713967],\n",
       "       [0.5760361 , 0.8369717 ],\n",
       "       [0.57829529, 0.855946  ],\n",
       "       [0.5658384 , 0.82707238],\n",
       "       [0.57015949, 0.83804941],\n",
       "       [0.55446994, 0.823659  ],\n",
       "       [0.54478478, 0.82450849],\n",
       "       [0.54109973, 0.8396284 ],\n",
       "       [0.54408944, 0.83006024],\n",
       "       [0.53953767, 0.84769112],\n",
       "       [0.53412098, 0.83339685],\n",
       "       [0.51854533, 0.82728446],\n",
       "       [0.52364767, 0.85516644],\n",
       "       [0.51596165, 0.83762276],\n",
       "       [0.50152224, 0.83943272],\n",
       "       [0.49426964, 0.82857364],\n",
       "       [0.49631891, 0.83110088],\n",
       "       [0.48356661, 0.83516151],\n",
       "       [0.49343076, 0.83222491],\n",
       "       [0.48374245, 0.8484953 ],\n",
       "       [0.46073261, 0.83029729],\n",
       "       [0.45044115, 0.83868515],\n",
       "       [0.46418282, 0.83676809],\n",
       "       [0.43757802, 0.85151368],\n",
       "       [0.43293202, 0.84513283],\n",
       "       [0.43943751, 0.83555841],\n",
       "       [0.42466035, 0.85661155],\n",
       "       [0.42027915, 0.84923708],\n",
       "       [0.43306792, 0.85116458],\n",
       "       [0.41857061, 0.84800762],\n",
       "       [0.40409803, 0.87918818],\n",
       "       [0.39735234, 0.85668933],\n",
       "       [0.3979257 , 0.85154003],\n",
       "       [0.39003897, 0.84989876],\n",
       "       [0.37919569, 0.84518242],\n",
       "       [0.37740958, 0.85138184],\n",
       "       [0.37243828, 0.86172247],\n",
       "       [0.36382738, 0.86453313],\n",
       "       [0.36086807, 0.87544656],\n",
       "       [0.34753263, 0.86954796],\n",
       "       [0.34980232, 0.85115302],\n",
       "       [0.34738895, 0.87942141],\n",
       "       [0.34238726, 0.88418722],\n",
       "       [0.33397365, 0.86844671],\n",
       "       [0.33938792, 0.8992582 ],\n",
       "       [0.34080568, 0.88753653],\n",
       "       [0.32959783, 0.92061228],\n",
       "       [0.32138023, 0.89463693],\n",
       "       [0.31974351, 0.91273934],\n",
       "       [0.29950225, 0.89106721],\n",
       "       [0.30784929, 0.9086917 ],\n",
       "       [0.29626539, 0.94287938],\n",
       "       [0.29619139, 0.91630334],\n",
       "       [0.27771848, 0.93344259],\n",
       "       [0.31999946, 0.9725709 ],\n",
       "       [0.29517514, 0.96683985],\n",
       "       [0.280985  , 0.96111727],\n",
       "       [0.30801401, 1.0291779 ]])"
      ]
     },
     "execution_count": 43,
     "metadata": {},
     "output_type": "execute_result"
    }
   ],
   "source": [
    "loss_vs_epoch"
   ]
  },
  {
   "cell_type": "code",
   "execution_count": 44,
   "metadata": {},
   "outputs": [
    {
     "data": {
      "text/plain": [
       "array([[0.3922, 0.388 ],\n",
       "       [0.4471, 0.45  ],\n",
       "       [0.4416, 0.453 ],\n",
       "       [0.4888, 0.4946],\n",
       "       [0.4922, 0.5028],\n",
       "       [0.5686, 0.566 ],\n",
       "       [0.5848, 0.587 ],\n",
       "       [0.6014, 0.6016],\n",
       "       [0.6146, 0.612 ],\n",
       "       [0.6197, 0.6194],\n",
       "       [0.6577, 0.6472],\n",
       "       [0.6496, 0.6468],\n",
       "       [0.6677, 0.6592],\n",
       "       [0.6455, 0.6324],\n",
       "       [0.6536, 0.6456],\n",
       "       [0.6639, 0.6538],\n",
       "       [0.6794, 0.6688],\n",
       "       [0.6678, 0.6608],\n",
       "       [0.691 , 0.6742],\n",
       "       [0.6924, 0.6776],\n",
       "       [0.6842, 0.67  ],\n",
       "       [0.6886, 0.6724],\n",
       "       [0.7174, 0.691 ],\n",
       "       [0.6896, 0.6734],\n",
       "       [0.6856, 0.6638],\n",
       "       [0.6765, 0.6658],\n",
       "       [0.6862, 0.6734],\n",
       "       [0.6799, 0.6628],\n",
       "       [0.6712, 0.6604],\n",
       "       [0.6986, 0.6748],\n",
       "       [0.69  , 0.6724],\n",
       "       [0.6938, 0.671 ],\n",
       "       [0.6958, 0.6762],\n",
       "       [0.6927, 0.6686],\n",
       "       [0.6892, 0.6734],\n",
       "       [0.7009, 0.6762],\n",
       "       [0.7001, 0.6794],\n",
       "       [0.6969, 0.6774],\n",
       "       [0.6986, 0.6742],\n",
       "       [0.7132, 0.6904],\n",
       "       [0.6988, 0.6802],\n",
       "       [0.7092, 0.681 ],\n",
       "       [0.7123, 0.689 ],\n",
       "       [0.7185, 0.6916],\n",
       "       [0.7069, 0.6812],\n",
       "       [0.6997, 0.6786],\n",
       "       [0.7205, 0.692 ],\n",
       "       [0.7226, 0.692 ],\n",
       "       [0.7163, 0.6832],\n",
       "       [0.7137, 0.687 ],\n",
       "       [0.7073, 0.6774],\n",
       "       [0.7093, 0.6778],\n",
       "       [0.7111, 0.678 ],\n",
       "       [0.7131, 0.6838],\n",
       "       [0.7289, 0.6948],\n",
       "       [0.7309, 0.6966],\n",
       "       [0.7206, 0.6918],\n",
       "       [0.7358, 0.6952],\n",
       "       [0.7244, 0.693 ],\n",
       "       [0.7348, 0.6944],\n",
       "       [0.7254, 0.6884],\n",
       "       [0.7363, 0.698 ],\n",
       "       [0.7377, 0.6972],\n",
       "       [0.7458, 0.7046],\n",
       "       [0.749 , 0.7042],\n",
       "       [0.738 , 0.6958],\n",
       "       [0.7449, 0.7   ],\n",
       "       [0.7473, 0.7064],\n",
       "       [0.7508, 0.707 ],\n",
       "       [0.7469, 0.7028],\n",
       "       [0.7531, 0.7004],\n",
       "       [0.7619, 0.7024],\n",
       "       [0.7583, 0.7072],\n",
       "       [0.748 , 0.7038],\n",
       "       [0.7619, 0.7068],\n",
       "       [0.7589, 0.7052],\n",
       "       [0.7689, 0.7056],\n",
       "       [0.7668, 0.7052],\n",
       "       [0.768 , 0.7104],\n",
       "       [0.7707, 0.7078],\n",
       "       [0.778 , 0.7154],\n",
       "       [0.777 , 0.7088],\n",
       "       [0.7753, 0.7092],\n",
       "       [0.7807, 0.7078],\n",
       "       [0.7821, 0.7096],\n",
       "       [0.7788, 0.7152],\n",
       "       [0.785 , 0.716 ],\n",
       "       [0.7851, 0.7108],\n",
       "       [0.7871, 0.7188],\n",
       "       [0.7927, 0.7168],\n",
       "       [0.7923, 0.7192],\n",
       "       [0.8023, 0.7198],\n",
       "       [0.7987, 0.7172],\n",
       "       [0.8012, 0.717 ],\n",
       "       [0.8066, 0.7176],\n",
       "       [0.7994, 0.7106],\n",
       "       [0.8094, 0.7158],\n",
       "       [0.8111, 0.7108],\n",
       "       [0.809 , 0.7162],\n",
       "       [0.8193, 0.7294],\n",
       "       [0.8156, 0.7174],\n",
       "       [0.8156, 0.7138],\n",
       "       [0.8181, 0.7168],\n",
       "       [0.8245, 0.7236],\n",
       "       [0.8305, 0.7268],\n",
       "       [0.8195, 0.714 ],\n",
       "       [0.8339, 0.7174],\n",
       "       [0.8389, 0.7208],\n",
       "       [0.8407, 0.721 ],\n",
       "       [0.8402, 0.7184],\n",
       "       [0.837 , 0.7252],\n",
       "       [0.841 , 0.7178],\n",
       "       [0.8432, 0.7182],\n",
       "       [0.8536, 0.73  ],\n",
       "       [0.8561, 0.728 ],\n",
       "       [0.8479, 0.724 ],\n",
       "       [0.8543, 0.7298],\n",
       "       [0.8596, 0.7204],\n",
       "       [0.8521, 0.7236],\n",
       "       [0.8634, 0.7294],\n",
       "       [0.8638, 0.7244],\n",
       "       [0.855 , 0.7204],\n",
       "       [0.8635, 0.7264],\n",
       "       [0.8643, 0.722 ],\n",
       "       [0.8744, 0.7214],\n",
       "       [0.8688, 0.7278],\n",
       "       [0.8803, 0.7258],\n",
       "       [0.8792, 0.7336],\n",
       "       [0.8875, 0.7274],\n",
       "       [0.8837, 0.7302],\n",
       "       [0.8807, 0.7294],\n",
       "       [0.8845, 0.7236],\n",
       "       [0.8967, 0.7296],\n",
       "       [0.896 , 0.7324],\n",
       "       [0.8888, 0.726 ],\n",
       "       [0.8865, 0.7296],\n",
       "       [0.8956, 0.7302],\n",
       "       [0.8899, 0.7276],\n",
       "       [0.8927, 0.729 ],\n",
       "       [0.8946, 0.7238],\n",
       "       [0.8996, 0.7298],\n",
       "       [0.8955, 0.73  ],\n",
       "       [0.9093, 0.7286],\n",
       "       [0.9015, 0.7312],\n",
       "       [0.9048, 0.7306],\n",
       "       [0.9089, 0.722 ],\n",
       "       [0.9151, 0.728 ],\n",
       "       [0.892 , 0.728 ],\n",
       "       [0.9046, 0.7268],\n",
       "       [0.9114, 0.7302],\n",
       "       [0.8947, 0.727 ]])"
      ]
     },
     "execution_count": 44,
     "metadata": {},
     "output_type": "execute_result"
    }
   ],
   "source": [
    "accuracy_vs_epoch"
   ]
  },
  {
   "cell_type": "code",
   "execution_count": null,
   "metadata": {},
   "outputs": [],
   "source": []
  }
 ],
 "metadata": {
  "kernelspec": {
   "display_name": "Python 3",
   "language": "python",
   "name": "python3"
  },
  "language_info": {
   "codemirror_mode": {
    "name": "ipython",
    "version": 3
   },
   "file_extension": ".py",
   "mimetype": "text/x-python",
   "name": "python",
   "nbconvert_exporter": "python",
   "pygments_lexer": "ipython3",
   "version": "3.7.7"
  }
 },
 "nbformat": 4,
 "nbformat_minor": 4
}
