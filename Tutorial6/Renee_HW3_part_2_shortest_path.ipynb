{
 "cells": [
  {
   "cell_type": "code",
   "execution_count": 50,
   "metadata": {},
   "outputs": [],
   "source": [
    "# !pip install dgl"
   ]
  },
  {
   "cell_type": "code",
   "execution_count": 1,
   "metadata": {},
   "outputs": [],
   "source": [
    "# should be from pytorch_lightning.loggers import CometLogger\n",
    "from pytorch_lightning.loggers.comet import CometLogger"
   ]
  },
  {
   "cell_type": "code",
   "execution_count": 2,
   "metadata": {},
   "outputs": [
    {
     "name": "stderr",
     "output_type": "stream",
     "text": [
      "Using backend: pytorch\n"
     ]
    }
   ],
   "source": [
    "import dgl\n",
    "import dgl.function as fn\n",
    "import torch\n",
    "import torch.nn as nn\n",
    "import torch.nn.functional as F\n",
    "from dgl import DGLGraph\n",
    "from torch.utils.data import Dataset, DataLoader\n",
    "import glob\n",
    "import json\n",
    "from tqdm.notebook import tqdm\n",
    "import torch.optim as optim\n",
    "import numpy as np\n",
    "import networkx as nx\n",
    "\n",
    "import matplotlib.pyplot as plt"
   ]
  },
  {
   "cell_type": "markdown",
   "metadata": {},
   "source": [
    "# Homework 3 - finding shortest path (edge classification)"
   ]
  },
  {
   "cell_type": "markdown",
   "metadata": {},
   "source": [
    "### The data here is stored in 10,000 json files for each of the training/testing datasets"
   ]
  },
  {
   "cell_type": "code",
   "execution_count": 3,
   "metadata": {},
   "outputs": [],
   "source": [
    "path_to_ds = './storage/data_for_shortest_path/training_data'\n",
    "path_to_test_ds = './storage/data_for_shortest_path/test_data'"
   ]
  },
  {
   "cell_type": "code",
   "execution_count": 4,
   "metadata": {},
   "outputs": [],
   "source": [
    "# import zipfile"
   ]
  },
  {
   "cell_type": "code",
   "execution_count": 5,
   "metadata": {},
   "outputs": [],
   "source": [
    "# with zipfile.ZipFile('./storage/data_for_shortest_path/test_data.zip', 'r') as zip_ref:\n",
    "#     zip_ref.extractall('./storage/data_for_shortest_path/')\n",
    "    \n",
    "# with zipfile.ZipFile('./storage/data_for_shortest_path/training_data.zip', 'r') as zip_ref:\n",
    "#     zip_ref.extractall('./storage/data_for_shortest_path/')"
   ]
  },
  {
   "cell_type": "code",
   "execution_count": 6,
   "metadata": {},
   "outputs": [],
   "source": [
    "# path_to_ds = '/Users/renee/Dropbox/data_for_shortest_path/training_data'\n",
    "# path_to_test_ds = '/Users/renee/Dropbox/data_for_shortest_path/test_data'"
   ]
  },
  {
   "cell_type": "code",
   "execution_count": 7,
   "metadata": {},
   "outputs": [],
   "source": [
    "# path_to_ds = 'data/training_data/'\n",
    "# path_to_test_ds = 'data/test_data/'"
   ]
  },
  {
   "cell_type": "markdown",
   "metadata": {},
   "source": [
    "### the custom dataset object will load the json files, and then convert the graphs to DGL graphs"
   ]
  },
  {
   "cell_type": "code",
   "execution_count": 4,
   "metadata": {},
   "outputs": [],
   "source": [
    "class CustomDataset(Dataset):\n",
    "    def __init__(self, path):\n",
    "        \n",
    "\n",
    "        \n",
    "        filelist = glob.glob(path+'/*.json')\n",
    "        \n",
    "        self.graphs = []\n",
    "        for fname in tqdm(filelist):\n",
    "            with open(fname) as jfile:\n",
    "                graph = nx.node_link_graph(json.load(jfile))\n",
    "                g = dgl.DGLGraph()\n",
    "                g.from_networkx(graph,node_attrs=['node_features'],edge_attrs=['distance','on_path'])\n",
    "                \n",
    "                self.graphs.append(g)\n",
    "        \n",
    "        \n",
    "    def __len__(self):\n",
    "       \n",
    "        return len(self.graphs)\n",
    "\n",
    "\n",
    "    def __getitem__(self, idx):\n",
    "        \n",
    "        # dgl graph, target\n",
    "        return self.graphs[idx], self.graphs[idx].edata['on_path']"
   ]
  },
  {
   "cell_type": "markdown",
   "metadata": {},
   "source": [
    "### The node features are just 2 numbers - [0,0] for most nodes,\n",
    "### and [1,0] for the start node, [0,1] for the end node\n",
    "### the edges all have a property of \"distance\" which is essentially random\n",
    "### and a label if they are on the shortest path or not"
   ]
  },
  {
   "cell_type": "code",
   "execution_count": 5,
   "metadata": {},
   "outputs": [
    {
     "data": {
      "application/vnd.jupyter.widget-view+json": {
       "model_id": "e8d0d824c829414e8c2e55fb4288502c",
       "version_major": 2,
       "version_minor": 0
      },
      "text/plain": [
       "HBox(children=(FloatProgress(value=0.0, max=10000.0), HTML(value='')))"
      ]
     },
     "metadata": {},
     "output_type": "display_data"
    },
    {
     "name": "stdout",
     "output_type": "stream",
     "text": [
      "\n"
     ]
    },
    {
     "data": {
      "application/vnd.jupyter.widget-view+json": {
       "model_id": "789b1acc45ee4c54809c771bc7b04d23",
       "version_major": 2,
       "version_minor": 0
      },
      "text/plain": [
       "HBox(children=(FloatProgress(value=0.0, max=10000.0), HTML(value='')))"
      ]
     },
     "metadata": {},
     "output_type": "display_data"
    },
    {
     "name": "stdout",
     "output_type": "stream",
     "text": [
      "\n"
     ]
    }
   ],
   "source": [
    "train_ds = CustomDataset(path_to_ds)\n",
    "test_ds = CustomDataset(path_to_test_ds)"
   ]
  },
  {
   "cell_type": "code",
   "execution_count": 6,
   "metadata": {},
   "outputs": [
    {
     "data": {
      "text/plain": [
       "10000"
      ]
     },
     "execution_count": 6,
     "metadata": {},
     "output_type": "execute_result"
    }
   ],
   "source": [
    "len(train_ds)"
   ]
  },
  {
   "cell_type": "code",
   "execution_count": 7,
   "metadata": {},
   "outputs": [],
   "source": [
    "from scipy import stats"
   ]
  },
  {
   "cell_type": "code",
   "execution_count": 8,
   "metadata": {},
   "outputs": [
    {
     "data": {
      "text/plain": [
       "DescribeResult(nobs=10000, minmax=(15, 49), mean=32.9018, variance=92.81603836383638, skewness=-0.07022167191654909, kurtosis=-1.1318416244295055)"
      ]
     },
     "execution_count": 8,
     "metadata": {},
     "output_type": "execute_result"
    }
   ],
   "source": [
    "stats.describe([train_ds[i][0].number_of_nodes() for i in range(len(train_ds))])"
   ]
  },
  {
   "cell_type": "code",
   "execution_count": 9,
   "metadata": {},
   "outputs": [
    {
     "data": {
      "text/plain": [
       "DescribeResult(nobs=10000, minmax=(60, 196), mean=131.6072, variance=1485.0566138213821, skewness=-0.07022167191654909, kurtosis=-1.1318416244295055)"
      ]
     },
     "execution_count": 9,
     "metadata": {},
     "output_type": "execute_result"
    }
   ],
   "source": [
    "stats.describe([train_ds[i][0].number_of_edges() for i in range(len(train_ds))])"
   ]
  },
  {
   "cell_type": "code",
   "execution_count": 10,
   "metadata": {},
   "outputs": [
    {
     "data": {
      "text/plain": [
       "(DGLGraph(num_nodes=41, num_edges=164,\n",
       "          ndata_schemes={'node_features': Scheme(shape=(2,), dtype=torch.float32)}\n",
       "          edata_schemes={'distance': Scheme(shape=(), dtype=torch.float32), 'on_path': Scheme(shape=(), dtype=torch.int64)}),\n",
       " tensor([1, 0, 1, 0, 0, 0, 0, 0, 0, 0, 0, 0, 0, 0, 0, 0, 0, 0, 1, 1, 1, 1, 0, 0,\n",
       "         0, 0, 0, 0, 0, 0, 0, 0, 0, 0, 0, 0, 0, 0, 0, 0, 0, 0, 0, 0, 0, 0, 0, 0,\n",
       "         0, 0, 0, 0, 0, 0, 0, 0, 0, 0, 0, 0, 0, 0, 0, 0, 0, 0, 0, 0, 0, 0, 0, 0,\n",
       "         0, 0, 0, 0, 0, 0, 0, 0, 0, 0, 0, 0, 0, 0, 0, 0, 0, 0, 0, 0, 0, 0, 0, 0,\n",
       "         0, 0, 0, 0, 0, 0, 0, 0, 0, 0, 0, 0, 1, 1, 0, 0, 0, 0, 0, 0, 0, 0, 0, 1,\n",
       "         0, 0, 0, 0, 0, 0, 0, 0, 0, 0, 0, 0, 0, 0, 0, 0, 0, 0, 0, 0, 0, 0, 0, 0,\n",
       "         0, 0, 0, 0, 0, 0, 0, 0, 0, 0, 0, 1, 0, 0, 0, 0, 0, 0, 0, 0]))"
      ]
     },
     "execution_count": 10,
     "metadata": {},
     "output_type": "execute_result"
    }
   ],
   "source": [
    "# dgl graph\n",
    "train_ds[495]"
   ]
  },
  {
   "cell_type": "code",
   "execution_count": 11,
   "metadata": {},
   "outputs": [
    {
     "data": {
      "text/plain": [
       "tensor([0.0671, 1.1226, 0.3017, 0.3918, 1.0316, 0.0319, 0.9166, 0.7998, 0.8653,\n",
       "        0.8833, 0.1934, 1.8276, 1.7674, 0.2350, 1.0523, 1.2554, 1.0316, 1.5836,\n",
       "        1.7904, 0.4724, 0.4724, 0.1616, 1.2659, 1.2361, 1.1560, 0.9166, 1.4944,\n",
       "        0.5373, 1.7514, 0.3918, 0.4236, 0.0373, 1.2691, 1.9397, 1.2389, 1.2832,\n",
       "        0.7504, 0.4674, 1.8276, 1.2974, 1.1591, 1.2871, 0.2065, 0.7313, 1.3919,\n",
       "        1.4940, 0.5229, 1.5836, 1.5712, 0.7120, 1.0445, 1.0867, 1.6377, 1.2659,\n",
       "        1.2691, 0.7313, 0.5742, 1.4788, 1.2696, 1.0036, 0.4562, 1.3900, 0.9179,\n",
       "        1.5691, 0.5229, 1.1238, 0.6833, 1.4788, 1.2043, 1.1423, 0.3739, 0.6417,\n",
       "        1.2974, 1.1927, 1.2942, 0.5184, 1.7674, 1.9397, 1.5712, 1.2866, 1.3919,\n",
       "        0.3739, 1.4217, 0.6766, 0.9215, 1.1226, 1.3900, 1.5699, 0.8131, 1.5546,\n",
       "        0.0373, 1.0036, 1.2866, 0.9215, 1.5500, 1.4485, 0.2350, 1.7514, 1.2043,\n",
       "        1.4217, 0.9628, 1.2832, 0.7120, 0.6833, 1.2361, 1.0867, 0.8131, 0.8385,\n",
       "        0.0671, 0.1616, 0.5373, 1.2696, 0.4562, 1.1927, 0.0319, 1.2554, 0.4236,\n",
       "        1.2389, 1.0524, 0.3017, 0.8653, 1.4940, 0.6766, 0.8666, 0.1934, 0.2065,\n",
       "        1.6377, 1.1238, 1.5546, 0.7998, 1.4944, 0.9179, 0.5184, 0.9442, 1.0182,\n",
       "        0.6417, 0.8731, 1.1560, 0.5742, 1.5699, 1.5500, 0.9628, 0.8385, 0.9442,\n",
       "        1.0665, 0.7504, 1.1591, 1.0445, 0.8660, 0.8833, 1.0523, 0.8666, 1.5691,\n",
       "        1.2942, 1.0524, 1.7904, 0.4674, 0.8660, 1.2871, 1.1423, 1.4485, 1.0182,\n",
       "        0.8731, 1.0665])"
      ]
     },
     "execution_count": 11,
     "metadata": {},
     "output_type": "execute_result"
    }
   ],
   "source": [
    "train_ds[495][0].edata['distance']"
   ]
  },
  {
   "cell_type": "code",
   "execution_count": 12,
   "metadata": {},
   "outputs": [
    {
     "data": {
      "text/plain": [
       "torch.Size([41, 2])"
      ]
     },
     "execution_count": 12,
     "metadata": {},
     "output_type": "execute_result"
    }
   ],
   "source": [
    "train_ds[495][0].ndata['node_features'].size()"
   ]
  },
  {
   "cell_type": "code",
   "execution_count": 13,
   "metadata": {},
   "outputs": [
    {
     "data": {
      "image/png": "[encoded data removed]",
      "text/plain": [
       "<Figure size 432x288 with 1 Axes>"
      ]
     },
     "metadata": {},
     "output_type": "display_data"
    }
   ],
   "source": [
    "nx.draw( dgl.to_networkx(train_ds[495][0]) )"
   ]
  },
  {
   "cell_type": "code",
   "execution_count": 7,
   "metadata": {},
   "outputs": [],
   "source": [
    "def collate(samples):\n",
    "    \n",
    "    # The input `samples` is a list, a batch of whatever comes out of your dataset object\n",
    "    \n",
    "    graphs = [x[0] for x in samples]\n",
    "    labels = [x[1] for x in samples]\n",
    "    # dgl.batch creates (one connected?) graph from all of the graphs in the batch\n",
    "    batched_graph = dgl.batch(graphs,node_attrs=['node_features'],edge_attrs=['distance'])\n",
    "    targets = torch.cat(labels)\n",
    "    \n",
    "    return batched_graph, targets.unsqueeze(1).float()"
   ]
  },
  {
   "cell_type": "code",
   "execution_count": 49,
   "metadata": {},
   "outputs": [],
   "source": [
    "import torch.nn as nn\n",
    "import torch.nn.functional as F\n",
    "\n",
    "\n",
    "#this function is the edge update function - \n",
    "\n",
    "class EdgeNetwork(nn.Module):\n",
    "    def __init__(self, nodemb, edgemb, nodefeat=2):\n",
    "        super(EdgeNetwork, self).__init__()\n",
    "        \n",
    "        # constants\n",
    "        self.nodemb = nodemb\n",
    "        self.nodefeat = nodefeat\n",
    "        self.edgemb = edgemb\n",
    "           \n",
    "        self.edgseq = nn.Sequential(\n",
    "\n",
    "            \n",
    "            #noderepsize is curr equal nodemb\n",
    "            nn.Linear(self.nodemb*2 + self.nodefeat*2 + 1, 128),\n",
    "            \n",
    "            nn.ReLU(True),\n",
    "            \n",
    "            nn.Linear(128, self.edgemb),\n",
    "            \n",
    "            nn.ReLU(True)\n",
    "        )\n",
    "\n",
    " # EdgeBatch x       \n",
    "    def forward(self, x):\n",
    "\n",
    "        #your input x is an object with the following properties:\n",
    "        #x.dst['node_features'], x.dst['node_hidden_state']\n",
    "        #x.src['node_features'], x.src['node_hidden_state']\n",
    "        #x.data['distance']\n",
    "\n",
    "    \n",
    "        data = x.data['distance'].unsqueeze(-1)\n",
    "                      \n",
    "        out = torch.cat([x.dst['node_features'],x.dst['node_hidden_state'], x.src['node_features'],x.src['node_hidden_state'],data],dim=1)\n",
    "\n",
    "        out = self.edgseq(out)\n",
    "\n",
    "        return {'edge_hidden_representation': out }\n",
    "\n",
    "class NodeNetwork(nn.Module):\n",
    "    def __init__(self,nodemb, edgemb, nodefeat=2):\n",
    "        super(NodeNetwork, self).__init__()\n",
    "        \n",
    "        self.edgemb = edgemb\n",
    "        self.nodefeat = nodefeat\n",
    "        self.nodemb = nodemb       \n",
    "        self.nodeseq = nn.Sequential(\n",
    "\n",
    "            #noderepsize is curr equal nodemb\n",
    "            nn.Linear(self.nodemb + self.nodefeat+ self.edgemb,128),\n",
    "            \n",
    "            nn.ReLU(True),\n",
    "\n",
    "            nn.Linear(128, self.nodemb),\n",
    "\n",
    "            nn.ReLU(True)\n",
    "        )\n",
    "  \n",
    "    def forward(self, x):\n",
    "\n",
    "#         edge_hid_rep_flat = torch.mean(x.mailbox['edge_hidden_representation'],dim=1)\n",
    "#         edge_hid_rep_flat = edge_hid_rep_flat.squeeze(1)\n",
    "        \n",
    "        edge_hid_rep_flat = torch.sum(x.mailbox['edge_hidden_representation'],dim=1,keepdim=False)\n",
    "\n",
    "        \n",
    "        out = torch.cat([x.data['node_hidden_state'],x.data['node_features'],edge_hid_rep_flat],dim=1)\n",
    "        \n",
    "        out = self.nodeseq(out)\n",
    "        \n",
    "#         #- and then apply some fully connected neural network\n",
    "        # first epoch\n",
    "#         if out.size()[1] == self.noderep_size + self.nodefeat + self.edgemb:\n",
    "#             out = F.relu(self.fc1a(out))\n",
    "            \n",
    "#         else:\n",
    "#             out = F.relu(self.fc1b(out))\n",
    "            \n",
    "#         out = F.relu(self.fc1(out))\n",
    "#         out = F.relu(self.fc2(out))\n",
    "        \n",
    "        # 1. sum on mailbox\n",
    "        # 2. concat with node_hidden_state, node_features\n",
    "        # return a new hidden state for the node, updates hidden states of nodes -- make same size? :/\n",
    "        return {'node_hidden_state': out }\n",
    "\n",
    "class EdgeClassifier(nn.Module):\n",
    "    def __init__(self, nodemb, nodefeat=2):\n",
    "        super(EdgeClassifier, self).__init__()\n",
    "        \n",
    "        self.nodemb = nodemb\n",
    "        self.nodefeat = nodefeat\n",
    "        \n",
    "        self.classeq = nn.Sequential(\n",
    "        \n",
    "            nn.Linear(self.nodemb*2 + self.nodefeat*2  +1,self.nodemb),\n",
    "            nn.ReLU(True),\n",
    "            nn.Linear(self.nodemb,1),\n",
    "            # TRY\n",
    "            nn.Sigmoid()\n",
    "#             nn.ReLU(True)\n",
    "        )\n",
    "\n",
    "   \n",
    "\n",
    "     \n",
    "    def forward(self, x):\n",
    "\n",
    "    \n",
    "        data = x.data['distance'].unsqueeze(-1)\n",
    "              \n",
    "#         print('data.size()',data.size())\n",
    "        \n",
    "        out = torch.cat([x.dst['node_features'],x.dst['node_hidden_state'], x.src['node_features'],x.src['node_hidden_state'],data],dim=1)\n",
    "\n",
    "\n",
    "        out = self.classeq(out)\n",
    "        \n",
    "        #put them together with torch.cat\n",
    "        \n",
    "        #use a neural network to create an edge hidden represetation - (select size)\n",
    "        \n",
    "        #you return a dictionary with what you want to \"send\" to the reciving node\n",
    "        \n",
    "        #sent to nodes\n",
    "\n",
    "        return {'edge_class_prediction': out }\n",
    "#         return {'edge_class_prediction': output }\n",
    "\n",
    "class Classifier(nn.Module):\n",
    "    def __init__(self):\n",
    "        super(Classifier, self).__init__()\n",
    "        \n",
    "        # you need to create a network that \n",
    "        # will initialize your node hidden state based only on the node features -\n",
    "#         self.node_representation_size = 32 \n",
    "        # make everything equal for a minute\n",
    "#         self.node_representation_size = 64\n",
    "#         self.edge_representation_size = 128 \n",
    "        # fc net, linear layers\n",
    "    \n",
    "    \n",
    "        \n",
    "        self.nodemb = 64 #output of final layer in NodeNetwork\n",
    "        self.edgemb = 64 #output of final layer in EdgeNetwork  \n",
    "        \n",
    "        self.node_init = nn.Sequential(\n",
    "\n",
    "            nn.Linear(2,128),\n",
    "\n",
    "            nn.ReLU(True),\n",
    "            \n",
    "            nn.Linear(128,self.nodemb),\n",
    "\n",
    "            nn.ReLU(True)\n",
    "        )\n",
    "        \n",
    "        \n",
    "#         self.edge_network = EdgeNetwork(self.node_representation_size, self.edgemb)\n",
    "        self.edge_network = EdgeNetwork(self.nodemb, self.edgemb)\n",
    "        \n",
    "        self.node_network = NodeNetwork(self.nodemb, self.edgemb)\n",
    "        \n",
    "        self.edge_classifier = EdgeClassifier(self.nodemb)\n",
    "        \n",
    "        #this edge classifier is also an edge update function - \n",
    "        #but it needs to return something of size 1 (the edge class prediction)\n",
    "        #so either create a different model for this, or make the EdgeNetwork configurable\n",
    "        \n",
    "        # return one number per edge. new module or reconfig EdgeNetwork __init__(self,outputsize,outputname)\n",
    "        \n",
    "    def forward(self, g):\n",
    "        \n",
    "        # init node_hidden_state to step thru node_init net and populate node_features\n",
    "        g.ndata['node_hidden_state'] = self.node_init(g.ndata['node_features'])\n",
    "        \n",
    "        number_of_iterations = 16\n",
    "        \n",
    "        for i in range(number_of_iterations):\n",
    "\n",
    "            g.update_all(self.edge_network,self.node_network)\n",
    "            \n",
    "            # NodeNetwork returns a new hidden state for the node, updates hidden states of nodes of size nodemb -- post-iteration 1\n",
    "#             self.node_representation_size = self.nodemb\n",
    "            \n",
    "            \n",
    "        # Edge classification task\n",
    "        # Edge network, return one number per edge\n",
    "\n",
    "        g.apply_edges(self.edge_classifier)\n",
    "        \n",
    "        #and extract its output, should size-match input (from collate()) \n",
    "        # output same number of edges as dgl graph\n",
    "        out = g.edata['edge_class_prediction']\n",
    "\n",
    "        \n",
    "        return out "
   ]
  },
  {
   "cell_type": "markdown",
   "metadata": {},
   "source": [
    "----------------------------"
   ]
  },
  {
   "cell_type": "code",
   "execution_count": 50,
   "metadata": {},
   "outputs": [],
   "source": [
    "data_loader_train = DataLoader(train_ds, batch_size=30, shuffle=True, collate_fn=collate,num_workers=4)"
   ]
  },
  {
   "cell_type": "code",
   "execution_count": 51,
   "metadata": {},
   "outputs": [],
   "source": [
    "for x,y in data_loader_train:                 \n",
    "    # x is dgl graph -- cant just send to cuda\n",
    "    x = x.to(torch.device('cuda'))\n",
    "    y = y.cuda()"
   ]
  },
  {
   "cell_type": "code",
   "execution_count": 52,
   "metadata": {},
   "outputs": [
    {
     "data": {
      "text/plain": [
       "tensor([[0.5025],\n",
       "        [0.5072],\n",
       "        [0.5018],\n",
       "        ...,\n",
       "        [0.5095],\n",
       "        [0.5098],\n",
       "        [0.5093]], device='cuda:0', grad_fn=<SigmoidBackward>)"
      ]
     },
     "execution_count": 52,
     "metadata": {},
     "output_type": "execute_result"
    }
   ],
   "source": [
    "net = Classifier()\n",
    "net.to(torch.device('cuda'))\n",
    "net(x)"
   ]
  },
  {
   "cell_type": "markdown",
   "metadata": {},
   "source": [
    "-----------------------------------"
   ]
  },
  {
   "cell_type": "code",
   "execution_count": 53,
   "metadata": {},
   "outputs": [],
   "source": [
    "from comet_ml import Experiment"
   ]
  },
  {
   "cell_type": "code",
   "execution_count": 56,
   "metadata": {},
   "outputs": [],
   "source": [
    "experiment_name = 'graphnet_test_128hid'"
   ]
  },
  {
   "cell_type": "code",
   "execution_count": 57,
   "metadata": {},
   "outputs": [],
   "source": [
    "project_name = 'dl1010-a3-2'"
   ]
  },
  {
   "cell_type": "code",
   "execution_count": 58,
   "metadata": {},
   "outputs": [
    {
     "name": "stderr",
     "output_type": "stream",
     "text": [
      "COMET INFO: ---------------------------\n",
      "COMET INFO: Comet.ml Experiment Summary\n",
      "COMET INFO: ---------------------------\n",
      "COMET INFO:   Data:\n",
      "COMET INFO:     display_summary_level : 1\n",
      "COMET INFO:     url                   : https://www.comet.ml/ren-e1011/dl1010-a3-2/2edadbd5fec54f33a549f0e6be1d5d67\n",
      "COMET INFO:   Metrics [count] (min, max):\n",
      "COMET INFO:     train_avgLoss [40]         : (1.1120387098032558, 1.3738219641639802)\n",
      "COMET INFO:     train_batch_loss [13360]   : (1.027708888053894, 1.4577984809875488)\n",
      "COMET INFO:     train_falseNegRate [40]    : (0.13177988720495742, 1.0)\n",
      "COMET INFO:     train_falsePosRate [40]    : (0.0, 0.1865788870296561)\n",
      "COMET INFO:     train_trueNegRate [40]     : (0.8134211129703439, 1.0)\n",
      "COMET INFO:     train_truePosRate [40]     : (0.0, 0.8682201127950426)\n",
      "COMET INFO:     validate_avgLoss [40]      : (1.09901360980051, 1.3507183690270979)\n",
      "COMET INFO:     validate_falseNegRate [40] : (0.08111467335749466, 1.0)\n",
      "COMET INFO:     validate_falsePosRate [40] : (0.0, 0.21417318372435679)\n",
      "COMET INFO:     validate_trueNegRate [40]  : (0.7858268162756432, 1.0)\n",
      "COMET INFO:     validate_truePosRate [40]  : (0.0, 0.9188853266425053)\n",
      "COMET INFO:   Uploads:\n",
      "COMET INFO:     environment details : 1\n",
      "COMET INFO:     filename            : 1\n",
      "COMET INFO:     installed packages  : 1\n",
      "COMET INFO:     os packages         : 1\n",
      "COMET INFO: ---------------------------\n",
      "COMET INFO: old comet version (3.1.9) detected. current: 3.1.12 please update your comet lib with command: `pip install --no-cache-dir --upgrade comet_ml`\n",
      "COMET INFO: Experiment is live on comet.ml https://www.comet.ml/ren-e1011/dl1010-a3-2/942957b501e34e6b8a51e710a23e517e\n",
      "\n"
     ]
    }
   ],
   "source": [
    "experiment = Experiment(api_key='n0QCcEJ7YYeDUkff49kqLEdeJ',\n",
    "    workspace=\"ren-e1011\",\n",
    "    project_name=project_name)"
   ]
  },
  {
   "cell_type": "code",
   "execution_count": 59,
   "metadata": {},
   "outputs": [],
   "source": [
    "# experiment.log_parameters(hyper_params)"
   ]
  },
  {
   "cell_type": "code",
   "execution_count": 60,
   "metadata": {},
   "outputs": [],
   "source": [
    "from torch.optim import lr_scheduler"
   ]
  },
  {
   "cell_type": "code",
   "execution_count": 61,
   "metadata": {},
   "outputs": [],
   "source": [
    "net = Classifier()\n",
    "net = net.to(torch.device('cuda'))\n",
    "# added in num workers...maybe threading an issue here?\n",
    "# data_loader_train = DataLoader(train_ds, batch_size=30, shuffle=True, collate_fn=collate, num_workers=4)\n",
    "data_loader_val = DataLoader(test_ds, batch_size=30, shuffle=True, collate_fn=collate)\n",
    "\n",
    "#Tweak optimizer lr, scheduler steps\n",
    "steps = 60\n",
    "# loss_func = nn.BCEWithLogitsLoss()\n",
    "loss_func = nn.BCEWithLogitsLoss(pos_weight=torch.tensor(16))\n",
    "\n",
    "# optimizer = torch.optim.Adam(net.parameters(), lr=1e-2)\n",
    "optimizer = optim.SGD(net.parameters(), lr=1e-2, momentum=0.9)\n",
    "scheduler = optim.lr_scheduler.CosineAnnealingLR(optimizer, steps)"
   ]
  },
  {
   "cell_type": "code",
   "execution_count": 62,
   "metadata": {},
   "outputs": [
    {
     "name": "stdout",
     "output_type": "stream",
     "text": [
      "EPOCH 0\n",
      "------------\n",
      "TRAIN:\n",
      "{'avgLoss': 1.3757482956269544, 'truePosRate': 0.0, 'trueNegRate': 1.0, 'falsePosRate': 0.0, 'falseNegRate': 1.0}\n",
      "VALIDATION\n",
      "{'avgLoss': 1.352091784962637, 'truePosRate': 0.0, 'trueNegRate': 1.0, 'falsePosRate': 0.0, 'falseNegRate': 1.0}\n",
      "Epoch 0 end:\n",
      "Saving Model,Validation TPR 0.0 Validation TNR 1.0\n",
      "------------\n",
      "EPOCH 1\n",
      "------------\n",
      "TRAIN:\n",
      "{'avgLoss': 1.342032129893046, 'truePosRate': 0.0, 'trueNegRate': 1.0, 'falsePosRate': 0.0, 'falseNegRate': 1.0}\n",
      "VALIDATION\n",
      "{'avgLoss': 1.3283295049638806, 'truePosRate': 0.0, 'trueNegRate': 1.0, 'falsePosRate': 0.0, 'falseNegRate': 1.0}\n",
      "Epoch 1 end:\n",
      "Saving Model,Validation TPR 0.0 Validation TNR 1.0\n",
      "------------\n",
      "EPOCH 2\n",
      "------------\n",
      "TRAIN:\n",
      "{'avgLoss': 1.316877614595219, 'truePosRate': 0.09007357207510386, 'trueNegRate': 0.9902731771252575, 'falsePosRate': 0.009726822874742459, 'falseNegRate': 0.9099264279248961}\n",
      "VALIDATION\n",
      "{'avgLoss': 1.297984197111187, 'truePosRate': 0.2900636557940712, 'trueNegRate': 0.9538398018166804, 'falsePosRate': 0.04616019818331957, 'falseNegRate': 0.7099363442059288}\n",
      "Epoch 2 end:\n",
      "Saving Model,Validation TPR 0.2900636557940712 Validation TNR 0.9538398018166804\n",
      "------------\n",
      "EPOCH 3\n",
      "------------\n",
      "TRAIN:\n",
      "{'avgLoss': 1.2850854792994653, 'truePosRate': 0.4315802910390605, 'trueNegRate': 0.9016812776344054, 'falsePosRate': 0.09831872236559455, 'falseNegRate': 0.5684197089609395}\n",
      "VALIDATION\n",
      "{'avgLoss': 1.2607222995358314, 'truePosRate': 0.5286218752904005, 'trueNegRate': 0.8727643658619517, 'falsePosRate': 0.12723563413804828, 'falseNegRate': 0.4713781247095995}\n",
      "Epoch 3 end:\n",
      "Saving Model,Validation TPR 0.5286218752904005 Validation TNR 0.8727643658619517\n",
      "------------\n",
      "EPOCH 4\n",
      "------------\n",
      "TRAIN:\n",
      "{'avgLoss': 1.2358627365734762, 'truePosRate': 0.6172511430361826, 'trueNegRate': 0.8446919988486851, 'falsePosRate': 0.155308001151315, 'falseNegRate': 0.3827488569638174}\n",
      "VALIDATION\n",
      "{'avgLoss': 1.2383052524692284, 'truePosRate': 0.4080708112628938, 'trueNegRate': 0.9455870209355418, 'falsePosRate': 0.054412979064458154, 'falseNegRate': 0.5919291887371062}\n",
      "Epoch 4 end:\n",
      "Saving Model,Validation TPR 0.4080708112628938 Validation TNR 0.9455870209355418\n",
      "------------\n",
      "EPOCH 5\n",
      "------------\n",
      "TRAIN:\n",
      "{'avgLoss': 1.1595298708555941, 'truePosRate': 0.8103488291131896, 'trueNegRate': 0.8303525983455539, 'falsePosRate': 0.16964740165444614, 'falseNegRate': 0.1896511708868104}\n",
      "VALIDATION\n",
      "{'avgLoss': 1.123277345460332, 'truePosRate': 0.8961179258433231, 'trueNegRate': 0.8340328038729943, 'falsePosRate': 0.16596719612700572, 'falseNegRate': 0.10388207415667688}\n",
      "Epoch 5 end:\n",
      "Saving Model,Validation TPR 0.8961179258433231 Validation TNR 0.8340328038729943\n",
      "------------\n",
      "EPOCH 6\n",
      "------------\n",
      "TRAIN:\n",
      "{'avgLoss': 1.115434968899824, 'truePosRate': 0.8621974145333859, 'trueNegRate': 0.8616625118505762, 'falsePosRate': 0.13833748814942376, 'falseNegRate': 0.13780258546661406}\n",
      "VALIDATION\n",
      "{'avgLoss': 1.0931835560027712, 'truePosRate': 0.8541143945729951, 'trueNegRate': 0.8997862728906592, 'falsePosRate': 0.10021372710934084, 'falseNegRate': 0.14588560542700493}\n",
      "Epoch 6 end:\n",
      "------------\n",
      "EPOCH 7\n",
      "------------\n",
      "TRAIN:\n",
      "{'avgLoss': 1.0986954701874785, 'truePosRate': 0.8822034488360758, 'trueNegRate': 0.8725260143524097, 'falsePosRate': 0.1274739856475903, 'falseNegRate': 0.11779655116392415}\n",
      "VALIDATION\n",
      "{'avgLoss': 1.0776788174749135, 'truePosRate': 0.9039122758107982, 'trueNegRate': 0.8909012159777205, 'falsePosRate': 0.10909878402227943, 'falseNegRate': 0.09608772418920175}\n",
      "Epoch 7 end:\n",
      "Saving Model,Validation TPR 0.9039122758107982 Validation TNR 0.8909012159777205\n",
      "------------\n",
      "EPOCH 8\n",
      "------------\n",
      "TRAIN:\n",
      "{'avgLoss': 1.1160084676599789, 'truePosRate': 0.8529951029312786, 'trueNegRate': 0.8641976814337449, 'falsePosRate': 0.13580231856625508, 'falseNegRate': 0.1470048970687214}\n",
      "VALIDATION\n",
      "{'avgLoss': 1.0984805740282206, 'truePosRate': 0.8199632933742217, 'trueNegRate': 0.9122925470766341, 'falsePosRate': 0.08770745292336588, 'falseNegRate': 0.18003670662577828}\n",
      "Epoch 8 end:\n",
      "Saving Model,Validation TPR 0.8199632933742217 Validation TNR 0.9122925470766341\n",
      "------------\n",
      "EPOCH 9\n",
      "------------\n",
      "TRAIN:\n",
      "{'avgLoss': 1.0866369558665567, 'truePosRate': 0.8937614593728967, 'trueNegRate': 0.885444971859455, 'falsePosRate': 0.11455502814054498, 'falseNegRate': 0.1062385406271033}\n",
      "VALIDATION\n",
      "{'avgLoss': 1.0687163811243936, 'truePosRate': 0.9129960040888393, 'trueNegRate': 0.8989677952105698, 'falsePosRate': 0.10103220478943022, 'falseNegRate': 0.08700399591116068}\n",
      "Epoch 9 end:\n",
      "Saving Model,Validation TPR 0.9129960040888393 Validation TNR 0.8989677952105698\n",
      "------------\n",
      "EPOCH 10\n",
      "------------\n",
      "TRAIN:\n",
      "{'avgLoss': 1.0734426072257721, 'truePosRate': 0.9024531761320119, 'trueNegRate': 0.8997307093758995, 'falsePosRate': 0.10026929062410053, 'falseNegRate': 0.09754682386798802}\n",
      "VALIDATION\n",
      "{'avgLoss': 1.0616950025101621, 'truePosRate': 0.9107076479881052, 'trueNegRate': 0.9119598128268649, 'falsePosRate': 0.08804018717313515, 'falseNegRate': 0.08929235201189481}\n",
      "Epoch 10 end:\n",
      "Saving Model,Validation TPR 0.9107076479881052 Validation TNR 0.9119598128268649\n",
      "------------\n",
      "EPOCH 11\n",
      "------------\n",
      "TRAIN:\n",
      "{'avgLoss': 1.0682874914414868, 'truePosRate': 0.8999466196300508, 'trueNegRate': 0.9112755691935429, 'falsePosRate': 0.08872443080645712, 'falseNegRate': 0.10005338036994917}\n",
      "VALIDATION\n",
      "{'avgLoss': 1.0636477875495385, 'truePosRate': 0.9305478115416783, 'trueNegRate': 0.8943556613396804, 'falsePosRate': 0.10564433866031962, 'falseNegRate': 0.06945218845832171}\n",
      "Epoch 11 end:\n",
      "Saving Model,Validation TPR 0.9305478115416783 Validation TNR 0.8943556613396804\n",
      "------------\n",
      "EPOCH 12\n",
      "------------\n",
      "TRAIN:\n",
      "{'avgLoss': 1.0618141884218433, 'truePosRate': 0.8987165502355698, 'trueNegRate': 0.9218024584152507, 'falsePosRate': 0.0781975415847493, 'falseNegRate': 0.1012834497644301}\n",
      "VALIDATION\n",
      "{'avgLoss': 1.05761222496718, 'truePosRate': 0.9112071368831893, 'trueNegRate': 0.9177879244183222, 'falsePosRate': 0.08221207558167776, 'falseNegRate': 0.0887928631168107}\n",
      "Epoch 12 end:\n",
      "Saving Model,Validation TPR 0.9112071368831893 Validation TNR 0.9177879244183222\n",
      "------------\n",
      "EPOCH 13\n",
      "------------\n",
      "TRAIN:\n",
      "{'avgLoss': 1.0580881628804577, 'truePosRate': 0.899482442500058, 'trueNegRate': 0.9271224117772369, 'falsePosRate': 0.07287758822276319, 'falseNegRate': 0.10051755749994198}\n",
      "VALIDATION\n",
      "{'avgLoss': 1.0549378475386226, 'truePosRate': 0.8758247374779295, 'trueNegRate': 0.9461059568336005, 'falsePosRate': 0.05389404316639951, 'falseNegRate': 0.12417526252207044}\n",
      "Epoch 13 end:\n",
      "Saving Model,Validation TPR 0.8758247374779295 Validation TNR 0.9461059568336005\n",
      "------------\n",
      "EPOCH 14\n",
      "------------\n",
      "TRAIN:\n",
      "{'avgLoss': 1.0635321031430525, 'truePosRate': 0.9012463155940307, 'trueNegRate': 0.9164751873732618, 'falsePosRate': 0.08352481262673815, 'falseNegRate': 0.09875368440596932}\n",
      "VALIDATION\n",
      "{'avgLoss': 1.0516966865091266, 'truePosRate': 0.8807266982622433, 'trueNegRate': 0.9486245365198103, 'falsePosRate': 0.051375463480189766, 'falseNegRate': 0.11927330173775672}\n",
      "Epoch 14 end:\n",
      "Saving Model,Validation TPR 0.8807266982622433 Validation TNR 0.9486245365198103\n",
      "------------\n",
      "EPOCH 15\n",
      "------------\n",
      "TRAIN:\n",
      "{'avgLoss': 1.1247437326851006, 'truePosRate': 0.7952514679601737, 'trueNegRate': 0.8849286688814845, 'falsePosRate': 0.11507133111851552, 'falseNegRate': 0.2047485320398264}\n",
      "VALIDATION\n",
      "{'avgLoss': 1.0747387908889863, 'truePosRate': 0.8972562958832823, 'trueNegRate': 0.9004663136931073, 'falsePosRate': 0.0995336863068927, 'falseNegRate': 0.10274370411671778}\n",
      "Epoch 15 end:\n",
      "Saving Model,Validation TPR 0.8972562958832823 Validation TNR 0.9004663136931073\n",
      "------------\n",
      "EPOCH 16\n",
      "------------\n",
      "TRAIN:\n",
      "{'avgLoss': 1.0684394015523488, 'truePosRate': 0.90258082484276, 'trueNegRate': 0.9077012890499863, 'falsePosRate': 0.09229871095001374, 'falseNegRate': 0.09741917515724001}\n",
      "VALIDATION\n",
      "{'avgLoss': 1.049237433664813, 'truePosRate': 0.9052016541213642, 'trueNegRate': 0.9360211136477713, 'falsePosRate': 0.06397888635222876, 'falseNegRate': 0.09479834587863581}\n",
      "Epoch 16 end:\n",
      "Saving Model,Validation TPR 0.9052016541213642 Validation TNR 0.9360211136477713\n",
      "------------\n",
      "EPOCH 17\n",
      "------------\n",
      "TRAIN:\n",
      "{'avgLoss': 1.0543893058142977, 'truePosRate': 0.9174112841460301, 'trueNegRate': 0.9219227935975178, 'falsePosRate': 0.07807720640248215, 'falseNegRate': 0.08258871585396987}\n",
      "VALIDATION\n",
      "{'avgLoss': 1.0768392189534124, 'truePosRate': 0.7970448843044327, 'trueNegRate': 0.9624714625734687, 'falsePosRate': 0.037528537426531304, 'falseNegRate': 0.20295511569556732}\n",
      "Epoch 17 end:\n",
      "Saving Model,Validation TPR 0.7970448843044327 Validation TNR 0.9624714625734687\n",
      "------------\n",
      "EPOCH 18\n",
      "------------\n",
      "TRAIN:\n",
      "{'avgLoss': 1.0481480702668606, 'truePosRate': 0.920579293058231, 'trueNegRate': 0.9303389386762154, 'falsePosRate': 0.06966106132378458, 'falseNegRate': 0.07942070694176898}\n",
      "VALIDATION\n",
      "{'avgLoss': 1.03812159339111, 'truePosRate': 0.9159348573552644, 'trueNegRate': 0.9479137319667752, 'falsePosRate': 0.05208626803322485, 'falseNegRate': 0.08406514264473562}\n",
      "Epoch 18 end:\n",
      "Saving Model,Validation TPR 0.9159348573552644 Validation TNR 0.9479137319667752\n",
      "------------\n",
      "EPOCH 19\n",
      "------------\n",
      "TRAIN:\n",
      "{'avgLoss': 1.0601208996986915, 'truePosRate': 0.9062478241697032, 'trueNegRate': 0.9197307418989217, 'falsePosRate': 0.0802692581010783, 'falseNegRate': 0.09375217583029684}\n",
      "VALIDATION\n",
      "{'avgLoss': 1.07182727816576, 'truePosRate': 0.9467173125174241, 'trueNegRate': 0.8690710966467512, 'falsePosRate': 0.1309289033532488, 'falseNegRate': 0.05328268748257597}\n",
      "Epoch 19 end:\n",
      "Saving Model,Validation TPR 0.9467173125174241 Validation TNR 0.8690710966467512\n",
      "------------\n"
     ]
    }
   ],
   "source": [
    "standing_tpr = .60\n",
    "standing_tnr = .90\n",
    "\n",
    "num_epochs = 20\n",
    "# batch_size = 30\n",
    "\n",
    "def epoch_metrics(loss,true_positive,false_positive,total_positives,true_negative,false_negative,total_negatives):\n",
    "    \n",
    "    avg_loss = np.array(loss).mean()\n",
    "\n",
    "    truepos_rate = true_positive/total_positives\n",
    "\n",
    "    falseneg_rate = false_negative/total_positives\n",
    "\n",
    "    trueneg_rate = true_negative/total_negatives\n",
    "\n",
    "    falsepos_rate = false_positive/total_negatives\n",
    "\n",
    "    return {'avgLoss':avg_loss,'truePosRate': truepos_rate,'trueNegRate': trueneg_rate, 'falsePosRate':falsepos_rate, 'falseNegRate':falseneg_rate, }\n",
    "\n",
    "\n",
    "for epoch in range(num_epochs):\n",
    "    \n",
    "    print('EPOCH',epoch)\n",
    "    print('------------')\n",
    "\n",
    "    with experiment.train():\n",
    "        \n",
    "        net.train()\n",
    "        \n",
    "        step = 0\n",
    "        \n",
    "        true_positive = 0\n",
    "        false_positive = 0\n",
    "        true_negative = 0\n",
    "        false_negative = 0\n",
    "        total_positives = 0\n",
    "        total_negatives = 0\n",
    "        \n",
    "        batch_loss = []\n",
    "\n",
    "        for x,y in data_loader_train:\n",
    "            \n",
    "            ## Training\n",
    "            # x is dgl graph -- cant just send to cuda\n",
    "            x = x.to(torch.device('cuda'))\n",
    "            y = y.cuda()\n",
    "\n",
    "            yhat = net(x)\n",
    "\n",
    "            loss = loss_func(yhat,y)\n",
    "            \n",
    "            optimizer.zero_grad()\n",
    "            \n",
    "            #retain_graph?\n",
    "            loss.backward(retain_graph=True)\n",
    "            \n",
    "            optimizer.step() #necessary while using scheduler?\n",
    "            scheduler.step()\n",
    "\n",
    "            yhat = yhat.cpu()\n",
    "            y = y.cpu()\n",
    "            \n",
    "            yhat[yhat >= 0.5] = 1\n",
    "            yhat[yhat <0.5] = 0\n",
    "            batch_loss.append(loss.item())\n",
    "            \n",
    "            total_positives += len(np.where( y==1 )[0])\n",
    "            total_negatives += len(np.where( y==0 )[0])\n",
    "\n",
    "            true_positive += len(np.where( (yhat==y) & (y==1) )[0])\n",
    "            true_negative += len(np.where( (yhat==y) & (y==0) )[0])\n",
    "            false_positive += len(np.where( (yhat!=y) & (y==0) )[0])\n",
    "            false_negative += len(np.where( (yhat!=y) & (y==1) )[0])\n",
    "            \n",
    "            \n",
    "\n",
    "            step += 1 \n",
    "\n",
    "             # Log epoch accuracy to Comet.ml; step is each BATCH\n",
    "            experiment.log_metric(\"batch_loss\", loss.item())\n",
    "        train_metrics = epoch_metrics(batch_loss,true_positive,false_positive,total_positives,true_negative,false_negative,total_negatives)\n",
    "        \n",
    "        experiment.log_metrics(train_metrics)\n",
    "           \n",
    "        print('TRAIN:')\n",
    "        print(train_metrics)\n",
    "        \n",
    "    print('VALIDATION')\n",
    "    with experiment.validate():\n",
    "        \n",
    "        net.eval()\n",
    "        \n",
    "        step = 0\n",
    "        \n",
    "        true_positive = 0\n",
    "        false_positive = 0\n",
    "        true_negative = 0\n",
    "        false_negative = 0\n",
    "        total_positives = 0\n",
    "        total_negatives = 0\n",
    "        \n",
    "        val_loss = []\n",
    "        \n",
    "        for x,y in data_loader_val:\n",
    "            \n",
    "            x = x.to(torch.device('cuda'))\n",
    "            y = y.cuda()\n",
    "                    \n",
    "            yhat = net(x)\n",
    "\n",
    "            loss = loss_func(yhat,y)\n",
    "            \n",
    "            \n",
    "            yhat = yhat.cpu()\n",
    "            y = y.cpu()\n",
    "            val_loss.append(loss.item())\n",
    "\n",
    "    ###########################################\n",
    "\n",
    "\n",
    "            yhat[yhat >= 0.5] = 1\n",
    "            yhat[yhat <0.5] = 0\n",
    "\n",
    "            total_positives += len(np.where( y==1 )[0])\n",
    "            total_negatives += len(np.where( y==0 )[0])\n",
    "\n",
    "            true_positive += len(np.where( (yhat==y) & (y==1) )[0])\n",
    "            true_negative += len(np.where( (yhat==y) & (y==0) )[0])\n",
    "            false_positive += len(np.where( (yhat!=y) & (y==0) )[0])\n",
    "            false_negative += len(np.where( (yhat!=y) & (y==1) )[0])\n",
    "\n",
    "            step += 1\n",
    "        \n",
    "        valid_metrics = epoch_metrics(val_loss,true_positive,false_positive,total_positives,true_negative,false_negative,total_negatives)\n",
    "        print(valid_metrics)\n",
    "        \n",
    "        experiment.log_metrics(valid_metrics)\n",
    "        print('Epoch',epoch,'end:')\n",
    "        \n",
    "        if (valid_metrics['truePosRate'] > standing_tpr) or (valid_metrics['trueNegRate'] > standing_tnr):\n",
    "            print('Saving Model,Validation TPR',valid_metrics['truePosRate'],'Validation TNR',valid_metrics['trueNegRate'])\n",
    "            torch.save(net.state_dict(),'shortestpath_tpr_{:.3f}_tnr_{:.3f}.pt'.format(valid_metrics['truePosRate'],  valid_metrics['trueNegRate']))\n",
    "            standing_tpr = valid_metrics['truePosRate'] \n",
    "            stading_tnr = valid_metrics['trueNegRate']\n",
    "        print('------------')"
   ]
  },
  {
   "cell_type": "code",
   "execution_count": 41,
   "metadata": {},
   "outputs": [
    {
     "data": {
      "text/plain": [
       "<All keys matched successfully>"
      ]
     },
     "execution_count": 41,
     "metadata": {},
     "output_type": "execute_result"
    }
   ],
   "source": [
    "net = Classifier()\n",
    "net.load_state_dict(torch.load('shortestpath_tpr_0.911_tnr_0.918.pt'))\n"
   ]
  },
  {
   "cell_type": "code",
   "execution_count": 42,
   "metadata": {},
   "outputs": [],
   "source": [
    "net = net.to(torch.device('cuda'))"
   ]
  },
  {
   "cell_type": "code",
   "execution_count": 63,
   "metadata": {},
   "outputs": [
    {
     "data": {
      "text/plain": [
       "Classifier(\n",
       "  (node_init): Sequential(\n",
       "    (0): Linear(in_features=2, out_features=128, bias=True)\n",
       "    (1): ReLU(inplace=True)\n",
       "    (2): Linear(in_features=128, out_features=64, bias=True)\n",
       "    (3): ReLU(inplace=True)\n",
       "  )\n",
       "  (edge_network): EdgeNetwork(\n",
       "    (edgseq): Sequential(\n",
       "      (0): Linear(in_features=133, out_features=128, bias=True)\n",
       "      (1): ReLU(inplace=True)\n",
       "      (2): Linear(in_features=128, out_features=64, bias=True)\n",
       "      (3): ReLU(inplace=True)\n",
       "    )\n",
       "  )\n",
       "  (node_network): NodeNetwork(\n",
       "    (nodeseq): Sequential(\n",
       "      (0): Linear(in_features=130, out_features=128, bias=True)\n",
       "      (1): ReLU(inplace=True)\n",
       "      (2): Linear(in_features=128, out_features=64, bias=True)\n",
       "      (3): ReLU(inplace=True)\n",
       "    )\n",
       "  )\n",
       "  (edge_classifier): EdgeClassifier(\n",
       "    (classeq): Sequential(\n",
       "      (0): Linear(in_features=133, out_features=64, bias=True)\n",
       "      (1): ReLU(inplace=True)\n",
       "      (2): Linear(in_features=64, out_features=1, bias=True)\n",
       "      (3): Sigmoid()\n",
       "    )\n",
       "  )\n",
       ")"
      ]
     },
     "execution_count": 63,
     "metadata": {},
     "output_type": "execute_result"
    }
   ],
   "source": [
    "net"
   ]
  },
  {
   "cell_type": "code",
   "execution_count": 64,
   "metadata": {},
   "outputs": [
    {
     "data": {
      "image/png": "[encoded data removed]",
      "text/plain": [
       "<Figure size 900x450 with 2 Axes>"
      ]
     },
     "metadata": {},
     "output_type": "display_data"
    }
   ],
   "source": [
    "# for debugging\n",
    "\n",
    "from scipy.special import expit, logit\n",
    "\n",
    "fig,ax = plt.subplots(1,2,figsize=(6,3),dpi=150)\n",
    "\n",
    "ax[0].set_title('Target')\n",
    "ax[1].set_title('Model Prediction')\n",
    "\n",
    "net.eval()\n",
    "net.cpu()\n",
    "\n",
    "dgl_g = test_ds[5578][0]\n",
    "\n",
    "output_pred = net(dgl_g).data.numpy()\n",
    "\n",
    "nx_graph = dgl.to_networkx(dgl_g)\n",
    "pos = {i: dgl_g.ndata['node_features'][i][:2].data.numpy() for i in range(len(dgl_g.ndata['node_features']))} #nx.spring_layout(nx_graph)\n",
    "edge_list = [e for i,e in enumerate(nx_graph.edges) if dgl_g.edata['on_path'][i]==1]\n",
    "\n",
    "edge_widths = np.array([expit(output_pred[i][0]) for i in range(len(output_pred))])\n",
    "predicted_edge_list = [e for i,e in enumerate(nx_graph.edges) if expit(output_pred[i])[0]>=0.5]\n",
    "\n",
    "pos = nx.spring_layout(nx_graph)\n",
    "\n",
    "\n",
    "nx.draw( nx_graph ,pos=pos ,ax=ax[0] ,node_size=5,arrows=False)\n",
    "nx.draw_networkx_edges(nx_graph,pos=pos,edgelist=edge_list,width=2,edge_color='r',ax=ax[0],arrows=False)\n",
    "\n",
    "nx.draw( nx_graph ,pos=pos ,ax=ax[1] ,node_size=5,arrows=False)\n",
    "nx.draw_networkx_edges(nx_graph,pos=pos,edgelist=predicted_edge_list,width=2,edge_color='r',ax=ax[1],arrows=False)\n",
    "\n",
    "plt.show()"
   ]
  },
  {
   "cell_type": "markdown",
   "metadata": {},
   "source": [
    "### Once you train your network - \n",
    "### you can evaluate on the test dataset, and compute the rate of false positive, false negative, etc,\n",
    "### most of the edges in the dataset have a label 0, so its quite easy to reach a high true negative rate\n",
    "### but train until you reach at least 60% true positive rate while maintaining a 90%+ true negative rate, and submit"
   ]
  },
  {
   "cell_type": "markdown",
   "metadata": {},
   "source": [
    "tips\n",
    "fc net dont need to be big (1,2 hid layers)\n",
    "hid size can be 10, 50 \n",
    "number of iterations ~ consider how far node needs to see as to whether it is on the path (closer to n) "
   ]
  }
 ],
 "metadata": {
  "kernelspec": {
   "display_name": "Python 3",
   "language": "python",
   "name": "python3"
  },
  "language_info": {
   "codemirror_mode": {
    "name": "ipython",
    "version": 3
   },
   "file_extension": ".py",
   "mimetype": "text/x-python",
   "name": "python",
   "nbconvert_exporter": "python",
   "pygments_lexer": "ipython3",
   "version": "3.6.8"
  }
 },
 "nbformat": 4,
 "nbformat_minor": 4
}
