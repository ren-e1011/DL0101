{
 "cells": [
  {
   "cell_type": "code",
   "execution_count": 1,
   "metadata": {},
   "outputs": [],
   "source": [
    "#if youre running on colab, run this line first to properly load the h5 files\n",
    "# !pip install tables --upgrade"
   ]
  },
  {
   "cell_type": "code",
   "execution_count": 1,
   "metadata": {},
   "outputs": [],
   "source": [
    "# should be from pytorch_lightning.loggers import CometLogger\n",
    "from pytorch_lightning.loggers.comet import CometLogger"
   ]
  },
  {
   "cell_type": "code",
   "execution_count": 2,
   "metadata": {},
   "outputs": [],
   "source": [
    "import torch\n",
    "import torch.nn as nn\n",
    "import torch.nn.functional as F\n",
    "from torch.utils.data import Dataset, DataLoader, Sampler\n",
    "import glob\n",
    "from tqdm.notebook import tqdm\n",
    "import torch.optim as optim\n",
    "import pandas as pd\n",
    "import matplotlib.pyplot as plt\n",
    "import numpy as np"
   ]
  },
  {
   "cell_type": "code",
   "execution_count": 3,
   "metadata": {},
   "outputs": [
    {
     "data": {
      "text/plain": [
       "'1.15.4'"
      ]
     },
     "execution_count": 3,
     "metadata": {},
     "output_type": "execute_result"
    }
   ],
   "source": [
    "#maybe downgrade?\n",
    "np.__version__"
   ]
  },
  {
   "cell_type": "code",
   "execution_count": 4,
   "metadata": {},
   "outputs": [],
   "source": [
    "#!pip install numpy --upgrade"
   ]
  },
  {
   "cell_type": "markdown",
   "metadata": {},
   "source": [
    "# Homework 3\n",
    "## Point Cloud MNIST with DeepSet\n"
   ]
  },
  {
   "cell_type": "markdown",
   "metadata": {},
   "source": [
    "below you have a custom dataloader for the point-cloud MNIST dataset,\n",
    "\n",
    "the training and validation datasets are linked from the course website"
   ]
  },
  {
   "cell_type": "code",
   "execution_count": 5,
   "metadata": {},
   "outputs": [],
   "source": [
    "class CustomDataset(Dataset):\n",
    "    def __init__(self, path):\n",
    "        \n",
    "\n",
    "        \n",
    "        self.df = pd.read_hdf(path)\n",
    "        \n",
    "        self.label = torch.LongTensor(self.df.label)\n",
    "        \n",
    "        self.n_points = self.df.n_points\n",
    "        \n",
    "        \n",
    "    def __len__(self):\n",
    "       \n",
    "        return len(self.label)\n",
    "\n",
    "\n",
    "    def __getitem__(self, idx):\n",
    "        \n",
    "    #mod requires_grad=True\n",
    "        return torch.FloatTensor(self.df.iloc[idx].xy), self.label[idx]\n",
    "#         return torch.tensor(self.df.iloc[idx].xy,dtype=torch.float, requires_grad=True), self.label[idx]\n"
   ]
  },
  {
   "cell_type": "code",
   "execution_count": 41,
   "metadata": {},
   "outputs": [],
   "source": [
    "# ds = CustomDataset('./storage/data_for_pointcloud_MNIST/training_ds.h5')"
   ]
  },
  {
   "cell_type": "code",
   "execution_count": 8,
   "metadata": {},
   "outputs": [],
   "source": [
    "# ds = CustomDataset('training_ds.h5')"
   ]
  },
  {
   "cell_type": "code",
   "execution_count": 7,
   "metadata": {},
   "outputs": [],
   "source": [
    "ds = CustomDataset('~/Dropbox/data_for_pointcloud_MNIST/training_ds.h5')"
   ]
  },
  {
   "cell_type": "markdown",
   "metadata": {},
   "source": [
    "#### the data is exactly like the MNIST dataset, except that instead of a 28x28 image,\n",
    "#### you get a (N x 2) array of points (different number of points for each item in the dataset) "
   ]
  },
  {
   "cell_type": "code",
   "execution_count": 9,
   "metadata": {},
   "outputs": [
    {
     "data": {
      "image/png": "[encoded data removed]",
      "text/plain": [
       "<Figure size 360x360 with 1 Axes>"
      ]
     },
     "metadata": {
      "needs_background": "light"
     },
     "output_type": "display_data"
    }
   ],
   "source": [
    "fig,ax = plt.subplots(figsize=(5,5))\n",
    "\n",
    "xy = ds[445][0]\n",
    "\n",
    "ax.scatter( xy[:,0],xy[:,1] )\n",
    "\n",
    "ax.set_axis_off()\n",
    "\n",
    "plt.show()"
   ]
  },
  {
   "cell_type": "markdown",
   "metadata": {},
   "source": [
    "### the dataset object has a n_points variable that tells us how many points in each item"
   ]
  },
  {
   "cell_type": "code",
   "execution_count": 10,
   "metadata": {},
   "outputs": [
    {
     "data": {
      "image/png": "[encoded data removed]",
      "text/plain": [
       "<Figure size 432x288 with 1 Axes>"
      ]
     },
     "metadata": {
      "needs_background": "light"
     },
     "output_type": "display_data"
    }
   ],
   "source": [
    "plt.hist(ds.n_points,np.linspace(19.5,260.5,242))\n",
    "plt.show()"
   ]
  },
  {
   "cell_type": "markdown",
   "metadata": {},
   "source": [
    "## One way to deal with this variable size is to use a custom Batch Sampler\n",
    "\n",
    "https://pytorch.org/docs/stable/data.html\n",
    "\n",
    "This object will tell our dataloader which item indices to request for the batches - \n",
    "and we can \"rig\" it to return batches where all the items have the same N, and therefore we can stack them without a custom colate function"
   ]
  },
  {
   "cell_type": "code",
   "execution_count": 12,
   "metadata": {},
   "outputs": [],
   "source": [
    "class CustomBatchSampler(Sampler):\n",
    "    def __init__(self, points_per_entry, batch_size):\n",
    "        \n",
    "        self.batch_size = batch_size\n",
    "        self.N_per_entry = points_per_entry\n",
    "        self.batches = {}\n",
    "        # hacky\n",
    "        self.n_batches = 246\n",
    "        \n",
    "    def generate_batches(self):\n",
    "        \n",
    "        self.entries_with_N = {}\n",
    "        running_idx = -1\n",
    "\n",
    "        for N in set(self.N_per_entry):\n",
    "            \n",
    "            self.entries_with_N[N] = np.where(self.N_per_entry == N)[0]\n",
    "\n",
    "            how_many = len(self.entries_with_N[N])\n",
    "            n_batches = np.amax([ how_many / self.batch_size, 1])\n",
    "\n",
    "            self.entries_with_N[N] = np.array_split(np.random.permutation(self.entries_with_N[N]),\n",
    "                                                           n_batches)\n",
    "            for batch in self.entries_with_N[N]:\n",
    "                running_idx += 1\n",
    "                #MOD\n",
    "#                 self.batches[running_idx] = batch\n",
    "                self.batches[running_idx] = batch\n",
    "                \n",
    "        self.n_batches = running_idx + 1\n",
    "\n",
    "    def __len__(self):\n",
    "        return self.n_batches\n",
    "\n",
    "    def __iter__(self):\n",
    "        \n",
    "        self.generate_batches()\n",
    "        \n",
    "        batch_order = np.random.permutation(np.arange(self.n_batches))\n",
    "        for i in batch_order:\n",
    "            yield self.batches[i]"
   ]
  },
  {
   "cell_type": "code",
   "execution_count": 13,
   "metadata": {},
   "outputs": [],
   "source": [
    "batch_size = 50\n",
    "batch_sampler = CustomBatchSampler(ds.n_points, batch_size)\n",
    "data_loader = DataLoader(ds, batch_sampler=batch_sampler)"
   ]
  },
  {
   "cell_type": "code",
   "execution_count": 14,
   "metadata": {},
   "outputs": [],
   "source": [
    "for sample in data_loader:\n",
    "    x,y = sample\n",
    "    break"
   ]
  },
  {
   "cell_type": "markdown",
   "metadata": {},
   "source": [
    "## Building a DeepSet model\n",
    "\n",
    "you only have three components - a fully connected network that creates the node embedding, a sum operation, and a classifier"
   ]
  },
  {
   "cell_type": "markdown",
   "metadata": {},
   "source": [
    "## build the model, train, submit when you reach above 75% accuracy on the validation set:"
   ]
  },
  {
   "cell_type": "code",
   "execution_count": 15,
   "metadata": {},
   "outputs": [],
   "source": [
    "import pytorch_lightning as pl"
   ]
  },
  {
   "cell_type": "code",
   "execution_count": 16,
   "metadata": {},
   "outputs": [],
   "source": [
    "# path_to_training_data = './storage/data_for_pointcloud_MNIST/training_ds.h5'"
   ]
  },
  {
   "cell_type": "code",
   "execution_count": 17,
   "metadata": {},
   "outputs": [],
   "source": [
    "# path_to_validation_data = './storage/data_for_pointcloud_MNIST/valid_ds.h5'"
   ]
  },
  {
   "cell_type": "code",
   "execution_count": 26,
   "metadata": {},
   "outputs": [],
   "source": [
    "path_to_training_data = '~/Dropbox/data_for_pointcloud_MNIST/training_ds.h5'\n",
    "path_to_validation_data = '~/Dropbox/data_for_pointcloud_MNIST/valid_ds.h5'"
   ]
  },
  {
   "cell_type": "code",
   "execution_count": 27,
   "metadata": {},
   "outputs": [],
   "source": [
    "NUM_CLASSES = 10"
   ]
  },
  {
   "cell_type": "code",
   "execution_count": 28,
   "metadata": {},
   "outputs": [],
   "source": [
    "LOSS_FUNC = F.cross_entropy"
   ]
  },
  {
   "cell_type": "code",
   "execution_count": 35,
   "metadata": {},
   "outputs": [],
   "source": [
    "# class ImageClassifier(nn.Module):\n",
    "class DeepSet(pl.LightningModule):\n",
    "    \n",
    "    def __init__(self):        \n",
    "        super().__init__()\n",
    "        \n",
    "        \n",
    "        \n",
    "        self.hidsize = 16\n",
    "        \n",
    "        \n",
    "        #MOD\n",
    "        self.embedding = nn.Linear(2,self.hidsize)\n",
    "        \n",
    "        \n",
    "        self.classifier = nn.Sequential(\n",
    "        \n",
    "            # mod by feat\n",
    "            nn.Linear(self.hidsize,4096),\n",
    "            \n",
    "            nn.ReLU(True),\n",
    "            nn.Dropout(),\n",
    "            nn.Linear(4096, 4096),\n",
    "            nn.ReLU(True),\n",
    "            # MOD\n",
    "            nn.Dropout(),\n",
    "            #num_classes = 10\n",
    "            nn.Linear(4096, NUM_CLASSES),\n",
    "        )\n",
    "        \n",
    "    def forward(self, batch):\n",
    "        \n",
    "#         print('in',batch.shape)\n",
    "        # not helping\n",
    "        batch.requires_grad_(True)\n",
    "#         print(batch)\n",
    "        \n",
    "#         self.hidsize = 2048\n",
    "        \n",
    "        out = self.embedding(batch)\n",
    "        \n",
    "        out = torch.mean(out,dim=1)\n",
    "\n",
    "        out = self.classifier(out)\n",
    "        \n",
    "#         print('out',out)\n",
    "        \n",
    "#         print ('out',out.shape)\n",
    "#         print('out.grad_fn',out.grad_fn)\n",
    "        return out\n",
    "    \n",
    "    \n",
    "    def train_dataloader(self):\n",
    "        dataset_train = CustomDataset(path_to_training_data)\n",
    "        batch_sampler = CustomBatchSampler(dataset_train.n_points, batch_size=50)\n",
    "#         self.Ns = batch_sampler.entries\n",
    "        return DataLoader(dataset_train,batch_sampler=batch_sampler,num_workers=4)\n",
    "\n",
    "    def val_dataloader(self):\n",
    "        dataset_val = CustomDataset(path_to_validation_data)\n",
    "        batch_sampler_val = CustomBatchSampler(dataset_val.n_points,batch_size=50)\n",
    "        return DataLoader(dataset_val,batch_sampler=batch_sampler_val,num_workers=4)\n",
    "    \n",
    "    def configure_optimizers(self):\n",
    "        return torch.optim.Adam(self.parameters(), lr=1e-3)\n",
    "    \n",
    "    \n",
    "    def training_step(self,batch,batch_idx):\n",
    "#         print('batch_ix',batch_idx)\n",
    "#         print('batch',batch)\n",
    "        minib,target = batch\n",
    "        yhat = self(minib)\n",
    "#         print('yhat',yhat)\n",
    "#         print('target',target)\n",
    "#         out = self.forward(minib)\n",
    "        loss = LOSS_FUNC(yhat,target)\n",
    "        loss.requires_grad_(True)\n",
    "#         print('loss.requires_grad',loss.requires_grad)\n",
    "#         print('loss',loss)\n",
    "        \n",
    "    \n",
    "        # try this\n",
    "#         pred = yhat.argmax(dim=1, keepdim=True) #get ix of max log-proba\n",
    "#         correct = pred.eq(target.view_as(pred)).sum().item()\n",
    "#         accuracy = correct/len(minib)\n",
    "        \n",
    "#         # add logging\n",
    "#         logs = {'train_loss': loss,'train_accuracy':accuracy}\n",
    "        logs = {'train_loss':loss}\n",
    "#         print('logs',logs)\n",
    "        return {'loss': loss, 'log': logs}\n",
    "#         return loss\n",
    "    \n",
    "    def validation_step(self,batch,batch_idx):\n",
    "        minib, target = batch\n",
    "#         out = self.forward(minib)\n",
    "        yhat = self(minib)\n",
    "#         print('valid y_hat',yhat.shape)\n",
    "        loss = LOSS_FUNC(yhat,target)\n",
    "        \n",
    "        pred = yhat.argmax(dim=1, keepdim=True) #get ix of max log-proba\n",
    "#         print('valid pred',pred.shape)\n",
    "        correct = pred.eq(target.view_as(pred)).sum().item()\n",
    "        #mod to torch.tensor forr avg_acc\n",
    "        accuracy = torch.tensor(correct/len(minib))\n",
    "        \n",
    "#         logs = {'train_loss': loss,'val_accuracy':accuracy}\n",
    "#         return {'val_loss': loss, 'log': logs}\n",
    "        \n",
    "        return {'val_step_loss':loss, 'val_step_acc':accuracy}\n",
    "        \n",
    "    \n",
    "    def validation_epoch_end(self, outputs):\n",
    "        #TODO imbalanced given each batch is of a different size...\n",
    "        avg_loss = torch.stack([x['val_step_loss'] for x in outputs]).mean()\n",
    "        avg_acc = torch.stack([x['val_step_acc'] for x in outputs]).mean()\n",
    "        \n",
    "        \n",
    "        tqdm_dict = {'val_acc': avg_acc.item()}\n",
    "\n",
    "        # show val_acc in progress bar but only log val_loss\n",
    "        results = {\n",
    "            'progress_bar': tqdm_dict,\n",
    "            'log': {'val_acc': avg_acc.item(),\n",
    "                    'val_loss': avg_loss.item()\n",
    "                   }\n",
    "        }\n",
    "        return results\n",
    "#         logs = {'val_loss':avg_loss}\n",
    "#         return {'avg_val_loss':avg_loss, 'log':tensorboard_logs}"
   ]
  },
  {
   "cell_type": "code",
   "execution_count": 292,
   "metadata": {},
   "outputs": [],
   "source": [
    "# from pytorch_lightning.callbacks import Callback\n",
    "\n",
    "# class MyPrintingCallback(Callback):\n",
    "\n",
    "#     def on_init_start(self, trainer):\n",
    "#         print('Starting to init trainer!')\n",
    "\n",
    "#     def on_init_end(self, trainer):\n",
    "#         print('Trainer is init now')\n",
    "\n",
    "#     def on_train_end(self, trainer, pl_module):\n",
    "#         print('do something when training ends')"
   ]
  },
  {
   "cell_type": "code",
   "execution_count": 293,
   "metadata": {},
   "outputs": [],
   "source": [
    "# trainer = Trainer(callbacks=[MyPrintingCallback()])"
   ]
  },
  {
   "cell_type": "code",
   "execution_count": 36,
   "metadata": {},
   "outputs": [],
   "source": [
    "net = DeepSet()"
   ]
  },
  {
   "cell_type": "code",
   "execution_count": 22,
   "metadata": {},
   "outputs": [],
   "source": [
    "experiment = 'deepsettest'"
   ]
  },
  {
   "cell_type": "code",
   "execution_count": 23,
   "metadata": {},
   "outputs": [
    {
     "name": "stderr",
     "output_type": "stream",
     "text": [
      "CometLogger will be initialized in online mode\n",
      "COMET INFO: old comet version (3.1.8) detected. current: 3.1.11 please update your comet lib with command: `pip install --no-cache-dir --upgrade comet_ml`\n",
      "COMET INFO: Experiment is live on comet.ml https://www.comet.ml/ren-e1011/dl1010-a3/cad15a2b22cb423c85c3f0c6d419763b\n",
      "\n"
     ]
    }
   ],
   "source": [
    "comet_logger = CometLogger(\n",
    "    api_key='n0QCcEJ7YYeDUkff49kqLEdeJ',\n",
    "    workspace=\"ren-e1011\",\n",
    "    project_name=\"dl1010-a3\", \n",
    "    experiment_name=experiment  \n",
    ")"
   ]
  },
  {
   "cell_type": "code",
   "execution_count": 37,
   "metadata": {},
   "outputs": [
    {
     "name": "stderr",
     "output_type": "stream",
     "text": [
      "Running in fast_dev_run mode: will run a full train, val and test loop using a single batch\n",
      "GPU available: False, used: False\n",
      "No environment variable for node rank defined. Set as 0.\n"
     ]
    }
   ],
   "source": [
    "trainer = pl.Trainer(fast_dev_run=True)"
   ]
  },
  {
   "cell_type": "code",
   "execution_count": 38,
   "metadata": {},
   "outputs": [
    {
     "name": "stderr",
     "output_type": "stream",
     "text": [
      "\n",
      "  | Name         | Type       | Params\n",
      "----------------------------------------\n",
      "0 | embedding    | Linear     | 48    \n",
      "1 | classifier   | Sequential | 16 M  \n",
      "2 | classifier.0 | Linear     | 69 K  \n",
      "3 | classifier.1 | ReLU       | 0     \n",
      "4 | classifier.2 | Dropout    | 0     \n",
      "5 | classifier.3 | Linear     | 16 M  \n",
      "6 | classifier.4 | ReLU       | 0     \n",
      "7 | classifier.5 | Dropout    | 0     \n",
      "8 | classifier.6 | Linear     | 40 K  \n"
     ]
    },
    {
     "data": {
      "application/vnd.jupyter.widget-view+json": {
       "model_id": "d9ac58dd38584b208a3c370de75321b6",
       "version_major": 2,
       "version_minor": 0
      },
      "text/plain": [
       "HBox(children=(FloatProgress(value=1.0, bar_style='info', description='Training', layout=Layout(flex='2'), max…"
      ]
     },
     "metadata": {},
     "output_type": "display_data"
    },
    {
     "data": {
      "application/vnd.jupyter.widget-view+json": {
       "model_id": "939cd39f3f9049a095b3f7bf36582f0d",
       "version_major": 2,
       "version_minor": 0
      },
      "text/plain": [
       "HBox(children=(FloatProgress(value=1.0, bar_style='info', description='Validating', layout=Layout(flex='2'), m…"
      ]
     },
     "metadata": {},
     "output_type": "display_data"
    },
    {
     "name": "stdout",
     "output_type": "stream",
     "text": [
      "\n"
     ]
    },
    {
     "name": "stderr",
     "output_type": "stream",
     "text": [
      "/Users/renee/opt/anaconda3/envs/dl1010/lib/python3.7/site-packages/pytorch_lightning/utilities/distributed.py:23: RuntimeWarning: The metric you returned 6.509487628936768 must be a Torch.Tensor instance, checkpoint not saved HINT: what is the value of val_loss in validation_end()?\n",
      "  warnings.warn(*args, **kwargs)\n"
     ]
    },
    {
     "data": {
      "text/plain": [
       "1"
      ]
     },
     "execution_count": 38,
     "metadata": {},
     "output_type": "execute_result"
    }
   ],
   "source": [
    "trainer.fit(net)"
   ]
  },
  {
   "cell_type": "code",
   "execution_count": 39,
   "metadata": {},
   "outputs": [],
   "source": [
    "def compute_accuracy(data_loader,net):\n",
    "    \n",
    "    net.eval()\n",
    "    \n",
    "    total_number = 0\n",
    "    total_correct = 0\n",
    "    \n",
    "    for x,y in data_loader:\n",
    "        \n",
    "        prediction = net(x).data.numpy()\n",
    "        \n",
    "        prediction = np.argmax(prediction,axis=1)\n",
    "        \n",
    "        correct = len( np.where(prediction==y.data.numpy())[0] )\n",
    "        \n",
    "        total_correct+=correct\n",
    "        total_number+=x.shape[0]\n",
    "        \n",
    "    return total_correct/float(total_number)"
   ]
  },
  {
   "cell_type": "code",
   "execution_count": 40,
   "metadata": {},
   "outputs": [
    {
     "data": {
      "text/plain": [
       "0.1135"
      ]
     },
     "execution_count": 40,
     "metadata": {},
     "output_type": "execute_result"
    }
   ],
   "source": [
    "test_ds = CustomDataset(path_to_validation_data)\n",
    "batch_size = 50\n",
    "batch_sampler_test_ds = CustomBatchSampler(test_ds.n_points, batch_size)\n",
    "data_loader_test = DataLoader(test_ds, batch_sampler=batch_sampler_test_ds)\n",
    "\n",
    "compute_accuracy(data_loader_test,net)"
   ]
  }
 ],
 "metadata": {
  "kernelspec": {
   "display_name": "Python dl1010",
   "language": "python",
   "name": "dl1010"
  },
  "language_info": {
   "codemirror_mode": {
    "name": "ipython",
    "version": 3
   },
   "file_extension": ".py",
   "mimetype": "text/x-python",
   "name": "python",
   "nbconvert_exporter": "python",
   "pygments_lexer": "ipython3",
   "version": "3.7.7"
  }
 },
 "nbformat": 4,
 "nbformat_minor": 4
}
