{
 "cells": [
  {
   "cell_type": "code",
   "execution_count": 4,
   "metadata": {},
   "outputs": [
    {
     "name": "stdout",
     "output_type": "stream",
     "text": [
      "Collecting tables\n",
      "  Downloading tables-3.6.1-cp36-cp36m-manylinux1_x86_64.whl (4.3 MB)\n",
      "\u001b[K     |████████████████████████████████| 4.3 MB 14.5 MB/s eta 0:00:01\n",
      "\u001b[?25hRequirement already satisfied, skipping upgrade: numpy>=1.9.3 in /usr/local/lib/python3.6/dist-packages (from tables) (1.18.5)\n",
      "Collecting numexpr>=2.6.2\n",
      "  Downloading numexpr-2.7.1-cp36-cp36m-manylinux1_x86_64.whl (162 kB)\n",
      "\u001b[K     |████████████████████████████████| 162 kB 69.4 MB/s eta 0:00:01\n",
      "\u001b[?25hInstalling collected packages: numexpr, tables\n",
      "Successfully installed numexpr-2.7.1 tables-3.6.1\n"
     ]
    }
   ],
   "source": [
    "#if youre running on colab, run this line first to properly load the h5 files\n",
    "# !pip install tables --upgrade"
   ]
  },
  {
   "cell_type": "code",
   "execution_count": 1,
   "metadata": {},
   "outputs": [],
   "source": [
    "# should be from pytorch_lightning.loggers import CometLogger\n",
    "from pytorch_lightning.loggers.comet import CometLogger"
   ]
  },
  {
   "cell_type": "code",
   "execution_count": 2,
   "metadata": {},
   "outputs": [],
   "source": [
    "import torch\n",
    "import torch.nn as nn\n",
    "import torch.nn.functional as F\n",
    "from torch.utils.data import Dataset, DataLoader, Sampler\n",
    "import glob\n",
    "from tqdm.notebook import tqdm\n",
    "import torch.optim as optim\n",
    "import pandas as pd\n",
    "import matplotlib.pyplot as plt\n",
    "import numpy as np"
   ]
  },
  {
   "cell_type": "code",
   "execution_count": 116,
   "metadata": {},
   "outputs": [
    {
     "data": {
      "text/plain": [
       "'1.18.5'"
      ]
     },
     "execution_count": 116,
     "metadata": {},
     "output_type": "execute_result"
    }
   ],
   "source": [
    "#maybe downgrade?\n",
    "np.__version__"
   ]
  },
  {
   "cell_type": "code",
   "execution_count": 30,
   "metadata": {},
   "outputs": [
    {
     "name": "stdout",
     "output_type": "stream",
     "text": [
      "Collecting numpy\n",
      "  Using cached numpy-1.18.5-cp36-cp36m-manylinux1_x86_64.whl (20.1 MB)\n",
      "Installing collected packages: numpy\n",
      "  Attempting uninstall: numpy\n",
      "    Found existing installation: numpy 1.15.4\n",
      "    Uninstalling numpy-1.15.4:\n",
      "      Successfully uninstalled numpy-1.15.4\n",
      "Successfully installed numpy-1.18.5\n"
     ]
    }
   ],
   "source": [
    "#!pip install numpy --upgrade"
   ]
  },
  {
   "cell_type": "markdown",
   "metadata": {},
   "source": [
    "# Homework 3\n",
    "## Point Cloud MNIST with DeepSet\n"
   ]
  },
  {
   "cell_type": "markdown",
   "metadata": {},
   "source": [
    "below you have a custom dataloader for the point-cloud MNIST dataset,\n",
    "\n",
    "the training and validation datasets are linked from the course website"
   ]
  },
  {
   "cell_type": "code",
   "execution_count": 4,
   "metadata": {},
   "outputs": [],
   "source": [
    "class CustomDataset(Dataset):\n",
    "    def __init__(self, path):\n",
    "        \n",
    "\n",
    "        \n",
    "        self.df = pd.read_hdf(path)\n",
    "        \n",
    "        self.label = torch.LongTensor(self.df.label)\n",
    "        \n",
    "        self.n_points = self.df.n_points\n",
    "        \n",
    "        \n",
    "    def __len__(self):\n",
    "       \n",
    "        return len(self.label)\n",
    "\n",
    "\n",
    "    def __getitem__(self, idx):\n",
    "        \n",
    "    \n",
    "        return torch.FloatTensor(self.df.iloc[idx].xy), self.label[idx]"
   ]
  },
  {
   "cell_type": "code",
   "execution_count": 5,
   "metadata": {},
   "outputs": [],
   "source": [
    "ds = CustomDataset('./storage/data_for_pointcloud_MNIST/training_ds.h5')"
   ]
  },
  {
   "cell_type": "code",
   "execution_count": 10,
   "metadata": {},
   "outputs": [],
   "source": [
    "# ds = CustomDataset('training_ds.h5')"
   ]
  },
  {
   "cell_type": "markdown",
   "metadata": {},
   "source": [
    "#### the data is exactly like the MNIST dataset, except that instead of a 28x28 image,\n",
    "#### you get a (N x 2) array of points (different number of points for each item in the dataset) "
   ]
  },
  {
   "cell_type": "code",
   "execution_count": 117,
   "metadata": {},
   "outputs": [
    {
     "data": {
      "image/png": "[encoded data removed]",
      "text/plain": [
       "<Figure size 360x360 with 1 Axes>"
      ]
     },
     "metadata": {
      "needs_background": "light"
     },
     "output_type": "display_data"
    }
   ],
   "source": [
    "fig,ax = plt.subplots(figsize=(5,5))\n",
    "\n",
    "xy = ds[445][0]\n",
    "\n",
    "ax.scatter( xy[:,0],xy[:,1] )\n",
    "\n",
    "ax.set_axis_off()\n",
    "\n",
    "plt.show()"
   ]
  },
  {
   "cell_type": "markdown",
   "metadata": {},
   "source": [
    "### the dataset object has a n_points variable that tells us how many points in each item"
   ]
  },
  {
   "cell_type": "code",
   "execution_count": 9,
   "metadata": {},
   "outputs": [
    {
     "data": {
      "image/png": "[encoded data removed]",
      "text/plain": [
       "<Figure size 432x288 with 1 Axes>"
      ]
     },
     "metadata": {
      "needs_background": "light"
     },
     "output_type": "display_data"
    }
   ],
   "source": [
    "plt.hist(ds.n_points,np.linspace(19.5,260.5,242))\n",
    "plt.show()"
   ]
  },
  {
   "cell_type": "markdown",
   "metadata": {},
   "source": [
    "## One way to deal with this variable size is to use a custom Batch Sampler\n",
    "\n",
    "https://pytorch.org/docs/stable/data.html\n",
    "\n",
    "This object will tell our dataloader which item indices to request for the batches - \n",
    "and we can \"rig\" it to return batches where all the items have the same N, and therefore we can stack them without a custom colate function"
   ]
  },
  {
   "cell_type": "code",
   "execution_count": 17,
   "metadata": {},
   "outputs": [],
   "source": [
    "class CustomBatchSampler(Sampler):\n",
    "    def __init__(self, points_per_entry, batch_size):\n",
    "        \n",
    "        self.batch_size = batch_size\n",
    "        self.N_per_entry = points_per_entry\n",
    "        self.batches = {}\n",
    "        # hacky\n",
    "        self.n_batches = 246\n",
    "        \n",
    "    def generate_batches(self):\n",
    "        \n",
    "        self.entries_with_N = {}\n",
    "        running_idx = -1\n",
    "\n",
    "        for N in set(self.N_per_entry):\n",
    "            \n",
    "            self.entries_with_N[N] = np.where(self.N_per_entry == N)[0]\n",
    "\n",
    "            how_many = len(self.entries_with_N[N])\n",
    "            n_batches = np.amax([ how_many / self.batch_size, 1])\n",
    "\n",
    "            self.entries_with_N[N] = np.array_split(np.random.permutation(self.entries_with_N[N]),\n",
    "                                                           n_batches)\n",
    "            for batch in self.entries_with_N[N]:\n",
    "                running_idx += 1\n",
    "                self.batches[running_idx] = batch\n",
    "        self.n_batches = running_idx + 1\n",
    "\n",
    "    def __len__(self):\n",
    "        return self.n_batches\n",
    "\n",
    "    def __iter__(self):\n",
    "        \n",
    "        self.generate_batches()\n",
    "        \n",
    "        batch_order = np.random.permutation(np.arange(self.n_batches))\n",
    "        for i in batch_order:\n",
    "            yield self.batches[i]"
   ]
  },
  {
   "cell_type": "code",
   "execution_count": 11,
   "metadata": {},
   "outputs": [],
   "source": [
    "batch_size = 50\n",
    "batch_sampler = CustomBatchSampler(ds.n_points, batch_size)\n",
    "data_loader = DataLoader(ds, batch_sampler=batch_sampler)"
   ]
  },
  {
   "cell_type": "code",
   "execution_count": 60,
   "metadata": {},
   "outputs": [],
   "source": [
    "for sample in data_loader:\n",
    "    x,y = sample\n",
    "    break"
   ]
  },
  {
   "cell_type": "markdown",
   "metadata": {},
   "source": [
    "## Building a DeepSet model\n",
    "\n",
    "you only have three components - a fully connected network that creates the node embedding, a sum operation, and a classifier"
   ]
  },
  {
   "cell_type": "code",
   "execution_count": 90,
   "metadata": {},
   "outputs": [
    {
     "data": {
      "text/plain": [
       "(torch.Size([345, 5]), torch.Size([345, 76, 5]))"
      ]
     },
     "execution_count": 90,
     "metadata": {},
     "output_type": "execute_result"
    }
   ],
   "source": [
    "# the linear layer operates on the last dimension:\n",
    "\n",
    "linear_layer = nn.Linear(10,5)\n",
    "\n",
    "x1,x2 = linear_layer(  torch.rand((345,10)) ), linear_layer(  torch.rand((345,76,10)) )\n",
    "x1.shape, x2.shape"
   ]
  },
  {
   "cell_type": "code",
   "execution_count": 128,
   "metadata": {},
   "outputs": [
    {
     "data": {
      "text/plain": [
       "torch.Size([345, 5])"
      ]
     },
     "execution_count": 128,
     "metadata": {},
     "output_type": "execute_result"
    }
   ],
   "source": [
    "torch.mean(x2,dim=1).shape"
   ]
  },
  {
   "cell_type": "code",
   "execution_count": 28,
   "metadata": {},
   "outputs": [
    {
     "data": {
      "text/plain": [
       "torch.Size([42, 10])"
      ]
     },
     "execution_count": 28,
     "metadata": {},
     "output_type": "execute_result"
    }
   ],
   "source": [
    "# for the the mean operation you need to specify the dimension:\n",
    "\n",
    "x = torch.rand((42,15,10))\n",
    "\n",
    "torch.mean(x,dim=1).shape"
   ]
  },
  {
   "cell_type": "markdown",
   "metadata": {},
   "source": [
    "## build the model, train, submit when you reach above 75% accuracy on the validation set:"
   ]
  },
  {
   "cell_type": "code",
   "execution_count": 12,
   "metadata": {},
   "outputs": [],
   "source": [
    "import pytorch_lightning as pl"
   ]
  },
  {
   "cell_type": "code",
   "execution_count": 13,
   "metadata": {},
   "outputs": [],
   "source": [
    "path_to_training_data = './storage/data_for_pointcloud_MNIST/training_ds.h5'"
   ]
  },
  {
   "cell_type": "code",
   "execution_count": 14,
   "metadata": {},
   "outputs": [],
   "source": [
    "path_to_validation_data = './storage/data_for_pointcloud_MNIST/valid_ds.h5'"
   ]
  },
  {
   "cell_type": "code",
   "execution_count": 15,
   "metadata": {},
   "outputs": [],
   "source": [
    "NUM_CLASSES = 10"
   ]
  },
  {
   "cell_type": "code",
   "execution_count": 16,
   "metadata": {},
   "outputs": [],
   "source": [
    "LOSS_FUNC = F.cross_entropy"
   ]
  },
  {
   "cell_type": "code",
   "execution_count": 123,
   "metadata": {},
   "outputs": [],
   "source": [
    "# class ImageClassifier(nn.Module):\n",
    "class DeepSet(pl.LightningModule):\n",
    "    def __init__(self):        \n",
    "        super().__init__()\n",
    "        \n",
    "        \n",
    "        \n",
    "        self.hidsize = 2048\n",
    "        \n",
    "        \n",
    "        #MOD\n",
    "        self.embedding = nn.Linear(2,self.hidsize).requires_grad_(False)\n",
    "    \n",
    "        \n",
    "        \n",
    "        self.classifier = nn.Sequential(\n",
    "        \n",
    "            \n",
    "#             nn.Linear(2,hidsize)\n",
    "            nn.ReLU(True),\n",
    "            # try batchnorm, dropout\n",
    "            #nn.Dropout(),\n",
    "#             nn.Linear(hidsize, 4096),\n",
    "#             nn.ReLU(True),\n",
    "#             # MOD\n",
    "#             nn.Dropout(),\n",
    "            #num_classes = 10\n",
    "            nn.Linear(self.hidsize, NUM_CLASSES),\n",
    "        )\n",
    "        \n",
    "    def forward(self, batch):\n",
    "        \n",
    "#         self.hidsize = 2048\n",
    "        \n",
    "        \n",
    "        \n",
    "        out = self.embedding(batch)\n",
    "        #MOD..also, requires_grad?\n",
    "        out = torch.mean(out,dim=1).clone().detach().requires_grad_(False)\n",
    "        \n",
    "#         out = self.features(x)\n",
    "        \n",
    "#         # what does this accomplish \n",
    "#         out = self.avgpool(out)\n",
    "#         out = torch.flatten(out,1)\n",
    "        out = self.classifier(out)\n",
    "        \n",
    "        ##### pass through the rest of your model\n",
    "        \n",
    "        return out\n",
    "    \n",
    "    def train_dataloader(self):\n",
    "        dataset_train = CustomDataset(path_to_training_data)\n",
    "        batch_sampler = CustomBatchSampler(dataset_train.n_points, batch_size=50)\n",
    "#         self.Ns = batch_sampler.entries\n",
    "        return DataLoader(dataset_train,batch_sampler=batch_sampler,num_workers=4)\n",
    "\n",
    "    def val_dataloader(self):\n",
    "        dataset_val = CustomDataset(path_to_validation_data)\n",
    "        batch_sampler_val = CustomBatchSampler(dataset_val.n_points,batch_size=50)\n",
    "        return DataLoader(dataset_val,batch_sampler=batch_sampler_val,num_workers=4)\n",
    "    \n",
    "    def configure_optimizers(self):\n",
    "        return torch.optim.Adam(self.parameters(), lr=1e-3)\n",
    "        \n",
    "    \n",
    "    def training_step(self,batch,batch_idx):\n",
    "        print('batch_ix',batch_idx)\n",
    "        print('batch',batch)\n",
    "        minib,target = batch\n",
    "        yhat = self(minib)\n",
    "        print('yhat',yhat)\n",
    "        print('target',target)\n",
    "#         out = self.forward(minib)\n",
    "        loss = LOSS_FUNC(yhat,target)\n",
    "        print('loss',loss)\n",
    "        \n",
    "    \n",
    "        # try this\n",
    "        pred = yhat.argmax(dim=1, keepdim=True) #get ix of max log-proba\n",
    "        correct = pred.eq(target.view_as(pred)).sum().item()\n",
    "        accuracy = correct/len(minib)\n",
    "        \n",
    "        # add logging\n",
    "        logs = {'train_loss': loss,'train_accuracy':accuracy}\n",
    "        return {'loss': loss, 'log': logs}\n",
    "#         return loss\n",
    "    \n",
    "    def validation_step(self,batch,batch_idx):\n",
    "        minib, target = batch\n",
    "#         out = self.forward(minib)\n",
    "        yhat = self(minib)\n",
    "        loss = LOSS_FUNC(yhat,target)\n",
    "        \n",
    "        pred = out.argmax(dim=1, keepdim=True) #get ix of max log-proba\n",
    "        correct = pred.eq(target.view_as(pred)).sum().item()\n",
    "        accuracy = correct/len(minib)\n",
    "        \n",
    "#         logs = {'train_loss': loss,'val_accuracy':accuracy}\n",
    "#         return {'val_loss': loss, 'log': logs}\n",
    "        \n",
    "        return OrderedDict({'val_step_loss':loss, 'val_step_acc':accuracy})\n",
    "        \n",
    "    \n",
    "    def validation_epoch_end(self, outputs):\n",
    "        #TODO imbalanced given each batch is of a different size...\n",
    "        avg_loss = torch.stack([x['val_step_loss'] for x in outputs]).mean()\n",
    "        avg_acc = torch.stack([x['val_step_acc'] for x in outputs]).mean()\n",
    "        \n",
    "        \n",
    "        tqdm_dict = {'val_acc': avg_acc.item()}\n",
    "\n",
    "        # show val_acc in progress bar but only log val_loss\n",
    "        results = {\n",
    "            'progress_bar': tqdm_dict,\n",
    "            'log': {'val_acc': avg_acc.item(),\n",
    "                    'val_loss': avg_loss.item()\n",
    "                   }\n",
    "        }\n",
    "        return results\n",
    "#         logs = {'val_loss':avg_loss}\n",
    "#         return {'avg_val_loss':avg_loss, 'log':tensorboard_logs}"
   ]
  },
  {
   "cell_type": "code",
   "execution_count": 119,
   "metadata": {},
   "outputs": [
    {
     "data": {
      "text/plain": [
       "torch.Size([51, 87, 2])"
      ]
     },
     "execution_count": 119,
     "metadata": {},
     "output_type": "execute_result"
    }
   ],
   "source": [
    "x.shape"
   ]
  },
  {
   "cell_type": "code",
   "execution_count": null,
   "metadata": {},
   "outputs": [],
   "source": [
    "# from pytorch_lightning.callbacks import Callback\n",
    "\n",
    "# class MyPrintingCallback(Callback):\n",
    "\n",
    "#     def on_init_start(self, trainer):\n",
    "#         print('Starting to init trainer!')\n",
    "\n",
    "#     def on_init_end(self, trainer):\n",
    "#         print('Trainer is init now')\n",
    "\n",
    "#     def on_train_end(self, trainer, pl_module):\n",
    "#         print('do something when training ends')"
   ]
  },
  {
   "cell_type": "code",
   "execution_count": null,
   "metadata": {},
   "outputs": [],
   "source": [
    "# trainer = Trainer(callbacks=[MyPrintingCallback()])"
   ]
  },
  {
   "cell_type": "code",
   "execution_count": 124,
   "metadata": {},
   "outputs": [],
   "source": [
    "net = DeepSet()"
   ]
  },
  {
   "cell_type": "code",
   "execution_count": 32,
   "metadata": {},
   "outputs": [],
   "source": [
    "experiment = 'deepsettest'"
   ]
  },
  {
   "cell_type": "code",
   "execution_count": 33,
   "metadata": {},
   "outputs": [
    {
     "name": "stderr",
     "output_type": "stream",
     "text": [
      "CometLogger will be initialized in online mode\n",
      "COMET INFO: ---------------------------\n",
      "COMET INFO: Comet.ml Experiment Summary\n",
      "COMET INFO: ---------------------------\n",
      "COMET INFO:   Data:\n",
      "COMET INFO:     display_summary_level : 1\n",
      "COMET INFO:     url                   : https://www.comet.ml/ren-e1011/dl1010-a3/5c63ddf0320c4217acc6334af5931080\n",
      "COMET INFO:   Others:\n",
      "COMET INFO:     Name : deepsettest\n",
      "COMET INFO:   Uploads:\n",
      "COMET INFO:     environment details : 1\n",
      "COMET INFO:     filename            : 1\n",
      "COMET INFO:     installed packages  : 1\n",
      "COMET INFO:     os packages         : 1\n",
      "COMET INFO: ---------------------------\n",
      "COMET INFO: old comet version (3.1.9) detected. current: 3.1.11 please update your comet lib with command: `pip install --no-cache-dir --upgrade comet_ml`\n",
      "COMET INFO: Experiment is live on comet.ml https://www.comet.ml/ren-e1011/dl1010-a3/e649bb912f92426bb6bf372a670c67b8\n",
      "\n"
     ]
    }
   ],
   "source": [
    "comet_logger = CometLogger(\n",
    "    api_key='n0QCcEJ7YYeDUkff49kqLEdeJ',\n",
    "    workspace=\"ren-e1011\",\n",
    "    project_name=\"dl1010-a3\", \n",
    "    experiment_name=experiment  \n",
    ")"
   ]
  },
  {
   "cell_type": "code",
   "execution_count": 125,
   "metadata": {},
   "outputs": [
    {
     "name": "stderr",
     "output_type": "stream",
     "text": [
      "Running in fast_dev_run mode: will run a full train, val and test loop using a single batch\n",
      "GPU available: True, used: False\n",
      "No environment variable for node rank defined. Set as 0.\n"
     ]
    }
   ],
   "source": [
    "trainer = pl.Trainer(fast_dev_run=True)"
   ]
  },
  {
   "cell_type": "code",
   "execution_count": 126,
   "metadata": {},
   "outputs": [
    {
     "name": "stderr",
     "output_type": "stream",
     "text": [
      "\n",
      "  | Name         | Type       | Params\n",
      "----------------------------------------\n",
      "0 | embedding    | Linear     | 6 K   \n",
      "1 | classifier   | Sequential | 20 K  \n",
      "2 | classifier.0 | ReLU       | 0     \n",
      "3 | classifier.1 | Linear     | 20 K  \n"
     ]
    },
    {
     "data": {
      "application/vnd.jupyter.widget-view+json": {
       "model_id": "7cd53aab5cf44608be0758d9f5325efb",
       "version_major": 2,
       "version_minor": 0
      },
      "text/plain": [
       "HBox(children=(FloatProgress(value=1.0, bar_style='info', description='Training', layout=Layout(flex='2'), max…"
      ]
     },
     "metadata": {},
     "output_type": "display_data"
    },
    {
     "name": "stdout",
     "output_type": "stream",
     "text": [
      "batch_ix 0\n",
      "batch [tensor([[[ 0.0000,  0.1429],\n",
      "         [ 0.0000,  0.6429],\n",
      "         [ 0.0000, -0.5714],\n",
      "         [ 0.0000, -0.6429],\n",
      "         [-0.0714, -0.4286],\n",
      "         [ 0.0000,  0.0714],\n",
      "         [ 0.0714,  0.3571],\n",
      "         [-0.1429, -0.3571],\n",
      "         [ 0.0714,  0.2857],\n",
      "         [ 0.0000, -0.2143],\n",
      "         [-0.0714,  0.0714],\n",
      "         [ 0.0000,  0.7143],\n",
      "         [ 0.0714,  0.2143],\n",
      "         [ 0.0000,  0.4286],\n",
      "         [-0.0714, -0.5000],\n",
      "         [-0.0714, -0.5714],\n",
      "         [-0.0714, -0.1429],\n",
      "         [ 0.0000,  0.2857],\n",
      "         [ 0.0000,  0.3571],\n",
      "         [ 0.0000,  0.2143],\n",
      "         [-0.1429, -0.2857],\n",
      "         [ 0.0000, -0.0714],\n",
      "         [-0.0714,  0.0000],\n",
      "         [-0.1429, -0.4286],\n",
      "         [ 0.0000, -0.1429],\n",
      "         [ 0.0000,  0.5714],\n",
      "         [-0.0714, -0.2857],\n",
      "         [ 0.0000,  0.0000],\n",
      "         [-0.0714, -0.0714],\n",
      "         [ 0.0000,  0.5000],\n",
      "         [-0.1429, -0.5000],\n",
      "         [-0.0714, -0.3571],\n",
      "         [ 0.0714,  0.1429],\n",
      "         [-0.0714, -0.6429],\n",
      "         [-0.0714, -0.2143]],\n",
      "\n",
      "        [[-0.0714,  0.0714],\n",
      "         [ 0.0000,  0.0714],\n",
      "         [ 0.1429,  0.6429],\n",
      "         [ 0.0000,  0.2143],\n",
      "         [-0.0714, -0.0714],\n",
      "         [-0.2143, -0.6429],\n",
      "         [ 0.0714,  0.4286],\n",
      "         [-0.1429, -0.5714],\n",
      "         [ 0.1429,  0.5714],\n",
      "         [-0.1429, -0.5000],\n",
      "         [-0.1429, -0.2143],\n",
      "         [ 0.0714,  0.5000],\n",
      "         [-0.0714, -0.2143],\n",
      "         [-0.2143, -0.5714],\n",
      "         [ 0.0714,  0.5714],\n",
      "         [ 0.0714,  0.6429],\n",
      "         [ 0.0000,  0.2857],\n",
      "         [-0.0714, -0.2857],\n",
      "         [-0.0714,  0.1429],\n",
      "         [ 0.0000,  0.5000],\n",
      "         [-0.0714, -0.1429],\n",
      "         [-0.0714, -0.3571],\n",
      "         [-0.1429, -0.3571],\n",
      "         [ 0.0000,  0.4286],\n",
      "         [-0.2143, -0.7143],\n",
      "         [ 0.0714,  0.3571],\n",
      "         [ 0.0000, -0.0714],\n",
      "         [ 0.0714,  0.2857],\n",
      "         [ 0.0000,  0.0000],\n",
      "         [ 0.0714,  0.2143],\n",
      "         [-0.1429, -0.2857],\n",
      "         [-0.1429, -0.4286],\n",
      "         [ 0.0000,  0.1429],\n",
      "         [ 0.0000,  0.3571],\n",
      "         [-0.0714,  0.0000]],\n",
      "\n",
      "        [[-0.0714, -0.0714],\n",
      "         [ 0.0000,  0.0000],\n",
      "         [ 0.0000, -0.0714],\n",
      "         [ 0.0714,  0.1429],\n",
      "         [ 0.1429,  0.2857],\n",
      "         [ 0.2143,  0.5000],\n",
      "         [-0.2857, -0.4286],\n",
      "         [-0.2857, -0.5000],\n",
      "         [-0.2143, -0.3571],\n",
      "         [-0.2143, -0.2143],\n",
      "         [ 0.0714,  0.2143],\n",
      "         [-0.3571, -0.6429],\n",
      "         [ 0.0714,  0.0714],\n",
      "         [ 0.2143,  0.4286],\n",
      "         [-0.1429, -0.2857],\n",
      "         [ 0.1429,  0.3571],\n",
      "         [-0.0714, -0.1429],\n",
      "         [-0.2857, -0.3571],\n",
      "         [-0.1429, -0.1429],\n",
      "         [ 0.2857,  0.4286],\n",
      "         [ 0.2857,  0.5714],\n",
      "         [ 0.2143,  0.2857],\n",
      "         [-0.2143, -0.2857],\n",
      "         [-0.0714,  0.0000],\n",
      "         [-0.3571, -0.7143],\n",
      "         [-0.3571, -0.5714],\n",
      "         [-0.2143, -0.4286],\n",
      "         [ 0.2143,  0.3571],\n",
      "         [ 0.0000,  0.0714],\n",
      "         [-0.3571, -0.5000],\n",
      "         [-0.1429, -0.2143],\n",
      "         [ 0.2857,  0.6429],\n",
      "         [ 0.2857,  0.5000],\n",
      "         [ 0.1429,  0.2143],\n",
      "         [ 0.1429,  0.1429]]]), tensor([1, 1, 1])]\n",
      "yhat tensor([[ 0.1128,  0.0884,  0.0256, -0.0145,  0.0923,  0.0841, -0.2249, -0.1118,\n",
      "          0.0773, -0.1326],\n",
      "        [ 0.1186,  0.0723,  0.0345, -0.0126,  0.0847,  0.0960, -0.2038, -0.1257,\n",
      "          0.0847, -0.1322],\n",
      "        [ 0.1146,  0.0833,  0.0272, -0.0139,  0.0901,  0.0877, -0.2188, -0.1167,\n",
      "          0.0787, -0.1326]])\n",
      "target tensor([1, 1, 1])\n",
      "loss tensor(2.2276)\n"
     ]
    },
    {
     "ename": "RuntimeError",
     "evalue": "element 0 of tensors does not require grad and does not have a grad_fn",
     "output_type": "error",
     "traceback": [
      "\u001b[0;31m---------------------------------------------------------------------------\u001b[0m",
      "\u001b[0;31mRuntimeError\u001b[0m                              Traceback (most recent call last)",
      "\u001b[0;32m<ipython-input-126-da65be8db77c>\u001b[0m in \u001b[0;36m<module>\u001b[0;34m\u001b[0m\n\u001b[0;32m----> 1\u001b[0;31m \u001b[0mtrainer\u001b[0m\u001b[0;34m.\u001b[0m\u001b[0mfit\u001b[0m\u001b[0;34m(\u001b[0m\u001b[0mnet\u001b[0m\u001b[0;34m)\u001b[0m\u001b[0;34m\u001b[0m\u001b[0;34m\u001b[0m\u001b[0m\n\u001b[0m",
      "\u001b[0;32m/usr/local/lib/python3.6/dist-packages/pytorch_lightning/trainer/trainer.py\u001b[0m in \u001b[0;36mfit\u001b[0;34m(self, model, train_dataloader, val_dataloaders)\u001b[0m\n\u001b[1;32m    885\u001b[0m             \u001b[0mself\u001b[0m\u001b[0;34m.\u001b[0m\u001b[0moptimizers\u001b[0m\u001b[0;34m,\u001b[0m \u001b[0mself\u001b[0m\u001b[0;34m.\u001b[0m\u001b[0mlr_schedulers\u001b[0m\u001b[0;34m,\u001b[0m \u001b[0mself\u001b[0m\u001b[0;34m.\u001b[0m\u001b[0moptimizer_frequencies\u001b[0m \u001b[0;34m=\u001b[0m \u001b[0mself\u001b[0m\u001b[0;34m.\u001b[0m\u001b[0minit_optimizers\u001b[0m\u001b[0;34m(\u001b[0m\u001b[0mmodel\u001b[0m\u001b[0;34m)\u001b[0m\u001b[0;34m\u001b[0m\u001b[0;34m\u001b[0m\u001b[0m\n\u001b[1;32m    886\u001b[0m \u001b[0;34m\u001b[0m\u001b[0m\n\u001b[0;32m--> 887\u001b[0;31m             \u001b[0mself\u001b[0m\u001b[0;34m.\u001b[0m\u001b[0mrun_pretrain_routine\u001b[0m\u001b[0;34m(\u001b[0m\u001b[0mmodel\u001b[0m\u001b[0;34m)\u001b[0m\u001b[0;34m\u001b[0m\u001b[0;34m\u001b[0m\u001b[0m\n\u001b[0m\u001b[1;32m    888\u001b[0m \u001b[0;34m\u001b[0m\u001b[0m\n\u001b[1;32m    889\u001b[0m         \u001b[0;31m# return 1 when finished\u001b[0m\u001b[0;34m\u001b[0m\u001b[0;34m\u001b[0m\u001b[0;34m\u001b[0m\u001b[0m\n",
      "\u001b[0;32m/usr/local/lib/python3.6/dist-packages/pytorch_lightning/trainer/trainer.py\u001b[0m in \u001b[0;36mrun_pretrain_routine\u001b[0;34m(self, model)\u001b[0m\n\u001b[1;32m   1013\u001b[0m \u001b[0;34m\u001b[0m\u001b[0m\n\u001b[1;32m   1014\u001b[0m         \u001b[0;31m# CORE TRAINING LOOP\u001b[0m\u001b[0;34m\u001b[0m\u001b[0;34m\u001b[0m\u001b[0;34m\u001b[0m\u001b[0m\n\u001b[0;32m-> 1015\u001b[0;31m         \u001b[0mself\u001b[0m\u001b[0;34m.\u001b[0m\u001b[0mtrain\u001b[0m\u001b[0;34m(\u001b[0m\u001b[0;34m)\u001b[0m\u001b[0;34m\u001b[0m\u001b[0;34m\u001b[0m\u001b[0m\n\u001b[0m\u001b[1;32m   1016\u001b[0m \u001b[0;34m\u001b[0m\u001b[0m\n\u001b[1;32m   1017\u001b[0m     def test(\n",
      "\u001b[0;32m/usr/local/lib/python3.6/dist-packages/pytorch_lightning/trainer/training_loop.py\u001b[0m in \u001b[0;36mtrain\u001b[0;34m(self)\u001b[0m\n\u001b[1;32m    345\u001b[0m                 \u001b[0;31m# RUN TNG EPOCH\u001b[0m\u001b[0;34m\u001b[0m\u001b[0;34m\u001b[0m\u001b[0;34m\u001b[0m\u001b[0m\n\u001b[1;32m    346\u001b[0m                 \u001b[0;31m# -----------------\u001b[0m\u001b[0;34m\u001b[0m\u001b[0;34m\u001b[0m\u001b[0;34m\u001b[0m\u001b[0m\n\u001b[0;32m--> 347\u001b[0;31m                 \u001b[0mself\u001b[0m\u001b[0;34m.\u001b[0m\u001b[0mrun_training_epoch\u001b[0m\u001b[0;34m(\u001b[0m\u001b[0;34m)\u001b[0m\u001b[0;34m\u001b[0m\u001b[0;34m\u001b[0m\u001b[0m\n\u001b[0m\u001b[1;32m    348\u001b[0m \u001b[0;34m\u001b[0m\u001b[0m\n\u001b[1;32m    349\u001b[0m                 \u001b[0;31m# update LR schedulers\u001b[0m\u001b[0;34m\u001b[0m\u001b[0;34m\u001b[0m\u001b[0;34m\u001b[0m\u001b[0m\n",
      "\u001b[0;32m/usr/local/lib/python3.6/dist-packages/pytorch_lightning/trainer/training_loop.py\u001b[0m in \u001b[0;36mrun_training_epoch\u001b[0;34m(self)\u001b[0m\n\u001b[1;32m    417\u001b[0m             \u001b[0;31m# RUN TRAIN STEP\u001b[0m\u001b[0;34m\u001b[0m\u001b[0;34m\u001b[0m\u001b[0;34m\u001b[0m\u001b[0m\n\u001b[1;32m    418\u001b[0m             \u001b[0;31m# ---------------\u001b[0m\u001b[0;34m\u001b[0m\u001b[0;34m\u001b[0m\u001b[0;34m\u001b[0m\u001b[0m\n\u001b[0;32m--> 419\u001b[0;31m             \u001b[0m_outputs\u001b[0m \u001b[0;34m=\u001b[0m \u001b[0mself\u001b[0m\u001b[0;34m.\u001b[0m\u001b[0mrun_training_batch\u001b[0m\u001b[0;34m(\u001b[0m\u001b[0mbatch\u001b[0m\u001b[0;34m,\u001b[0m \u001b[0mbatch_idx\u001b[0m\u001b[0;34m)\u001b[0m\u001b[0;34m\u001b[0m\u001b[0;34m\u001b[0m\u001b[0m\n\u001b[0m\u001b[1;32m    420\u001b[0m             \u001b[0mbatch_result\u001b[0m\u001b[0;34m,\u001b[0m \u001b[0mgrad_norm_dic\u001b[0m\u001b[0;34m,\u001b[0m \u001b[0mbatch_step_metrics\u001b[0m\u001b[0;34m,\u001b[0m \u001b[0mbatch_output\u001b[0m \u001b[0;34m=\u001b[0m \u001b[0m_outputs\u001b[0m\u001b[0;34m\u001b[0m\u001b[0;34m\u001b[0m\u001b[0m\n\u001b[1;32m    421\u001b[0m \u001b[0;34m\u001b[0m\u001b[0m\n",
      "\u001b[0;32m/usr/local/lib/python3.6/dist-packages/pytorch_lightning/trainer/training_loop.py\u001b[0m in \u001b[0;36mrun_training_batch\u001b[0;34m(self, batch, batch_idx)\u001b[0m\n\u001b[1;32m    595\u001b[0m \u001b[0;34m\u001b[0m\u001b[0m\n\u001b[1;32m    596\u001b[0m                 \u001b[0;31m# calculate loss\u001b[0m\u001b[0;34m\u001b[0m\u001b[0;34m\u001b[0m\u001b[0;34m\u001b[0m\u001b[0m\n\u001b[0;32m--> 597\u001b[0;31m                 \u001b[0mloss\u001b[0m\u001b[0;34m,\u001b[0m \u001b[0mbatch_output\u001b[0m \u001b[0;34m=\u001b[0m \u001b[0moptimizer_closure\u001b[0m\u001b[0;34m(\u001b[0m\u001b[0;34m)\u001b[0m\u001b[0;34m\u001b[0m\u001b[0;34m\u001b[0m\u001b[0m\n\u001b[0m\u001b[1;32m    598\u001b[0m \u001b[0;34m\u001b[0m\u001b[0m\n\u001b[1;32m    599\u001b[0m                 \u001b[0;31m# check if loss or model weights are nan\u001b[0m\u001b[0;34m\u001b[0m\u001b[0;34m\u001b[0m\u001b[0;34m\u001b[0m\u001b[0m\n",
      "\u001b[0;32m/usr/local/lib/python3.6/dist-packages/pytorch_lightning/trainer/training_loop.py\u001b[0m in \u001b[0;36moptimizer_closure\u001b[0;34m()\u001b[0m\n\u001b[1;32m    573\u001b[0m                     \u001b[0mmodel_ref\u001b[0m \u001b[0;34m=\u001b[0m \u001b[0mself\u001b[0m\u001b[0;34m.\u001b[0m\u001b[0mget_model\u001b[0m\u001b[0;34m(\u001b[0m\u001b[0;34m)\u001b[0m\u001b[0;34m\u001b[0m\u001b[0;34m\u001b[0m\u001b[0m\n\u001b[1;32m    574\u001b[0m                     \u001b[0;32mwith\u001b[0m \u001b[0mself\u001b[0m\u001b[0;34m.\u001b[0m\u001b[0mprofiler\u001b[0m\u001b[0;34m.\u001b[0m\u001b[0mprofile\u001b[0m\u001b[0;34m(\u001b[0m\u001b[0;34m'model_backward'\u001b[0m\u001b[0;34m)\u001b[0m\u001b[0;34m:\u001b[0m\u001b[0;34m\u001b[0m\u001b[0;34m\u001b[0m\u001b[0m\n\u001b[0;32m--> 575\u001b[0;31m                         \u001b[0mmodel_ref\u001b[0m\u001b[0;34m.\u001b[0m\u001b[0mbackward\u001b[0m\u001b[0;34m(\u001b[0m\u001b[0mself\u001b[0m\u001b[0;34m,\u001b[0m \u001b[0mclosure_loss\u001b[0m\u001b[0;34m,\u001b[0m \u001b[0moptimizer\u001b[0m\u001b[0;34m,\u001b[0m \u001b[0mopt_idx\u001b[0m\u001b[0;34m)\u001b[0m\u001b[0;34m\u001b[0m\u001b[0;34m\u001b[0m\u001b[0m\n\u001b[0m\u001b[1;32m    576\u001b[0m \u001b[0;34m\u001b[0m\u001b[0m\n\u001b[1;32m    577\u001b[0m                     \u001b[0;31m# track metrics for callbacks\u001b[0m\u001b[0;34m\u001b[0m\u001b[0;34m\u001b[0m\u001b[0;34m\u001b[0m\u001b[0m\n",
      "\u001b[0;32m/usr/local/lib/python3.6/dist-packages/pytorch_lightning/core/hooks.py\u001b[0m in \u001b[0;36mbackward\u001b[0;34m(self, trainer, loss, optimizer, optimizer_idx)\u001b[0m\n\u001b[1;32m    153\u001b[0m                     \u001b[0mscaled_loss\u001b[0m\u001b[0;34m.\u001b[0m\u001b[0mbackward\u001b[0m\u001b[0;34m(\u001b[0m\u001b[0;34m)\u001b[0m\u001b[0;34m\u001b[0m\u001b[0;34m\u001b[0m\u001b[0m\n\u001b[1;32m    154\u001b[0m         \u001b[0;32melse\u001b[0m\u001b[0;34m:\u001b[0m\u001b[0;34m\u001b[0m\u001b[0;34m\u001b[0m\u001b[0m\n\u001b[0;32m--> 155\u001b[0;31m             \u001b[0mloss\u001b[0m\u001b[0;34m.\u001b[0m\u001b[0mbackward\u001b[0m\u001b[0;34m(\u001b[0m\u001b[0;34m)\u001b[0m\u001b[0;34m\u001b[0m\u001b[0;34m\u001b[0m\u001b[0m\n\u001b[0m",
      "\u001b[0;32m/usr/local/lib/python3.6/dist-packages/torch/tensor.py\u001b[0m in \u001b[0;36mbackward\u001b[0;34m(self, gradient, retain_graph, create_graph)\u001b[0m\n\u001b[1;32m    116\u001b[0m                 \u001b[0mproducts\u001b[0m\u001b[0;34m.\u001b[0m \u001b[0mDefaults\u001b[0m \u001b[0mto\u001b[0m\u001b[0;31m \u001b[0m\u001b[0;31m`\u001b[0m\u001b[0;31m`\u001b[0m\u001b[0;32mFalse\u001b[0m\u001b[0;31m`\u001b[0m\u001b[0;31m`\u001b[0m\u001b[0;34m.\u001b[0m\u001b[0;34m\u001b[0m\u001b[0;34m\u001b[0m\u001b[0m\n\u001b[1;32m    117\u001b[0m         \"\"\"\n\u001b[0;32m--> 118\u001b[0;31m         \u001b[0mtorch\u001b[0m\u001b[0;34m.\u001b[0m\u001b[0mautograd\u001b[0m\u001b[0;34m.\u001b[0m\u001b[0mbackward\u001b[0m\u001b[0;34m(\u001b[0m\u001b[0mself\u001b[0m\u001b[0;34m,\u001b[0m \u001b[0mgradient\u001b[0m\u001b[0;34m,\u001b[0m \u001b[0mretain_graph\u001b[0m\u001b[0;34m,\u001b[0m \u001b[0mcreate_graph\u001b[0m\u001b[0;34m)\u001b[0m\u001b[0;34m\u001b[0m\u001b[0;34m\u001b[0m\u001b[0m\n\u001b[0m\u001b[1;32m    119\u001b[0m \u001b[0;34m\u001b[0m\u001b[0m\n\u001b[1;32m    120\u001b[0m     \u001b[0;32mdef\u001b[0m \u001b[0mregister_hook\u001b[0m\u001b[0;34m(\u001b[0m\u001b[0mself\u001b[0m\u001b[0;34m,\u001b[0m \u001b[0mhook\u001b[0m\u001b[0;34m)\u001b[0m\u001b[0;34m:\u001b[0m\u001b[0;34m\u001b[0m\u001b[0;34m\u001b[0m\u001b[0m\n",
      "\u001b[0;32m/usr/local/lib/python3.6/dist-packages/torch/autograd/__init__.py\u001b[0m in \u001b[0;36mbackward\u001b[0;34m(tensors, grad_tensors, retain_graph, create_graph, grad_variables)\u001b[0m\n\u001b[1;32m     91\u001b[0m     Variable._execution_engine.run_backward(\n\u001b[1;32m     92\u001b[0m         \u001b[0mtensors\u001b[0m\u001b[0;34m,\u001b[0m \u001b[0mgrad_tensors\u001b[0m\u001b[0;34m,\u001b[0m \u001b[0mretain_graph\u001b[0m\u001b[0;34m,\u001b[0m \u001b[0mcreate_graph\u001b[0m\u001b[0;34m,\u001b[0m\u001b[0;34m\u001b[0m\u001b[0;34m\u001b[0m\u001b[0m\n\u001b[0;32m---> 93\u001b[0;31m         allow_unreachable=True)  # allow_unreachable flag\n\u001b[0m\u001b[1;32m     94\u001b[0m \u001b[0;34m\u001b[0m\u001b[0m\n\u001b[1;32m     95\u001b[0m \u001b[0;34m\u001b[0m\u001b[0m\n",
      "\u001b[0;31mRuntimeError\u001b[0m: element 0 of tensors does not require grad and does not have a grad_fn"
     ]
    }
   ],
   "source": [
    "trainer.fit(net)"
   ]
  },
  {
   "cell_type": "code",
   "execution_count": 21,
   "metadata": {},
   "outputs": [],
   "source": [
    "def compute_accuracy(data_loader,net):\n",
    "    \n",
    "    net.eval()\n",
    "    \n",
    "    total_number = 0\n",
    "    total_correct = 0\n",
    "    \n",
    "    for x,y in data_loader:\n",
    "        \n",
    "        prediction = net(x).data.numpy()\n",
    "        \n",
    "        prediction = np.argmax(prediction,axis=1)\n",
    "        \n",
    "        correct = len( np.where(prediction==y.data.numpy())[0] )\n",
    "        \n",
    "        total_correct+=correct\n",
    "        total_number+=x.shape[0]\n",
    "        \n",
    "    return total_correct/float(total_number)"
   ]
  },
  {
   "cell_type": "code",
   "execution_count": 22,
   "metadata": {},
   "outputs": [],
   "source": []
  },
  {
   "cell_type": "code",
   "execution_count": 95,
   "metadata": {},
   "outputs": [],
   "source": [
    "test_ds = CustomDataset('valid_ds.h5')\n",
    "batch_size = 50\n",
    "batch_sampler_test_ds = CustomBatchSampler(test_ds.n_points, batch_size)\n",
    "data_loader_test = DataLoader(test_ds, batch_sampler=batch_sampler_test_ds)\n",
    "\n",
    "compute_accuracy(data_loader_test,net)"
   ]
  },
  {
   "cell_type": "code",
   "execution_count": null,
   "metadata": {},
   "outputs": [],
   "source": []
  },
  {
   "cell_type": "code",
   "execution_count": null,
   "metadata": {},
   "outputs": [],
   "source": []
  }
 ],
 "metadata": {
  "kernelspec": {
   "display_name": "Python 3",
   "language": "python",
   "name": "python3"
  },
  "language_info": {
   "codemirror_mode": {
    "name": "ipython",
    "version": 3
   },
   "file_extension": ".py",
   "mimetype": "text/x-python",
   "name": "python",
   "nbconvert_exporter": "python",
   "pygments_lexer": "ipython3",
   "version": "3.6.8"
  }
 },
 "nbformat": 4,
 "nbformat_minor": 4
}
