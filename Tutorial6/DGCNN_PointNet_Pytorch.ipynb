{
  "nbformat": 4,
  "nbformat_minor": 0,
  "metadata": {
    "colab": {
      "name": "DGCNN_PointNet_Pytorch.ipynb",
      "provenance": [],
      "collapsed_sections": [],
      "include_colab_link": true
    },
    "kernelspec": {
      "name": "python3",
      "display_name": "Python 3"
    },
    "accelerator": "GPU"
  },
  "cells": [
    {
      "cell_type": "markdown",
      "metadata": {
        "id": "view-in-github",
        "colab_type": "text"
      },
      "source": [
        "<a href=\"https://colab.research.google.com/github/WeizmannML/course2020/blob/master/Tutorial6/DGCNN_PointNet_Pytorch.ipynb\" target=\"_parent\"><img src=\"https://colab.research.google.com/assets/colab-badge.svg\" alt=\"Open In Colab\"/></a>"
      ]
    },
    {
      "cell_type": "code",
      "metadata": {
        "id": "FRCwh_hHyLHl",
        "colab_type": "code",
        "colab": {}
      },
      "source": [
        "import os\n",
        "import sys\n",
        "import glob\n",
        "import h5py\n",
        "import numpy as np\n",
        " \n",
        "import argparse\n",
        "import torch\n",
        "import torch.nn as nn\n",
        "import torch.nn.functional as F\n",
        "import torch.optim as optim\n",
        "from torch.optim.lr_scheduler import CosineAnnealingLR\n",
        " \n",
        "from torch.utils.data import Dataset\n",
        " \n",
        "from torch.utils.data import DataLoader\n",
        "import sklearn.metrics as metrics"
      ],
      "execution_count": 0,
      "outputs": []
    },
    {
      "cell_type": "markdown",
      "metadata": {
        "id": "FLHMmJjEJsiN",
        "colab_type": "text"
      },
      "source": [
        "### Building the loss function"
      ]
    },
    {
      "cell_type": "code",
      "metadata": {
        "id": "XKGrr6iWJed1",
        "colab_type": "code",
        "colab": {}
      },
      "source": [
        "def cal_loss(pred, gold, smoothing=True):\n",
        "    ''' Calculate cross entropy loss, apply label smoothing if needed. '''\n",
        "\n",
        "    gold = gold.contiguous().view(-1)\n",
        "\n",
        "    if smoothing:\n",
        "        eps = 0.2\n",
        "        n_class = pred.size(1)\n",
        "\n",
        "        one_hot = torch.zeros_like(pred).scatter(1, gold.view(-1, 1), 1)\n",
        "        one_hot = one_hot * (1 - eps) + (1 - one_hot) * eps / (n_class - 1)\n",
        "        log_prb = F.log_softmax(pred, dim=1)\n",
        "\n",
        "        loss = -(one_hot * log_prb).sum(dim=1).mean()\n",
        "    else:\n",
        "        loss = F.cross_entropy(pred, gold, reduction='mean')\n",
        "\n",
        "    return loss\n",
        "\n",
        "\n",
        "class IOStream():\n",
        "    def __init__(self, path):\n",
        "        self.f = open(path, 'a')\n",
        "\n",
        "    def cprint(self, text):\n",
        "        print(text)\n",
        "        self.f.write(text+'\\n')\n",
        "        self.f.flush()\n",
        "\n",
        "    def close(self):\n",
        "        self.f.close()"
      ],
      "execution_count": 0,
      "outputs": []
    },
    {
      "cell_type": "markdown",
      "metadata": {
        "id": "5DsrhPCPzKbF",
        "colab_type": "text"
      },
      "source": [
        "## Taken from : https://github.com/WangYueFt/dgcnn"
      ]
    },
    {
      "cell_type": "markdown",
      "metadata": {
        "id": "eYqcTCF7zDpO",
        "colab_type": "text"
      },
      "source": [
        "## Building the dataset"
      ]
    },
    {
      "cell_type": "code",
      "metadata": {
        "id": "N6fM_VTI1yfQ",
        "colab_type": "code",
        "outputId": "dce32f16-dbb2-4c59-d3db-538d6ff00efa",
        "colab": {
          "base_uri": "https://localhost:8080/",
          "height": 34
        }
      },
      "source": [
        "!pwd"
      ],
      "execution_count": 0,
      "outputs": [
        {
          "output_type": "stream",
          "text": [
            "/content\n"
          ],
          "name": "stdout"
        }
      ]
    },
    {
      "cell_type": "code",
      "metadata": {
        "id": "B_ey3-GEyowY",
        "colab_type": "code",
        "colab": {}
      },
      "source": [
        "def download():\n",
        "    BASE_DIR = os.path.dirname(os.path.abspath(''))\n",
        "    DATA_DIR = os.path.join(BASE_DIR, 'data')\n",
        "    if not os.path.exists(DATA_DIR):\n",
        "        os.mkdir(DATA_DIR)\n",
        "    if not os.path.exists(os.path.join(DATA_DIR, 'modelnet40_ply_hdf5_2048')):\n",
        "        www = 'https://shapenet.cs.stanford.edu/media/modelnet40_ply_hdf5_2048.zip'\n",
        "        zipfile = os.path.basename(www)\n",
        "        os.system('wget %s; unzip %s' % (www, zipfile))\n",
        "        os.system('mv %s %s' % (zipfile[:-4], DATA_DIR))\n",
        "        os.system('rm %s' % (zipfile))\n",
        "\n",
        "\n",
        "def load_data(partition):\n",
        "    download()\n",
        "    BASE_DIR = os.path.dirname(os.path.abspath(''))\n",
        "    DATA_DIR = os.path.join(BASE_DIR, 'data')\n",
        "    all_data = []\n",
        "    all_label = []\n",
        "    for h5_name in glob.glob(os.path.join(DATA_DIR, 'modelnet40_ply_hdf5_2048', 'ply_data_%s*.h5'%partition)):\n",
        "        f = h5py.File(h5_name)\n",
        "        data = f['data'][:].astype('float32')\n",
        "        label = f['label'][:].astype('int64')\n",
        "        f.close()\n",
        "        all_data.append(data)\n",
        "        all_label.append(label)\n",
        "    all_data = np.concatenate(all_data, axis=0)\n",
        "    all_label = np.concatenate(all_label, axis=0)\n",
        "    return all_data, all_label\n"
      ],
      "execution_count": 0,
      "outputs": []
    },
    {
      "cell_type": "code",
      "metadata": {
        "id": "-9T-n_5v0vXh",
        "colab_type": "code",
        "colab": {}
      },
      "source": [
        "def translate_pointcloud(pointcloud):\n",
        "    xyz1 = np.random.uniform(low=2./3., high=3./2., size=[3])\n",
        "    xyz2 = np.random.uniform(low=-0.2, high=0.2, size=[3])\n",
        "       \n",
        "    translated_pointcloud = np.add(np.multiply(pointcloud, xyz1), xyz2).astype('float32')\n",
        "    return translated_pointcloud\n",
        "\n",
        "\n",
        "def jitter_pointcloud(pointcloud, sigma=0.01, clip=0.02):\n",
        "    N, C = pointcloud.shape\n",
        "    pointcloud += np.clip(sigma * np.random.randn(N, C), -1*clip, clip)\n",
        "    return pointcloud\n",
        "\n",
        "\n",
        "class ModelNet40(Dataset):\n",
        "    def __init__(self, num_points, partition='train'):\n",
        "        self.data, self.label = load_data(partition)\n",
        "        self.num_points = num_points\n",
        "        self.partition = partition        \n",
        "\n",
        "    def __getitem__(self, item):\n",
        "        pointcloud = self.data[item][:self.num_points]\n",
        "        label = self.label[item]\n",
        "        if self.partition == 'train':\n",
        "            pointcloud = translate_pointcloud(pointcloud)\n",
        "            np.random.shuffle(pointcloud)\n",
        "        return pointcloud, label\n",
        "\n",
        "    def __len__(self):\n",
        "        return self.data.shape[0]"
      ],
      "execution_count": 0,
      "outputs": []
    },
    {
      "cell_type": "code",
      "metadata": {
        "id": "Uu-6VmLy06Lo",
        "colab_type": "code",
        "outputId": "b0df50a9-9cb5-44cb-de6b-1d4ac66558db",
        "colab": {
          "base_uri": "https://localhost:8080/",
          "height": 54
        }
      },
      "source": [
        " train_data = ModelNet40(num_points=1024, partition='train')"
      ],
      "execution_count": 0,
      "outputs": [
        {
          "output_type": "stream",
          "text": [
            "/usr/local/lib/python3.6/dist-packages/ipykernel_launcher.py:21: H5pyDeprecationWarning: The default file mode will change to 'r' (read-only) in h5py 3.0. To suppress this warning, pass the mode you need to h5py.File(), or set the global default h5.get_config().default_file_mode, or set the environment variable H5PY_DEFAULT_READONLY=1. Available modes are: 'r', 'r+', 'w', 'w-'/'x', 'a'. See the docs for details.\n"
          ],
          "name": "stderr"
        }
      ]
    },
    {
      "cell_type": "code",
      "metadata": {
        "id": "sJR0gwXe1Jn-",
        "colab_type": "code",
        "outputId": "1e62a9e4-bc27-4634-a478-f86f35b537df",
        "colab": {
          "base_uri": "https://localhost:8080/",
          "height": 34
        }
      },
      "source": [
        "train_data"
      ],
      "execution_count": 0,
      "outputs": [
        {
          "output_type": "execute_result",
          "data": {
            "text/plain": [
              "<__main__.ModelNet40 at 0x7f223ae3ef28>"
            ]
          },
          "metadata": {
            "tags": []
          },
          "execution_count": 7
        }
      ]
    },
    {
      "cell_type": "code",
      "metadata": {
        "id": "dXHEdkTP3hBP",
        "colab_type": "code",
        "colab": {}
      },
      "source": [
        "# for data, label in train_data:\n",
        "#         print(data.shape)\n",
        "#         print(label.shape)"
      ],
      "execution_count": 0,
      "outputs": []
    },
    {
      "cell_type": "code",
      "metadata": {
        "id": "JXGk68ey4uOa",
        "colab_type": "code",
        "outputId": "16e37bf3-4c5e-485e-9cf7-9261d8fef87b",
        "colab": {
          "base_uri": "https://localhost:8080/",
          "height": 134
        }
      },
      "source": [
        "x = train_data.__getitem__(15)\n",
        "x"
      ],
      "execution_count": 0,
      "outputs": [
        {
          "output_type": "execute_result",
          "data": {
            "text/plain": [
              "(array([[ 0.08361112, -0.5475652 , -0.3821683 ],\n",
              "        [ 0.08993367, -0.01596269, -0.7354205 ],\n",
              "        [-0.01592944,  1.2369236 ,  0.35338926],\n",
              "        ...,\n",
              "        [ 0.32140487, -0.6855519 ,  0.36844307],\n",
              "        [ 0.12912914, -0.55360466, -0.23962341],\n",
              "        [ 0.1462023 , -0.07317858, -0.41695237]], dtype=float32), array([8]))"
            ]
          },
          "metadata": {
            "tags": []
          },
          "execution_count": 9
        }
      ]
    },
    {
      "cell_type": "code",
      "metadata": {
        "id": "jjbp1ZAz5JaI",
        "colab_type": "code",
        "colab": {}
      },
      "source": [
        "points = x[0]"
      ],
      "execution_count": 0,
      "outputs": []
    },
    {
      "cell_type": "code",
      "metadata": {
        "id": "EvCjgc8H5eKa",
        "colab_type": "code",
        "outputId": "db126b6a-1f36-4980-ad0e-c7e06647ae82",
        "colab": {
          "base_uri": "https://localhost:8080/",
          "height": 34
        }
      },
      "source": [
        "np.max(x[0]), np.min(x[0])"
      ],
      "execution_count": 0,
      "outputs": [
        {
          "output_type": "execute_result",
          "data": {
            "text/plain": [
              "(1.3356407, -0.98063457)"
            ]
          },
          "metadata": {
            "tags": []
          },
          "execution_count": 11
        }
      ]
    },
    {
      "cell_type": "code",
      "metadata": {
        "id": "2jjBOt9F6fAx",
        "colab_type": "code",
        "outputId": "878a1906-4038-43e3-9628-4aa16dc5d059",
        "colab": {
          "base_uri": "https://localhost:8080/",
          "height": 34
        }
      },
      "source": [
        "points.shape"
      ],
      "execution_count": 0,
      "outputs": [
        {
          "output_type": "execute_result",
          "data": {
            "text/plain": [
              "(1024, 3)"
            ]
          },
          "metadata": {
            "tags": []
          },
          "execution_count": 12
        }
      ]
    },
    {
      "cell_type": "code",
      "metadata": {
        "id": "iFJ9D9enCVAC",
        "colab_type": "code",
        "outputId": "b004938e-671e-4343-bc5a-111e8d589b83",
        "colab": {
          "base_uri": "https://localhost:8080/",
          "height": 34
        }
      },
      "source": [
        "points[:,0].shape"
      ],
      "execution_count": 0,
      "outputs": [
        {
          "output_type": "execute_result",
          "data": {
            "text/plain": [
              "(1024,)"
            ]
          },
          "metadata": {
            "tags": []
          },
          "execution_count": 13
        }
      ]
    },
    {
      "cell_type": "code",
      "metadata": {
        "id": "Je2pS1CFCXxI",
        "colab_type": "code",
        "outputId": "cc0dcaec-1e1a-43ae-a8f3-77eb0ee5d90a",
        "colab": {
          "base_uri": "https://localhost:8080/",
          "height": 265
        }
      },
      "source": [
        "import matplotlib.pyplot as plt\n",
        "from mpl_toolkits.mplot3d import Axes3D \n",
        "\n",
        "\n",
        "fig = plt.figure()\n",
        "ax = fig.add_subplot(111, projection='3d')\n",
        "\n",
        "\n",
        "ax.scatter(points[:,0], points[:,1], points[:,2], marker='o')"
      ],
      "execution_count": 0,
      "outputs": [
        {
          "output_type": "execute_result",
          "data": {
            "text/plain": [
              "<mpl_toolkits.mplot3d.art3d.Path3DCollection at 0x7f21e2122d30>"
            ]
          },
          "metadata": {
            "tags": []
          },
          "execution_count": 14
        },
        {
          "output_type": "display_data",
          "data": {
            "image/png": "[encoded data removed]",
            "text/plain": [
              "<Figure size 432x288 with 1 Axes>"
            ]
          },
          "metadata": {
            "tags": [],
            "needs_background": "light"
          }
        }
      ]
    },
    {
      "cell_type": "code",
      "metadata": {
        "id": "w46QpCRyCxp9",
        "colab_type": "code",
        "outputId": "a79892d4-818a-4fdd-9a4a-75fd92ca2aa4",
        "colab": {
          "base_uri": "https://localhost:8080/",
          "height": 54
        }
      },
      "source": [
        "train_loader = DataLoader(ModelNet40(partition='train', num_points=1024), num_workers=0,\n",
        "                          batch_size=10, shuffle=True, drop_last=True)\n",
        "test_loader = DataLoader(ModelNet40(partition='test', num_points=1024), num_workers=0,\n",
        "                          batch_size=10, shuffle=True, drop_last=False)\n",
        "\n",
        "device = torch.device(\"cuda\" if torch.cuda.is_available() else \"cpu\")"
      ],
      "execution_count": 0,
      "outputs": [
        {
          "output_type": "stream",
          "text": [
            "/usr/local/lib/python3.6/dist-packages/ipykernel_launcher.py:21: H5pyDeprecationWarning: The default file mode will change to 'r' (read-only) in h5py 3.0. To suppress this warning, pass the mode you need to h5py.File(), or set the global default h5.get_config().default_file_mode, or set the environment variable H5PY_DEFAULT_READONLY=1. Available modes are: 'r', 'r+', 'w', 'w-'/'x', 'a'. See the docs for details.\n"
          ],
          "name": "stderr"
        }
      ]
    },
    {
      "cell_type": "markdown",
      "metadata": {
        "id": "W1qo3F62HhpJ",
        "colab_type": "text"
      },
      "source": [
        "## Processing the pointcloud to image"
      ]
    },
    {
      "cell_type": "code",
      "metadata": {
        "id": "pEbqYBi2Hg4_",
        "colab_type": "code",
        "colab": {}
      },
      "source": [
        "def knn(x, k):\n",
        "    inner = -2*torch.matmul(x.transpose(2, 1), x)\n",
        "    xx = torch.sum(x**2, dim=1, keepdim=True)\n",
        "    pairwise_distance = -xx - inner - xx.transpose(2, 1)\n",
        " \n",
        "    idx = pairwise_distance.topk(k=k, dim=-1)[1]   # (batch_size, num_points, k)\n",
        "    return idx\n",
        " \n",
        " \n",
        "def get_graph_feature(x, k=20, idx=None):\n",
        "    batch_size = x.size(0)\n",
        "    num_points = x.size(2)\n",
        "    x = x.view(batch_size, -1, num_points)\n",
        "    if idx is None:\n",
        "        idx = knn(x, k=k)   # (batch_size, num_points, k)\n",
        "    device = torch.device('cuda')\n",
        " \n",
        "    idx_base = torch.arange(0, batch_size, device=device).view(-1, 1, 1)*num_points\n",
        " \n",
        "    idx = idx + idx_base\n",
        " \n",
        "    idx = idx.view(-1)\n",
        " \n",
        "    _, num_dims, _ = x.size()\n",
        " \n",
        "    x = x.transpose(2, 1).contiguous()   # (batch_size, num_points, num_dims)  -> (batch_size*num_points, num_dims) #   batch_size * num_points * k + range(0, batch_size*num_points)\n",
        "    feature = x.view(batch_size*num_points, -1)[idx, :]\n",
        "    feature = feature.view(batch_size, num_points, k, num_dims) \n",
        "    x = x.view(batch_size, num_points, 1, num_dims).repeat(1, 1, k, 1)\n",
        "    \n",
        "    feature = torch.cat((feature-x, x), dim=3).permute(0, 3, 1, 2).contiguous()\n",
        "  \n",
        "    return feature"
      ],
      "execution_count": 0,
      "outputs": []
    },
    {
      "cell_type": "markdown",
      "metadata": {
        "id": "t4MXwJh2LcUZ",
        "colab_type": "text"
      },
      "source": [
        "## The DGCNN model"
      ]
    },
    {
      "cell_type": "code",
      "metadata": {
        "id": "PT9UEdl2Gqr3",
        "colab_type": "code",
        "colab": {}
      },
      "source": [
        "class DGCNN(nn.Module):\n",
        "    def __init__(self, output_channels=40):\n",
        "        super(DGCNN, self).__init__()\n",
        "\n",
        "        emb_dims = 1024\n",
        "        dropout = 0.5\n",
        "        #self.args = args\n",
        "        self.k = 20\n",
        "        \n",
        "        self.bn1 = nn.BatchNorm2d(64)\n",
        "        self.bn2 = nn.BatchNorm2d(64)\n",
        "        self.bn3 = nn.BatchNorm2d(128)\n",
        "        self.bn4 = nn.BatchNorm2d(256)\n",
        "        self.bn5 = nn.BatchNorm1d(emb_dims)\n",
        "\n",
        "        self.conv1 = nn.Sequential(nn.Conv2d(6, 64, kernel_size=1, bias=False),\n",
        "                                   self.bn1,\n",
        "                                   nn.LeakyReLU(negative_slope=0.2))\n",
        "        self.conv2 = nn.Sequential(nn.Conv2d(64*2, 64, kernel_size=1, bias=False),\n",
        "                                   self.bn2,\n",
        "                                   nn.LeakyReLU(negative_slope=0.2))\n",
        "        self.conv3 = nn.Sequential(nn.Conv2d(64*2, 128, kernel_size=1, bias=False),\n",
        "                                   self.bn3,\n",
        "                                   nn.LeakyReLU(negative_slope=0.2))\n",
        "        self.conv4 = nn.Sequential(nn.Conv2d(128*2, 256, kernel_size=1, bias=False),\n",
        "                                   self.bn4,\n",
        "                                   nn.LeakyReLU(negative_slope=0.2))\n",
        "        self.conv5 = nn.Sequential(nn.Conv1d(512, emb_dims, kernel_size=1, bias=False),\n",
        "                                   self.bn5,\n",
        "                                   nn.LeakyReLU(negative_slope=0.2))\n",
        "        self.linear1 = nn.Linear(emb_dims*2, 512, bias=False)\n",
        "        self.bn6 = nn.BatchNorm1d(512)\n",
        "        self.dp1 = nn.Dropout(p=dropout)\n",
        "        self.linear2 = nn.Linear(512, 256)\n",
        "        self.bn7 = nn.BatchNorm1d(256)\n",
        "        self.dp2 = nn.Dropout(p=dropout)\n",
        "        self.linear3 = nn.Linear(256, output_channels)\n",
        "\n",
        "    def forward(self, x):\n",
        "        batch_size = x.size(0)\n",
        "        x = get_graph_feature(x, k=self.k)\n",
        "        x = self.conv1(x)\n",
        "        x1 = x.max(dim=-1, keepdim=False)[0]\n",
        "\n",
        "        x = get_graph_feature(x1, k=self.k)\n",
        "        x = self.conv2(x)\n",
        "        x2 = x.max(dim=-1, keepdim=False)[0]\n",
        "\n",
        "        x = get_graph_feature(x2, k=self.k)\n",
        "        x = self.conv3(x)\n",
        "        x3 = x.max(dim=-1, keepdim=False)[0]\n",
        "\n",
        "        x = get_graph_feature(x3, k=self.k)\n",
        "        x = self.conv4(x)\n",
        "        x4 = x.max(dim=-1, keepdim=False)[0]\n",
        "\n",
        "        x = torch.cat((x1, x2, x3, x4), dim=1)\n",
        "\n",
        "        x = self.conv5(x)\n",
        "        x1 = F.adaptive_max_pool1d(x, 1).view(batch_size, -1)\n",
        "        x2 = F.adaptive_avg_pool1d(x, 1).view(batch_size, -1)\n",
        "        x = torch.cat((x1, x2), 1)\n",
        "\n",
        "        x = F.leaky_relu(self.bn6(self.linear1(x)), negative_slope=0.2)\n",
        "        x = self.dp1(x)\n",
        "        x = F.leaky_relu(self.bn7(self.linear2(x)), negative_slope=0.2)\n",
        "        x = self.dp2(x)\n",
        "        x = self.linear3(x)\n",
        "        return x"
      ],
      "execution_count": 0,
      "outputs": []
    },
    {
      "cell_type": "code",
      "metadata": {
        "id": "J9lZmVecGFnq",
        "colab_type": "code",
        "colab": {}
      },
      "source": [
        "device = torch.device(\"cuda\" if torch.cuda.is_available() else \"cpu\")"
      ],
      "execution_count": 0,
      "outputs": []
    },
    {
      "cell_type": "code",
      "metadata": {
        "id": "q7hhAJgcahi-",
        "colab_type": "code",
        "colab": {}
      },
      "source": [
        "model = DGCNN().to(device)"
      ],
      "execution_count": 0,
      "outputs": []
    },
    {
      "cell_type": "code",
      "metadata": {
        "id": "YtHZzXiHa38J",
        "colab_type": "code",
        "outputId": "dc64ec64-c641-406c-f366-56be947cd7ee",
        "colab": {
          "base_uri": "https://localhost:8080/",
          "height": 34
        }
      },
      "source": [
        "#model = nn.DataParallel(model)\n",
        "print(\"Let's use\", torch.cuda.device_count(), \"GPUs!\")"
      ],
      "execution_count": 0,
      "outputs": [
        {
          "output_type": "stream",
          "text": [
            "Let's use 1 GPUs!\n"
          ],
          "name": "stdout"
        }
      ]
    },
    {
      "cell_type": "code",
      "metadata": {
        "id": "1DV-87MKbFh3",
        "colab_type": "code",
        "colab": {}
      },
      "source": [
        "opt = optim.Adam(model.parameters(), lr=0.001, weight_decay=1e-4)"
      ],
      "execution_count": 0,
      "outputs": []
    },
    {
      "cell_type": "code",
      "metadata": {
        "id": "DbqZvqQ8bRSN",
        "colab_type": "code",
        "colab": {}
      },
      "source": [
        "scheduler = CosineAnnealingLR(opt, 100, eta_min=0.001)\n",
        "    \n",
        "criterion = cal_loss"
      ],
      "execution_count": 0,
      "outputs": []
    },
    {
      "cell_type": "code",
      "metadata": {
        "id": "hZV9MbqpbcwT",
        "colab_type": "code",
        "outputId": "736457bf-9fce-4320-bb8a-beba35ffc526",
        "colab": {
          "base_uri": "https://localhost:8080/",
          "height": 642
        }
      },
      "source": [
        "best_test_acc = 0\n",
        "for epoch in range(100):\n",
        "        scheduler.step()\n",
        "        ####################\n",
        "        # Train\n",
        "        ####################\n",
        "        train_loss = 0.0\n",
        "        count = 0.0\n",
        "        model.train()\n",
        "        train_pred = []\n",
        "        train_true = []\n",
        "        for data, label in train_loader:\n",
        "            data, label = data.to(device), label.to(device).squeeze()\n",
        "            data = data.permute(0, 2, 1)\n",
        "            batch_size = data.size()[0]\n",
        "            opt.zero_grad()\n",
        "            logits = model(data)\n",
        "            loss = criterion(logits, label)\n",
        "            loss.backward()\n",
        "            opt.step()\n",
        "            preds = logits.max(dim=1)[1]\n",
        "            count += batch_size\n",
        "            train_loss += loss.item() * batch_size\n",
        "            train_true.append(label.cpu().numpy())\n",
        "            train_pred.append(preds.detach().cpu().numpy())\n",
        "        train_true = np.concatenate(train_true)\n",
        "        train_pred = np.concatenate(train_pred)\n",
        "        outstr = 'Train %d, loss: %.6f, train acc: %.6f, train avg acc: %.6f' % (epoch,\n",
        "                                                                                 train_loss*1.0/count,\n",
        "                                                                                 metrics.accuracy_score(\n",
        "                                                                                     train_true, train_pred),\n",
        "                                                                                 metrics.balanced_accuracy_score(\n",
        "                                                                                     train_true, train_pred))\n",
        "        print(outstr)\n",
        "        #io.cprint(outstr)\n",
        "\n",
        "        ####################\n",
        "        # Test\n",
        "        ####################\n",
        "        test_loss = 0.0\n",
        "        count = 0.0\n",
        "        model.eval()\n",
        "        test_pred = []\n",
        "        test_true = []\n",
        "        for data, label in test_loader:\n",
        "            data, label = data.to(device), label.to(device).squeeze()\n",
        "            data = data.permute(0, 2, 1)\n",
        "            batch_size = data.size()[0]\n",
        "            logits = model(data)\n",
        "            loss = criterion(logits, label)\n",
        "            preds = logits.max(dim=1)[1]\n",
        "            count += batch_size\n",
        "            test_loss += loss.item() * batch_size\n",
        "            test_true.append(label.cpu().numpy())\n",
        "            test_pred.append(preds.detach().cpu().numpy())\n",
        "        test_true = np.concatenate(test_true)\n",
        "        test_pred = np.concatenate(test_pred)\n",
        "        test_acc = metrics.accuracy_score(test_true, test_pred)\n",
        "        avg_per_class_acc = metrics.balanced_accuracy_score(test_true, test_pred)\n",
        "        outstr = 'Test %d, loss: %.6f, test acc: %.6f, test avg acc: %.6f' % (epoch,\n",
        "                                                                              test_loss*1.0/count,\n",
        "                                                                              test_acc,\n",
        "                                                                              avg_per_class_acc)\n",
        "        #io.cprint(outstr)\n",
        "        print(outstr)\n",
        "        # if test_acc >= best_test_acc:\n",
        "        #     best_test_acc = test_acc\n",
        "        #     torch.save(model.state_dict(), 'checkpoints/%s/models/model.t7' % 'Adam_test')\n"
      ],
      "execution_count": 0,
      "outputs": [
        {
          "output_type": "stream",
          "text": [
            "/usr/local/lib/python3.6/dist-packages/torch/optim/lr_scheduler.py:123: UserWarning: Detected call of `lr_scheduler.step()` before `optimizer.step()`. In PyTorch 1.1.0 and later, you should call them in the opposite order: `optimizer.step()` before `lr_scheduler.step()`.  Failure to do this will result in PyTorch skipping the first value of the learning rate schedule. See more details at https://pytorch.org/docs/stable/optim.html#how-to-adjust-learning-rate\n",
            "  \"https://pytorch.org/docs/stable/optim.html#how-to-adjust-learning-rate\", UserWarning)\n"
          ],
          "name": "stderr"
        },
        {
          "output_type": "stream",
          "text": [
            "Train 0, loss: 2.541789, train acc: 0.505081, train avg acc: 0.315942\n",
            "Test 0, loss: 2.107233, test acc: 0.657212, test avg acc: 0.529564\n",
            "Train 1, loss: 2.099372, train acc: 0.680589, train avg acc: 0.524772\n",
            "Test 1, loss: 1.833296, test acc: 0.797002, test avg acc: 0.700413\n",
            "Train 2, loss: 1.998784, train acc: 0.731707, train avg acc: 0.590911\n",
            "Test 2, loss: 1.775175, test acc: 0.813614, test avg acc: 0.705116\n",
            "Train 3, loss: 1.924356, train acc: 0.766057, train avg acc: 0.643299\n",
            "Test 3, loss: 1.761728, test acc: 0.814425, test avg acc: 0.721686\n",
            "Train 4, loss: 1.891467, train acc: 0.774492, train avg acc: 0.654114\n",
            "Test 4, loss: 1.694749, test acc: 0.850081, test avg acc: 0.752971\n",
            "Train 5, loss: 1.861726, train acc: 0.789939, train avg acc: 0.676713\n",
            "Test 5, loss: 1.688580, test acc: 0.861021, test avg acc: 0.773436\n",
            "Train 6, loss: 1.835222, train acc: 0.803455, train avg acc: 0.697424\n",
            "Test 6, loss: 1.707789, test acc: 0.854943, test avg acc: 0.783320\n",
            "Train 7, loss: 1.808027, train acc: 0.813720, train avg acc: 0.715015\n",
            "Test 7, loss: 1.651632, test acc: 0.865478, test avg acc: 0.794535\n",
            "Train 8, loss: 1.799394, train acc: 0.815447, train avg acc: 0.716704\n",
            "Test 8, loss: 1.645992, test acc: 0.864668, test avg acc: 0.800488\n",
            "Train 9, loss: 1.783236, train acc: 0.821748, train avg acc: 0.725838\n",
            "Test 9, loss: 1.639542, test acc: 0.876418, test avg acc: 0.812093\n",
            "Train 10, loss: 1.757212, train acc: 0.836179, train avg acc: 0.751209\n",
            "Test 10, loss: 1.619708, test acc: 0.874392, test avg acc: 0.795163\n",
            "Train 11, loss: 1.748134, train acc: 0.834553, train avg acc: 0.744750\n",
            "Test 11, loss: 1.592498, test acc: 0.889384, test avg acc: 0.808843\n",
            "Train 12, loss: 1.744791, train acc: 0.838110, train avg acc: 0.753434\n",
            "Test 12, loss: 1.636915, test acc: 0.860211, test avg acc: 0.799494\n",
            "Train 13, loss: 1.737509, train acc: 0.840244, train avg acc: 0.757496\n",
            "Test 13, loss: 1.601042, test acc: 0.886548, test avg acc: 0.832477\n",
            "Train 14, loss: 1.727522, train acc: 0.847053, train avg acc: 0.768158\n",
            "Test 14, loss: 1.601712, test acc: 0.881686, test avg acc: 0.826198\n",
            "Train 15, loss: 1.727186, train acc: 0.847866, train avg acc: 0.766887\n",
            "Test 15, loss: 1.579578, test acc: 0.897893, test avg acc: 0.838174\n",
            "Train 16, loss: 1.721149, train acc: 0.847967, train avg acc: 0.765715\n",
            "Test 16, loss: 1.602553, test acc: 0.888574, test avg acc: 0.841506\n"
          ],
          "name": "stdout"
        }
      ]
    },
    {
      "cell_type": "code",
      "metadata": {
        "id": "0dh4yP1pbt2h",
        "colab_type": "code",
        "colab": {}
      },
      "source": [
        ""
      ],
      "execution_count": 0,
      "outputs": []
    }
  ]
}