{
  "nbformat": 4,
  "nbformat_minor": 0,
  "metadata": {
    "colab": {
      "name": "DGCNN_PointNet_DGL.ipynb",
      "provenance": [],
      "collapsed_sections": [],
      "include_colab_link": true
    },
    "kernelspec": {
      "name": "python3",
      "display_name": "Python 3"
    },
    "accelerator": "GPU"
  },
  "cells": [
    {
      "cell_type": "markdown",
      "metadata": {
        "id": "view-in-github",
        "colab_type": "text"
      },
      "source": [
        "<a href=\"https://colab.research.google.com/github/WeizmannML/course2020/blob/master/Tutorial6/DGCNN_PointNet_DGL.ipynb\" target=\"_parent\"><img src=\"https://colab.research.google.com/assets/colab-badge.svg\" alt=\"Open In Colab\"/></a>"
      ]
    },
    {
      "cell_type": "code",
      "metadata": {
        "id": "HR4pm4ciEHrK",
        "colab_type": "code",
        "colab": {}
      },
      "source": [
        "# !pip install pip install dgl-cu101\n",
        "# !pip install networkx\n",
        "import torch \n",
        "from torch import nn\n",
        "import torch.nn.functional as F_t\n",
        "from torch.nn import init"
      ],
      "execution_count": 0,
      "outputs": []
    },
    {
      "cell_type": "code",
      "metadata": {
        "id": "K4cRwFcaNYDx",
        "colab_type": "code",
        "outputId": "a65a1331-e21f-433c-d14c-2b74a95e5ca5",
        "colab": {
          "base_uri": "https://localhost:8080/",
          "height": 185
        }
      },
      "source": [
        "!pip install dgl-cu101"
      ],
      "execution_count": 0,
      "outputs": [
        {
          "output_type": "stream",
          "text": [
            "Requirement already satisfied: dgl-cu101 in /usr/local/lib/python3.6/dist-packages (0.4.3.post2)\n",
            "Requirement already satisfied: numpy>=1.14.0 in /usr/local/lib/python3.6/dist-packages (from dgl-cu101) (1.18.4)\n",
            "Requirement already satisfied: requests>=2.19.0 in /usr/local/lib/python3.6/dist-packages (from dgl-cu101) (2.23.0)\n",
            "Requirement already satisfied: scipy>=1.1.0 in /usr/local/lib/python3.6/dist-packages (from dgl-cu101) (1.4.1)\n",
            "Requirement already satisfied: networkx>=2.1 in /usr/local/lib/python3.6/dist-packages (from dgl-cu101) (2.4)\n",
            "Requirement already satisfied: certifi>=2017.4.17 in /usr/local/lib/python3.6/dist-packages (from requests>=2.19.0->dgl-cu101) (2020.4.5.1)\n",
            "Requirement already satisfied: idna<3,>=2.5 in /usr/local/lib/python3.6/dist-packages (from requests>=2.19.0->dgl-cu101) (2.9)\n",
            "Requirement already satisfied: chardet<4,>=3.0.2 in /usr/local/lib/python3.6/dist-packages (from requests>=2.19.0->dgl-cu101) (3.0.4)\n",
            "Requirement already satisfied: urllib3!=1.25.0,!=1.25.1,<1.26,>=1.21.1 in /usr/local/lib/python3.6/dist-packages (from requests>=2.19.0->dgl-cu101) (1.24.3)\n",
            "Requirement already satisfied: decorator>=4.3.0 in /usr/local/lib/python3.6/dist-packages (from networkx>=2.1->dgl-cu101) (4.4.2)\n"
          ],
          "name": "stdout"
        }
      ]
    },
    {
      "cell_type": "code",
      "metadata": {
        "id": "a8YnozKmN0kQ",
        "colab_type": "code",
        "outputId": "f6f05966-4331-46c2-bf87-9104d31cad40",
        "colab": {
          "base_uri": "https://localhost:8080/",
          "height": 34
        }
      },
      "source": [
        "import dgl.function as fn \n",
        "from dgl.base import DGLError"
      ],
      "execution_count": 0,
      "outputs": [
        {
          "output_type": "stream",
          "text": [
            "Using backend: pytorch\n"
          ],
          "name": "stderr"
        }
      ]
    },
    {
      "cell_type": "code",
      "metadata": {
        "id": "tZ-9PzdjEYNn",
        "colab_type": "code",
        "colab": {}
      },
      "source": [
        "from dgl import backend as F\n",
        "import numpy as np\n",
        "import os, sys\n",
        "from scipy import sparse\n",
        "import torch.optim as optim\n",
        "from torch.utils.data import Dataset\n",
        "from torch.utils.data import DataLoader\n",
        "import torch\n",
        "import dgl\n",
        "from dgl.utils import expand_as_pair\n",
        "from dgl.data.utils import download, get_download_dir\n",
        "from functools import partial\n",
        "import tqdm"
      ],
      "execution_count": 0,
      "outputs": []
    },
    {
      "cell_type": "code",
      "metadata": {
        "id": "tO-WXfnKMhkb",
        "colab_type": "code",
        "colab": {}
      },
      "source": [
        "def pairwise_squared_distance(x):\n",
        "    \"\"\"\n",
        "    x : (n_samples, n_points, dims)\n",
        "    return : (n_samples, n_points, n_points)\n",
        "    \"\"\"\n",
        "    x2s = F.sum(x * x, -1, True)\n",
        "    # assuming that __matmul__ is always implemented (true for PyTorch, MXNet and Chainer)\n",
        "    return x2s + F.swapaxes(x2s, -1, -2) - 2 * x @ F.swapaxes(x, -1, -2)"
      ],
      "execution_count": 0,
      "outputs": []
    },
    {
      "cell_type": "code",
      "metadata": {
        "id": "-0qNrlZHEz3i",
        "colab_type": "code",
        "colab": {}
      },
      "source": [
        "def knn_graph(x, k):\n",
        "    \"\"\"Transforms the given point set to a directed graph, whose coordinates\n",
        "    are given as a matrix. The predecessors of each point are its k-nearest\n",
        "    neighbors.\n",
        "\n",
        "    If a 3D tensor is given instead, then each row would be transformed into\n",
        "    a separate graph.  The graphs will be unioned.\n",
        "\n",
        "    Parameters\n",
        "    ----------\n",
        "    x : Tensor\n",
        "        The input tensor.\n",
        "\n",
        "        If 2D, each row of ``x`` corresponds to a node.\n",
        "\n",
        "        If 3D, a k-NN graph would be constructed for each row.  Then\n",
        "        the graphs are unioned.\n",
        "    k : int\n",
        "        The number of neighbors\n",
        "\n",
        "    Returns\n",
        "    -------\n",
        "    DGLGraph\n",
        "        The graph.  The node IDs are in the same order as ``x``.\n",
        "    \"\"\"\n",
        "    if F.ndim(x) == 2:\n",
        "        x = F.unsqueeze(x, 0)\n",
        "    n_samples, n_points, _ = F.shape(x)\n",
        "\n",
        "    dist = pairwise_squared_distance(x)\n",
        "    k_indices = F.argtopk(dist, k, 2, descending=False)\n",
        "    dst = F.copy_to(k_indices, F.cpu())\n",
        "\n",
        "    src = F.zeros_like(dst) + F.reshape(F.arange(0, n_points), (1, -1, 1))\n",
        "\n",
        "    per_sample_offset = F.reshape(F.arange(0, n_samples) * n_points, (-1, 1, 1))\n",
        "    dst += per_sample_offset\n",
        "    src += per_sample_offset\n",
        "    dst = F.reshape(dst, (-1,))\n",
        "    src = F.reshape(src, (-1,))\n",
        "    adj = sparse.csr_matrix((F.asnumpy(F.zeros_like(dst) + 1), (F.asnumpy(dst), F.asnumpy(src))))\n",
        "\n",
        "    g = dgl.DGLGraph(adj, readonly=True)\n",
        "    return g"
      ],
      "execution_count": 0,
      "outputs": []
    },
    {
      "cell_type": "code",
      "metadata": {
        "id": "YYjWEd69Fiz0",
        "colab_type": "code",
        "colab": {}
      },
      "source": [
        "class KNNGraph(nn.Module):\n",
        "    \"\"\"Layer that transforms one point set into a graph, or a batch of\n",
        "    point sets with the same number of points into a union of those graphs.\n",
        "\n",
        "    If a batch of point set is provided, then the point :math:`j` in point\n",
        "    set :math:`i` is mapped to graph node ID :math:`i \\times M + j`, where\n",
        "    :math:`M` is the number of nodes in each point set.\n",
        "\n",
        "    The predecessors of each node are the k-nearest neighbors of the\n",
        "    corresponding point.\n",
        "\n",
        "    Parameters\n",
        "    ----------\n",
        "    k : int\n",
        "        The number of neighbors\n",
        "    \"\"\"\n",
        "    def __init__(self, k):\n",
        "        super(KNNGraph, self).__init__()\n",
        "        self.k = k\n",
        "\n",
        "    #pylint: disable=invalid-name\n",
        "    def forward(self, x):\n",
        "        \"\"\"Forward computation.\n",
        "\n",
        "        Parameters\n",
        "        ----------\n",
        "        x : Tensor\n",
        "            :math:`(M, D)` or :math:`(N, M, D)` where :math:`N` means the\n",
        "            number of point sets, :math:`M` means the number of points in\n",
        "            each point set, and :math:`D` means the size of features.\n",
        "\n",
        "        Returns\n",
        "        -------\n",
        "        DGLGraph\n",
        "            A DGLGraph with no features.\n",
        "        \"\"\"\n",
        "        return knn_graph(x, self.k)"
      ],
      "execution_count": 0,
      "outputs": []
    },
    {
      "cell_type": "code",
      "metadata": {
        "id": "UN3JCqaIF08n",
        "colab_type": "code",
        "colab": {}
      },
      "source": [
        "class EdgeConv(nn.Module):\n",
        "    r\"\"\"EdgeConv layer.\n",
        "\n",
        "    Introduced in \"`Dynamic Graph CNN for Learning on Point Clouds\n",
        "    <https://arxiv.org/pdf/1801.07829>`__\".  Can be described as follows:\n",
        "\n",
        "    .. math::\n",
        "       x_i^{(l+1)} = \\max_{j \\in \\mathcal{N}(i)} \\mathrm{ReLU}(\n",
        "       \\Theta \\cdot (x_j^{(l)} - x_i^{(l)}) + \\Phi \\cdot x_i^{(l)})\n",
        "\n",
        "    where :math:`\\mathcal{N}(i)` is the neighbor of :math:`i`.\n",
        "\n",
        "    Parameters\n",
        "    ----------\n",
        "    in_feat : int\n",
        "        Input feature size.\n",
        "    out_feat : int\n",
        "        Output feature size.\n",
        "    batch_norm : bool\n",
        "        Whether to include batch normalization on messages.\n",
        "    \"\"\"\n",
        "    def __init__(self,\n",
        "                 in_feat,\n",
        "                 out_feat,\n",
        "                 batch_norm=False):\n",
        "        super(EdgeConv, self).__init__()\n",
        "        self.batch_norm = batch_norm\n",
        "\n",
        "        self.theta = nn.Linear(in_feat, out_feat)\n",
        "        self.phi = nn.Linear(in_feat, out_feat)\n",
        "\n",
        "        if batch_norm:\n",
        "            self.bn = nn.BatchNorm1d(out_feat)\n",
        "\n",
        "    def message(self, edges):\n",
        "        \"\"\"The message computation function.\n",
        "        \"\"\"\n",
        "        theta_x = self.theta(edges.dst['x'] - edges.src['x'])\n",
        "        phi_x = self.phi(edges.src['x'])\n",
        "        return {'e': theta_x + phi_x}\n",
        "\n",
        "    def forward(self, g, h):\n",
        "        \"\"\"Forward computation\n",
        "\n",
        "        Parameters\n",
        "        ----------\n",
        "        g : DGLGraph\n",
        "            The graph.\n",
        "        h : Tensor or pair of tensors\n",
        "            :math:`(N, D)` where :math:`N` is the number of nodes and\n",
        "            :math:`D` is the number of feature dimensions.\n",
        "\n",
        "            If a pair of tensors is given, the graph must be a uni-bipartite graph\n",
        "            with only one edge type, and the two tensors must have the same\n",
        "            dimensionality on all except the first axis.\n",
        "        Returns\n",
        "        -------\n",
        "        torch.Tensor\n",
        "            New node features.\n",
        "        \"\"\"\n",
        "        with g.local_scope():\n",
        "            h_src, h_dst = expand_as_pair(h)\n",
        "            g.srcdata['x'] = h_src\n",
        "            g.dstdata['x'] = h_dst\n",
        "            if not self.batch_norm:\n",
        "                g.update_all(self.message, fn.max('e', 'x'))\n",
        "            else:\n",
        "                g.apply_edges(self.message)\n",
        "                # Although the official implementation includes a per-edge\n",
        "                # batch norm within EdgeConv, I choose to replace it with a\n",
        "                # global batch norm for a number of reasons:\n",
        "                #\n",
        "                # (1) When the point clouds within each batch do not have the\n",
        "                #     same number of points, batch norm would not work.\n",
        "                #\n",
        "                # (2) Even if the point clouds always have the same number of\n",
        "                #     points, the points may as well be shuffled even with the\n",
        "                #     same (type of) object (and the official implementation\n",
        "                #     *does* shuffle the points of the same example for each\n",
        "                #     epoch).\n",
        "                #\n",
        "                #     For example, the first point of a point cloud of an\n",
        "                #     airplane does not always necessarily reside at its nose.\n",
        "                #\n",
        "                #     In this case, the learned statistics of each position\n",
        "                #     by batch norm is not as meaningful as those learned from\n",
        "                #     images.\n",
        "                g.edata['e'] = self.bn(g.edata['e'])\n",
        "                g.update_all(fn.copy_e('e', 'e'), fn.max('e', 'x'))\n",
        "            return g.dstdata['x']"
      ],
      "execution_count": 0,
      "outputs": []
    },
    {
      "cell_type": "code",
      "metadata": {
        "id": "PA82CRk0GYfS",
        "colab_type": "code",
        "colab": {}
      },
      "source": [
        "class Model(nn.Module):\n",
        "    def __init__(self, k, feature_dims, emb_dims, output_classes, input_dims=3,\n",
        "                 dropout_prob=0.5):\n",
        "        super(Model, self).__init__()\n",
        "\n",
        "        self.nng = KNNGraph(k)\n",
        "        self.conv = nn.ModuleList()\n",
        "\n",
        "        self.num_layers = len(feature_dims)\n",
        "        for i in range(self.num_layers):\n",
        "            self.conv.append(EdgeConv(\n",
        "                feature_dims[i - 1] if i > 0 else input_dims,\n",
        "                feature_dims[i],\n",
        "                batch_norm=True))\n",
        "\n",
        "        self.proj = nn.Linear(sum(feature_dims), emb_dims[0])\n",
        "\n",
        "        self.embs = nn.ModuleList()\n",
        "        self.bn_embs = nn.ModuleList()\n",
        "        self.dropouts = nn.ModuleList()\n",
        "\n",
        "        self.num_embs = len(emb_dims) - 1\n",
        "        for i in range(1, self.num_embs + 1):\n",
        "            self.embs.append(nn.Linear(\n",
        "                # * 2 because of concatenation of max- and mean-pooling\n",
        "                emb_dims[i - 1] if i > 1 else (emb_dims[i - 1] * 2),\n",
        "                emb_dims[i]))\n",
        "            self.bn_embs.append(nn.BatchNorm1d(emb_dims[i]))\n",
        "            self.dropouts.append(nn.Dropout(dropout_prob))\n",
        "\n",
        "        self.proj_output = nn.Linear(emb_dims[-1], output_classes)\n",
        "\n",
        "    def forward(self, x):\n",
        "        hs = []\n",
        "        batch_size, n_points, x_dims = x.shape\n",
        "        h = x\n",
        "\n",
        "        for i in range(self.num_layers):\n",
        "            g = self.nng(h)\n",
        "            h = h.view(batch_size * n_points, -1)\n",
        "            h = self.conv[i](g, h)\n",
        "            h = F_t.leaky_relu(h, 0.2)\n",
        "            h = h.view(batch_size, n_points, -1)\n",
        "            hs.append(h)\n",
        "\n",
        "        h = torch.cat(hs, 2)\n",
        "        h = self.proj(h)\n",
        "        h_max, _ = torch.max(h, 1)\n",
        "        h_avg = torch.mean(h, 1)\n",
        "        h = torch.cat([h_max, h_avg], 1)\n",
        "\n",
        "        for i in range(self.num_embs):\n",
        "            h = self.embs[i](h)\n",
        "            h = self.bn_embs[i](h)\n",
        "            h = F_t.leaky_relu(h, 0.2)\n",
        "            h = self.dropouts[i](h)\n",
        "\n",
        "        h = self.proj_output(h)\n",
        "        return h\n"
      ],
      "execution_count": 0,
      "outputs": []
    },
    {
      "cell_type": "code",
      "metadata": {
        "id": "u5aVVB0cHmlF",
        "colab_type": "code",
        "colab": {}
      },
      "source": [
        "def compute_loss(logits, y, eps=0.2):\n",
        "    num_classes = logits.shape[1]\n",
        "    one_hot = torch.zeros_like(logits).scatter_(1, y.view(-1, 1), 1)\n",
        "    one_hot = one_hot * (1 - eps) + (1 - one_hot) * eps / (num_classes - 1)\n",
        "    log_prob = F_t.log_softmax(logits, 1)\n",
        "    loss = -(one_hot * log_prob).sum(1).mean()\n",
        "    return loss"
      ],
      "execution_count": 0,
      "outputs": []
    },
    {
      "cell_type": "markdown",
      "metadata": {
        "id": "Z_bjb-kYLUns",
        "colab_type": "text"
      },
      "source": [
        "### Classes for custom dataset"
      ]
    },
    {
      "cell_type": "code",
      "metadata": {
        "id": "FlHErHQALX-G",
        "colab_type": "code",
        "colab": {}
      },
      "source": [
        "class ModelNet(object):\n",
        "    def __init__(self, path, num_points):\n",
        "        import h5py\n",
        "        self.f = h5py.File(path)\n",
        "        self.num_points = num_points\n",
        "\n",
        "        self.n_train = self.f['train/data'].shape[0]\n",
        "        self.n_valid = int(self.n_train / 5)\n",
        "        self.n_train -= self.n_valid\n",
        "        self.n_test = self.f['test/data'].shape[0]\n",
        "\n",
        "    def train(self):\n",
        "        return ModelNetDataset(self, 'train')\n",
        "\n",
        "    def valid(self):\n",
        "        return ModelNetDataset(self, 'valid')\n",
        "\n",
        "    def test(self):\n",
        "        return ModelNetDataset(self, 'test')\n",
        "\n",
        "class ModelNetDataset(Dataset):\n",
        "    def __init__(self, modelnet, mode):\n",
        "        super(ModelNetDataset, self).__init__()\n",
        "        self.num_points = modelnet.num_points\n",
        "        self.mode = mode\n",
        "\n",
        "        if mode == 'train':\n",
        "            self.data = modelnet.f['train/data'][:modelnet.n_train]\n",
        "            self.label = modelnet.f['train/label'][:modelnet.n_train]\n",
        "        elif mode == 'valid':\n",
        "            self.data = modelnet.f['train/data'][modelnet.n_train:]\n",
        "            self.label = modelnet.f['train/label'][modelnet.n_train:]\n",
        "        elif mode == 'test':\n",
        "            self.data = modelnet.f['test/data'].value\n",
        "            self.label = modelnet.f['test/label'].value\n",
        "\n",
        "    def translate(self, x, scale=(2/3, 3/2), shift=(-0.2, 0.2)):\n",
        "        xyz1 = np.random.uniform(low=scale[0], high=scale[1], size=[3])\n",
        "        xyz2 = np.random.uniform(low=shift[0], high=shift[1], size=[3])\n",
        "        x = np.add(np.multiply(x, xyz1), xyz2).astype('float32')\n",
        "        return x\n",
        "\n",
        "    def __len__(self):\n",
        "        return self.data.shape[0]\n",
        "\n",
        "    def __getitem__(self, i):\n",
        "        x = self.data[i][:self.num_points]\n",
        "        y = self.label[i]\n",
        "        if self.mode == 'train':\n",
        "            x = self.translate(x)\n",
        "            np.random.shuffle(x)\n",
        "        return x, y"
      ],
      "execution_count": 0,
      "outputs": []
    },
    {
      "cell_type": "code",
      "metadata": {
        "id": "GA4gX3WYHncd",
        "colab_type": "code",
        "colab": {}
      },
      "source": [
        "num_workers = 0\n",
        "batch_size = 10\n",
        "data_filename = 'modelnet40-sampled-2048.h5'\n",
        "local_path = '' or os.path.join(get_download_dir(), data_filename)\n",
        "num_epochs = 50\n"
      ],
      "execution_count": 0,
      "outputs": []
    },
    {
      "cell_type": "code",
      "metadata": {
        "id": "n2umWkg-Iu5y",
        "colab_type": "code",
        "outputId": "bd3e8854-b809-442a-b94f-9e32e613c4e2",
        "colab": {
          "base_uri": "https://localhost:8080/",
          "height": 34
        }
      },
      "source": [
        "local_path"
      ],
      "execution_count": 0,
      "outputs": [
        {
          "output_type": "execute_result",
          "data": {
            "text/plain": [
              "'/root/.dgl/modelnet40-sampled-2048.h5'"
            ]
          },
          "metadata": {
            "tags": []
          },
          "execution_count": 13
        }
      ]
    },
    {
      "cell_type": "code",
      "metadata": {
        "id": "4mIPAU-FI2jZ",
        "colab_type": "code",
        "colab": {}
      },
      "source": [
        "if not os.path.exists(local_path):\n",
        "    download('https://data.dgl.ai/dataset/modelnet40-sampled-2048.h5', local_path)\n"
      ],
      "execution_count": 0,
      "outputs": []
    },
    {
      "cell_type": "code",
      "metadata": {
        "id": "-_fdUlCjI78w",
        "colab_type": "code",
        "outputId": "0ec75199-96f0-4850-9df1-c8da8448f567",
        "colab": {
          "base_uri": "https://localhost:8080/",
          "height": 34
        }
      },
      "source": [
        "!ls /root/.dgl/"
      ],
      "execution_count": 0,
      "outputs": [
        {
          "output_type": "stream",
          "text": [
            "config.json  modelnet40-sampled-2048.h5\n"
          ],
          "name": "stdout"
        }
      ]
    },
    {
      "cell_type": "code",
      "metadata": {
        "id": "dKNOFG3LJM41",
        "colab_type": "code",
        "colab": {}
      },
      "source": [
        "#from functools import partial\n",
        "CustomDataLoader = partial(\n",
        "        DataLoader,\n",
        "        num_workers=num_workers,\n",
        "        batch_size=batch_size,\n",
        "        shuffle=True,\n",
        "        drop_last=True)"
      ],
      "execution_count": 0,
      "outputs": []
    },
    {
      "cell_type": "code",
      "metadata": {
        "id": "lbPmpFUsJRrN",
        "colab_type": "code",
        "colab": {}
      },
      "source": [
        "dev = torch.device(\"cuda\" if torch.cuda.is_available() else \"cpu\")"
      ],
      "execution_count": 0,
      "outputs": []
    },
    {
      "cell_type": "code",
      "metadata": {
        "id": "qrXk_qeEJhNy",
        "colab_type": "code",
        "colab": {}
      },
      "source": [
        "def train(model, opt, scheduler, train_loader, dev):\n",
        "    scheduler.step()\n",
        "\n",
        "    model.train()\n",
        "\n",
        "    total_loss = 0\n",
        "    num_batches = 0\n",
        "    total_correct = 0\n",
        "    count = 0\n",
        "    with tqdm.tqdm(train_loader, ascii=True) as tq:\n",
        "        for data, label in tq:\n",
        "            num_examples = label.shape[0]\n",
        "            data, label = data.to(dev), label.to(dev).squeeze().long()\n",
        "            opt.zero_grad()\n",
        "            logits = model(data)\n",
        "            loss = compute_loss(logits, label)\n",
        "            loss.backward()\n",
        "            opt.step()\n",
        "\n",
        "            _, preds = logits.max(1)\n",
        "\n",
        "            num_batches += 1\n",
        "            count += num_examples\n",
        "            loss = loss.item()\n",
        "            correct = (preds == label).sum().item()\n",
        "            total_loss += loss\n",
        "            total_correct += correct\n",
        "\n",
        "            tq.set_postfix({\n",
        "                'Loss': '%.5f' % loss,\n",
        "                'AvgLoss': '%.5f' % (total_loss / num_batches),\n",
        "                'Acc': '%.5f' % (correct / num_examples),\n",
        "                'AvgAcc': '%.5f' % (total_correct / count)})\n"
      ],
      "execution_count": 0,
      "outputs": []
    },
    {
      "cell_type": "code",
      "metadata": {
        "id": "jPh9udYyKT9q",
        "colab_type": "code",
        "colab": {}
      },
      "source": [
        "def evaluate(model, test_loader, dev):\n",
        "    model.eval()\n",
        "\n",
        "    total_correct = 0\n",
        "    count = 0\n",
        "\n",
        "    with torch.no_grad():\n",
        "        with tqdm.tqdm(test_loader, ascii=True) as tq:\n",
        "            for data, label in tq:\n",
        "                num_examples = label.shape[0]\n",
        "                data, label = data.to(dev), label.to(dev).squeeze().long()\n",
        "                logits = model(data)\n",
        "                _, preds = logits.max(1)\n",
        "\n",
        "                correct = (preds == label).sum().item()\n",
        "                total_correct += correct\n",
        "                count += num_examples\n",
        "\n",
        "                tq.set_postfix({\n",
        "                    'Acc': '%.5f' % (correct / num_examples),\n",
        "                    'AvgAcc': '%.5f' % (total_correct / count)})\n",
        "\n",
        "    return total_correct / count"
      ],
      "execution_count": 0,
      "outputs": []
    },
    {
      "cell_type": "code",
      "metadata": {
        "id": "LSe55fO5KXYi",
        "colab_type": "code",
        "outputId": "85625ecf-5cc3-437f-f273-aae807e4897e",
        "colab": {
          "base_uri": "https://localhost:8080/",
          "height": 104
        }
      },
      "source": [
        "model = Model(20, [64, 64, 128, 256], [512, 512, 256], 40)\n",
        "model = model.to(dev)\n",
        "# if args.load_model_path:\n",
        "#     model.load_state_dict(torch.load(args.load_model_path, map_location=dev))\n",
        "\n",
        "opt = optim.SGD(model.parameters(), lr=0.1, momentum=0.9, weight_decay=1e-4)\n",
        "\n",
        "scheduler = optim.lr_scheduler.CosineAnnealingLR(opt, num_epochs, eta_min=0.001)\n",
        "\n",
        "modelnet = ModelNet(local_path, 1024)\n",
        "\n",
        "train_loader = CustomDataLoader(modelnet.train())\n",
        "valid_loader = CustomDataLoader(modelnet.valid())\n",
        "test_loader = CustomDataLoader(modelnet.test())\n",
        "\n",
        "best_valid_acc = 0\n",
        "best_test_acc = 0\n"
      ],
      "execution_count": 0,
      "outputs": [
        {
          "output_type": "stream",
          "text": [
            "/usr/local/lib/python3.6/dist-packages/ipykernel_launcher.py:4: H5pyDeprecationWarning: The default file mode will change to 'r' (read-only) in h5py 3.0. To suppress this warning, pass the mode you need to h5py.File(), or set the global default h5.get_config().default_file_mode, or set the environment variable H5PY_DEFAULT_READONLY=1. Available modes are: 'r', 'r+', 'w', 'w-'/'x', 'a'. See the docs for details.\n",
            "  after removing the cwd from sys.path.\n",
            "/usr/local/lib/python3.6/dist-packages/ipykernel_launcher.py:34: H5pyDeprecationWarning: dataset.value has been deprecated. Use dataset[()] instead.\n",
            "/usr/local/lib/python3.6/dist-packages/ipykernel_launcher.py:35: H5pyDeprecationWarning: dataset.value has been deprecated. Use dataset[()] instead.\n"
          ],
          "name": "stderr"
        }
      ]
    },
    {
      "cell_type": "code",
      "metadata": {
        "id": "w5D-ypAlKbq5",
        "colab_type": "code",
        "outputId": "c2963c28-2884-4e35-874f-d929d481e202",
        "colab": {
          "base_uri": "https://localhost:8080/",
          "height": 1000
        }
      },
      "source": [
        "for epoch in range(num_epochs):\n",
        "    print('Epoch #%d Validating' % epoch)\n",
        "    valid_acc = evaluate(model, valid_loader, dev)\n",
        "    test_acc = evaluate(model, test_loader, dev)\n",
        "    if valid_acc > best_valid_acc:\n",
        "        best_valid_acc = valid_acc\n",
        "        best_test_acc = test_acc\n",
        "        # if args.save_model_path:\n",
        "        #     torch.save(model.state_dict(), args.save_model_path)\n",
        "    print('Current validation acc: %.5f (best: %.5f), test acc: %.5f (best: %.5f)' % (\n",
        "        valid_acc, best_valid_acc, test_acc, best_test_acc))\n",
        "\n",
        "    train(model, opt, scheduler, train_loader, dev)"
      ],
      "execution_count": 0,
      "outputs": [
        {
          "output_type": "stream",
          "text": [
            "\r  0%|          | 0/196 [00:00<?, ?it/s]"
          ],
          "name": "stderr"
        },
        {
          "output_type": "stream",
          "text": [
            "Epoch #0 Validating\n"
          ],
          "name": "stdout"
        },
        {
          "output_type": "stream",
          "text": [
            "100%|##########| 196/196 [00:19<00:00,  9.89it/s, Acc=0.00000, AvgAcc=0.01429]\n",
            "100%|##########| 246/246 [00:24<00:00,  9.99it/s, Acc=0.00000, AvgAcc=0.00813]\n",
            "/usr/local/lib/python3.6/dist-packages/torch/optim/lr_scheduler.py:123: UserWarning: Detected call of `lr_scheduler.step()` before `optimizer.step()`. In PyTorch 1.1.0 and later, you should call them in the opposite order: `optimizer.step()` before `lr_scheduler.step()`.  Failure to do this will result in PyTorch skipping the first value of the learning rate schedule. See more details at https://pytorch.org/docs/stable/optim.html#how-to-adjust-learning-rate\n",
            "  \"https://pytorch.org/docs/stable/optim.html#how-to-adjust-learning-rate\", UserWarning)\n",
            "  0%|          | 0/787 [00:00<?, ?it/s]"
          ],
          "name": "stderr"
        },
        {
          "output_type": "stream",
          "text": [
            "Current validation acc: 0.01429 (best: 0.01429), test acc: 0.00813 (best: 0.00813)\n"
          ],
          "name": "stdout"
        },
        {
          "output_type": "stream",
          "text": [
            "100%|##########| 787/787 [05:45<00:00,  2.28it/s, Loss=2.50429, AvgLoss=3.23742, Acc=0.50000, AvgAcc=0.27370]\n",
            "  1%|1         | 2/196 [00:00<00:19, 10.18it/s, Acc=0.40000, AvgAcc=0.50000]"
          ],
          "name": "stderr"
        },
        {
          "output_type": "stream",
          "text": [
            "Epoch #1 Validating\n"
          ],
          "name": "stdout"
        },
        {
          "output_type": "stream",
          "text": [
            "100%|##########| 196/196 [00:19<00:00, 10.29it/s, Acc=0.60000, AvgAcc=0.48776]\n",
            "100%|##########| 246/246 [00:23<00:00, 10.26it/s, Acc=0.40000, AvgAcc=0.37033]\n",
            "  0%|          | 0/787 [00:00<?, ?it/s]"
          ],
          "name": "stderr"
        },
        {
          "output_type": "stream",
          "text": [
            "Current validation acc: 0.48776 (best: 0.48776), test acc: 0.37033 (best: 0.37033)\n"
          ],
          "name": "stdout"
        },
        {
          "output_type": "stream",
          "text": [
            "100%|##########| 787/787 [05:44<00:00,  2.28it/s, Loss=3.16909, AvgLoss=2.79725, Acc=0.30000, AvgAcc=0.39924]\n",
            "  1%|          | 1/196 [00:00<00:19,  9.79it/s, Acc=0.70000, AvgAcc=0.70000]"
          ],
          "name": "stderr"
        },
        {
          "output_type": "stream",
          "text": [
            "Epoch #2 Validating\n"
          ],
          "name": "stdout"
        },
        {
          "output_type": "stream",
          "text": [
            "100%|##########| 196/196 [00:19<00:00, 10.29it/s, Acc=0.50000, AvgAcc=0.54082]\n",
            "100%|##########| 246/246 [00:23<00:00, 10.28it/s, Acc=0.50000, AvgAcc=0.43211]\n",
            "  0%|          | 0/787 [00:00<?, ?it/s]"
          ],
          "name": "stderr"
        },
        {
          "output_type": "stream",
          "text": [
            "Current validation acc: 0.54082 (best: 0.54082), test acc: 0.43211 (best: 0.43211)\n"
          ],
          "name": "stdout"
        },
        {
          "output_type": "stream",
          "text": [
            "100%|##########| 787/787 [05:45<00:00,  2.28it/s, Loss=2.70571, AvgLoss=2.66753, Acc=0.50000, AvgAcc=0.45426]\n",
            "  1%|          | 1/196 [00:00<00:20,  9.69it/s, Acc=0.50000, AvgAcc=0.45000]"
          ],
          "name": "stderr"
        },
        {
          "output_type": "stream",
          "text": [
            "Epoch #3 Validating\n"
          ],
          "name": "stdout"
        },
        {
          "output_type": "stream",
          "text": [
            "100%|##########| 196/196 [00:19<00:00, 10.24it/s, Acc=0.90000, AvgAcc=0.60663]\n",
            "100%|##########| 246/246 [00:23<00:00, 10.28it/s, Acc=0.50000, AvgAcc=0.51098]\n",
            "  0%|          | 0/787 [00:00<?, ?it/s]"
          ],
          "name": "stderr"
        },
        {
          "output_type": "stream",
          "text": [
            "Current validation acc: 0.60663 (best: 0.60663), test acc: 0.51098 (best: 0.51098)\n"
          ],
          "name": "stdout"
        },
        {
          "output_type": "stream",
          "text": [
            "100%|##########| 787/787 [05:45<00:00,  2.28it/s, Loss=2.68688, AvgLoss=2.55835, Acc=0.30000, AvgAcc=0.49365]\n",
            "  0%|          | 0/196 [00:00<?, ?it/s, Acc=0.80000, AvgAcc=0.80000]"
          ],
          "name": "stderr"
        },
        {
          "output_type": "stream",
          "text": [
            "Epoch #4 Validating\n"
          ],
          "name": "stdout"
        },
        {
          "output_type": "stream",
          "text": [
            "100%|##########| 196/196 [00:19<00:00, 10.26it/s, Acc=0.90000, AvgAcc=0.65714]\n",
            "100%|##########| 246/246 [00:23<00:00, 10.26it/s, Acc=0.60000, AvgAcc=0.60894]\n",
            "  0%|          | 0/787 [00:00<?, ?it/s]"
          ],
          "name": "stderr"
        },
        {
          "output_type": "stream",
          "text": [
            "Current validation acc: 0.65714 (best: 0.65714), test acc: 0.60894 (best: 0.60894)\n"
          ],
          "name": "stdout"
        },
        {
          "output_type": "stream",
          "text": [
            "100%|##########| 787/787 [05:45<00:00,  2.28it/s, Loss=2.38214, AvgLoss=2.47000, Acc=0.60000, AvgAcc=0.52402]\n",
            "  1%|1         | 2/196 [00:00<00:19, 10.10it/s, Acc=0.80000, AvgAcc=0.70000]"
          ],
          "name": "stderr"
        },
        {
          "output_type": "stream",
          "text": [
            "Epoch #5 Validating\n"
          ],
          "name": "stdout"
        },
        {
          "output_type": "stream",
          "text": [
            "100%|##########| 196/196 [00:19<00:00, 10.20it/s, Acc=0.70000, AvgAcc=0.72143]\n",
            "100%|##########| 246/246 [00:24<00:00, 10.23it/s, Acc=0.60000, AvgAcc=0.68780]\n",
            "  0%|          | 0/787 [00:00<?, ?it/s]"
          ],
          "name": "stderr"
        },
        {
          "output_type": "stream",
          "text": [
            "Current validation acc: 0.72143 (best: 0.72143), test acc: 0.68780 (best: 0.68780)\n"
          ],
          "name": "stdout"
        },
        {
          "output_type": "stream",
          "text": [
            "100%|##########| 787/787 [05:46<00:00,  2.27it/s, Loss=2.67057, AvgLoss=2.38237, Acc=0.50000, AvgAcc=0.56976]\n",
            "  1%|          | 1/196 [00:00<00:19,  9.81it/s, Acc=0.80000, AvgAcc=0.80000]"
          ],
          "name": "stderr"
        },
        {
          "output_type": "stream",
          "text": [
            "Epoch #6 Validating\n"
          ],
          "name": "stdout"
        },
        {
          "output_type": "stream",
          "text": [
            "100%|##########| 196/196 [00:19<00:00,  9.93it/s, Acc=0.70000, AvgAcc=0.71990]\n",
            "100%|##########| 246/246 [00:24<00:00, 10.05it/s, Acc=0.50000, AvgAcc=0.66829]\n",
            "  0%|          | 0/787 [00:00<?, ?it/s]"
          ],
          "name": "stderr"
        },
        {
          "output_type": "stream",
          "text": [
            "Current validation acc: 0.71990 (best: 0.72143), test acc: 0.66829 (best: 0.68780)\n"
          ],
          "name": "stdout"
        },
        {
          "output_type": "stream",
          "text": [
            "100%|##########| 787/787 [05:47<00:00,  2.27it/s, Loss=2.45132, AvgLoss=2.32679, Acc=0.50000, AvgAcc=0.58729]\n",
            "  1%|          | 1/196 [00:00<00:20,  9.64it/s, Acc=0.80000, AvgAcc=0.80000]"
          ],
          "name": "stderr"
        },
        {
          "output_type": "stream",
          "text": [
            "Epoch #7 Validating\n"
          ],
          "name": "stdout"
        },
        {
          "output_type": "stream",
          "text": [
            "100%|##########| 196/196 [00:19<00:00, 10.06it/s, Acc=0.70000, AvgAcc=0.71224]\n",
            "100%|##########| 246/246 [00:24<00:00, 10.03it/s, Acc=0.80000, AvgAcc=0.66138]\n",
            "  0%|          | 0/787 [00:00<?, ?it/s]"
          ],
          "name": "stderr"
        },
        {
          "output_type": "stream",
          "text": [
            "Current validation acc: 0.71224 (best: 0.72143), test acc: 0.66138 (best: 0.68780)\n"
          ],
          "name": "stdout"
        },
        {
          "output_type": "stream",
          "text": [
            "100%|##########| 787/787 [05:47<00:00,  2.27it/s, Loss=2.22514, AvgLoss=2.26139, Acc=0.70000, AvgAcc=0.62135]\n",
            "  1%|          | 1/196 [00:00<00:19,  9.79it/s, Acc=0.70000, AvgAcc=0.70000]"
          ],
          "name": "stderr"
        },
        {
          "output_type": "stream",
          "text": [
            "Epoch #8 Validating\n"
          ],
          "name": "stdout"
        },
        {
          "output_type": "stream",
          "text": [
            "100%|##########| 196/196 [00:19<00:00, 10.05it/s, Acc=0.60000, AvgAcc=0.75408]\n",
            "100%|##########| 246/246 [00:24<00:00, 10.05it/s, Acc=0.90000, AvgAcc=0.71504]\n",
            "  0%|          | 0/787 [00:00<?, ?it/s]"
          ],
          "name": "stderr"
        },
        {
          "output_type": "stream",
          "text": [
            "Current validation acc: 0.75408 (best: 0.75408), test acc: 0.71504 (best: 0.71504)\n"
          ],
          "name": "stdout"
        },
        {
          "output_type": "stream",
          "text": [
            "100%|##########| 787/787 [05:46<00:00,  2.27it/s, Loss=2.17652, AvgLoss=2.22913, Acc=0.60000, AvgAcc=0.63189]\n",
            "  1%|1         | 2/196 [00:00<00:19, 10.11it/s, Acc=0.60000, AvgAcc=0.70000]"
          ],
          "name": "stderr"
        },
        {
          "output_type": "stream",
          "text": [
            "Epoch #9 Validating\n"
          ],
          "name": "stdout"
        },
        {
          "output_type": "stream",
          "text": [
            "100%|##########| 196/196 [00:19<00:00, 10.14it/s, Acc=1.00000, AvgAcc=0.76173]\n",
            "100%|##########| 246/246 [00:24<00:00, 10.16it/s, Acc=0.90000, AvgAcc=0.74065]\n",
            "  0%|          | 0/787 [00:00<?, ?it/s]"
          ],
          "name": "stderr"
        },
        {
          "output_type": "stream",
          "text": [
            "Current validation acc: 0.76173 (best: 0.76173), test acc: 0.74065 (best: 0.74065)\n"
          ],
          "name": "stdout"
        },
        {
          "output_type": "stream",
          "text": [
            "100%|##########| 787/787 [05:46<00:00,  2.27it/s, Loss=1.93692, AvgLoss=2.19600, Acc=0.80000, AvgAcc=0.65464]\n",
            "  1%|          | 1/196 [00:00<00:19,  9.94it/s, Acc=1.00000, AvgAcc=1.00000]"
          ],
          "name": "stderr"
        },
        {
          "output_type": "stream",
          "text": [
            "Epoch #10 Validating\n"
          ],
          "name": "stdout"
        },
        {
          "output_type": "stream",
          "text": [
            "100%|##########| 196/196 [00:19<00:00, 10.14it/s, Acc=0.80000, AvgAcc=0.76633]\n",
            "100%|##########| 246/246 [00:24<00:00, 10.15it/s, Acc=1.00000, AvgAcc=0.74390]\n",
            "  0%|          | 0/787 [00:00<?, ?it/s]"
          ],
          "name": "stderr"
        },
        {
          "output_type": "stream",
          "text": [
            "Current validation acc: 0.76633 (best: 0.76633), test acc: 0.74390 (best: 0.74390)\n"
          ],
          "name": "stdout"
        },
        {
          "output_type": "stream",
          "text": [
            "100%|##########| 787/787 [05:48<00:00,  2.26it/s, Loss=1.88672, AvgLoss=2.16622, Acc=0.70000, AvgAcc=0.66290]\n",
            "  1%|          | 1/196 [00:00<00:20,  9.73it/s, Acc=0.60000, AvgAcc=0.60000]"
          ],
          "name": "stderr"
        },
        {
          "output_type": "stream",
          "text": [
            "Epoch #11 Validating\n"
          ],
          "name": "stdout"
        },
        {
          "output_type": "stream",
          "text": [
            "100%|##########| 196/196 [00:19<00:00,  9.91it/s, Acc=1.00000, AvgAcc=0.75561]\n",
            "100%|##########| 246/246 [00:24<00:00,  9.99it/s, Acc=0.80000, AvgAcc=0.72927]\n",
            "  0%|          | 0/787 [00:00<?, ?it/s]"
          ],
          "name": "stderr"
        },
        {
          "output_type": "stream",
          "text": [
            "Current validation acc: 0.75561 (best: 0.76633), test acc: 0.72927 (best: 0.74390)\n"
          ],
          "name": "stdout"
        },
        {
          "output_type": "stream",
          "text": [
            "100%|##########| 787/787 [05:49<00:00,  2.25it/s, Loss=2.19124, AvgLoss=2.13305, Acc=0.70000, AvgAcc=0.67751]\n",
            "  1%|          | 1/196 [00:00<00:20,  9.47it/s, Acc=0.70000, AvgAcc=0.70000]"
          ],
          "name": "stderr"
        },
        {
          "output_type": "stream",
          "text": [
            "Epoch #12 Validating\n"
          ],
          "name": "stdout"
        },
        {
          "output_type": "stream",
          "text": [
            "100%|##########| 196/196 [00:20<00:00,  9.64it/s, Acc=0.70000, AvgAcc=0.78724]\n",
            "100%|##########| 246/246 [00:25<00:00,  9.63it/s, Acc=0.60000, AvgAcc=0.75447]\n",
            "  0%|          | 0/787 [00:00<?, ?it/s]"
          ],
          "name": "stderr"
        },
        {
          "output_type": "stream",
          "text": [
            "Current validation acc: 0.78724 (best: 0.78724), test acc: 0.75447 (best: 0.75447)\n"
          ],
          "name": "stdout"
        },
        {
          "output_type": "stream",
          "text": [
            "100%|##########| 787/787 [05:49<00:00,  2.25it/s, Loss=2.15849, AvgLoss=2.10494, Acc=0.60000, AvgAcc=0.69212]\n",
            "  1%|          | 1/196 [00:00<00:20,  9.43it/s, Acc=0.90000, AvgAcc=0.90000]"
          ],
          "name": "stderr"
        },
        {
          "output_type": "stream",
          "text": [
            "Epoch #13 Validating\n"
          ],
          "name": "stdout"
        },
        {
          "output_type": "stream",
          "text": [
            "100%|##########| 196/196 [00:20<00:00,  9.47it/s, Acc=0.80000, AvgAcc=0.79592]\n",
            "100%|##########| 246/246 [00:25<00:00,  9.52it/s, Acc=0.90000, AvgAcc=0.76423]\n",
            "  0%|          | 0/787 [00:00<?, ?it/s]"
          ],
          "name": "stderr"
        },
        {
          "output_type": "stream",
          "text": [
            "Current validation acc: 0.79592 (best: 0.79592), test acc: 0.76423 (best: 0.76423)\n"
          ],
          "name": "stdout"
        },
        {
          "output_type": "stream",
          "text": [
            "100%|##########| 787/787 [05:50<00:00,  2.25it/s, Loss=2.07986, AvgLoss=2.08003, Acc=0.80000, AvgAcc=0.69708]\n",
            "  1%|          | 1/196 [00:00<00:20,  9.49it/s, Acc=0.80000, AvgAcc=0.80000]"
          ],
          "name": "stderr"
        },
        {
          "output_type": "stream",
          "text": [
            "Epoch #14 Validating\n"
          ],
          "name": "stdout"
        },
        {
          "output_type": "stream",
          "text": [
            "100%|##########| 196/196 [00:20<00:00,  9.64it/s, Acc=0.90000, AvgAcc=0.80561]\n",
            "100%|##########| 246/246 [00:25<00:00,  9.67it/s, Acc=0.80000, AvgAcc=0.77033]\n",
            "  0%|          | 0/787 [00:00<?, ?it/s]"
          ],
          "name": "stderr"
        },
        {
          "output_type": "stream",
          "text": [
            "Current validation acc: 0.80561 (best: 0.80561), test acc: 0.77033 (best: 0.77033)\n"
          ],
          "name": "stdout"
        },
        {
          "output_type": "stream",
          "text": [
            "100%|##########| 787/787 [05:48<00:00,  2.26it/s, Loss=1.99211, AvgLoss=2.04431, Acc=0.70000, AvgAcc=0.71449]\n",
            "  1%|          | 1/196 [00:00<00:19,  9.75it/s, Acc=0.80000, AvgAcc=0.80000]"
          ],
          "name": "stderr"
        },
        {
          "output_type": "stream",
          "text": [
            "Epoch #15 Validating\n"
          ],
          "name": "stdout"
        },
        {
          "output_type": "stream",
          "text": [
            "100%|##########| 196/196 [00:20<00:00,  9.56it/s, Acc=0.90000, AvgAcc=0.84082]\n",
            "100%|##########| 246/246 [00:25<00:00,  9.56it/s, Acc=0.70000, AvgAcc=0.82642]\n",
            "  0%|          | 0/787 [00:00<?, ?it/s]"
          ],
          "name": "stderr"
        },
        {
          "output_type": "stream",
          "text": [
            "Current validation acc: 0.84082 (best: 0.84082), test acc: 0.82642 (best: 0.82642)\n"
          ],
          "name": "stdout"
        },
        {
          "output_type": "stream",
          "text": [
            "100%|##########| 787/787 [05:49<00:00,  2.25it/s, Loss=1.76135, AvgLoss=2.00873, Acc=0.90000, AvgAcc=0.72694]\n",
            "  1%|          | 1/196 [00:00<00:20,  9.56it/s, Acc=0.90000, AvgAcc=0.90000]"
          ],
          "name": "stderr"
        },
        {
          "output_type": "stream",
          "text": [
            "Epoch #16 Validating\n"
          ],
          "name": "stdout"
        },
        {
          "output_type": "stream",
          "text": [
            "100%|##########| 196/196 [00:20<00:00,  9.62it/s, Acc=0.80000, AvgAcc=0.82704]\n",
            "100%|##########| 246/246 [00:25<00:00,  9.61it/s, Acc=1.00000, AvgAcc=0.81789]\n",
            "  0%|          | 0/787 [00:00<?, ?it/s]"
          ],
          "name": "stderr"
        },
        {
          "output_type": "stream",
          "text": [
            "Current validation acc: 0.82704 (best: 0.84082), test acc: 0.81789 (best: 0.82642)\n"
          ],
          "name": "stdout"
        },
        {
          "output_type": "stream",
          "text": [
            "100%|##########| 787/787 [05:51<00:00,  2.24it/s, Loss=1.62315, AvgLoss=1.99405, Acc=0.90000, AvgAcc=0.73202]\n",
            "  1%|          | 1/196 [00:00<00:20,  9.32it/s, Acc=0.70000, AvgAcc=0.70000]"
          ],
          "name": "stderr"
        },
        {
          "output_type": "stream",
          "text": [
            "Epoch #17 Validating\n"
          ],
          "name": "stdout"
        },
        {
          "output_type": "stream",
          "text": [
            "100%|##########| 196/196 [00:21<00:00,  9.29it/s, Acc=0.80000, AvgAcc=0.83980]\n",
            "100%|##########| 246/246 [00:26<00:00,  9.41it/s, Acc=0.80000, AvgAcc=0.81504]\n",
            "  0%|          | 0/787 [00:00<?, ?it/s]"
          ],
          "name": "stderr"
        },
        {
          "output_type": "stream",
          "text": [
            "Current validation acc: 0.83980 (best: 0.84082), test acc: 0.81504 (best: 0.82642)\n"
          ],
          "name": "stdout"
        },
        {
          "output_type": "stream",
          "text": [
            "100%|##########| 787/787 [05:50<00:00,  2.24it/s, Loss=1.75343, AvgLoss=1.96898, Acc=0.70000, AvgAcc=0.74841]\n",
            "  1%|          | 1/196 [00:00<00:20,  9.57it/s, Acc=0.80000, AvgAcc=0.80000]"
          ],
          "name": "stderr"
        },
        {
          "output_type": "stream",
          "text": [
            "Epoch #18 Validating\n"
          ],
          "name": "stdout"
        },
        {
          "output_type": "stream",
          "text": [
            "100%|##########| 196/196 [00:20<00:00,  9.44it/s, Acc=0.90000, AvgAcc=0.83112]\n",
            "100%|##########| 246/246 [00:25<00:00,  9.48it/s, Acc=0.70000, AvgAcc=0.81707]\n",
            "  0%|          | 0/787 [00:00<?, ?it/s]"
          ],
          "name": "stderr"
        },
        {
          "output_type": "stream",
          "text": [
            "Current validation acc: 0.83112 (best: 0.84082), test acc: 0.81707 (best: 0.82642)\n"
          ],
          "name": "stdout"
        },
        {
          "output_type": "stream",
          "text": [
            "100%|##########| 787/787 [05:49<00:00,  2.25it/s, Loss=1.74637, AvgLoss=1.94725, Acc=0.90000, AvgAcc=0.75807]\n",
            "  1%|          | 1/196 [00:00<00:20,  9.48it/s, Acc=0.90000, AvgAcc=0.90000]"
          ],
          "name": "stderr"
        },
        {
          "output_type": "stream",
          "text": [
            "Epoch #19 Validating\n"
          ],
          "name": "stdout"
        },
        {
          "output_type": "stream",
          "text": [
            "100%|##########| 196/196 [00:20<00:00,  9.54it/s, Acc=0.90000, AvgAcc=0.85612]\n",
            "100%|##########| 246/246 [00:25<00:00,  9.54it/s, Acc=0.90000, AvgAcc=0.84228]\n",
            "  0%|          | 0/787 [00:00<?, ?it/s]"
          ],
          "name": "stderr"
        },
        {
          "output_type": "stream",
          "text": [
            "Current validation acc: 0.85612 (best: 0.85612), test acc: 0.84228 (best: 0.84228)\n"
          ],
          "name": "stdout"
        },
        {
          "output_type": "stream",
          "text": [
            "100%|##########| 787/787 [05:50<00:00,  2.25it/s, Loss=2.08393, AvgLoss=1.93264, Acc=0.60000, AvgAcc=0.76518]\n",
            "  1%|          | 1/196 [00:00<00:21,  9.26it/s, Acc=0.90000, AvgAcc=0.90000]"
          ],
          "name": "stderr"
        },
        {
          "output_type": "stream",
          "text": [
            "Epoch #20 Validating\n"
          ],
          "name": "stdout"
        },
        {
          "output_type": "stream",
          "text": [
            "100%|##########| 196/196 [00:20<00:00,  9.49it/s, Acc=1.00000, AvgAcc=0.85357]\n",
            "100%|##########| 246/246 [00:25<00:00,  9.50it/s, Acc=0.80000, AvgAcc=0.85122]\n",
            "  0%|          | 0/787 [00:00<?, ?it/s]"
          ],
          "name": "stderr"
        },
        {
          "output_type": "stream",
          "text": [
            "Current validation acc: 0.85357 (best: 0.85612), test acc: 0.85122 (best: 0.84228)\n"
          ],
          "name": "stdout"
        },
        {
          "output_type": "stream",
          "text": [
            "100%|##########| 787/787 [05:50<00:00,  2.25it/s, Loss=1.67196, AvgLoss=1.91668, Acc=0.80000, AvgAcc=0.77128]\n",
            "  1%|          | 1/196 [00:00<00:21,  8.90it/s, Acc=0.90000, AvgAcc=0.90000]"
          ],
          "name": "stderr"
        },
        {
          "output_type": "stream",
          "text": [
            "Epoch #21 Validating\n"
          ],
          "name": "stdout"
        },
        {
          "output_type": "stream",
          "text": [
            "100%|##########| 196/196 [00:20<00:00,  9.62it/s, Acc=0.70000, AvgAcc=0.84133]\n",
            "100%|##########| 246/246 [00:25<00:00,  9.54it/s, Acc=0.90000, AvgAcc=0.83455]\n",
            "  0%|          | 0/787 [00:00<?, ?it/s]"
          ],
          "name": "stderr"
        },
        {
          "output_type": "stream",
          "text": [
            "Current validation acc: 0.84133 (best: 0.85612), test acc: 0.83455 (best: 0.84228)\n"
          ],
          "name": "stdout"
        },
        {
          "output_type": "stream",
          "text": [
            "100%|##########| 787/787 [05:49<00:00,  2.25it/s, Loss=1.99658, AvgLoss=1.89815, Acc=0.70000, AvgAcc=0.77751]\n",
            "  1%|          | 1/196 [00:00<00:20,  9.41it/s, Acc=0.90000, AvgAcc=0.90000]"
          ],
          "name": "stderr"
        },
        {
          "output_type": "stream",
          "text": [
            "Epoch #22 Validating\n"
          ],
          "name": "stdout"
        },
        {
          "output_type": "stream",
          "text": [
            "100%|##########| 196/196 [00:20<00:00,  9.62it/s, Acc=0.80000, AvgAcc=0.86173]\n",
            "100%|##########| 246/246 [00:25<00:00,  9.56it/s, Acc=0.90000, AvgAcc=0.85325]\n",
            "  0%|          | 0/787 [00:00<?, ?it/s]"
          ],
          "name": "stderr"
        },
        {
          "output_type": "stream",
          "text": [
            "Current validation acc: 0.86173 (best: 0.86173), test acc: 0.85325 (best: 0.85325)\n"
          ],
          "name": "stdout"
        },
        {
          "output_type": "stream",
          "text": [
            "100%|##########| 787/787 [05:49<00:00,  2.25it/s, Loss=1.59903, AvgLoss=1.87581, Acc=1.00000, AvgAcc=0.78717]\n",
            "  1%|          | 1/196 [00:00<00:20,  9.61it/s, Acc=0.90000, AvgAcc=0.90000]"
          ],
          "name": "stderr"
        },
        {
          "output_type": "stream",
          "text": [
            "Epoch #23 Validating\n"
          ],
          "name": "stdout"
        },
        {
          "output_type": "stream",
          "text": [
            "100%|##########| 196/196 [00:20<00:00,  9.40it/s, Acc=0.70000, AvgAcc=0.86531]\n",
            "100%|##########| 246/246 [00:24<00:00,  9.99it/s, Acc=1.00000, AvgAcc=0.86301]\n",
            "  0%|          | 0/787 [00:00<?, ?it/s]"
          ],
          "name": "stderr"
        },
        {
          "output_type": "stream",
          "text": [
            "Current validation acc: 0.86531 (best: 0.86531), test acc: 0.86301 (best: 0.86301)\n"
          ],
          "name": "stdout"
        },
        {
          "output_type": "stream",
          "text": [
            "100%|##########| 787/787 [05:47<00:00,  2.26it/s, Loss=1.71603, AvgLoss=1.85462, Acc=0.90000, AvgAcc=0.79352]\n",
            "  1%|          | 1/196 [00:00<00:19,  9.96it/s, Acc=0.90000, AvgAcc=0.90000]"
          ],
          "name": "stderr"
        },
        {
          "output_type": "stream",
          "text": [
            "Epoch #24 Validating\n"
          ],
          "name": "stdout"
        },
        {
          "output_type": "stream",
          "text": [
            "100%|##########| 196/196 [00:19<00:00,  9.92it/s, Acc=1.00000, AvgAcc=0.86173]\n",
            "100%|##########| 246/246 [00:25<00:00,  9.83it/s, Acc=0.90000, AvgAcc=0.84675]\n",
            "  0%|          | 0/787 [00:00<?, ?it/s]"
          ],
          "name": "stderr"
        },
        {
          "output_type": "stream",
          "text": [
            "Current validation acc: 0.86173 (best: 0.86531), test acc: 0.84675 (best: 0.86301)\n"
          ],
          "name": "stdout"
        },
        {
          "output_type": "stream",
          "text": [
            "100%|##########| 787/787 [05:47<00:00,  2.26it/s, Loss=1.56316, AvgLoss=1.83905, Acc=0.90000, AvgAcc=0.80178]\n",
            "  1%|          | 1/196 [00:00<00:20,  9.47it/s, Acc=1.00000, AvgAcc=1.00000]"
          ],
          "name": "stderr"
        },
        {
          "output_type": "stream",
          "text": [
            "Epoch #25 Validating\n"
          ],
          "name": "stdout"
        },
        {
          "output_type": "stream",
          "text": [
            "100%|##########| 196/196 [00:20<00:00,  9.44it/s, Acc=0.90000, AvgAcc=0.87500]\n",
            "100%|##########| 246/246 [00:25<00:00,  9.73it/s, Acc=1.00000, AvgAcc=0.87683]\n",
            "  0%|          | 0/787 [00:00<?, ?it/s]"
          ],
          "name": "stderr"
        },
        {
          "output_type": "stream",
          "text": [
            "Current validation acc: 0.87500 (best: 0.87500), test acc: 0.87683 (best: 0.87683)\n"
          ],
          "name": "stdout"
        },
        {
          "output_type": "stream",
          "text": [
            "100%|##########| 787/787 [05:49<00:00,  2.25it/s, Loss=1.93551, AvgLoss=1.81919, Acc=0.80000, AvgAcc=0.81055]\n",
            "  1%|          | 1/196 [00:00<00:19,  9.93it/s, Acc=1.00000, AvgAcc=1.00000]"
          ],
          "name": "stderr"
        },
        {
          "output_type": "stream",
          "text": [
            "Epoch #26 Validating\n"
          ],
          "name": "stdout"
        },
        {
          "output_type": "stream",
          "text": [
            "100%|##########| 196/196 [00:20<00:00,  9.75it/s, Acc=1.00000, AvgAcc=0.87806]\n",
            "100%|##########| 246/246 [00:25<00:00,  9.79it/s, Acc=1.00000, AvgAcc=0.86016]\n",
            "  0%|          | 0/787 [00:00<?, ?it/s]"
          ],
          "name": "stderr"
        },
        {
          "output_type": "stream",
          "text": [
            "Current validation acc: 0.87806 (best: 0.87806), test acc: 0.86016 (best: 0.86016)\n"
          ],
          "name": "stdout"
        },
        {
          "output_type": "stream",
          "text": [
            "100%|##########| 787/787 [05:49<00:00,  2.25it/s, Loss=1.58553, AvgLoss=1.79264, Acc=0.90000, AvgAcc=0.82440]\n",
            "  1%|          | 1/196 [00:00<00:20,  9.66it/s, Acc=0.90000, AvgAcc=0.90000]"
          ],
          "name": "stderr"
        },
        {
          "output_type": "stream",
          "text": [
            "Epoch #27 Validating\n"
          ],
          "name": "stdout"
        },
        {
          "output_type": "stream",
          "text": [
            "100%|##########| 196/196 [00:20<00:00,  9.69it/s, Acc=1.00000, AvgAcc=0.87296]\n",
            "100%|##########| 246/246 [00:25<00:00,  9.73it/s, Acc=0.70000, AvgAcc=0.87317]\n",
            "  0%|          | 0/787 [00:00<?, ?it/s]"
          ],
          "name": "stderr"
        },
        {
          "output_type": "stream",
          "text": [
            "Current validation acc: 0.87296 (best: 0.87806), test acc: 0.87317 (best: 0.86016)\n"
          ],
          "name": "stdout"
        },
        {
          "output_type": "stream",
          "text": [
            "100%|##########| 787/787 [05:49<00:00,  2.25it/s, Loss=1.80193, AvgLoss=1.78110, Acc=0.90000, AvgAcc=0.82732]\n",
            "  1%|          | 1/196 [00:00<00:20,  9.39it/s, Acc=0.90000, AvgAcc=0.90000]"
          ],
          "name": "stderr"
        },
        {
          "output_type": "stream",
          "text": [
            "Epoch #28 Validating\n"
          ],
          "name": "stdout"
        },
        {
          "output_type": "stream",
          "text": [
            "100%|##########| 196/196 [00:20<00:00,  9.62it/s, Acc=0.80000, AvgAcc=0.87449]\n",
            "100%|##########| 246/246 [00:25<00:00,  9.65it/s, Acc=0.90000, AvgAcc=0.87073]\n",
            "  0%|          | 0/787 [00:00<?, ?it/s]"
          ],
          "name": "stderr"
        },
        {
          "output_type": "stream",
          "text": [
            "Current validation acc: 0.87449 (best: 0.87806), test acc: 0.87073 (best: 0.86016)\n"
          ],
          "name": "stdout"
        },
        {
          "output_type": "stream",
          "text": [
            "100%|##########| 787/787 [05:49<00:00,  2.25it/s, Loss=1.74051, AvgLoss=1.77416, Acc=0.80000, AvgAcc=0.82986]\n",
            "  1%|          | 1/196 [00:00<00:20,  9.64it/s, Acc=1.00000, AvgAcc=1.00000]"
          ],
          "name": "stderr"
        },
        {
          "output_type": "stream",
          "text": [
            "Epoch #29 Validating\n"
          ],
          "name": "stdout"
        },
        {
          "output_type": "stream",
          "text": [
            "100%|##########| 196/196 [00:20<00:00,  9.61it/s, Acc=0.70000, AvgAcc=0.88367]\n",
            "100%|##########| 246/246 [00:25<00:00,  9.65it/s, Acc=0.80000, AvgAcc=0.87154]\n",
            "  0%|          | 0/787 [00:00<?, ?it/s]"
          ],
          "name": "stderr"
        },
        {
          "output_type": "stream",
          "text": [
            "Current validation acc: 0.88367 (best: 0.88367), test acc: 0.87154 (best: 0.87154)\n"
          ],
          "name": "stdout"
        },
        {
          "output_type": "stream",
          "text": [
            "100%|##########| 787/787 [05:49<00:00,  2.25it/s, Loss=1.58374, AvgLoss=1.74991, Acc=1.00000, AvgAcc=0.84193]\n",
            "  1%|          | 1/196 [00:00<00:20,  9.72it/s, Acc=1.00000, AvgAcc=1.00000]"
          ],
          "name": "stderr"
        },
        {
          "output_type": "stream",
          "text": [
            "Epoch #30 Validating\n"
          ],
          "name": "stdout"
        },
        {
          "output_type": "stream",
          "text": [
            "100%|##########| 196/196 [00:20<00:00,  9.66it/s, Acc=0.80000, AvgAcc=0.88418]\n",
            "100%|##########| 246/246 [00:25<00:00,  9.62it/s, Acc=0.80000, AvgAcc=0.87317]\n",
            "  0%|          | 0/787 [00:00<?, ?it/s]"
          ],
          "name": "stderr"
        },
        {
          "output_type": "stream",
          "text": [
            "Current validation acc: 0.88418 (best: 0.88418), test acc: 0.87317 (best: 0.87317)\n"
          ],
          "name": "stdout"
        },
        {
          "output_type": "stream",
          "text": [
            "100%|##########| 787/787 [05:49<00:00,  2.25it/s, Loss=1.71757, AvgLoss=1.72821, Acc=0.70000, AvgAcc=0.84612]\n",
            "  1%|          | 1/196 [00:00<00:20,  9.65it/s, Acc=1.00000, AvgAcc=1.00000]"
          ],
          "name": "stderr"
        },
        {
          "output_type": "stream",
          "text": [
            "Epoch #31 Validating\n"
          ],
          "name": "stdout"
        },
        {
          "output_type": "stream",
          "text": [
            "100%|##########| 196/196 [00:20<00:00,  9.66it/s, Acc=0.90000, AvgAcc=0.88827]\n",
            "100%|##########| 246/246 [00:25<00:00,  9.63it/s, Acc=0.80000, AvgAcc=0.87561]\n",
            "  0%|          | 0/787 [00:00<?, ?it/s]"
          ],
          "name": "stderr"
        },
        {
          "output_type": "stream",
          "text": [
            "Current validation acc: 0.88827 (best: 0.88827), test acc: 0.87561 (best: 0.87561)\n"
          ],
          "name": "stdout"
        },
        {
          "output_type": "stream",
          "text": [
            "100%|##########| 787/787 [05:49<00:00,  2.25it/s, Loss=1.65194, AvgLoss=1.71466, Acc=0.80000, AvgAcc=0.85604]\n",
            "  1%|          | 1/196 [00:00<00:21,  9.22it/s, Acc=1.00000, AvgAcc=1.00000]"
          ],
          "name": "stderr"
        },
        {
          "output_type": "stream",
          "text": [
            "Epoch #32 Validating\n"
          ],
          "name": "stdout"
        },
        {
          "output_type": "stream",
          "text": [
            "100%|##########| 196/196 [00:20<00:00,  9.64it/s, Acc=1.00000, AvgAcc=0.89592]\n",
            "100%|##########| 246/246 [00:25<00:00,  9.65it/s, Acc=0.80000, AvgAcc=0.87846]\n",
            "  0%|          | 0/787 [00:00<?, ?it/s]"
          ],
          "name": "stderr"
        },
        {
          "output_type": "stream",
          "text": [
            "Current validation acc: 0.89592 (best: 0.89592), test acc: 0.87846 (best: 0.87846)\n"
          ],
          "name": "stdout"
        },
        {
          "output_type": "stream",
          "text": [
            "100%|##########| 787/787 [05:49<00:00,  2.25it/s, Loss=1.79473, AvgLoss=1.70224, Acc=0.90000, AvgAcc=0.85629]\n",
            "  1%|          | 1/196 [00:00<00:20,  9.44it/s, Acc=0.90000, AvgAcc=0.90000]"
          ],
          "name": "stderr"
        },
        {
          "output_type": "stream",
          "text": [
            "Epoch #33 Validating\n"
          ],
          "name": "stdout"
        },
        {
          "output_type": "stream",
          "text": [
            "100%|##########| 196/196 [00:20<00:00,  9.65it/s, Acc=0.90000, AvgAcc=0.89133]\n",
            "100%|##########| 246/246 [00:25<00:00,  9.62it/s, Acc=0.90000, AvgAcc=0.89065]\n",
            "  0%|          | 0/787 [00:00<?, ?it/s]"
          ],
          "name": "stderr"
        },
        {
          "output_type": "stream",
          "text": [
            "Current validation acc: 0.89133 (best: 0.89592), test acc: 0.89065 (best: 0.87846)\n"
          ],
          "name": "stdout"
        },
        {
          "output_type": "stream",
          "text": [
            "100%|##########| 787/787 [05:50<00:00,  2.25it/s, Loss=1.56272, AvgLoss=1.68707, Acc=0.90000, AvgAcc=0.86582]\n",
            "  1%|          | 1/196 [00:00<00:20,  9.57it/s, Acc=1.00000, AvgAcc=1.00000]"
          ],
          "name": "stderr"
        },
        {
          "output_type": "stream",
          "text": [
            "Epoch #34 Validating\n"
          ],
          "name": "stdout"
        },
        {
          "output_type": "stream",
          "text": [
            "100%|##########| 196/196 [00:20<00:00,  9.65it/s, Acc=0.80000, AvgAcc=0.89847]\n",
            "100%|##########| 246/246 [00:25<00:00,  9.62it/s, Acc=0.80000, AvgAcc=0.88780]\n",
            "  0%|          | 0/787 [00:00<?, ?it/s]"
          ],
          "name": "stderr"
        },
        {
          "output_type": "stream",
          "text": [
            "Current validation acc: 0.89847 (best: 0.89847), test acc: 0.88780 (best: 0.88780)\n"
          ],
          "name": "stdout"
        },
        {
          "output_type": "stream",
          "text": [
            "100%|##########| 787/787 [05:49<00:00,  2.25it/s, Loss=1.66127, AvgLoss=1.67502, Acc=0.80000, AvgAcc=0.86912]\n",
            "  1%|          | 1/196 [00:00<00:20,  9.68it/s, Acc=0.90000, AvgAcc=0.90000]"
          ],
          "name": "stderr"
        },
        {
          "output_type": "stream",
          "text": [
            "Epoch #35 Validating\n"
          ],
          "name": "stdout"
        },
        {
          "output_type": "stream",
          "text": [
            "100%|##########| 196/196 [00:20<00:00,  9.56it/s, Acc=0.90000, AvgAcc=0.89643]\n",
            "100%|##########| 246/246 [00:25<00:00,  9.67it/s, Acc=0.90000, AvgAcc=0.88333]\n",
            "  0%|          | 0/787 [00:00<?, ?it/s]"
          ],
          "name": "stderr"
        },
        {
          "output_type": "stream",
          "text": [
            "Current validation acc: 0.89643 (best: 0.89847), test acc: 0.88333 (best: 0.88780)\n"
          ],
          "name": "stdout"
        },
        {
          "output_type": "stream",
          "text": [
            "100%|##########| 787/787 [05:49<00:00,  2.25it/s, Loss=1.50735, AvgLoss=1.65587, Acc=0.90000, AvgAcc=0.87865]\n",
            "  1%|          | 1/196 [00:00<00:20,  9.54it/s, Acc=0.90000, AvgAcc=0.90000]"
          ],
          "name": "stderr"
        },
        {
          "output_type": "stream",
          "text": [
            "Epoch #36 Validating\n"
          ],
          "name": "stdout"
        },
        {
          "output_type": "stream",
          "text": [
            "100%|##########| 196/196 [00:20<00:00,  9.66it/s, Acc=0.80000, AvgAcc=0.89949]\n",
            "100%|##########| 246/246 [00:25<00:00,  9.67it/s, Acc=0.80000, AvgAcc=0.89512]\n",
            "  0%|          | 0/787 [00:00<?, ?it/s]"
          ],
          "name": "stderr"
        },
        {
          "output_type": "stream",
          "text": [
            "Current validation acc: 0.89949 (best: 0.89949), test acc: 0.89512 (best: 0.89512)\n"
          ],
          "name": "stdout"
        },
        {
          "output_type": "stream",
          "text": [
            "100%|##########| 787/787 [05:49<00:00,  2.25it/s, Loss=1.60639, AvgLoss=1.64356, Acc=1.00000, AvgAcc=0.88069]\n",
            "  1%|          | 1/196 [00:00<00:21,  9.14it/s, Acc=0.80000, AvgAcc=0.80000]"
          ],
          "name": "stderr"
        },
        {
          "output_type": "stream",
          "text": [
            "Epoch #37 Validating\n"
          ],
          "name": "stdout"
        },
        {
          "output_type": "stream",
          "text": [
            "100%|##########| 196/196 [00:20<00:00,  9.57it/s, Acc=0.90000, AvgAcc=0.89796]\n",
            "100%|##########| 246/246 [00:25<00:00,  9.57it/s, Acc=0.80000, AvgAcc=0.89715]\n",
            "  0%|          | 0/787 [00:00<?, ?it/s]"
          ],
          "name": "stderr"
        },
        {
          "output_type": "stream",
          "text": [
            "Current validation acc: 0.89796 (best: 0.89949), test acc: 0.89715 (best: 0.89512)\n"
          ],
          "name": "stdout"
        },
        {
          "output_type": "stream",
          "text": [
            "100%|##########| 787/787 [05:49<00:00,  2.25it/s, Loss=1.79892, AvgLoss=1.63280, Acc=0.80000, AvgAcc=0.88856]\n",
            "  1%|          | 1/196 [00:00<00:20,  9.57it/s, Acc=0.90000, AvgAcc=0.90000]"
          ],
          "name": "stderr"
        },
        {
          "output_type": "stream",
          "text": [
            "Epoch #38 Validating\n"
          ],
          "name": "stdout"
        },
        {
          "output_type": "stream",
          "text": [
            "100%|##########| 196/196 [00:20<00:00,  9.56it/s, Acc=0.90000, AvgAcc=0.90816]\n",
            "100%|##########| 246/246 [00:25<00:00,  9.58it/s, Acc=0.80000, AvgAcc=0.90366]\n",
            "  0%|          | 0/787 [00:00<?, ?it/s]"
          ],
          "name": "stderr"
        },
        {
          "output_type": "stream",
          "text": [
            "Current validation acc: 0.90816 (best: 0.90816), test acc: 0.90366 (best: 0.90366)\n"
          ],
          "name": "stdout"
        },
        {
          "output_type": "stream",
          "text": [
            "100%|##########| 787/787 [05:50<00:00,  2.24it/s, Loss=1.65335, AvgLoss=1.62816, Acc=0.80000, AvgAcc=0.89009]\n",
            "  1%|          | 1/196 [00:00<00:20,  9.40it/s, Acc=1.00000, AvgAcc=1.00000]"
          ],
          "name": "stderr"
        },
        {
          "output_type": "stream",
          "text": [
            "Epoch #39 Validating\n"
          ],
          "name": "stdout"
        },
        {
          "output_type": "stream",
          "text": [
            "100%|##########| 196/196 [00:20<00:00,  9.50it/s, Acc=1.00000, AvgAcc=0.90969]\n",
            "100%|##########| 246/246 [00:25<00:00,  9.48it/s, Acc=0.90000, AvgAcc=0.90244]\n",
            "  0%|          | 0/787 [00:00<?, ?it/s]"
          ],
          "name": "stderr"
        },
        {
          "output_type": "stream",
          "text": [
            "Current validation acc: 0.90969 (best: 0.90969), test acc: 0.90244 (best: 0.90244)\n"
          ],
          "name": "stdout"
        },
        {
          "output_type": "stream",
          "text": [
            "100%|##########| 787/787 [05:50<00:00,  2.24it/s, Loss=1.39368, AvgLoss=1.61222, Acc=1.00000, AvgAcc=0.89250]\n",
            "  1%|          | 1/196 [00:00<00:20,  9.49it/s, Acc=1.00000, AvgAcc=1.00000]"
          ],
          "name": "stderr"
        },
        {
          "output_type": "stream",
          "text": [
            "Epoch #40 Validating\n"
          ],
          "name": "stdout"
        },
        {
          "output_type": "stream",
          "text": [
            "100%|##########| 196/196 [00:20<00:00,  9.51it/s, Acc=0.80000, AvgAcc=0.90204]\n",
            "100%|##########| 246/246 [00:25<00:00,  9.48it/s, Acc=1.00000, AvgAcc=0.90447]\n",
            "  0%|          | 0/787 [00:00<?, ?it/s]"
          ],
          "name": "stderr"
        },
        {
          "output_type": "stream",
          "text": [
            "Current validation acc: 0.90204 (best: 0.90969), test acc: 0.90447 (best: 0.90244)\n"
          ],
          "name": "stdout"
        },
        {
          "output_type": "stream",
          "text": [
            "100%|##########| 787/787 [05:50<00:00,  2.24it/s, Loss=1.60776, AvgLoss=1.60881, Acc=0.90000, AvgAcc=0.89466]\n",
            "  1%|          | 1/196 [00:00<00:21,  9.08it/s, Acc=0.80000, AvgAcc=0.80000]"
          ],
          "name": "stderr"
        },
        {
          "output_type": "stream",
          "text": [
            "Epoch #41 Validating\n"
          ],
          "name": "stdout"
        },
        {
          "output_type": "stream",
          "text": [
            "100%|##########| 196/196 [00:20<00:00,  9.48it/s, Acc=1.00000, AvgAcc=0.90663]\n",
            "100%|##########| 246/246 [00:25<00:00,  9.48it/s, Acc=0.90000, AvgAcc=0.90407]\n",
            "  0%|          | 0/787 [00:00<?, ?it/s]"
          ],
          "name": "stderr"
        },
        {
          "output_type": "stream",
          "text": [
            "Current validation acc: 0.90663 (best: 0.90969), test acc: 0.90407 (best: 0.90244)\n"
          ],
          "name": "stdout"
        },
        {
          "output_type": "stream",
          "text": [
            "100%|##########| 787/787 [05:50<00:00,  2.25it/s, Loss=1.55612, AvgLoss=1.60590, Acc=0.90000, AvgAcc=0.89390]\n",
            "  1%|          | 1/196 [00:00<00:20,  9.61it/s, Acc=1.00000, AvgAcc=1.00000]"
          ],
          "name": "stderr"
        },
        {
          "output_type": "stream",
          "text": [
            "Epoch #42 Validating\n"
          ],
          "name": "stdout"
        },
        {
          "output_type": "stream",
          "text": [
            "100%|##########| 196/196 [00:20<00:00,  9.59it/s, Acc=0.90000, AvgAcc=0.91224]\n",
            "100%|##########| 246/246 [00:25<00:00,  9.59it/s, Acc=1.00000, AvgAcc=0.90163]\n",
            "  0%|          | 0/787 [00:00<?, ?it/s]"
          ],
          "name": "stderr"
        },
        {
          "output_type": "stream",
          "text": [
            "Current validation acc: 0.91224 (best: 0.91224), test acc: 0.90163 (best: 0.90163)\n"
          ],
          "name": "stdout"
        },
        {
          "output_type": "stream",
          "text": [
            "100%|##########| 787/787 [05:50<00:00,  2.25it/s, Loss=1.68406, AvgLoss=1.58626, Acc=0.80000, AvgAcc=0.90673]\n",
            "  1%|          | 1/196 [00:00<00:20,  9.49it/s, Acc=1.00000, AvgAcc=1.00000]"
          ],
          "name": "stderr"
        },
        {
          "output_type": "stream",
          "text": [
            "Epoch #43 Validating\n"
          ],
          "name": "stdout"
        },
        {
          "output_type": "stream",
          "text": [
            "100%|##########| 196/196 [00:20<00:00,  9.60it/s, Acc=0.80000, AvgAcc=0.91837]\n",
            "100%|##########| 246/246 [00:25<00:00,  9.58it/s, Acc=0.90000, AvgAcc=0.90610]\n",
            "  0%|          | 0/787 [00:00<?, ?it/s]"
          ],
          "name": "stderr"
        },
        {
          "output_type": "stream",
          "text": [
            "Current validation acc: 0.91837 (best: 0.91837), test acc: 0.90610 (best: 0.90610)\n"
          ],
          "name": "stdout"
        },
        {
          "output_type": "stream",
          "text": [
            "100%|##########| 787/787 [05:50<00:00,  2.25it/s, Loss=1.59138, AvgLoss=1.57548, Acc=1.00000, AvgAcc=0.90851]\n",
            "  1%|          | 1/196 [00:00<00:20,  9.56it/s, Acc=0.90000, AvgAcc=0.90000]"
          ],
          "name": "stderr"
        },
        {
          "output_type": "stream",
          "text": [
            "Epoch #44 Validating\n"
          ],
          "name": "stdout"
        },
        {
          "output_type": "stream",
          "text": [
            "100%|##########| 196/196 [00:20<00:00,  9.63it/s, Acc=0.80000, AvgAcc=0.91582]\n",
            "100%|##########| 246/246 [00:25<00:00,  9.53it/s, Acc=0.70000, AvgAcc=0.91016]\n",
            "  0%|          | 0/787 [00:00<?, ?it/s]"
          ],
          "name": "stderr"
        },
        {
          "output_type": "stream",
          "text": [
            "Current validation acc: 0.91582 (best: 0.91837), test acc: 0.91016 (best: 0.90610)\n"
          ],
          "name": "stdout"
        },
        {
          "output_type": "stream",
          "text": [
            "100%|##########| 787/787 [05:50<00:00,  2.25it/s, Loss=1.37765, AvgLoss=1.57571, Acc=1.00000, AvgAcc=0.90902]\n",
            "  1%|          | 1/196 [00:00<00:19,  9.76it/s, Acc=0.70000, AvgAcc=0.70000]"
          ],
          "name": "stderr"
        },
        {
          "output_type": "stream",
          "text": [
            "Epoch #45 Validating\n"
          ],
          "name": "stdout"
        },
        {
          "output_type": "stream",
          "text": [
            "100%|##########| 196/196 [00:20<00:00,  9.50it/s, Acc=1.00000, AvgAcc=0.91684]\n",
            "100%|##########| 246/246 [00:25<00:00,  9.52it/s, Acc=1.00000, AvgAcc=0.91463]\n",
            "  0%|          | 0/787 [00:00<?, ?it/s]"
          ],
          "name": "stderr"
        },
        {
          "output_type": "stream",
          "text": [
            "Current validation acc: 0.91684 (best: 0.91837), test acc: 0.91463 (best: 0.90610)\n"
          ],
          "name": "stdout"
        },
        {
          "output_type": "stream",
          "text": [
            "100%|##########| 787/787 [05:50<00:00,  2.24it/s, Loss=1.47417, AvgLoss=1.58173, Acc=1.00000, AvgAcc=0.90953]\n",
            "  1%|          | 1/196 [00:00<00:21,  9.00it/s, Acc=0.90000, AvgAcc=0.90000]"
          ],
          "name": "stderr"
        },
        {
          "output_type": "stream",
          "text": [
            "Epoch #46 Validating\n"
          ],
          "name": "stdout"
        },
        {
          "output_type": "stream",
          "text": [
            "100%|##########| 196/196 [00:20<00:00,  9.52it/s, Acc=0.90000, AvgAcc=0.91888]\n",
            "100%|##########| 246/246 [00:25<00:00,  9.59it/s, Acc=0.90000, AvgAcc=0.90650]\n",
            "  0%|          | 0/787 [00:00<?, ?it/s]"
          ],
          "name": "stderr"
        },
        {
          "output_type": "stream",
          "text": [
            "Current validation acc: 0.91888 (best: 0.91888), test acc: 0.90650 (best: 0.90650)\n"
          ],
          "name": "stdout"
        },
        {
          "output_type": "stream",
          "text": [
            "100%|##########| 787/787 [05:49<00:00,  2.25it/s, Loss=1.42911, AvgLoss=1.56582, Acc=1.00000, AvgAcc=0.91283]\n",
            "  1%|          | 1/196 [00:00<00:21,  9.02it/s, Acc=0.70000, AvgAcc=0.70000]"
          ],
          "name": "stderr"
        },
        {
          "output_type": "stream",
          "text": [
            "Epoch #47 Validating\n"
          ],
          "name": "stdout"
        },
        {
          "output_type": "stream",
          "text": [
            "100%|##########| 196/196 [00:20<00:00,  9.61it/s, Acc=0.90000, AvgAcc=0.91837]\n",
            "100%|##########| 246/246 [00:25<00:00,  9.71it/s, Acc=1.00000, AvgAcc=0.91138]\n",
            "  0%|          | 0/787 [00:00<?, ?it/s]"
          ],
          "name": "stderr"
        },
        {
          "output_type": "stream",
          "text": [
            "Current validation acc: 0.91837 (best: 0.91888), test acc: 0.91138 (best: 0.90650)\n"
          ],
          "name": "stdout"
        },
        {
          "output_type": "stream",
          "text": [
            "100%|##########| 787/787 [05:48<00:00,  2.26it/s, Loss=1.64699, AvgLoss=1.57056, Acc=0.90000, AvgAcc=0.90864]\n",
            "  1%|          | 1/196 [00:00<00:20,  9.55it/s, Acc=0.90000, AvgAcc=0.90000]"
          ],
          "name": "stderr"
        },
        {
          "output_type": "stream",
          "text": [
            "Epoch #48 Validating\n"
          ],
          "name": "stdout"
        },
        {
          "output_type": "stream",
          "text": [
            "100%|##########| 196/196 [00:20<00:00,  9.80it/s, Acc=0.90000, AvgAcc=0.91837]\n",
            "100%|##########| 246/246 [00:25<00:00,  9.80it/s, Acc=0.90000, AvgAcc=0.90976]\n",
            "  0%|          | 0/787 [00:00<?, ?it/s]"
          ],
          "name": "stderr"
        },
        {
          "output_type": "stream",
          "text": [
            "Current validation acc: 0.91837 (best: 0.91888), test acc: 0.90976 (best: 0.90650)\n"
          ],
          "name": "stdout"
        },
        {
          "output_type": "stream",
          "text": [
            "100%|##########| 787/787 [05:51<00:00,  2.24it/s, Loss=1.52649, AvgLoss=1.56706, Acc=0.90000, AvgAcc=0.91296]\n",
            "  1%|          | 1/196 [00:00<00:21,  9.11it/s, Acc=1.00000, AvgAcc=1.00000]"
          ],
          "name": "stderr"
        },
        {
          "output_type": "stream",
          "text": [
            "Epoch #49 Validating\n"
          ],
          "name": "stdout"
        },
        {
          "output_type": "stream",
          "text": [
            "100%|##########| 196/196 [00:20<00:00,  9.51it/s, Acc=0.90000, AvgAcc=0.92041]\n",
            "100%|##########| 246/246 [00:25<00:00,  9.57it/s, Acc=1.00000, AvgAcc=0.91016]\n",
            "  0%|          | 0/787 [00:00<?, ?it/s]"
          ],
          "name": "stderr"
        },
        {
          "output_type": "stream",
          "text": [
            "Current validation acc: 0.92041 (best: 0.92041), test acc: 0.91016 (best: 0.91016)\n"
          ],
          "name": "stdout"
        },
        {
          "output_type": "stream",
          "text": [
            "100%|##########| 787/787 [05:52<00:00,  2.23it/s, Loss=1.39362, AvgLoss=1.56762, Acc=1.00000, AvgAcc=0.91144]\n"
          ],
          "name": "stderr"
        }
      ]
    },
    {
      "cell_type": "code",
      "metadata": {
        "id": "eHsm814iLlNb",
        "colab_type": "code",
        "outputId": "f245a671-12b7-4c89-fc48-3fa3a9057bb7",
        "colab": {
          "base_uri": "https://localhost:8080/",
          "height": 84
        }
      },
      "source": [
        "!nvcc --version"
      ],
      "execution_count": 0,
      "outputs": [
        {
          "output_type": "stream",
          "text": [
            "nvcc: NVIDIA (R) Cuda compiler driver\n",
            "Copyright (c) 2005-2019 NVIDIA Corporation\n",
            "Built on Sun_Jul_28_19:07:16_PDT_2019\n",
            "Cuda compilation tools, release 10.1, V10.1.243\n"
          ],
          "name": "stdout"
        }
      ]
    },
    {
      "cell_type": "code",
      "metadata": {
        "id": "CgJujSfxNA6P",
        "colab_type": "code",
        "colab": {}
      },
      "source": [
        ""
      ],
      "execution_count": 0,
      "outputs": []
    }
  ]
}