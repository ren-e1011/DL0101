{
 "cells": [
  {
   "cell_type": "code",
   "execution_count": 5,
   "metadata": {},
   "outputs": [],
   "source": [
    "#if youre running on colab, run this line first to properly load the h5 files\n",
    "# !pip install tables --upgrade"
   ]
  },
  {
   "cell_type": "code",
   "execution_count": 1,
   "metadata": {},
   "outputs": [],
   "source": [
    "# should be from pytorch_lightning.loggers import CometLogger\n",
    "from pytorch_lightning.loggers.comet import CometLogger"
   ]
  },
  {
   "cell_type": "code",
   "execution_count": 2,
   "metadata": {},
   "outputs": [],
   "source": [
    "import torch\n",
    "import torch.nn as nn\n",
    "import torch.nn.functional as F\n",
    "from torch.utils.data import Dataset, DataLoader, Sampler\n",
    "import glob\n",
    "from tqdm.notebook import tqdm\n",
    "import torch.optim as optim\n",
    "import pandas as pd\n",
    "import matplotlib.pyplot as plt\n",
    "import numpy as np"
   ]
  },
  {
   "cell_type": "code",
   "execution_count": 3,
   "metadata": {},
   "outputs": [
    {
     "data": {
      "text/plain": [
       "'1.18.5'"
      ]
     },
     "execution_count": 3,
     "metadata": {},
     "output_type": "execute_result"
    }
   ],
   "source": [
    "#maybe downgrade?\n",
    "np.__version__"
   ]
  },
  {
   "cell_type": "code",
   "execution_count": 4,
   "metadata": {},
   "outputs": [],
   "source": [
    "#!pip install numpy --upgrade"
   ]
  },
  {
   "cell_type": "markdown",
   "metadata": {},
   "source": [
    "# Homework 3\n",
    "## Point Cloud MNIST with DeepSet\n"
   ]
  },
  {
   "cell_type": "markdown",
   "metadata": {},
   "source": [
    "below you have a custom dataloader for the point-cloud MNIST dataset,\n",
    "\n",
    "the training and validation datasets are linked from the course website"
   ]
  },
  {
   "cell_type": "code",
   "execution_count": 5,
   "metadata": {},
   "outputs": [],
   "source": [
    "class CustomDataset(Dataset):\n",
    "    def __init__(self, path):\n",
    "        \n",
    "\n",
    "        \n",
    "        self.df = pd.read_hdf(path)\n",
    "        \n",
    "        self.label = torch.LongTensor(self.df.label)\n",
    "        \n",
    "        self.n_points = self.df.n_points\n",
    "        \n",
    "        \n",
    "    def __len__(self):\n",
    "       \n",
    "        return len(self.label)\n",
    "\n",
    "\n",
    "    def __getitem__(self, idx):\n",
    "        \n",
    "    #mod requires_grad=True\n",
    "        return torch.FloatTensor(self.df.iloc[idx].xy), self.label[idx]\n",
    "#         return torch.tensor(self.df.iloc[idx].xy,dtype=torch.float, requires_grad=True), self.label[idx]\n"
   ]
  },
  {
   "cell_type": "code",
   "execution_count": 6,
   "metadata": {},
   "outputs": [],
   "source": [
    "path_to_training_data = './storage/data_for_pointcloud_MNIST/training_ds.h5'\n",
    "path_to_validation_data = './storage/data_for_pointcloud_MNIST/valid_ds.h5'"
   ]
  },
  {
   "cell_type": "code",
   "execution_count": 7,
   "metadata": {},
   "outputs": [],
   "source": [
    "ds = CustomDataset(path_to_training_data)"
   ]
  },
  {
   "cell_type": "markdown",
   "metadata": {},
   "source": [
    "#### the data is exactly like the MNIST dataset, except that instead of a 28x28 image,\n",
    "#### you get a (N x 2) array of points (different number of points for each item in the dataset) "
   ]
  },
  {
   "cell_type": "code",
   "execution_count": 8,
   "metadata": {},
   "outputs": [
    {
     "data": {
      "image/png": "[encoded data removed]",
      "text/plain": [
       "<Figure size 360x360 with 1 Axes>"
      ]
     },
     "metadata": {
      "needs_background": "light"
     },
     "output_type": "display_data"
    }
   ],
   "source": [
    "fig,ax = plt.subplots(figsize=(5,5))\n",
    "\n",
    "xy = ds[445][0]\n",
    "\n",
    "ax.scatter( xy[:,0],xy[:,1] )\n",
    "\n",
    "ax.set_axis_off()\n",
    "\n",
    "plt.show()"
   ]
  },
  {
   "cell_type": "markdown",
   "metadata": {},
   "source": [
    "### the dataset object has a n_points variable that tells us how many points in each item"
   ]
  },
  {
   "cell_type": "code",
   "execution_count": 9,
   "metadata": {},
   "outputs": [
    {
     "data": {
      "image/png": "[encoded data removed]",
      "text/plain": [
       "<Figure size 432x288 with 1 Axes>"
      ]
     },
     "metadata": {
      "needs_background": "light"
     },
     "output_type": "display_data"
    }
   ],
   "source": [
    "plt.hist(ds.n_points,np.linspace(19.5,260.5,242))\n",
    "plt.show()"
   ]
  },
  {
   "cell_type": "markdown",
   "metadata": {},
   "source": [
    "## One way to deal with this variable size is to use a custom Batch Sampler\n",
    "\n",
    "https://pytorch.org/docs/stable/data.html\n",
    "\n",
    "This object will tell our dataloader which item indices to request for the batches - \n",
    "and we can \"rig\" it to return batches where all the items have the same N, and therefore we can stack them without a custom colate function"
   ]
  },
  {
   "cell_type": "code",
   "execution_count": 10,
   "metadata": {},
   "outputs": [],
   "source": [
    "class CustomBatchSampler(Sampler):\n",
    "    def __init__(self, points_per_entry, batch_size):\n",
    "        \n",
    "        self.batch_size = batch_size\n",
    "        self.N_per_entry = points_per_entry\n",
    "        self.batches = {}\n",
    "        # hacky\n",
    "        self.n_batches = 246\n",
    "        \n",
    "    def generate_batches(self):\n",
    "        \n",
    "        self.entries_with_N = {}\n",
    "        running_idx = -1\n",
    "\n",
    "        for N in set(self.N_per_entry):\n",
    "            \n",
    "            self.entries_with_N[N] = np.where(self.N_per_entry == N)[0]\n",
    "\n",
    "            how_many = len(self.entries_with_N[N])\n",
    "            n_batches = np.amax([ how_many / self.batch_size, 1])\n",
    "\n",
    "            self.entries_with_N[N] = np.array_split(np.random.permutation(self.entries_with_N[N]),\n",
    "                                                           n_batches)\n",
    "            for batch in self.entries_with_N[N]:\n",
    "                running_idx += 1\n",
    "                #MOD\n",
    "#                 self.batches[running_idx] = batch\n",
    "                self.batches[running_idx] = batch\n",
    "                \n",
    "        self.n_batches = running_idx + 1\n",
    "\n",
    "    def __len__(self):\n",
    "        return self.n_batches\n",
    "\n",
    "    def __iter__(self):\n",
    "        \n",
    "        self.generate_batches()\n",
    "        \n",
    "        batch_order = np.random.permutation(np.arange(self.n_batches))\n",
    "        for i in batch_order:\n",
    "            yield self.batches[i]"
   ]
  },
  {
   "cell_type": "code",
   "execution_count": 11,
   "metadata": {},
   "outputs": [],
   "source": [
    "batch_size = 50\n",
    "batch_sampler = CustomBatchSampler(ds.n_points, batch_size)\n",
    "data_loader = DataLoader(ds, batch_sampler=batch_sampler)"
   ]
  },
  {
   "cell_type": "code",
   "execution_count": 12,
   "metadata": {},
   "outputs": [],
   "source": [
    "for sample in data_loader:\n",
    "    x,y = sample\n",
    "    break"
   ]
  },
  {
   "cell_type": "markdown",
   "metadata": {},
   "source": [
    "## Building a DeepSet model\n",
    "\n",
    "you only have three components - a fully connected network that creates the node embedding, a sum operation, and a classifier"
   ]
  },
  {
   "cell_type": "markdown",
   "metadata": {},
   "source": [
    "## build the model, train, submit when you reach above 75% accuracy on the validation set:"
   ]
  },
  {
   "cell_type": "code",
   "execution_count": 13,
   "metadata": {},
   "outputs": [],
   "source": [
    "import pytorch_lightning as pl"
   ]
  },
  {
   "cell_type": "code",
   "execution_count": 14,
   "metadata": {},
   "outputs": [],
   "source": [
    "import torch.nn.functional as F"
   ]
  },
  {
   "cell_type": "code",
   "execution_count": 15,
   "metadata": {},
   "outputs": [],
   "source": [
    "NUM_CLASSES = 10"
   ]
  },
  {
   "cell_type": "code",
   "execution_count": 16,
   "metadata": {},
   "outputs": [],
   "source": [
    "LOSS_FUNC = F.cross_entropy"
   ]
  },
  {
   "cell_type": "code",
   "execution_count": 17,
   "metadata": {},
   "outputs": [],
   "source": [
    "# class ImageClassifier(nn.Module):\n",
    "class DeepSet(pl.LightningModule):\n",
    "    \n",
    "    def __init__(self):        \n",
    "        super().__init__()\n",
    "        \n",
    "        self.counter = 0\n",
    "        \n",
    "        self.hidsize = 32*32\n",
    "        \n",
    "        \n",
    "        #MOD\n",
    "        self.embedding = nn.Linear(2,self.hidsize)\n",
    "        \n",
    "        #LeNet\n",
    "#         self.conv1 = nn.Conv2d(1, 6, (5,5), padding=2)\n",
    "#         self.conv2 = nn.Conv2d(6, 16, (5,5))\n",
    "#         self.fc1   = nn.Linear(16*5*5, 120)\n",
    "        self.fc1  = nn.Linear(self.hidsize,120)\n",
    "        self.fc2   = nn.Linear(120, 84)\n",
    "        self.fc3   = nn.Linear(84, 10)\n",
    "        \n",
    "        self.classifier = nn.Sequential(\n",
    "            \n",
    "            \n",
    "        \n",
    "            # mod by feat\n",
    "            nn.Linear(self.hidsize,4096),\n",
    "            \n",
    "            nn.ReLU(True),\n",
    "#             nn.Dropout(),\n",
    "            nn.Linear(4096, 4096),\n",
    "            nn.ReLU(True),\n",
    "            # MOD\n",
    "#             nn.Dropout(),\n",
    "            #num_classes = 10\n",
    "            nn.Linear(4096, NUM_CLASSES),\n",
    "        )\n",
    "        \n",
    "    def forward(self, batch):\n",
    "        \n",
    "#         print('in',batch.shape)\n",
    "        # not helping\n",
    "        batch.requires_grad_(True)\n",
    "#         print(batch)\n",
    "        \n",
    "#         self.hidsize = 2048\n",
    "        \n",
    "        out = self.embedding(batch)\n",
    "        \n",
    "        out = F.relu(out)\n",
    "        \n",
    "        out = torch.mean(out,dim=1)\n",
    "        \n",
    "        #LeNet\n",
    "#         x = F.max_pool2d(F.relu(self.conv1(out)), (2,2))\n",
    "#         x = F.max_pool2d(F.relu(self.conv2(x)), (2,2))\n",
    "#         x = x.view(-1, self.num_flat_features(x))\n",
    "        x = F.relu(self.fc1(out))\n",
    "        x = F.relu(self.fc2(x))\n",
    "        out = self.fc3(x)\n",
    "\n",
    "#         out = self.classifier(out)\n",
    "        \n",
    "#         print('out',out)\n",
    "        \n",
    "#         print ('out',out.shape)\n",
    "#         print('out.grad_fn',out.grad_fn)\n",
    "        return out\n",
    "    \n",
    "    \n",
    "    def train_dataloader(self):\n",
    "        dataset_train = CustomDataset(path_to_training_data)\n",
    "        batch_sampler = CustomBatchSampler(dataset_train.n_points, batch_size=50)\n",
    "#         self.Ns = batch_sampler.entries\n",
    "#         return DataLoader(dataset_train,batch_sampler=batch_sampler,num_workers=4)\n",
    "        return DataLoader(dataset_train,batch_sampler=batch_sampler, num_workers=4)\n",
    "\n",
    "    def val_dataloader(self):\n",
    "        dataset_val = CustomDataset(path_to_validation_data)\n",
    "        batch_sampler_val = CustomBatchSampler(dataset_val.n_points,batch_size=50)\n",
    "        # MOD num_workers on local\n",
    "        return DataLoader(dataset_val,batch_sampler=batch_sampler_val,num_workers=4)\n",
    "    \n",
    "    def configure_optimizers(self):\n",
    "        return torch.optim.Adam(self.parameters(), lr=1e-3)\n",
    "    \n",
    "    \n",
    "    def training_step(self,batch,batch_idx):\n",
    "#         print('batch_ix',batch_idx)\n",
    "#         print('batch',batch)\n",
    "        minib,target = batch\n",
    "        yhat = self(minib)\n",
    "#         print('yhat',yhat)\n",
    "#         print('target',target)\n",
    "#         out = self.forward(minib)\n",
    "        loss = LOSS_FUNC(yhat,target)\n",
    "#         loss.requires_grad_(True)\n",
    "#         print('loss.requires_grad',loss.requires_grad)\n",
    "#         print('loss',loss)\n",
    "        \n",
    "    \n",
    "        # try this\n",
    "#         pred = yhat.argmax(dim=1, keepdim=True) #get ix of max log-proba\n",
    "#         correct = pred.eq(target.view_as(pred)).sum().item()\n",
    "#         accuracy = correct/len(minib)\n",
    "        \n",
    "#         # add logging\n",
    "#         logs = {'train_loss': loss,'train_accuracy':accuracy}\n",
    "        logs = {'train_loss':loss}\n",
    "#         print('logs',logs)\n",
    "        return {'loss': loss, 'log': logs}\n",
    "#         return loss\n",
    "    \n",
    "    def validation_step(self,batch,batch_idx):\n",
    "        minib, target = batch\n",
    "#         out = self.forward(minib)\n",
    "        yhat = self(minib)\n",
    "#         print('valid y_hat',yhat.shape)\n",
    "        # mod to torch.tensor\n",
    "        loss = LOSS_FUNC(yhat,target)\n",
    "        \n",
    "        pred = yhat.argmax(dim=1, keepdim=True) #get ix of max log-proba\n",
    "#         print('valid pred',pred.shape)\n",
    "        correct = pred.eq(target.view_as(pred)).sum().item()\n",
    "        #mod to torch.tensor forr avg_acc\n",
    "        accuracy = torch.tensor(correct/len(minib))\n",
    "        \n",
    "#         logs = {'train_loss': loss,'val_accuracy':accuracy}\n",
    "#         return {'val_loss': loss, 'log': logs}\n",
    "        step_dict = {'val_step_loss':loss, 'val_step_acc':accuracy}\n",
    "        return step_dict\n",
    "        \n",
    "    \n",
    "    def validation_epoch_end(self, outputs):\n",
    "        #TODO imbalanced given each batch is of a different size...\n",
    "        avg_loss = torch.stack([x['val_step_loss'] for x in outputs]).mean()\n",
    "        avg_acc = torch.stack([x['val_step_acc'] for x in outputs]).mean()\n",
    "        \n",
    "        #MOD rm .item()\n",
    "#         tqdm_dict = {'val_acc': avg_acc}\n",
    "\n",
    "        # show val_acc in progress bar but only log val_loss\n",
    "        # MOD rm .item() from avg_acc and avg_loss\n",
    "        results = {\n",
    "#             'progress_bar': tqdm_dict,\n",
    "            'log': {'val_acc': avg_acc,\n",
    "                    'val_loss': avg_loss\n",
    "                   }\n",
    "        }\n",
    "        print ('epoch',self.counter,':',results) \n",
    "        self.counter +=1\n",
    "        return results\n",
    "#         logs = {'val_loss':avg_loss}\n",
    "#         return {'avg_val_loss':avg_loss, 'log':tensorboard_logs}"
   ]
  },
  {
   "cell_type": "code",
   "execution_count": 88,
   "metadata": {},
   "outputs": [
    {
     "data": {
      "text/plain": [
       "tensor([ 1.2076, -0.6898,  0.1618, -0.4709, -0.3754,  1.4918, -0.3368, -1.8876,\n",
       "        -0.5340,  0.3247])"
      ]
     },
     "execution_count": 88,
     "metadata": {},
     "output_type": "execute_result"
    }
   ],
   "source": [
    "torch.randn(10).view(-1)"
   ]
  },
  {
   "cell_type": "code",
   "execution_count": 32,
   "metadata": {},
   "outputs": [],
   "source": [
    "# from pytorch_lightning.callbacks import Callback\n",
    "\n",
    "# class MyPrintingCallback(Callback):\n",
    "\n",
    "#     def on_init_start(self, trainer):\n",
    "#         print('Starting to init trainer!')\n",
    "\n",
    "#     def on_init_end(self, trainer):\n",
    "#         print('Trainer is init now')\n",
    "\n",
    "#     def on_train_end(self, trainer, pl_module):\n",
    "#         print('do something when training ends')"
   ]
  },
  {
   "cell_type": "code",
   "execution_count": 19,
   "metadata": {},
   "outputs": [],
   "source": [
    "experiment = 'deepsettest_lenetlte'"
   ]
  },
  {
   "cell_type": "code",
   "execution_count": 20,
   "metadata": {},
   "outputs": [
    {
     "name": "stderr",
     "output_type": "stream",
     "text": [
      "CometLogger will be initialized in online mode\n",
      "COMET INFO: old comet version (3.1.9) detected. current: 3.1.12 please update your comet lib with command: `pip install --no-cache-dir --upgrade comet_ml`\n",
      "COMET INFO: Experiment is live on comet.ml https://www.comet.ml/ren-e1011/dl1010-a3/3969f975d9274b87bae192074bdcf5e2\n",
      "\n"
     ]
    }
   ],
   "source": [
    "comet_logger = CometLogger(\n",
    "    api_key='n0QCcEJ7YYeDUkff49kqLEdeJ',\n",
    "    workspace=\"ren-e1011\",\n",
    "    project_name=\"dl1010-a3\", \n",
    "    experiment_name=experiment  \n",
    ")"
   ]
  },
  {
   "cell_type": "code",
   "execution_count": 24,
   "metadata": {},
   "outputs": [
    {
     "name": "stderr",
     "output_type": "stream",
     "text": [
      "GPU available: True, used: True\n",
      "No environment variable for node rank defined. Set as 0.\n",
      "CUDA_VISIBLE_DEVICES: [0]\n"
     ]
    }
   ],
   "source": [
    "trainer = pl.Trainer(max_epochs=45, logger=comet_logger,gpus=1)"
   ]
  },
  {
   "cell_type": "code",
   "execution_count": 25,
   "metadata": {},
   "outputs": [
    {
     "name": "stderr",
     "output_type": "stream",
     "text": [
      "COMET INFO: old comet version (3.1.9) detected. current: 3.1.12 please update your comet lib with command: `pip install --no-cache-dir --upgrade comet_ml`\n",
      "COMET INFO: Experiment is live on comet.ml https://www.comet.ml/ren-e1011/dl1010-a3/3969f975d9274b87bae192074bdcf5e2\n",
      "\n",
      "\n",
      "  | Name         | Type       | Params\n",
      "----------------------------------------\n",
      "0 | embedding    | Linear     | 3 K   \n",
      "1 | fc1          | Linear     | 123 K \n",
      "2 | fc2          | Linear     | 10 K  \n",
      "3 | fc3          | Linear     | 850   \n",
      "4 | classifier   | Sequential | 21 M  \n",
      "5 | classifier.0 | Linear     | 4 M   \n",
      "6 | classifier.1 | ReLU       | 0     \n",
      "7 | classifier.2 | Linear     | 16 M  \n",
      "8 | classifier.3 | ReLU       | 0     \n",
      "9 | classifier.4 | Linear     | 40 K  \n",
      "/usr/local/lib/python3.6/dist-packages/pytorch_lightning/utilities/distributed.py:23: UserWarning: Checkpoint directory /notebooks/dl1010-a3/3969f975d9274b87bae192074bdcf5e2/checkpoints exists and is not empty with save_top_k != 0.All files in this directory will be deleted when a checkpoint is saved!\n",
      "  warnings.warn(*args, **kwargs)\n"
     ]
    },
    {
     "data": {
      "application/vnd.jupyter.widget-view+json": {
       "model_id": "90c3155b78494f7088d7dd114f2337a0",
       "version_major": 2,
       "version_minor": 0
      },
      "text/plain": [
       "HBox(children=(FloatProgress(value=1.0, bar_style='info', description='Validation sanity check', layout=Layout…"
      ]
     },
     "metadata": {},
     "output_type": "display_data"
    },
    {
     "name": "stdout",
     "output_type": "stream",
     "text": [
      "epoch 51 : {'log': {'val_acc': tensor(1.), 'val_loss': tensor(0.0313, device='cuda:0')}}\n"
     ]
    },
    {
     "data": {
      "application/vnd.jupyter.widget-view+json": {
       "model_id": "08754cea5a984190942857536d73ba2e",
       "version_major": 2,
       "version_minor": 0
      },
      "text/plain": [
       "HBox(children=(FloatProgress(value=1.0, bar_style='info', description='Training', layout=Layout(flex='2'), max…"
      ]
     },
     "metadata": {},
     "output_type": "display_data"
    },
    {
     "data": {
      "application/vnd.jupyter.widget-view+json": {
       "model_id": "b25208eac53648f0993320d3846386a5",
       "version_major": 2,
       "version_minor": 0
      },
      "text/plain": [
       "HBox(children=(FloatProgress(value=1.0, bar_style='info', description='Validating', layout=Layout(flex='2'), m…"
      ]
     },
     "metadata": {},
     "output_type": "display_data"
    },
    {
     "name": "stdout",
     "output_type": "stream",
     "text": [
      "epoch 52 : {'log': {'val_acc': tensor(0.8244), 'val_loss': tensor(0.5387, device='cuda:0')}}\n"
     ]
    },
    {
     "data": {
      "application/vnd.jupyter.widget-view+json": {
       "model_id": "1b2699a812684170b1c1a9ced1aaea6c",
       "version_major": 2,
       "version_minor": 0
      },
      "text/plain": [
       "HBox(children=(FloatProgress(value=1.0, bar_style='info', description='Validating', layout=Layout(flex='2'), m…"
      ]
     },
     "metadata": {},
     "output_type": "display_data"
    },
    {
     "name": "stdout",
     "output_type": "stream",
     "text": [
      "epoch 53 : {'log': {'val_acc': tensor(0.7784), 'val_loss': tensor(0.6748, device='cuda:0')}}\n"
     ]
    },
    {
     "data": {
      "application/vnd.jupyter.widget-view+json": {
       "model_id": "f08c69fa7d4c4239ab9fc39365d67987",
       "version_major": 2,
       "version_minor": 0
      },
      "text/plain": [
       "HBox(children=(FloatProgress(value=1.0, bar_style='info', description='Validating', layout=Layout(flex='2'), m…"
      ]
     },
     "metadata": {},
     "output_type": "display_data"
    },
    {
     "name": "stdout",
     "output_type": "stream",
     "text": [
      "epoch 54 : {'log': {'val_acc': tensor(0.8422), 'val_loss': tensor(0.5096, device='cuda:0')}}\n"
     ]
    },
    {
     "data": {
      "application/vnd.jupyter.widget-view+json": {
       "model_id": "1a57da44ec034546b4226d9723048990",
       "version_major": 2,
       "version_minor": 0
      },
      "text/plain": [
       "HBox(children=(FloatProgress(value=1.0, bar_style='info', description='Validating', layout=Layout(flex='2'), m…"
      ]
     },
     "metadata": {},
     "output_type": "display_data"
    },
    {
     "name": "stdout",
     "output_type": "stream",
     "text": [
      "epoch 55 : {'log': {'val_acc': tensor(0.7985), 'val_loss': tensor(0.6000, device='cuda:0')}}\n"
     ]
    },
    {
     "data": {
      "application/vnd.jupyter.widget-view+json": {
       "model_id": "08120ee08345424bba73543008360bff",
       "version_major": 2,
       "version_minor": 0
      },
      "text/plain": [
       "HBox(children=(FloatProgress(value=1.0, bar_style='info', description='Validating', layout=Layout(flex='2'), m…"
      ]
     },
     "metadata": {},
     "output_type": "display_data"
    },
    {
     "name": "stdout",
     "output_type": "stream",
     "text": [
      "epoch 56 : {'log': {'val_acc': tensor(0.8449), 'val_loss': tensor(0.4898, device='cuda:0')}}\n"
     ]
    },
    {
     "data": {
      "application/vnd.jupyter.widget-view+json": {
       "model_id": "34ea93b7a9af41e28ca2ed35cd861d35",
       "version_major": 2,
       "version_minor": 0
      },
      "text/plain": [
       "HBox(children=(FloatProgress(value=1.0, bar_style='info', description='Validating', layout=Layout(flex='2'), m…"
      ]
     },
     "metadata": {},
     "output_type": "display_data"
    },
    {
     "name": "stdout",
     "output_type": "stream",
     "text": [
      "epoch 57 : {'log': {'val_acc': tensor(0.8370), 'val_loss': tensor(0.5001, device='cuda:0')}}\n"
     ]
    },
    {
     "data": {
      "application/vnd.jupyter.widget-view+json": {
       "model_id": "5662ee7ad4d1402780136906ca335f71",
       "version_major": 2,
       "version_minor": 0
      },
      "text/plain": [
       "HBox(children=(FloatProgress(value=1.0, bar_style='info', description='Validating', layout=Layout(flex='2'), m…"
      ]
     },
     "metadata": {},
     "output_type": "display_data"
    },
    {
     "name": "stdout",
     "output_type": "stream",
     "text": [
      "epoch 58 : {'log': {'val_acc': tensor(0.8454), 'val_loss': tensor(0.4909, device='cuda:0')}}\n"
     ]
    },
    {
     "data": {
      "application/vnd.jupyter.widget-view+json": {
       "model_id": "423deeb789e5434096ec08a71b154910",
       "version_major": 2,
       "version_minor": 0
      },
      "text/plain": [
       "HBox(children=(FloatProgress(value=1.0, bar_style='info', description='Validating', layout=Layout(flex='2'), m…"
      ]
     },
     "metadata": {},
     "output_type": "display_data"
    },
    {
     "name": "stdout",
     "output_type": "stream",
     "text": [
      "epoch 59 : {'log': {'val_acc': tensor(0.7561), 'val_loss': tensor(0.7578, device='cuda:0')}}\n"
     ]
    },
    {
     "data": {
      "application/vnd.jupyter.widget-view+json": {
       "model_id": "f8bb743975aa41a4ba6cccb4e262e702",
       "version_major": 2,
       "version_minor": 0
      },
      "text/plain": [
       "HBox(children=(FloatProgress(value=1.0, bar_style='info', description='Validating', layout=Layout(flex='2'), m…"
      ]
     },
     "metadata": {},
     "output_type": "display_data"
    },
    {
     "name": "stdout",
     "output_type": "stream",
     "text": [
      "epoch 60 : {'log': {'val_acc': tensor(0.8296), 'val_loss': tensor(0.5404, device='cuda:0')}}\n"
     ]
    },
    {
     "data": {
      "application/vnd.jupyter.widget-view+json": {
       "model_id": "6311a5b1dbf84bc1aa2db380be6e4345",
       "version_major": 2,
       "version_minor": 0
      },
      "text/plain": [
       "HBox(children=(FloatProgress(value=1.0, bar_style='info', description='Validating', layout=Layout(flex='2'), m…"
      ]
     },
     "metadata": {},
     "output_type": "display_data"
    },
    {
     "name": "stdout",
     "output_type": "stream",
     "text": [
      "epoch 61 : {'log': {'val_acc': tensor(0.8326), 'val_loss': tensor(0.5120, device='cuda:0')}}\n"
     ]
    },
    {
     "data": {
      "application/vnd.jupyter.widget-view+json": {
       "model_id": "43cc01b272ea446dbbe19c12ddfe14ae",
       "version_major": 2,
       "version_minor": 0
      },
      "text/plain": [
       "HBox(children=(FloatProgress(value=1.0, bar_style='info', description='Validating', layout=Layout(flex='2'), m…"
      ]
     },
     "metadata": {},
     "output_type": "display_data"
    },
    {
     "name": "stdout",
     "output_type": "stream",
     "text": [
      "epoch 62 : {'log': {'val_acc': tensor(0.8467), 'val_loss': tensor(0.4857, device='cuda:0')}}\n"
     ]
    },
    {
     "data": {
      "application/vnd.jupyter.widget-view+json": {
       "model_id": "b7a1d040b6db48918198ec2d1ac4c485",
       "version_major": 2,
       "version_minor": 0
      },
      "text/plain": [
       "HBox(children=(FloatProgress(value=1.0, bar_style='info', description='Validating', layout=Layout(flex='2'), m…"
      ]
     },
     "metadata": {},
     "output_type": "display_data"
    },
    {
     "name": "stdout",
     "output_type": "stream",
     "text": [
      "epoch 63 : {'log': {'val_acc': tensor(0.8429), 'val_loss': tensor(0.4908, device='cuda:0')}}\n"
     ]
    },
    {
     "data": {
      "application/vnd.jupyter.widget-view+json": {
       "model_id": "08a02fa12a774ed68b3074fe7ef343ca",
       "version_major": 2,
       "version_minor": 0
      },
      "text/plain": [
       "HBox(children=(FloatProgress(value=1.0, bar_style='info', description='Validating', layout=Layout(flex='2'), m…"
      ]
     },
     "metadata": {},
     "output_type": "display_data"
    },
    {
     "name": "stdout",
     "output_type": "stream",
     "text": [
      "epoch 64 : {'log': {'val_acc': tensor(0.8269), 'val_loss': tensor(0.5277, device='cuda:0')}}\n"
     ]
    },
    {
     "data": {
      "application/vnd.jupyter.widget-view+json": {
       "model_id": "fdb9fffd9fe640e5a5db71a144a2fa09",
       "version_major": 2,
       "version_minor": 0
      },
      "text/plain": [
       "HBox(children=(FloatProgress(value=1.0, bar_style='info', description='Validating', layout=Layout(flex='2'), m…"
      ]
     },
     "metadata": {},
     "output_type": "display_data"
    },
    {
     "name": "stdout",
     "output_type": "stream",
     "text": [
      "epoch 65 : {'log': {'val_acc': tensor(0.8024), 'val_loss': tensor(0.6301, device='cuda:0')}}\n"
     ]
    },
    {
     "data": {
      "application/vnd.jupyter.widget-view+json": {
       "model_id": "de80e2b2664743968083338d05369881",
       "version_major": 2,
       "version_minor": 0
      },
      "text/plain": [
       "HBox(children=(FloatProgress(value=1.0, bar_style='info', description='Validating', layout=Layout(flex='2'), m…"
      ]
     },
     "metadata": {},
     "output_type": "display_data"
    },
    {
     "name": "stdout",
     "output_type": "stream",
     "text": [
      "epoch 66 : {'log': {'val_acc': tensor(0.8199), 'val_loss': tensor(0.5671, device='cuda:0')}}\n"
     ]
    },
    {
     "data": {
      "application/vnd.jupyter.widget-view+json": {
       "model_id": "2954d18ce91d439d94f93259916ba5f5",
       "version_major": 2,
       "version_minor": 0
      },
      "text/plain": [
       "HBox(children=(FloatProgress(value=1.0, bar_style='info', description='Validating', layout=Layout(flex='2'), m…"
      ]
     },
     "metadata": {},
     "output_type": "display_data"
    },
    {
     "name": "stdout",
     "output_type": "stream",
     "text": [
      "epoch 67 : {'log': {'val_acc': tensor(0.8395), 'val_loss': tensor(0.4828, device='cuda:0')}}\n"
     ]
    },
    {
     "data": {
      "application/vnd.jupyter.widget-view+json": {
       "model_id": "f36132623a644f18ba2826c2ad0fb057",
       "version_major": 2,
       "version_minor": 0
      },
      "text/plain": [
       "HBox(children=(FloatProgress(value=1.0, bar_style='info', description='Validating', layout=Layout(flex='2'), m…"
      ]
     },
     "metadata": {},
     "output_type": "display_data"
    },
    {
     "name": "stdout",
     "output_type": "stream",
     "text": [
      "epoch 68 : {'log': {'val_acc': tensor(0.8421), 'val_loss': tensor(0.5091, device='cuda:0')}}\n"
     ]
    },
    {
     "data": {
      "application/vnd.jupyter.widget-view+json": {
       "model_id": "71451d55523f42489e90683c30a6b478",
       "version_major": 2,
       "version_minor": 0
      },
      "text/plain": [
       "HBox(children=(FloatProgress(value=1.0, bar_style='info', description='Validating', layout=Layout(flex='2'), m…"
      ]
     },
     "metadata": {},
     "output_type": "display_data"
    },
    {
     "name": "stdout",
     "output_type": "stream",
     "text": [
      "epoch 69 : {'log': {'val_acc': tensor(0.8389), 'val_loss': tensor(0.4988, device='cuda:0')}}\n"
     ]
    },
    {
     "data": {
      "application/vnd.jupyter.widget-view+json": {
       "model_id": "efcc042956a34428a352c1ab3606a97b",
       "version_major": 2,
       "version_minor": 0
      },
      "text/plain": [
       "HBox(children=(FloatProgress(value=1.0, bar_style='info', description='Validating', layout=Layout(flex='2'), m…"
      ]
     },
     "metadata": {},
     "output_type": "display_data"
    },
    {
     "name": "stdout",
     "output_type": "stream",
     "text": [
      "epoch 70 : {'log': {'val_acc': tensor(0.8582), 'val_loss': tensor(0.4433, device='cuda:0')}}\n"
     ]
    },
    {
     "data": {
      "application/vnd.jupyter.widget-view+json": {
       "model_id": "b10b84d7c59e4362a2e032da96bcb9ca",
       "version_major": 2,
       "version_minor": 0
      },
      "text/plain": [
       "HBox(children=(FloatProgress(value=1.0, bar_style='info', description='Validating', layout=Layout(flex='2'), m…"
      ]
     },
     "metadata": {},
     "output_type": "display_data"
    },
    {
     "name": "stdout",
     "output_type": "stream",
     "text": [
      "epoch 71 : {'log': {'val_acc': tensor(0.8316), 'val_loss': tensor(0.5223, device='cuda:0')}}\n"
     ]
    },
    {
     "data": {
      "application/vnd.jupyter.widget-view+json": {
       "model_id": "e7af36ce7bc244119b05c7c9f18ac761",
       "version_major": 2,
       "version_minor": 0
      },
      "text/plain": [
       "HBox(children=(FloatProgress(value=1.0, bar_style='info', description='Validating', layout=Layout(flex='2'), m…"
      ]
     },
     "metadata": {},
     "output_type": "display_data"
    },
    {
     "name": "stdout",
     "output_type": "stream",
     "text": [
      "epoch 72 : {'log': {'val_acc': tensor(0.7900), 'val_loss': tensor(0.6432, device='cuda:0')}}\n"
     ]
    },
    {
     "data": {
      "application/vnd.jupyter.widget-view+json": {
       "model_id": "fe5af9ca35354144a68bfb1f7974b3c5",
       "version_major": 2,
       "version_minor": 0
      },
      "text/plain": [
       "HBox(children=(FloatProgress(value=1.0, bar_style='info', description='Validating', layout=Layout(flex='2'), m…"
      ]
     },
     "metadata": {},
     "output_type": "display_data"
    },
    {
     "name": "stdout",
     "output_type": "stream",
     "text": [
      "epoch 73 : {'log': {'val_acc': tensor(0.8538), 'val_loss': tensor(0.4579, device='cuda:0')}}\n"
     ]
    },
    {
     "data": {
      "application/vnd.jupyter.widget-view+json": {
       "model_id": "627d9525b77e48879c5845c567d1fca8",
       "version_major": 2,
       "version_minor": 0
      },
      "text/plain": [
       "HBox(children=(FloatProgress(value=1.0, bar_style='info', description='Validating', layout=Layout(flex='2'), m…"
      ]
     },
     "metadata": {},
     "output_type": "display_data"
    },
    {
     "name": "stdout",
     "output_type": "stream",
     "text": [
      "epoch 74 : {'log': {'val_acc': tensor(0.8312), 'val_loss': tensor(0.5154, device='cuda:0')}}\n"
     ]
    },
    {
     "data": {
      "application/vnd.jupyter.widget-view+json": {
       "model_id": "75d931c39e30412ba3bc5abb7cc91459",
       "version_major": 2,
       "version_minor": 0
      },
      "text/plain": [
       "HBox(children=(FloatProgress(value=1.0, bar_style='info', description='Validating', layout=Layout(flex='2'), m…"
      ]
     },
     "metadata": {},
     "output_type": "display_data"
    },
    {
     "name": "stdout",
     "output_type": "stream",
     "text": [
      "epoch 75 : {'log': {'val_acc': tensor(0.8534), 'val_loss': tensor(0.4650, device='cuda:0')}}\n"
     ]
    },
    {
     "data": {
      "application/vnd.jupyter.widget-view+json": {
       "model_id": "0c790b88384044b087ee2f3abd186383",
       "version_major": 2,
       "version_minor": 0
      },
      "text/plain": [
       "HBox(children=(FloatProgress(value=1.0, bar_style='info', description='Validating', layout=Layout(flex='2'), m…"
      ]
     },
     "metadata": {},
     "output_type": "display_data"
    },
    {
     "name": "stdout",
     "output_type": "stream",
     "text": [
      "epoch 76 : {'log': {'val_acc': tensor(0.8579), 'val_loss': tensor(0.4549, device='cuda:0')}}\n"
     ]
    },
    {
     "data": {
      "application/vnd.jupyter.widget-view+json": {
       "model_id": "1d4d0973d9514493a7933f7ab3ec6763",
       "version_major": 2,
       "version_minor": 0
      },
      "text/plain": [
       "HBox(children=(FloatProgress(value=1.0, bar_style='info', description='Validating', layout=Layout(flex='2'), m…"
      ]
     },
     "metadata": {},
     "output_type": "display_data"
    },
    {
     "name": "stdout",
     "output_type": "stream",
     "text": [
      "epoch 77 : {'log': {'val_acc': tensor(0.8258), 'val_loss': tensor(0.5459, device='cuda:0')}}\n"
     ]
    },
    {
     "data": {
      "application/vnd.jupyter.widget-view+json": {
       "model_id": "60e573b2b1824eb79709240909ebdedd",
       "version_major": 2,
       "version_minor": 0
      },
      "text/plain": [
       "HBox(children=(FloatProgress(value=1.0, bar_style='info', description='Validating', layout=Layout(flex='2'), m…"
      ]
     },
     "metadata": {},
     "output_type": "display_data"
    },
    {
     "name": "stdout",
     "output_type": "stream",
     "text": [
      "epoch 78 : {'log': {'val_acc': tensor(0.8527), 'val_loss': tensor(0.4691, device='cuda:0')}}\n"
     ]
    },
    {
     "data": {
      "application/vnd.jupyter.widget-view+json": {
       "model_id": "8e79f621897d4adfa0405db05cbdc4c0",
       "version_major": 2,
       "version_minor": 0
      },
      "text/plain": [
       "HBox(children=(FloatProgress(value=1.0, bar_style='info', description='Validating', layout=Layout(flex='2'), m…"
      ]
     },
     "metadata": {},
     "output_type": "display_data"
    },
    {
     "name": "stdout",
     "output_type": "stream",
     "text": [
      "epoch 79 : {'log': {'val_acc': tensor(0.7895), 'val_loss': tensor(0.6319, device='cuda:0')}}\n"
     ]
    },
    {
     "data": {
      "application/vnd.jupyter.widget-view+json": {
       "model_id": "137391b0ae2044868c3efce66577183d",
       "version_major": 2,
       "version_minor": 0
      },
      "text/plain": [
       "HBox(children=(FloatProgress(value=1.0, bar_style='info', description='Validating', layout=Layout(flex='2'), m…"
      ]
     },
     "metadata": {},
     "output_type": "display_data"
    },
    {
     "name": "stdout",
     "output_type": "stream",
     "text": [
      "epoch 80 : {'log': {'val_acc': tensor(0.8475), 'val_loss': tensor(0.4797, device='cuda:0')}}\n"
     ]
    },
    {
     "data": {
      "application/vnd.jupyter.widget-view+json": {
       "model_id": "9c08bb2b618d409dab5603253aa4be55",
       "version_major": 2,
       "version_minor": 0
      },
      "text/plain": [
       "HBox(children=(FloatProgress(value=1.0, bar_style='info', description='Validating', layout=Layout(flex='2'), m…"
      ]
     },
     "metadata": {},
     "output_type": "display_data"
    },
    {
     "name": "stdout",
     "output_type": "stream",
     "text": [
      "epoch 81 : {'log': {'val_acc': tensor(0.8489), 'val_loss': tensor(0.4749, device='cuda:0')}}\n"
     ]
    },
    {
     "data": {
      "application/vnd.jupyter.widget-view+json": {
       "model_id": "249962e6e372466e9bc834650bd67829",
       "version_major": 2,
       "version_minor": 0
      },
      "text/plain": [
       "HBox(children=(FloatProgress(value=1.0, bar_style='info', description='Validating', layout=Layout(flex='2'), m…"
      ]
     },
     "metadata": {},
     "output_type": "display_data"
    },
    {
     "name": "stdout",
     "output_type": "stream",
     "text": [
      "epoch 82 : {'log': {'val_acc': tensor(0.8447), 'val_loss': tensor(0.4808, device='cuda:0')}}\n"
     ]
    },
    {
     "data": {
      "application/vnd.jupyter.widget-view+json": {
       "model_id": "adf6d620c6634f5888e8346e6a708541",
       "version_major": 2,
       "version_minor": 0
      },
      "text/plain": [
       "HBox(children=(FloatProgress(value=1.0, bar_style='info', description='Validating', layout=Layout(flex='2'), m…"
      ]
     },
     "metadata": {},
     "output_type": "display_data"
    },
    {
     "name": "stdout",
     "output_type": "stream",
     "text": [
      "epoch 83 : {'log': {'val_acc': tensor(0.8373), 'val_loss': tensor(0.5281, device='cuda:0')}}\n"
     ]
    },
    {
     "data": {
      "application/vnd.jupyter.widget-view+json": {
       "model_id": "fc4ab0b5e4ce4191b111c6b2edd4efdd",
       "version_major": 2,
       "version_minor": 0
      },
      "text/plain": [
       "HBox(children=(FloatProgress(value=1.0, bar_style='info', description='Validating', layout=Layout(flex='2'), m…"
      ]
     },
     "metadata": {},
     "output_type": "display_data"
    },
    {
     "name": "stdout",
     "output_type": "stream",
     "text": [
      "epoch 84 : {'log': {'val_acc': tensor(0.8685), 'val_loss': tensor(0.4311, device='cuda:0')}}\n"
     ]
    },
    {
     "data": {
      "application/vnd.jupyter.widget-view+json": {
       "model_id": "8aab014da5034a5c8243c961571d12bc",
       "version_major": 2,
       "version_minor": 0
      },
      "text/plain": [
       "HBox(children=(FloatProgress(value=1.0, bar_style='info', description='Validating', layout=Layout(flex='2'), m…"
      ]
     },
     "metadata": {},
     "output_type": "display_data"
    },
    {
     "name": "stdout",
     "output_type": "stream",
     "text": [
      "epoch 85 : {'log': {'val_acc': tensor(0.8365), 'val_loss': tensor(0.5276, device='cuda:0')}}\n"
     ]
    },
    {
     "data": {
      "application/vnd.jupyter.widget-view+json": {
       "model_id": "d4b04fc808bf4ca2ba6db60956df0b48",
       "version_major": 2,
       "version_minor": 0
      },
      "text/plain": [
       "HBox(children=(FloatProgress(value=1.0, bar_style='info', description='Validating', layout=Layout(flex='2'), m…"
      ]
     },
     "metadata": {},
     "output_type": "display_data"
    },
    {
     "name": "stdout",
     "output_type": "stream",
     "text": [
      "epoch 86 : {'log': {'val_acc': tensor(0.8745), 'val_loss': tensor(0.4181, device='cuda:0')}}\n"
     ]
    },
    {
     "data": {
      "application/vnd.jupyter.widget-view+json": {
       "model_id": "3459030b8e394707a95e5c6cff0ebb29",
       "version_major": 2,
       "version_minor": 0
      },
      "text/plain": [
       "HBox(children=(FloatProgress(value=1.0, bar_style='info', description='Validating', layout=Layout(flex='2'), m…"
      ]
     },
     "metadata": {},
     "output_type": "display_data"
    },
    {
     "name": "stdout",
     "output_type": "stream",
     "text": [
      "epoch 87 : {'log': {'val_acc': tensor(0.8664), 'val_loss': tensor(0.4300, device='cuda:0')}}\n"
     ]
    },
    {
     "data": {
      "application/vnd.jupyter.widget-view+json": {
       "model_id": "feb155c4fbfc4fceb77d3a5b80d817a6",
       "version_major": 2,
       "version_minor": 0
      },
      "text/plain": [
       "HBox(children=(FloatProgress(value=1.0, bar_style='info', description='Validating', layout=Layout(flex='2'), m…"
      ]
     },
     "metadata": {},
     "output_type": "display_data"
    },
    {
     "name": "stdout",
     "output_type": "stream",
     "text": [
      "epoch 88 : {'log': {'val_acc': tensor(0.8560), 'val_loss': tensor(0.4775, device='cuda:0')}}\n"
     ]
    },
    {
     "data": {
      "application/vnd.jupyter.widget-view+json": {
       "model_id": "03a2e252de684ee0a1f2591d281d07b3",
       "version_major": 2,
       "version_minor": 0
      },
      "text/plain": [
       "HBox(children=(FloatProgress(value=1.0, bar_style='info', description='Validating', layout=Layout(flex='2'), m…"
      ]
     },
     "metadata": {},
     "output_type": "display_data"
    },
    {
     "name": "stdout",
     "output_type": "stream",
     "text": [
      "epoch 89 : {'log': {'val_acc': tensor(0.8608), 'val_loss': tensor(0.4279, device='cuda:0')}}\n"
     ]
    },
    {
     "data": {
      "application/vnd.jupyter.widget-view+json": {
       "model_id": "5dcf424ac5004ce8a029a2ada9fb2c50",
       "version_major": 2,
       "version_minor": 0
      },
      "text/plain": [
       "HBox(children=(FloatProgress(value=1.0, bar_style='info', description='Validating', layout=Layout(flex='2'), m…"
      ]
     },
     "metadata": {},
     "output_type": "display_data"
    },
    {
     "name": "stdout",
     "output_type": "stream",
     "text": [
      "epoch 90 : {'log': {'val_acc': tensor(0.8667), 'val_loss': tensor(0.4147, device='cuda:0')}}\n"
     ]
    },
    {
     "data": {
      "application/vnd.jupyter.widget-view+json": {
       "model_id": "d6358b9b49fe4a6782a999e9b6602cec",
       "version_major": 2,
       "version_minor": 0
      },
      "text/plain": [
       "HBox(children=(FloatProgress(value=1.0, bar_style='info', description='Validating', layout=Layout(flex='2'), m…"
      ]
     },
     "metadata": {},
     "output_type": "display_data"
    },
    {
     "name": "stdout",
     "output_type": "stream",
     "text": [
      "epoch 91 : {'log': {'val_acc': tensor(0.8419), 'val_loss': tensor(0.4758, device='cuda:0')}}\n"
     ]
    },
    {
     "data": {
      "application/vnd.jupyter.widget-view+json": {
       "model_id": "4336a526bac04efbb0baa2d03796e5dd",
       "version_major": 2,
       "version_minor": 0
      },
      "text/plain": [
       "HBox(children=(FloatProgress(value=1.0, bar_style='info', description='Validating', layout=Layout(flex='2'), m…"
      ]
     },
     "metadata": {},
     "output_type": "display_data"
    },
    {
     "name": "stdout",
     "output_type": "stream",
     "text": [
      "epoch 92 : {'log': {'val_acc': tensor(0.8618), 'val_loss': tensor(0.4442, device='cuda:0')}}\n"
     ]
    },
    {
     "data": {
      "application/vnd.jupyter.widget-view+json": {
       "model_id": "293dfc2220474c74a022b9bbea4c90b1",
       "version_major": 2,
       "version_minor": 0
      },
      "text/plain": [
       "HBox(children=(FloatProgress(value=1.0, bar_style='info', description='Validating', layout=Layout(flex='2'), m…"
      ]
     },
     "metadata": {},
     "output_type": "display_data"
    },
    {
     "name": "stdout",
     "output_type": "stream",
     "text": [
      "epoch 93 : {'log': {'val_acc': tensor(0.8597), 'val_loss': tensor(0.4327, device='cuda:0')}}\n"
     ]
    },
    {
     "data": {
      "application/vnd.jupyter.widget-view+json": {
       "model_id": "286a1267741e4027a4fe17450ec78da7",
       "version_major": 2,
       "version_minor": 0
      },
      "text/plain": [
       "HBox(children=(FloatProgress(value=1.0, bar_style='info', description='Validating', layout=Layout(flex='2'), m…"
      ]
     },
     "metadata": {},
     "output_type": "display_data"
    },
    {
     "name": "stdout",
     "output_type": "stream",
     "text": [
      "epoch 94 : {'log': {'val_acc': tensor(0.8621), 'val_loss': tensor(0.4416, device='cuda:0')}}\n"
     ]
    },
    {
     "data": {
      "application/vnd.jupyter.widget-view+json": {
       "model_id": "dba95f2783ab4b408e068bb1e2f6cdc8",
       "version_major": 2,
       "version_minor": 0
      },
      "text/plain": [
       "HBox(children=(FloatProgress(value=1.0, bar_style='info', description='Validating', layout=Layout(flex='2'), m…"
      ]
     },
     "metadata": {},
     "output_type": "display_data"
    },
    {
     "name": "stdout",
     "output_type": "stream",
     "text": [
      "epoch 95 : {'log': {'val_acc': tensor(0.8644), 'val_loss': tensor(0.4178, device='cuda:0')}}\n"
     ]
    },
    {
     "data": {
      "application/vnd.jupyter.widget-view+json": {
       "model_id": "80ab1da645bd4c8c8cfebc544d3c81ba",
       "version_major": 2,
       "version_minor": 0
      },
      "text/plain": [
       "HBox(children=(FloatProgress(value=1.0, bar_style='info', description='Validating', layout=Layout(flex='2'), m…"
      ]
     },
     "metadata": {},
     "output_type": "display_data"
    },
    {
     "name": "stderr",
     "output_type": "stream",
     "text": [
      "COMET INFO: -----------------------------------\n",
      "COMET INFO: Comet.ml ExistingExperiment Summary\n",
      "COMET INFO: -----------------------------------\n",
      "COMET INFO:   Data:\n",
      "COMET INFO:     display_summary_level : 1\n",
      "COMET INFO:     url                   : https://www.comet.ml/ren-e1011/dl1010-a3/3969f975d9274b87bae192074bdcf5e2\n",
      "COMET INFO:   Metrics [count] (min, max):\n",
      "COMET INFO:     epoch [1170]      : (0, 44)\n",
      "COMET INFO:     train_loss [1125] : (0.0003941059112548828, 3.044437885284424)\n",
      "COMET INFO:     val_acc [45]      : (0.7561344504356384, 0.8745254278182983)\n",
      "COMET INFO:     val_loss [45]     : (0.4077610373497009, 0.7578346729278564)\n",
      "COMET INFO: -----------------------------------\n",
      "COMET INFO: Uploading stats to Comet before program termination (may take several seconds)\n"
     ]
    },
    {
     "name": "stdout",
     "output_type": "stream",
     "text": [
      "epoch 96 : {'log': {'val_acc': tensor(0.8718), 'val_loss': tensor(0.4078, device='cuda:0')}}\n",
      "\n"
     ]
    },
    {
     "data": {
      "text/plain": [
       "1"
      ]
     },
     "execution_count": 25,
     "metadata": {},
     "output_type": "execute_result"
    }
   ],
   "source": [
    "trainer.fit(net)"
   ]
  },
  {
   "cell_type": "code",
   "execution_count": 27,
   "metadata": {},
   "outputs": [],
   "source": [
    "torch.save(net.state_dict(),experiment+'_95epch.pt')"
   ]
  },
  {
   "cell_type": "code",
   "execution_count": 39,
   "metadata": {},
   "outputs": [],
   "source": [
    "def compute_accuracy(data_loader,net):\n",
    "    \n",
    "    net.eval()\n",
    "    \n",
    "    total_number = 0\n",
    "    total_correct = 0\n",
    "    \n",
    "    for x,y in data_loader:\n",
    "        \n",
    "#         prediction = net(x).data.numpy()\n",
    "        prediction = net(x)\n",
    "        \n",
    "        prediction = np.argmax(prediction,axis=1)\n",
    "        \n",
    "        correct = len( np.where(prediction==y.data.numpy())[0] )\n",
    "        \n",
    "        total_correct+=correct\n",
    "        total_number+=x.shape[0]\n",
    "        \n",
    "    return total_correct/float(total_number)"
   ]
  },
  {
   "cell_type": "code",
   "execution_count": null,
   "metadata": {},
   "outputs": [],
   "source": [
    "test_ds = CustomDataset(path_to_validation_data)\n",
    "batch_size = 50\n",
    "batch_sampler_test_ds = CustomBatchSampler(test_ds.n_points, batch_size)\n",
    "data_loader_test = DataLoader(test_ds, batch_sampler=batch_sampler_test_ds)\n",
    "\n",
    "compute_accuracy(data_loader_test,net)"
   ]
  },
  {
   "cell_type": "code",
   "execution_count": null,
   "metadata": {},
   "outputs": [],
   "source": []
  }
 ],
 "metadata": {
  "kernelspec": {
   "display_name": "Python 3",
   "language": "python",
   "name": "python3"
  },
  "language_info": {
   "codemirror_mode": {
    "name": "ipython",
    "version": 3
   },
   "file_extension": ".py",
   "mimetype": "text/x-python",
   "name": "python",
   "nbconvert_exporter": "python",
   "pygments_lexer": "ipython3",
   "version": "3.6.8"
  }
 },
 "nbformat": 4,
 "nbformat_minor": 4
}
